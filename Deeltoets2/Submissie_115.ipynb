{
 "cells": [
  {
   "cell_type": "markdown",
   "metadata": {},
   "source": [
    "# tentamen Netwerkanalyse (5072DASC6Y)\n",
    "**Bachelor Informatiekunde**\n",
    "\n",
    "## Tentameninformatie\n",
    "**Datum:** 2023\n",
    "**Tijd:** 2 uur  (+30 minuten extra tijd)\n",
    "\n",
    "\n",
    "**Toegestane hulpmiddelen:** Kladpapier, spiekbrief\n",
    "\n",
    "## Huishoudelijke mededelingen\n",
    "* Je mag tot uiterlijk 30 minuten na de begintijd starten.\n",
    "* Jouw telefoon, jas en tas liggen in de kluisjes buiten de tentamenzaal.\n",
    "* De eerste 30 minuten en de laatste 15 minuten mag je de zaal niet verlaten. Daarbuiten kan je als je het tentamen af  en ingeleverd hebt de zaal verlaten.\n",
    "* De ondersteuning voorin de zaal kan controleren of jouw tentamen correct is ingeleverd.\n",
    "* Plaats jouw collegekaart of een geldig legitimatiebewijs op de hoek van de tafel. Een surveillant komt langs om deze te controleren.\n",
    "* Toiletbezoek is alleen mogelijk met toestemming van een surveillant."
   ]
  },
  {
   "cell_type": "markdown",
   "metadata": {},
   "source": [
    "## Notebook made by\n",
    "\n",
    "__Namen__:Anoniem",
    "\n",
    "__Emails__:Anoniem",
    "\n",
    "__Student id__:Anoniem"
   ]
  },
  {
   "cell_type": "markdown",
   "metadata": {},
   "source": [
    "## Toelichting\n",
    "\n",
    "* De meeste opgaven worden automatisch nagekeken. Bij vrijwel alle opdrachten staan er een paar tests onder de opdracht, dit is voornamelijk om te zorgen dat je de juiste type output geeft. Dit zijn dus *NIET* alle tests, die komen er bij het graden nog bij.\n",
    "\n",
    "## Voor het inleveren!\n",
    "\n",
    "* Pas niet de cellen aan, vooral niet die je niet kunt editen. Copieer ook geen cellen. Dit levert problemen op bij nakijken. Je mag wel cellen toevoegen (als kladblaadje).\n",
    "* Twijfel je of je per ongeluk iets hebt gewijzigd, kopieer dan bij inleveren je antwoorden naar een nieuw bestand, zodat het niet fout kan gaan.\n",
    "\n",
    "* Zorg dat de code goed runt van boven naar beneden, verifieer dat door boven in Kernel -> Restart & Run All uit te voeren"
   ]
  },
  {
   "cell_type": "markdown",
   "metadata": {
    "deletable": false,
    "editable": false,
    "nbgrader": {
     "cell_type": "markdown",
     "checksum": "37d5fe8a670f7ebe7d49e8340ab92871",
     "grade": false,
     "grade_id": "instr",
     "locked": true,
     "schema_version": 3,
     "solution": false
    }
   },
   "source": [
    "# Tentamen netwerkanalyse Toets 2 Instructie\n",
    "\n",
    "* Het tentamen bestaat uit 5 vragen. Bij elke vraag is het aantal punten  aangegeven. Er zijn 13.5 plus 1 bonuspunt te verdienen.\n",
    "* Niet alle vragen zijn even moeilijk. Lees dus eerst het tentamen door en bekijk welke vragen je liggen en maak die als eerste. \n",
    "* Er zijn steeds `assert` tests die je helpen om te zorgen dat je antwoord van de juiste vorm is (een lijst of een set of een integer, etc). \n",
    "\n",
    "## Tips\n",
    "\n",
    "* Voor veel vragen hoef je echt niet te programmeren. Je kan het vaak makkelijk zelf op je kladbllaadje uitrekenen, met tellen, optellen en vermenigvuldigen. \n",
    "* Eerst even rustig de tijd nemen om de vraag te begrijpen, een plaatje tekenen van een klein netwerkje, wat proberen is vaak veel zinvolller dan meteen beginnen te programmeren.\n",
    "* Gebruik de manual van Netwerkx. Je vindt er heel veel informatie over de begrippen die in de vragen voorkomen. Meestal ook de definitie (= dus wat een begrip betekent)."
   ]
  },
  {
   "cell_type": "code",
   "execution_count": 1,
   "metadata": {
    "deletable": false,
    "editable": false,
    "nbgrader": {
     "cell_type": "code",
     "checksum": "9e6866d6ef2dd61da250b140d2959863",
     "grade": false,
     "grade_id": "l1",
     "locked": true,
     "schema_version": 3,
     "solution": false
    }
   },
   "outputs": [],
   "source": [
    "# Run this cell first\n",
    "import random\n",
    "import inspect\n",
    "import networkx as nx\n",
    "import numpy as np\n",
    "import pandas as pd\n",
    "import seaborn as sns\n",
    "import itertools as it\n",
    "from nose.tools import assert_almost_equal, assert_equal\n",
    "from itertools import product\n",
    "from collections import Counter\n",
    "import matplotlib.pyplot as plt\n",
    "from itertools import count\n",
    "\n",
    "%matplotlib inline"
   ]
  },
  {
   "cell_type": "markdown",
   "metadata": {
    "deletable": false,
    "editable": false,
    "nbgrader": {
     "cell_type": "markdown",
     "checksum": "8ebbd30fc839e2b11be99df417124103",
     "grade": false,
     "grade_id": "log",
     "locked": true,
     "schema_version": 3,
     "solution": false
    }
   },
   "source": [
    "# 1 Logica (6pt)\n",
    "\n",
    "* We werken op modellen met 2 eigenschappen, Man en Vrouw, en 1 symmetrische relatie HoudenVan (in formules geven we dat aan met R).\n",
    "* We gaan een aantal zinnetjes vertalen naar predicaatlogica, \n",
    "    * en ze daarna programmeren, en checken of ze waar zijn op een gegeven model.\n",
    "* Elke zin levert een halve punt voor de vertaling en een halve punt voor het programma op\n",
    "\n",
    "**Let op** Hard coden heeft geen zin, wij checken je programmas op een ander model dan jij hier hebt.\n",
    "\n",
    "### De  zinnen\n",
    "\n",
    "**Let op. Het hoeft helemaal niet dat deze zinnen waar zijn in het gegeven model.** Jouw vertalingen zijn correct *voor elk model* (met een Man, Vrouw en een R).\n",
    "\n",
    "0. Er is een vrouw en er is een man. (functie `z0`)\n",
    "1. Er is een man die alleen van zichzelf houdt. (functie `z1`)\n",
    "2. Er is een man die alleen van vrouwen houdt (Let op:  wat gebeurt er als ie van niemand houdt?) (functie `z2`)\n",
    "3. Alle vrouwen houden alleen van vrouwen. (functie `z3`)\n",
    "4. Er is een vrouw die van een man houdt die van een andere vrouw houdt. (functie `z4`)\n",
    "    * Teken ook het plaatje/netwerkje wat hierbij hoort erbij. Gewoon met streepjes als `Vx----My` etc\n",
    "    * echt het helpt je.\n",
    "5. Niemand is Man en Vrouw   tegelijk. (functie `z5`)\n",
    "\n",
    "### Hints\n",
    "\n",
    "* `\\exists x` wordt $\\exists x$, net als `\\forall x` wordt $\\forall x$\n",
    "* `\\rightarrow, \\neg, \\wedge, \\vee` worden $\\rightarrow, \\neg, \\wedge, \\vee$\n",
    "* In de Python functies `z0...z5` met als argument een netwerk `G` geef je een stukje code met daarin het netwerk `G`  **dat waar teruggeeft op netwerk `G` precies als de zin waar is op het netwerk `G`**. \n",
    "* Jouw code moet correct werken **voor elk ongericht netwerk `G` met de attributen `M` en `V`**, en waarbij de lijnen als `R` gezien worden. We testen je code ook op  andere  netwerken.\n",
    "\n",
    "### Afkortingen\n",
    "\n",
    "* In de formules gebruik je $M(x)$ en $V(x)$ voor \"x is een Man\" en \"x is een Vrouw\" en $R(x,y)$ voor \" x houdt van y\". (de haakjes hoeven in de formules niet, in Python natuurlijk altijd wel)\n",
    "* Ook in je Python code kan je deze afkortingen gebruiken, want we hebben die gedefinieerd op het netwerk `G`.\n",
    "* Je kwantificeerd altijd over de elementen in het netwerk `G`.\n",
    "\n",
    "### Voorbeeld\n",
    "\n",
    "* Er is een man die van een vrouw houdt.\n",
    "* $\\exists x (Mx \\wedge \\exists y(Rxy \\wedge Vy))$ \n",
    "\n",
    "<pre>\n",
    "def z(G):\n",
    "     return any(M(x) and any(R(x,y) and V(y) for y in G)  \n",
    "                for x in G)\n",
    "</pre>"
   ]
  },
  {
   "cell_type": "markdown",
   "metadata": {
    "deletable": false,
    "nbgrader": {
     "cell_type": "markdown",
     "checksum": "b631a7d4d37107d35e34c9cfc9eafa1a",
     "grade": true,
     "grade_id": "loga1",
     "locked": false,
     "points": 3,
     "schema_version": 3,
     "solution": true
    }
   },
   "source": [
    "0. $\\exists x \\exists y (Mx \\wedge Vx)$\n",
    "1. $\\exists x (M(x) \\wedge \\forall x(R(x,x))$\n",
    "2. $\\exists x \\forall y (Mx \\wedge (Vy \\rightarrow Rxy))$\n",
    "3. $\\forall x \\forall y (Vx \\wedge Vy \\rightarrow Rxy)$\n",
    "4. $\\exists x \\exists y \\exists z(Vx \\wedge My \\wedge Vz \\wedge Rxy \\wedge Ryz)$\n",
    "5. $\\neg (Vx \\wedge Mx)$"
   ]
  },
  {
   "cell_type": "code",
   "execution_count": 2,
   "metadata": {
    "deletable": false,
    "editable": false,
    "nbgrader": {
     "cell_type": "code",
     "checksum": "5330a25870db722794f661a1a74f7ead",
     "grade": false,
     "grade_id": "logk",
     "locked": true,
     "schema_version": 3,
     "solution": false
    }
   },
   "outputs": [
    {
     "name": "stdout",
     "output_type": "stream",
     "text": [
      "Mannen: {0, 32, 2, 4, 6, 8, 10, 12, 14, 16, 18, 20, 22, 24, 26, 28, 30}\n",
      "Vrouwen: {1, 33, 3, 5, 7, 9, 11, 13, 15, 17, 19, 21, 23, 25, 27, 29, 31}\n"
     ]
    },
    {
     "data": {
      "image/png": "[encoded data removed]",
      "text/plain": [
       "<Figure size 432x288 with 1 Axes>"
      ]
     },
     "metadata": {},
     "output_type": "display_data"
    }
   ],
   "source": [
    "G=nx.karate_club_graph()\n",
    "for x in G:\n",
    "    if x%2==0:\n",
    "        G.nodes[x]['M']=True\n",
    "        G.nodes[x]['V']=False\n",
    "    else:\n",
    "        G.nodes[x]['M']=False\n",
    "        G.nodes[x]['V']=True\n",
    "nx.draw_networkx(G) \n",
    "\n",
    "print('Mannen:',  {x for x in G if G.nodes[x]['M']})\n",
    "print('Vrouwen:',  {x for x in G if G.nodes[x]['V']})"
   ]
  },
  {
   "cell_type": "code",
   "execution_count": 3,
   "metadata": {
    "deletable": false,
    "editable": false,
    "nbgrader": {
     "cell_type": "code",
     "checksum": "228d3abb07d1badf2d708b941c17bd4d",
     "grade": false,
     "grade_id": "logdefs",
     "locked": true,
     "schema_version": 3,
     "solution": false
    }
   },
   "outputs": [],
   "source": [
    "# definities  om te gebruiken in je Python code\n",
    "\n",
    "def M(x):\n",
    "    '''x is een Man in netwerk G'''\n",
    "    return G.nodes[x]['M']\n",
    "\n",
    "def V(x):\n",
    "    '''x is een Vrouw in netwerk G'''\n",
    "    return G.nodes[x]['V']\n",
    "\n",
    "def R(x,y):\n",
    "    '''there is an edge from x to y in G'''\n",
    "    return G.has_edge(x,y)"
   ]
  },
  {
   "cell_type": "code",
   "execution_count": 4,
   "metadata": {},
   "outputs": [
    {
     "data": {
      "text/plain": [
       "{0, 2, 4, 6, 8, 10, 12, 14, 16, 18, 20, 22, 24, 26, 28, 30, 32}"
      ]
     },
     "execution_count": 4,
     "metadata": {},
     "output_type": "execute_result"
    }
   ],
   "source": [
    "#voorbeeld\n",
    "\n",
    "{x for x in G if M(x)}  # alle mannen\n"
   ]
  },
  {
   "cell_type": "code",
   "execution_count": 5,
   "metadata": {
    "deletable": false,
    "nbgrader": {
     "cell_type": "code",
     "checksum": "005926dc2037dfce9cdc1467cb57eb3d",
     "grade": false,
     "grade_id": "loga20",
     "locked": false,
     "schema_version": 3,
     "solution": true
    }
   },
   "outputs": [
    {
     "data": {
      "text/plain": [
       "True"
      ]
     },
     "execution_count": 5,
     "metadata": {},
     "output_type": "execute_result"
    }
   ],
   "source": [
    "# Er is een vrouw en er is een man\n",
    "def z0(G):\n",
    "    #WRITE YOUR CODE HERE\n",
    "    \n",
    "    return any(V(x) and M(y) for x in G for y in G)\n",
    "    \n",
    "\n",
    "z0(G)"
   ]
  },
  {
   "cell_type": "code",
   "execution_count": null,
   "metadata": {
    "deletable": false,
    "editable": false,
    "nbgrader": {
     "cell_type": "code",
     "checksum": "36eb9ec29ef98689ebe9ecbf5c5e40ba",
     "grade": true,
     "grade_id": "loga20T",
     "locked": true,
     "points": 0.5,
     "schema_version": 3,
     "solution": false
    }
   },
   "outputs": [],
   "source": [
    "#Er is een vrouw en er is een man\n",
    "assert isinstance(z0(G),bool)\n"
   ]
  },
  {
   "cell_type": "code",
   "execution_count": 83,
   "metadata": {
    "deletable": false,
    "nbgrader": {
     "cell_type": "code",
     "checksum": "37661214d4dba3b50789984b3eaba746",
     "grade": false,
     "grade_id": "loga21",
     "locked": false,
     "schema_version": 3,
     "solution": true
    }
   },
   "outputs": [
    {
     "data": {
      "text/plain": [
       "False"
      ]
     },
     "execution_count": 83,
     "metadata": {},
     "output_type": "execute_result"
    }
   ],
   "source": [
    "# Er is een man die alleen van zichzelf houdt.\n",
    "# ∃𝑥(𝑀(𝑥)∧∀𝑥(𝑅(𝑥,𝑥))\n",
    "def z1(G):\n",
    "    #WRITE YOUR CODE HERE\n",
    " \n",
    "    return any(M(x) and all(R(x,y) for y in G if y==x) for x in G)\n",
    " \n",
    "z1(G)"
   ]
  },
  {
   "cell_type": "code",
   "execution_count": null,
   "metadata": {
    "deletable": false,
    "editable": false,
    "nbgrader": {
     "cell_type": "code",
     "checksum": "4c40d0deb20cf140c4b8173ccb3714eb",
     "grade": true,
     "grade_id": "loga21T",
     "locked": true,
     "points": 0.5,
     "schema_version": 3,
     "solution": false
    }
   },
   "outputs": [],
   "source": [
    "# Er is een man die alleen van zichzelf houdt. \n",
    "assert isinstance(z1(G),bool)\n"
   ]
  },
  {
   "cell_type": "code",
   "execution_count": 31,
   "metadata": {
    "deletable": false,
    "nbgrader": {
     "cell_type": "code",
     "checksum": "ec13d7296db39f947686896af29615b9",
     "grade": false,
     "grade_id": "loga22",
     "locked": false,
     "schema_version": 3,
     "solution": true
    }
   },
   "outputs": [
    {
     "data": {
      "text/plain": [
       "True"
      ]
     },
     "execution_count": 31,
     "metadata": {},
     "output_type": "execute_result"
    }
   ],
   "source": [
    "# Er is een man die alleen van vrouwen houdt\n",
    "#∃𝑥∀𝑦(𝑀𝑥∧(𝑉𝑦→𝑅𝑥𝑦))\n",
    "def z2(G):\n",
    "    #WRITE YOUR CODE HERE\n",
    " \n",
    "    return any(M(x) and not (R(x,y)) or V(y) for x in G for y in G)\n",
    " \n",
    "z2(G)"
   ]
  },
  {
   "cell_type": "code",
   "execution_count": 32,
   "metadata": {
    "deletable": false,
    "editable": false,
    "nbgrader": {
     "cell_type": "code",
     "checksum": "0b18a877639682ea3bfba81c7cfd231a",
     "grade": true,
     "grade_id": "loga22T",
     "locked": true,
     "points": 0.5,
     "schema_version": 3,
     "solution": false
    }
   },
   "outputs": [],
   "source": [
    "# Er is een man die alleen van vrouwen houdt  \n",
    "assert isinstance(z2(G),bool)\n"
   ]
  },
  {
   "cell_type": "code",
   "execution_count": 76,
   "metadata": {
    "deletable": false,
    "nbgrader": {
     "cell_type": "code",
     "checksum": "e975b4fcbc7cb6df001bc03332afde04",
     "grade": false,
     "grade_id": "loga23",
     "locked": false,
     "schema_version": 3,
     "solution": true
    }
   },
   "outputs": [
    {
     "data": {
      "text/plain": [
       "False"
      ]
     },
     "execution_count": 76,
     "metadata": {},
     "output_type": "execute_result"
    }
   ],
   "source": [
    "# Alle vrouwen houden alleen van vrouwen. \n",
    "def z3(G):\n",
    "    #WRITE YOUR CODE HERE\n",
    "    #∀𝑥∀𝑦(𝑉𝑥∧𝑉𝑦→𝑅𝑥𝑦)\n",
    "    return all(all(V(y) for y in G if R(x,y) ) for x in G if V(x))\n",
    " \n",
    "z3(G)"
   ]
  },
  {
   "cell_type": "code",
   "execution_count": 77,
   "metadata": {
    "deletable": false,
    "editable": false,
    "nbgrader": {
     "cell_type": "code",
     "checksum": "67dad14f6acd905c87feaee706532c6f",
     "grade": true,
     "grade_id": "loga23T",
     "locked": true,
     "points": 0.5,
     "schema_version": 3,
     "solution": false
    }
   },
   "outputs": [],
   "source": [
    "# Alle vrouwen houden alleen van vrouwen.  \n",
    "assert isinstance(z3(G),bool)\n"
   ]
  },
  {
   "cell_type": "code",
   "execution_count": 33,
   "metadata": {
    "deletable": false,
    "nbgrader": {
     "cell_type": "code",
     "checksum": "891323cb66aa7c9b9d7f035f5ab6e672",
     "grade": false,
     "grade_id": "loga24",
     "locked": false,
     "schema_version": 3,
     "solution": true
    }
   },
   "outputs": [
    {
     "data": {
      "text/plain": [
       "True"
      ]
     },
     "execution_count": 33,
     "metadata": {},
     "output_type": "execute_result"
    }
   ],
   "source": [
    "# Er is een vrouw die van een man houdt die van een andere vrouw houdt.\n",
    "def z4(G):\n",
    "    #WRITE YOUR CODE HERE\n",
    "    #∃𝑥∃𝑦∃𝑧(𝑉𝑥∧𝑀𝑦∧𝑉𝑧∧𝑅𝑥𝑦∧𝑅𝑦𝑧)\n",
    "    return any(V(x) and R(x,y) and M(y) and R(y,z) and V(z) for x in G for y in G for z in G)\n",
    " \n",
    "z4(G)"
   ]
  },
  {
   "cell_type": "code",
   "execution_count": 34,
   "metadata": {
    "deletable": false,
    "editable": false,
    "nbgrader": {
     "cell_type": "code",
     "checksum": "eb23c560e8b8558c84c99887dae4c544",
     "grade": true,
     "grade_id": "loga24T",
     "locked": true,
     "points": 0.5,
     "schema_version": 3,
     "solution": false
    }
   },
   "outputs": [],
   "source": [
    "# Er is een vrouw die van een man houdt die van een andere vrouw houdt.\n",
    "assert isinstance(z4(G),bool)\n"
   ]
  },
  {
   "cell_type": "code",
   "execution_count": 28,
   "metadata": {
    "deletable": false,
    "nbgrader": {
     "cell_type": "code",
     "checksum": "b2670816122fe1aaae8fffd658b32cfd",
     "grade": false,
     "grade_id": "loga25",
     "locked": false,
     "schema_version": 3,
     "solution": true
    }
   },
   "outputs": [
    {
     "data": {
      "text/plain": [
       "True"
      ]
     },
     "execution_count": 28,
     "metadata": {},
     "output_type": "execute_result"
    }
   ],
   "source": [
    "# Niemand is Man en Vrouw   tegelijk.\n",
    "def z5(G):\n",
    "    #WRITE YOUR CODE HERE\n",
    "\n",
    "    return not all(M(x) and V(x) for x in G)\n",
    " \n",
    "z5(G)"
   ]
  },
  {
   "cell_type": "code",
   "execution_count": 29,
   "metadata": {
    "deletable": false,
    "editable": false,
    "nbgrader": {
     "cell_type": "code",
     "checksum": "684486c3f940baa080465821c565a002",
     "grade": true,
     "grade_id": "loga25T",
     "locked": true,
     "points": 0.5,
     "schema_version": 3,
     "solution": false
    }
   },
   "outputs": [],
   "source": [
    "# Niemand is Man en Vrouw   tegelijk.\n",
    "assert isinstance(z5(G),bool)\n",
    " "
   ]
  },
  {
   "cell_type": "markdown",
   "metadata": {
    "deletable": false,
    "editable": false,
    "nbgrader": {
     "cell_type": "markdown",
     "checksum": "22b4c939613b138e1a9e87c9fd4a60f9",
     "grade": false,
     "grade_id": "20",
     "locked": true,
     "schema_version": 3,
     "solution": false
    }
   },
   "source": [
    "# 2 Small worlds (2pt)\n",
    "\n",
    "\n",
    "Hieronder staat een  network. Het bestaat uit 16 knopen en elke knoop is verbonden met precies 6 knopen.  \n",
    "\n",
    "1. Wat is de gemiddelde clustering coeffient in dit netwerk? (variabele `avg_clustering_coeffient`)\n",
    "2. Wat is de   _average (shortest) path length_ in dit netwerk? Gevraagd wordt dus naar de gemiddelde **afstand** tussen 2 knopen. `average_path_length`\n",
    "\n",
    "* **Hint** Je kan en mag dit met de hand uitrekenen. Je hoeft het netwerk dus niet zelf te maken.\n",
    "* **Hint2** Je kunt natuurlijk wel networkx gebruiken om je antwoord te checken.\n",
    "\n",
    "![](ws.png)"
   ]
  },
  {
   "cell_type": "code",
   "execution_count": 94,
   "metadata": {
    "deletable": false,
    "nbgrader": {
     "cell_type": "code",
     "checksum": "69d98d2702b997ceace3c60befd1b4cb",
     "grade": false,
     "grade_id": "v1",
     "locked": false,
     "schema_version": 3,
     "solution": true
    }
   },
   "outputs": [
    {
     "data": {
      "text/plain": [
       "(0.5555555555555556, 2.125)"
      ]
     },
     "execution_count": 94,
     "metadata": {},
     "output_type": "execute_result"
    }
   ],
   "source": [
    "avg_clustering_coeffient = (2 * 6 / 6 * (6-1) )/ 18 # replace with your answer\n",
    "average_path_length = 34 /16  # replace with your answer\n",
    "#WRITE YOUR CODE HERE\n",
    "#WRITE YOUR CODE HERE\n",
    "avg_clustering_coeffient, average_path_length"
   ]
  },
  {
   "cell_type": "markdown",
   "metadata": {},
   "source": [
    "$C = \\frac{1}{n}\\sum_{v \\in G} c_v,$"
   ]
  },
  {
   "cell_type": "code",
   "execution_count": null,
   "metadata": {
    "deletable": false,
    "editable": false,
    "nbgrader": {
     "cell_type": "code",
     "checksum": "685db88b092cee26306f1175fc71fbf3",
     "grade": true,
     "grade_id": "v1t",
     "locked": true,
     "points": 1,
     "schema_version": 3,
     "solution": false
    }
   },
   "outputs": [],
   "source": [
    "assert_equal(type(avg_clustering_coeffient), float)\n",
    "assert 0<= avg_clustering_coeffient<=1"
   ]
  },
  {
   "cell_type": "code",
   "execution_count": null,
   "metadata": {
    "deletable": false,
    "editable": false,
    "nbgrader": {
     "cell_type": "code",
     "checksum": "b49640c70e3e084a2e534969bbbf5c43",
     "grade": true,
     "grade_id": "v2t",
     "locked": true,
     "points": 1,
     "schema_version": 3,
     "solution": false
    }
   },
   "outputs": [],
   "source": [
    "assert_equal(type(average_path_length), float)\n",
    "assert 1<= average_path_length <= 15\n"
   ]
  },
  {
   "cell_type": "markdown",
   "metadata": {
    "deletable": false,
    "editable": false,
    "nbgrader": {
     "cell_type": "markdown",
     "checksum": "fb87d997737dd827d1740a690011dfc8",
     "grade": false,
     "grade_id": "v3intro",
     "locked": true,
     "schema_version": 3,
     "solution": false
    }
   },
   "source": [
    "# 2.2 Small worlds part 2 (1.5pt)\n",
    "\n",
    "\n",
    " \n",
    "\n",
    "Stel nou dat we in het vorige netwerk lijn (5,4) vervangen door (5,12) en niets meer. \n",
    "\n",
    "1. Voor hoeveel van de 16 knopen is de clustering coefficient toegenomen? (antwoord in `cc_toename`)\n",
    "2. Wat is de *closeness centrality* van knoop 5  in dit netwerk? (antwoord in `closeness_5`)\n",
    "    * **Let op** In tegenstelling tot het boek gebruiken we hier de genormaliseerde closeness centrality. Je vermenigvuldigt dan de closeness centrality uit het boek met het aantal knopen min 1. Zie ook `nx.closeness_centrality?` voor de definitie.\n",
    "3. Wat **was** de *closeness centrality* van knoop 5  in het oorspronkelijke reguliere netwerk? (antwoord in `closeness_5_original_network`)\n",
    "* **Hint** In de uitleg die je krijgt na `nx.closeness_centrality?` staat ook een stukje Latex code beginnend met `C(u) = \\frac{`.... Dat leest niet zo lekker. Maar als je het tussen dollars in een markdown cell zet, dan zie je opeens een heldere formule ontstaan.\n",
    "* **Hint** Ook hier hoef je niks te programmeren. We kijken het antwoord na voor dit specifieke netwerk.\n",
    "\n",
    "![](ws2.png)\n",
    "\n"
   ]
  },
  {
   "cell_type": "code",
   "execution_count": 48,
   "metadata": {
    "nbgrader": {
     "grade": false,
     "grade_id": "hint",
     "locked": false,
     "schema_version": 3,
     "solution": false
    }
   },
   "outputs": [],
   "source": [
    "# hint\n",
    "nx.closeness_centrality?"
   ]
  },
  {
   "cell_type": "markdown",
   "metadata": {},
   "source": [
    "$ C(u) = \\frac{n - 1}{\\sum_{v=1}^{n-1} d(v, u)} $"
   ]
  },
  {
   "cell_type": "markdown",
   "metadata": {},
   "source": [
    "# markdown cell waar je lekker wat in kunt rommelen\n"
   ]
  },
  {
   "cell_type": "code",
   "execution_count": null,
   "metadata": {
    "deletable": false,
    "nbgrader": {
     "cell_type": "code",
     "checksum": "06c4ffe8e3ff210f4e9ae8e7b9b101bd",
     "grade": false,
     "grade_id": "v3",
     "locked": false,
     "schema_version": 3,
     "solution": true
    }
   },
   "outputs": [],
   "source": [
    "cc_toename = 1  # replace with your answer\n",
    "closeness_5 =  / 15  # replace with your answer\n",
    "closeness_5_original_network = None # replace with your answer\n",
    "#WRITE YOUR CODE HERE\n",
    "#WRITE YOUR CODE HERE\n",
    "\n",
    "cc_toename, closeness_5, closeness_5_original_network"
   ]
  },
  {
   "cell_type": "code",
   "execution_count": null,
   "metadata": {
    "deletable": false,
    "editable": false,
    "nbgrader": {
     "cell_type": "code",
     "checksum": "c9f38628c81c435307de6d49a0229295",
     "grade": true,
     "grade_id": "v3t",
     "locked": true,
     "points": 0.5,
     "schema_version": 3,
     "solution": false
    }
   },
   "outputs": [],
   "source": [
    "assert_equal(type(cc_toename), int)\n",
    "assert 0 <= cc_toename <= 16"
   ]
  },
  {
   "cell_type": "code",
   "execution_count": null,
   "metadata": {
    "deletable": false,
    "editable": false,
    "nbgrader": {
     "cell_type": "code",
     "checksum": "ac0568a31b419790b0dc2ebbdbe99cb9",
     "grade": true,
     "grade_id": "v4t",
     "locked": true,
     "points": 0.5,
     "schema_version": 3,
     "solution": false
    }
   },
   "outputs": [],
   "source": [
    "assert_equal(type(closeness_5), float)\n",
    "assert 0 <= closeness_5 <= 1"
   ]
  },
  {
   "cell_type": "code",
   "execution_count": null,
   "metadata": {
    "deletable": false,
    "editable": false,
    "nbgrader": {
     "cell_type": "code",
     "checksum": "332fb6434d4bbccddc9a90e658004883",
     "grade": true,
     "grade_id": "v5t",
     "locked": true,
     "points": 0.5,
     "schema_version": 3,
     "solution": false
    }
   },
   "outputs": [],
   "source": [
    "assert_equal(type(closeness_5_original_network), float)\n",
    "assert 0 <= closeness_5_original_network <= 1"
   ]
  },
  {
   "cell_type": "markdown",
   "metadata": {
    "deletable": false,
    "editable": false,
    "nbgrader": {
     "cell_type": "markdown",
     "checksum": "13509166e51b68371dc30fe8441398d9",
     "grade": false,
     "grade_id": "avgd",
     "locked": true,
     "schema_version": 3,
     "solution": false
    }
   },
   "source": [
    "# 3 Average degree (1pt)\n",
    "\n",
    "Definieer de functie `avg_degree(N,L)` die de gemiddelde degree teruggeeft voor een ongericht netwerk met N knopen en L edges.\n",
    "\n",
    "Je kan ervan uitgaan dat L kleiner dan of gelijk is aan het maximaal mogelijke aantal lijnen met N knopen. \n",
    "\n",
    "**Hint** Als je het niet meer weet, of de formule iet op je spiekbrief hebt staan, maak dan wat kleine netwerkjes, bereken L en N, en de avg degree en zie het patroon."
   ]
  },
  {
   "cell_type": "code",
   "execution_count": 35,
   "metadata": {
    "deletable": false,
    "nbgrader": {
     "cell_type": "code",
     "checksum": "a199c71f40f1ec4a2b36450d5f17c17e",
     "grade": false,
     "grade_id": "angda",
     "locked": false,
     "schema_version": 3,
     "solution": true
    }
   },
   "outputs": [
    {
     "data": {
      "text/plain": [
       "(8.0, 2.0)"
      ]
     },
     "execution_count": 35,
     "metadata": {},
     "output_type": "execute_result"
    }
   ],
   "source": [
    "def avg_degree(N,L):\n",
    "    #WRITE YOUR CODE HERE\n",
    "    return 2 * L / N\n",
    "avg_degree(20,80), avg_degree(3,3)    "
   ]
  },
  {
   "cell_type": "code",
   "execution_count": 36,
   "metadata": {
    "deletable": false,
    "editable": false,
    "nbgrader": {
     "cell_type": "code",
     "checksum": "5e170d96053ca472c4c73b31cda44567",
     "grade": true,
     "grade_id": "angdt",
     "locked": true,
     "points": 1,
     "schema_version": 3,
     "solution": false
    }
   },
   "outputs": [],
   "source": [
    "assert isinstance(avg_degree(3,3),float)\n"
   ]
  },
  {
   "cell_type": "markdown",
   "metadata": {
    "deletable": false,
    "editable": false,
    "nbgrader": {
     "cell_type": "markdown",
     "checksum": "88f2403fe97762fb7c534a5c009d7a54",
     "grade": false,
     "grade_id": "bc",
     "locked": true,
     "schema_version": 3,
     "solution": false
    }
   },
   "source": [
    "# 4 Betweenness centrality\n",
    "\n",
    "Stel we hebben een verbonden netwerk bestaande uit drie clusters en een middelpunt waardoor die drie verbonden zijn, zoals in het plaatje hieronder.  Die drie clusters bevatten respectivelijk `c1, c2` en `c3` veel knopen.\n",
    "\n",
    " \n",
    "\n",
    "![](bc_cluster.jpg)\n",
    "\n",
    "Wat is nou de betweenness centrality van die middelste knoop? Je geeft je antwoord als de functie `bc_middelknoop(c1,c2,c3)` waarbij die `c`'s steeds het aantal knopen zijn in die 3 clusters.\n",
    "\n",
    "Hier is de definitie ($s$ en $t$ zijn ongelijk en zijn variabelen over alle knopen in het netwerk)\n",
    "![](bc.png)\n",
    "\n",
    "\n",
    "### Hint \n",
    "\n",
    "Met clusters van grootte 1,2 en 3 is het antwoord 22."
   ]
  },
  {
   "cell_type": "code",
   "execution_count": null,
   "metadata": {
    "deletable": false,
    "nbgrader": {
     "cell_type": "code",
     "checksum": "f14ce9f3e44b56feccaec0da8b0af643",
     "grade": false,
     "grade_id": "bca",
     "locked": false,
     "schema_version": 3,
     "solution": true
    }
   },
   "outputs": [],
   "source": [
    "\n",
    "\n",
    "def bc_middelknoop(c1,c2,c3):\n",
    "#WRITE YOUR CODE HERE\n",
    "\n",
    "bc_middelknoop(3,4,5), bc_middelknoop(1,2,3)"
   ]
  },
  {
   "cell_type": "code",
   "execution_count": 96,
   "metadata": {},
   "outputs": [],
   "source": [
    "nx.betweenness_centrality?"
   ]
  },
  {
   "cell_type": "code",
   "execution_count": null,
   "metadata": {
    "deletable": false,
    "editable": false,
    "nbgrader": {
     "cell_type": "code",
     "checksum": "a0aec35c5b90f728a6a4f54d2663df79",
     "grade": true,
     "grade_id": "bct",
     "locked": true,
     "points": 1,
     "schema_version": 3,
     "solution": false
    }
   },
   "outputs": [],
   "source": [
    "assert isinstance(bc_middelknoop(1,2,3),float) or isinstance(bc_middelknoop(1,2,3),int)\n",
    "\n"
   ]
  },
  {
   "cell_type": "markdown",
   "metadata": {
    "deletable": false,
    "editable": false,
    "nbgrader": {
     "cell_type": "markdown",
     "checksum": "153e5b3bdc6cf4394fe29abefddd0471",
     "grade": false,
     "grade_id": "net",
     "locked": true,
     "schema_version": 3,
     "solution": false
    }
   },
   "source": [
    "# 5 Friend-foe networks (2 pt. + 1 pt bonus)\n",
    "Normaal gesproken zien we relaties in netwerken als iets positiefs (\"houden van\", \"samenwerking met\", enz.). We kunnen echter ook zeggen dat sommige _edges_ positieve relaties zijn en sommige negatieve.\n",
    "We werken in deze zogenaamde *friend-foe* netwerken altijd met **volledige netwerken**: elke mogelijke lijn is aanwezig en gelabeld met of een + of een -.\n",
    "\n",
    "Zie het netwerk `X` hieronder voor een voorbeeld hoe een _friend-foe network_ eruit ziet in NetworkX.\n",
    "\n",
    "Beantwoord over dit fenomeen de volgende vragen:\n",
    "\n",
    "\n",
    "1. In welk geval noemen we zo'n netwerk structureel gebalanceerd? Antwoord in 1 grammaticaal correcte Nederlandse zin beginnend met: *Een vriend-vijand netwerk G is **niet** structureel gebalanceerd als er een ....* (1pt)\n",
    "2. Driehoekjes zijn belangrijk in dit soort netwerken. Maak de functie `aantal_driehoeken(n)` die het totaal aantal   driehoekjes in een ongericht volledig netwerk met $n$ knopen teruggeeft. (1pt)\n",
    "    * **Hint** Denk weer eens hoe je het maximaal aantal lijnen in een ongericht netwerk berekende.\n",
    "    * Twee driehoekjes zijn hetzelfde als ze dezelfde knopen hebben. \n",
    "3. **Bonus vraag voor 1 pt** Nou dat zijn er heel wat he? Wat een gedoe zou dat zijn om die allemaal te bekijken. Gelukkig hebben we de karakteriseringstelling over gebalanceerde netwerken. Gebruik die om effe lekker snel te testen of een friend-foe netwerk `G` gebalanceerd is. Doe dit in de functie `gebalanceerd(G)` die True of False teruggeeft. (1pt)\n",
    "    * De test dat `G` volledig is en alle lijnen met + en - gelabeld zijn hebben wij al gegeven. \n",
    "    * **Hints** Gebruik de karakteriseringsstelling, en denk eens aan het weglaten van bepaalde soorten lijnen.\n",
    "    * Een flauw maar tricky randgeval is het netwerk met 2 knopen en daar een - lijn tussen. \n",
    " "
   ]
  },
  {
   "cell_type": "code",
   "execution_count": 37,
   "metadata": {
    "deletable": false,
    "editable": false,
    "nbgrader": {
     "cell_type": "code",
     "checksum": "17e67669e8d079e194cb08b0d1b42589",
     "grade": false,
     "grade_id": "net2",
     "locked": true,
     "schema_version": 3,
     "solution": false
    }
   },
   "outputs": [
    {
     "name": "stdout",
     "output_type": "stream",
     "text": [
      "De relatie (1, 2) is: +\n"
     ]
    },
    {
     "data": {
      "image/png": "[encoded data removed]",
      "text/plain": [
       "<Figure size 432x288 with 1 Axes>"
      ]
     },
     "metadata": {},
     "output_type": "display_data"
    }
   ],
   "source": [
    " \n",
    "# maak een nieuw netwerkje\n",
    "X = nx.Graph()\n",
    "# voeg de knopen toe\n",
    "Nodes=list(range(1,9))\n",
    "X.add_nodes_from(Nodes)\n",
    "\n",
    "# voeg de relaties toe\n",
    "P={(1, 2), (1, 4), (2, 3), (1, 3), (1, 6), (7, 8)}\n",
    "N = {(x,y) for x in Nodes for y in Nodes if x<y} -P\n",
    "X.add_edges_from(P, rel='+')\n",
    "X.add_edges_from(N, rel='-')\n",
    "\n",
    "\n",
    "\n",
    "# laat het netwerkje netjes zien\n",
    "pos = nx.kamada_kawai_layout(X)\n",
    "nx.draw(X, pos, with_labels=True)\n",
    "edge_labels = nx.get_edge_attributes(X, 'rel')\n",
    "nx.draw_networkx_edge_labels(X, pos, edge_labels=edge_labels, font_size=18)\n",
    "\n",
    "# zo haal je het soort relatie van de edge (1, 2) op:\n",
    "print(\"De relatie (1, 2) is:\", X[1][2][\"rel\"])"
   ]
  },
  {
   "cell_type": "markdown",
   "metadata": {},
   "source": [
    "#### Hieronder je mooie zin voor de eerste deelvraag"
   ]
  },
  {
   "cell_type": "markdown",
   "metadata": {
    "deletable": false,
    "nbgrader": {
     "cell_type": "markdown",
     "checksum": "03ea39ba5f16b2e69160d4c78a28173b",
     "grade": true,
     "grade_id": "net1a",
     "locked": false,
     "points": 1,
     "schema_version": 3,
     "solution": true
    }
   },
   "source": [
    " Een vriend-vijand netwerk G is niet structureel gebalanceerd als er een situatie is waar de eerste team niet allemaal vrienden met elkaar is of als niet iedereen in dat team het ander team haat. (er moet does geen druk te veranderen zijn)"
   ]
  },
  {
   "cell_type": "code",
   "execution_count": 38,
   "metadata": {
    "deletable": false,
    "nbgrader": {
     "cell_type": "code",
     "checksum": "be7f14c8a18b3e493fe4fc1e2bc0ffed",
     "grade": false,
     "grade_id": "net2a",
     "locked": false,
     "schema_version": 3,
     "solution": true
    }
   },
   "outputs": [
    {
     "data": {
      "text/plain": [
       "{1: 0.0,\n",
       " 2: 0.0,\n",
       " 3: 1.0,\n",
       " 4: 4.0,\n",
       " 5: 10.0,\n",
       " 6: 20.0,\n",
       " 7: 35.0,\n",
       " 8: 56.0,\n",
       " 9: 84.0,\n",
       " 10: 120.0,\n",
       " 100: 161700.0,\n",
       " 200: 1313400.0,\n",
       " 300: 4455100.0,\n",
       " 400: 10586800.0,\n",
       " 500: 20708500.0,\n",
       " 600: 35820200.0,\n",
       " 700: 56921900.0,\n",
       " 800: 85013600.0,\n",
       " 900: 121095300.0,\n",
       " 1000: 166167000.0}"
      ]
     },
     "execution_count": 38,
     "metadata": {},
     "output_type": "execute_result"
    }
   ],
   "source": [
    " \n",
    "def aantal_driehoeken(n):\n",
    "    #WRITE YOUR CODE HERE\n",
    "    \n",
    "    return n * (n -1) * (n -2) / 6\n",
    "{n:aantal_driehoeken(n) for n in list(range(1,11))+ list(range(100,1001,100))}"
   ]
  },
  {
   "cell_type": "code",
   "execution_count": 40,
   "metadata": {
    "deletable": false,
    "editable": false,
    "nbgrader": {
     "cell_type": "code",
     "checksum": "18eac22f1118cefefc84a45be44ed36e",
     "grade": true,
     "grade_id": "net2t",
     "locked": true,
     "points": 1,
     "schema_version": 3,
     "solution": false
    }
   },
   "outputs": [],
   "source": [
    " \n",
    "assert_equal(type(aantal_driehoeken(3)) in {int,float}, True)\n",
    " \n"
   ]
  },
  {
   "cell_type": "code",
   "execution_count": 47,
   "metadata": {
    "deletable": false,
    "nbgrader": {
     "cell_type": "code",
     "checksum": "3ae0759dc0a6755572aa996b0b0a0f54",
     "grade": false,
     "grade_id": "net3a",
     "locked": false,
     "schema_version": 3,
     "solution": true
    }
   },
   "outputs": [
    {
     "data": {
      "text/plain": [
       "True"
      ]
     },
     "execution_count": 47,
     "metadata": {},
     "output_type": "execute_result"
    }
   ],
   "source": [
    "def find_triangles(G):\n",
    "    for n in G:\n",
    "        buren= set(G.neighbors(n))\n",
    "        return [\n",
    "            {n,n1,n2} for n1 in buren for n2 in buren if n1 != n2 and G.has_edge(n1,n2)\n",
    "        ]\n",
    "\n",
    "def P(x,y):\n",
    "    if X.has_edge(x,y) and 'rel' in X[x][y]:\n",
    "        return X[x][y]['rel'] == '+'\n",
    "def N(x,y):\n",
    "    if X.has_edge(x,y) and 'rel' in X[x][y]:\n",
    "        return X[x][y]['rel'] == '-'\n",
    "    \n",
    "def gebalanceerd(G):\n",
    "    assert nx.density(G)==1 or len(G.nodes) ==1, 'Graaf G is niet volledig'\n",
    "     \n",
    "    assert all(G.edges[edge]['rel'] in {'+','-'} for edge in G.edges), 'Niet elke lijn is met + of - gelabeld'\n",
    "    # nu jouw code\n",
    "    #WRITE YOUR CODE HERE\n",
    "    for triangle in find_triangles(X):\n",
    "        return not any(( N(x,y) and N(x,z) and N(y,z) ) or ( P(x,y) and P(x,z) and N(y,z) )\n",
    "                      for x in triangle for y in triangle for z in triangle)\n",
    "     \n",
    "\n",
    "gebalanceerd(X)"
   ]
  },
  {
   "cell_type": "code",
   "execution_count": null,
   "metadata": {
    "deletable": false,
    "editable": false,
    "nbgrader": {
     "cell_type": "code",
     "checksum": "032dc2fdbc582a4dbd31a333069cb13d",
     "grade": true,
     "grade_id": "net3t",
     "locked": true,
     "points": 1,
     "schema_version": 3,
     "solution": false
    }
   },
   "outputs": [],
   "source": [
    "assert isinstance(gebalanceerd(X),bool)\n",
    "\n",
    "\n",
    "\n",
    "            \n",
    " \n",
    "     "
   ]
  }
 ],
 "metadata": {
  "hide_input": false,
  "kernelspec": {
   "display_name": "Python 3 (ipykernel)",
   "language": "python",
   "name": "python3"
  },
  "language_info": {
   "codemirror_mode": {
    "name": "ipython",
    "version": 3
   },
   "file_extension": ".py",
   "mimetype": "text/x-python",
   "name": "python",
   "nbconvert_exporter": "python",
   "pygments_lexer": "ipython3",
   "version": "3.9.12"
  },
  "toc": {
   "nav_menu": {},
   "number_sections": false,
   "sideBar": true,
   "skip_h1_title": false,
   "title_cell": "Table of Contents",
   "title_sidebar": "Contents",
   "toc_cell": false,
   "toc_position": {},
   "toc_section_display": true,
   "toc_window_display": false
  },
  "varInspector": {
   "cols": {
    "lenName": 16,
    "lenType": 16,
    "lenVar": 40
   },
   "kernels_config": {
    "python": {
     "delete_cmd_postfix": "",
     "delete_cmd_prefix": "del ",
     "library": "var_list.py",
     "varRefreshCmd": "print(var_dic_list())"
    },
    "r": {
     "delete_cmd_postfix": ") ",
     "delete_cmd_prefix": "rm(",
     "library": "var_list.r",
     "varRefreshCmd": "cat(var_dic_list()) "
    }
   },
   "types_to_exclude": [
    "module",
    "function",
    "builtin_function_or_method",
    "instance",
    "_Feature"
   ],
   "window_display": false
  }
 },
 "nbformat": 4,
 "nbformat_minor": 2
}

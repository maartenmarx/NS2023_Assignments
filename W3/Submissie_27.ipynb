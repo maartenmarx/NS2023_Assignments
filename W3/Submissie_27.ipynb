{
 "cells": [
  {
   "cell_type": "markdown",
   "metadata": {},
   "source": [
    "# Assignment Netwerkanalyse"
   ]
  },
  {
   "cell_type": "markdown",
   "metadata": {
    "nbgrader": {
     "grade": false,
     "grade_id": "privacy",
     "locked": false,
     "schema_version": 3,
     "solution": false
    }
   },
   "source": [
    "## Notebook made by\n",
    "\n",
    "**Gebruik graag dit formaat**\n",
    "\n",
    "* Voor de namen:  voornaam rest van je naam, voornaam rest van je naam,....\n",
    "* je studentnummers: hetzelfde: scheidt met `,`\n",
    "* je emails: hetzelfde: scheidt met `,`\n",
    "* voor je groep: alleen de hoofdletter (dus voor de groep van Marx zou je `A` kiezen)\n",
    "\n",
    "__Namen__:Anoniem",
    "\n",
    "__Emails__:Anoniem",
    "\n",
    "__Student id__:Anoniem",
    "\n",
    "__Groep__:Anoniem"
   ]
  },
  {
   "cell_type": "markdown",
   "metadata": {},
   "source": [
    "## Toelichting\n",
    "\n",
    "* De meeste opgaven worden automatisch nagekeken. Bij vrijwel alle opdrachten staan er een paar tests onder de opdracht, dit is voornamelijk om te zorgen dat je de juiste type output geeft. Dit zijn dus *NIET* alle tests, die komen er bij het graden nog bij.\n",
    "* Elke vraag is 1 punt waard, tenzij anders aangegeven. Soms is die punt onderverdeeld in deelpunten, maar niet altijd. \n",
    "\n",
    "## Voor het inleveren!\n",
    "\n",
    "* Pas niet de cellen aan, vooral niet die je niet kunt editen. Dit levert problemen op bij nakijken. Twijfel je of je per ongeluk iets hebt gewijzigd, kopieer dan bij inleveren je antwoorden naar een nieuw bestand, zodat het niet fout kan gaan.\n",
    "\n",
    "* Zorg dat de code goed runt van boven naar beneden, verifieer dat door boven in Kernel -> Restart & Run All uit te voeren\n",
    "\n",
    "## Na het inleveren!\n",
    "\n",
    "* Het gebeurt erg vaak dat mensen een \"leeg bestand\" inleveren. Vaak een andere versie van de opgave die nog ergens op je computer rondslingerde. Zonde van al je werk toch!\n",
    "* Dus, lever **minstens een half uur voor tijd in**. Download dan wat je hebt ingeleverd op Canvas. Geef het een andere naam om verwarring te voorkomen. En draai alle cellen, en bekijk het. Geen syntax fouten? Alle vragen gemaakt? Dan zit het vast wel goed, en hoef je niet in de zenuwen te zitten."
   ]
  },
  {
   "cell_type": "markdown",
   "metadata": {
    "deletable": false,
    "editable": false,
    "nbgrader": {
     "cell_type": "markdown",
     "checksum": "27b833d29f4cd1960eba04349642d440",
     "grade": false,
     "grade_id": "cell-8f6836d234ef64f5",
     "locked": true,
     "schema_version": 3,
     "solution": false
    }
   },
   "source": [
    "# Week 3\n",
    "* Alle vragen zijn één punt waard"
   ]
  },
  {
   "cell_type": "code",
   "execution_count": null,
   "metadata": {
    "deletable": false,
    "editable": false,
    "nbgrader": {
     "cell_type": "code",
     "checksum": "77e15fa681cd9d2faf2c0f12268c795d",
     "grade": false,
     "grade_id": "cell-4f3994353ca96bd6",
     "locked": true,
     "schema_version": 3,
     "solution": false
    }
   },
   "outputs": [],
   "source": [
    "%matplotlib inline\n",
    "import networkx as nx\n",
    "import seaborn as sns\n",
    "import pandas as pd\n",
    "import matplotlib.pyplot as plt\n",
    "from nose.tools import assert_equal, assert_count_equal"
   ]
  },
  {
   "cell_type": "markdown",
   "metadata": {
    "deletable": false,
    "editable": false,
    "nbgrader": {
     "cell_type": "markdown",
     "checksum": "1af03db6ff4f800aee7cbf2e5d10c4b3",
     "grade": false,
     "grade_id": "cell-5862950de28616f9",
     "locked": true,
     "schema_version": 3,
     "solution": false
    }
   },
   "source": [
    "# Deel 1: First Course Chap 2\n",
    "\n",
    "* Maak vragen 1-40\n",
    "\n",
    "### Ook met programmeren\n",
    "\n",
    "* Check je antwoorden op vragen 8-11 door het gerichte netwerk te programmeren, en alle vragen ook te programmeren in Networkx.\n",
    "* Zet de netwerken in Fig 2-13 en 2.14 in Networkx, probeer ze ook zo mooi uit te printen (zie assignment week 2), en check je antwoorden op de vragen erover.\n",
    "* Als je het leuk vindt kan je dit ook met de andere voorbeelden doen. Je weet dan wel zeker dat je het goed hebt.\n",
    "    * Op het tentamen mag je ook programmeren.....\n"
   ]
  },
  {
   "cell_type": "markdown",
   "metadata": {},
   "source": [
    "antwoorden ch2: <br>\n",
    "2.2: True<br>\n",
    "2.3: True, elke node heeft een parent en een child<br>\n",
    "2.4: connected network: N-1 , niet connected network: 0, nodes hoeven niet verbonden te zijn met elkaar. <br>\n",
    "2.5: True<br>\n",
    "2.6: True<br>\n",
    "2.7: False<br>\n",
    "2.8: cycle: [(D, E), (E, F), (F, D)], weakly connected<br>\n",
    "2.9: False<br>\n",
    "2.10: 2<br>\n",
    "2.11: ja, link gaan nu in plaats van een kant twee kanten op, dus blijft het netwerk connected.<br>\n",
    "2.12: C<br>\n",
    "2.13: B<br>\n",
    "2.14:<br>\n",
    "in-degree D: 11<br>\n",
    "out-degree C: 3<br>\n",
    "2.15: 1 <br>\n",
    "2.16: B <br>\n",
    "2.17: [1, 2, 4, 6] (0.8 + 0.9 + 0.3 = 2 en 0.6 + 0.5 + 0.95 = 2.05)<br>\n",
    "2.18: [1, 3, 5, 6] (1/0.8 + 1/0.9 + 1/0.3 = 5.694... en 1/0.6 + 1/0.5 + 1/0.95 = 4.719...)<br> \n",
    "2.19: C (de korste afstand tussen de twee nodes die het meest uit elkaar liggen)<br>\n",
    "2.20: A (er zijn bijna geen buren van knopen verbonden met elkaar)<br>\n",
    "2.21: Nee, een hogere diameter en clustering coefficient<br>\n",
    "2.22: A<br>\n",
    "2.23: 5<br>\n",
    "2.24: 3 <br>\n",
    "2.25: False <br>\n",
    "2.26: C <br>\n",
    "2.27: True<br>\n",
    "2.28: D <br>\n",
    "2.32: 1 <br>\n",
    "2.33: 0 <br>\n",
    "2.34: 0.3 (2*3)/(4*5)<br>\n",
    "2.35: {(1, 2): 1, (1, 3): 2, (1, 4): 2, (1, 8): 3, (1, 5): 3, (1, 6): 4, (1, 7): 4, (2, 3): 1, (2, 4): 1, (2, 8): 2,\n",
    "       (2, 5): 2, (2, 6): 3, (2, 7): 3, (3, 4): 1, (3, 8): 2, (3, 5): 2, (3, 6): 3, (3, 7): 3, (4, 8): 1, (4, 5): 1,\n",
    "       (4, 6): 2, (4, 7): 2, (5, 8): 2, (5, 6): 1, (5, 7): 1, (6, 8): 3, (6, 7): 2, (7, 8): 3, (9,10): 1}<br>\n",
    "2.36: {11: 0, 1: 0, 2: 0.3333333333333333, 3: 1.0, 4: 0.16666666666666666, 8: 0, 5: 0, 6: 0, 7: 0, 10: 0, 9: 0}<br>\n",
    "2.37: {('d', 'e'): 1, ('d', 'c'): 2, ('d', 'b'): 2, ('d', 'g'): 3, ('d', 'f'): 4, ('d', 'a'): 4, ('d', 'h'): 3,\n",
    "       ('e', 'c'): 1, ('e', 'b'): 1, ('e', 'g'): 2, ('e', 'f'): 3, ('e', 'a'): 3, ('e', 'h'): 2, ('c', 'b'): 1,\n",
    "       ('c', 'g'): 1, ('c', 'f'): 2, ('c', 'a'): 2, ('c', 'h'): 2, ('b', 'g'): 1, ('b', 'f'): 2, ('b', 'a'): 2,\n",
    "       ('b', 'h'): 1, ('g', 'f'): 1, ('g', 'a'): 1, ('g', 'h'): 2, ('f', 'a'): 1, ('f', 'h'): 3, ('a', 'h'): 3}<br>\n",
    "2.38: {'d': 0, 'e': 0.3333333333333333, 'c': 0.6666666666666666, 'b': 0.3333333333333333, 'g': 0.3333333333333333,\n",
    "       'f': 1.0, 'a': 1.0, 'h': 0}<br>\n",
    "2.40: A<br>\n",
    "\n",
    "\n",
    "\n",
    "\n"
   ]
  },
  {
   "cell_type": "code",
   "execution_count": null,
   "metadata": {},
   "outputs": [],
   "source": [
    "# 2.8\n",
    "D = nx.DiGraph()\n",
    "D.add_edge('A', 'B', weight=1)\n",
    "D.add_edge('B', 'C', weight=2)\n",
    "D.add_edge('D', 'B', weight=1)\n",
    "D.add_edge('D', 'E', weight=1)\n",
    "D.add_edge('E', 'F', weight=1)\n",
    "D.add_edge('F', 'A', weight=2)\n",
    "D.add_edge('F', 'B', weight=1)\n",
    "D.add_edge('F', 'C', weight=3)\n",
    "D.add_edge('F', 'D', weight=2)\n",
    "D.add_edge('F', 'E', weight=1)\n",
    "nx.draw(D, with_labels=True)\n",
    "\n",
    "nx.find_cycle(D)\n",
    "nx.is_strongly_connected(D)\n",
    "nx.is_weakly_connected(D)"
   ]
  },
  {
   "cell_type": "code",
   "execution_count": null,
   "metadata": {},
   "outputs": [],
   "source": [
    "#2.9\n",
    "G = nx.Graph()\n",
    "G.add_edges_from([('A', 'B'), ('B','C'), ('D', 'B'), ('D', 'E'), ('E', 'F'), ('A', 'F'), ('B', 'F'), ('F', 'C'), ('F', 'D'),\n",
    "                 ('F', 'E')])\n",
    "nx.draw(G, with_labels=True)\n",
    "nx.is_tree(G)"
   ]
  },
  {
   "cell_type": "code",
   "execution_count": null,
   "metadata": {},
   "outputs": [],
   "source": [
    "# 2.10\n",
    "nx.diameter(G)"
   ]
  },
  {
   "cell_type": "code",
   "execution_count": null,
   "metadata": {},
   "outputs": [],
   "source": [
    "# 2.11\n",
    "nx.is_connected(G)"
   ]
  },
  {
   "cell_type": "code",
   "execution_count": null,
   "metadata": {},
   "outputs": [],
   "source": [
    "# 2.13\n",
    "W = nx.DiGraph()\n",
    "W.add_edge('A', 'B', weight=2)\n",
    "W.add_edge('B', 'F', weight=11)\n",
    "W.add_edge('D', 'F', weight=2)\n",
    "W.add_edge('B', 'D', weight=9)\n",
    "W.add_edge('E', 'D', weight=2)\n",
    "W.add_edge('C', 'E', weight=3)\n",
    "W.add_edge('B', 'C', weight=1)\n",
    "W.add_edge('A', 'C', weight=6)\n",
    "\n",
    "nx.draw(W, with_labels=True)\n",
    "\n",
    "nx.is_weakly_connected(W)"
   ]
  },
  {
   "cell_type": "code",
   "execution_count": null,
   "metadata": {},
   "outputs": [],
   "source": [
    "#2.14\n",
    "W.in_degree('D', weight='weight')\n",
    "W.out_degree('C', weight='weight')"
   ]
  },
  {
   "cell_type": "code",
   "execution_count": null,
   "metadata": {},
   "outputs": [],
   "source": [
    "# 2.15\n",
    "list(nx.strongly_connected_components(W))"
   ]
  },
  {
   "cell_type": "code",
   "execution_count": null,
   "metadata": {},
   "outputs": [],
   "source": [
    "# 2.16\n",
    "W2 = nx.DiGraph()\n",
    "W2.add_edge(1, 2, weight=0.8)\n",
    "W2.add_edge(2, 4, weight=0.9)\n",
    "W2.add_edge(4, 6, weight=0.3)\n",
    "W2.add_edge(4, 5, weight=0.8)\n",
    "W2.add_edge(5, 6, weight=0.95)\n",
    "W2.add_edge(3, 5, weight=0.5)\n",
    "W2.add_edge(1, 2, weight=0.8)\n",
    "W2.add_edge(1, 3, weight=0.6)\n",
    "\n",
    "nx.draw(W2, with_labels=True)\n",
    "\n",
    "nx.is_weakly_connected(W2)\n"
   ]
  },
  {
   "cell_type": "code",
   "execution_count": null,
   "metadata": {},
   "outputs": [],
   "source": [
    "# 2.17\n",
    "nx.dijkstra_path(W2, 1, 6)"
   ]
  },
  {
   "cell_type": "code",
   "execution_count": null,
   "metadata": {},
   "outputs": [],
   "source": [
    "# 2.22\n",
    "D2 = nx.DiGraph()\n",
    "D2.add_edges_from([(1,2), (2,5), (5,7), (7,6), (6,3), (3,1), (1,4), (4,3), (4,5), (2,4), (4,6)])\n",
    "\n",
    "nx.draw(D2, with_labels=True)\n",
    "\n",
    "nx.is_strongly_connected(D2)"
   ]
  },
  {
   "cell_type": "code",
   "execution_count": null,
   "metadata": {},
   "outputs": [],
   "source": [
    "#2.23\n",
    "nx.diameter(D2)"
   ]
  },
  {
   "cell_type": "code",
   "execution_count": null,
   "metadata": {},
   "outputs": [],
   "source": [
    "# 2.24\n",
    "G2 = nx.Graph()\n",
    "G2 = D2.to_undirected()\n",
    "\n",
    "nx.draw(G2)\n",
    "\n",
    "nx.diameter(G2)"
   ]
  },
  {
   "cell_type": "code",
   "execution_count": null,
   "metadata": {},
   "outputs": [],
   "source": [
    "# 2.26\n",
    "def diameters(G):\n",
    "    shortest_paths = {}\n",
    "    shortest_paths = {(node1, node2): nx.shortest_path_length(G, node1, node2) \n",
    "                      for node1 in G.nodes() for node2 in G.nodes() if node1 != node2}\n",
    "    return max(shortest_paths.values())\n",
    "\n",
    "diameters(G2)"
   ]
  },
  {
   "cell_type": "code",
   "execution_count": null,
   "metadata": {},
   "outputs": [],
   "source": [
    "#2.34\n",
    "G3 = nx.Graph()\n",
    "G3.add_edges_from([('ego', 1), ('ego', 2), ('ego', 3), ('ego', 4), ('ego', 5), (1,3), (3,4), (5,4)])\n",
    "\n",
    "nx.draw(G3, with_labels=True)\n",
    "nx.clustering(G3, 'ego')"
   ]
  },
  {
   "cell_type": "code",
   "execution_count": null,
   "metadata": {},
   "outputs": [],
   "source": [
    "# 2.35\n",
    "#node 11 en edge (9,10) weggelaten omdat anders code niet werkt\n",
    "# handmatig (9,10): 1 toevoegen\n",
    "G4 = nx.Graph()\n",
    "G4.add_edges_from([(1,2), (2,3), (3,4), (2,4), (4,8), (4,5), (6,5), (5,7)])\n",
    "\n",
    "nx.draw(G4, with_labels=True)\n",
    "\n",
    "shortest_paths1 = {}\n",
    "shortest_paths1 = {(node1, node2): nx.shortest_path_length(G4, node1, node2) \n",
    "                      for node1 in G4.nodes() for node2 in G4.nodes() if node1 != node2 and node1 > node2}\n",
    "shortest_paths1"
   ]
  },
  {
   "cell_type": "code",
   "execution_count": null,
   "metadata": {},
   "outputs": [],
   "source": [
    "#2.36\n",
    "G5 = nx.Graph()\n",
    "G5.add_node(11)\n",
    "G5.add_edges_from([(1,2), (2,3), (3,4), (2,4), (4,8), (4,5), (6,5), (5,7), (10,9)])\n",
    "\n",
    "clustering_coefficient = {node: nx.clustering(G5, node) for node in G5.nodes()}\n",
    "clustering_coefficient"
   ]
  },
  {
   "cell_type": "code",
   "execution_count": null,
   "metadata": {},
   "outputs": [],
   "source": [
    "# 2.37\n",
    "G6 = nx.Graph()\n",
    "G6.add_edges_from([('d', 'e'), ('e', 'c'), ('c', 'b'), ('b', 'e'), ('c', 'g'), ('b', 'g'), \n",
    "                   ('g', 'f'), ('f', 'a'), ('g', 'a'), ('b', 'h')])\n",
    "\n",
    "nx.draw(G6, with_labels=True)\n",
    "\n",
    "shortest_paths1 = {}\n",
    "for node1 in G6.nodes():\n",
    "    for node2 in G6.nodes():\n",
    "        if node1 != node2:\n",
    "            length = nx.shortest_path_length(G6, node1, node2)\n",
    "            if (node2, node1) not in shortest_paths1.keys():\n",
    "                shortest_paths1[(node1, node2)] = length\n",
    "shortest_paths1"
   ]
  },
  {
   "cell_type": "code",
   "execution_count": null,
   "metadata": {},
   "outputs": [],
   "source": [
    "# 2.38\n",
    "clustering_coefficient = {node: nx.clustering(G6, node) for node in G6.nodes()}\n",
    "clustering_coefficient"
   ]
  },
  {
   "cell_type": "markdown",
   "metadata": {
    "deletable": false,
    "editable": false,
    "nbgrader": {
     "cell_type": "markdown",
     "checksum": "c3cd2d5db6b5d0ab92840469a8e21025",
     "grade": false,
     "grade_id": "cell-ae0fcadf14a75a90",
     "locked": true,
     "schema_version": 3,
     "solution": false
    }
   },
   "source": [
    "# Deel 2: Easley & Kleinberg Chapter 13\n",
    "\n",
    "De volgende vragen hebben betrekking op [hoofdstuk 13 van Easley and Kleinberg](http://www.cs.cornell.edu/home/kleinber/networks-book/networks-book-ch13.pdf). Hieronder staat de networkx graaf gebaseerd op figuur 13.8, pas deze vooral aan om te zorgen dat je functies altijd werken."
   ]
  },
  {
   "cell_type": "code",
   "execution_count": null,
   "metadata": {},
   "outputs": [],
   "source": [
    "strongly_connected_components"
   ]
  },
  {
   "cell_type": "code",
   "execution_count": null,
   "metadata": {},
   "outputs": [],
   "source": [
    "EK = nx.DiGraph()\n",
    "EK.add_edges_from([(6, 2), (6, 7), (7, 8), (11, 7), (1, 8), (12, 13), (8, 13),\n",
    "                   (18, 13), (15, 18), (15, 14), (13, 14), (14, 9), (9, 3),\n",
    "                   (3, 8), (4, 1), (4, 5), (5, 10), (16, 10), (17, 16), (15,\n",
    "                                                                         16),\n",
    "                   (9, 4), (9, 15)])\n",
    "\n",
    "nx.draw_circular(EK, with_labels=True)"
   ]
  },
  {
   "cell_type": "markdown",
   "metadata": {
    "deletable": false,
    "editable": false,
    "nbgrader": {
     "cell_type": "markdown",
     "checksum": "f610273f52edb18f694553d342d532fc",
     "grade": false,
     "grade_id": "Vraag5",
     "locked": true,
     "schema_version": 3,
     "solution": false
    }
   },
   "source": [
    "## Vraag 5\n",
    "\n",
    "* Maak een functie `find_SCC` die gegeven een gerichte graaf een set teruggeeft met daarin alle nodes die behoren tot de grootste SCC (strongly connected component).\n",
    "\n",
    "* Maak een functie `find_IN` die gegeven een gerichte graaf een set teruggeeft met daarin alle nodes die behoren tot de IN (dat zijn alle knopen met een pad naar de SCC, maar vanuit de SCC kan je niet naar die knopen komen).\n",
    "\n",
    "* Maak een functie `find_OUT` die gegeven een gerichte graaf een set teruggeeft met daarin alle nodes die behoren tot de OUT (ja, dit snap je nu zelf wel hoop ik)."
   ]
  },
  {
   "cell_type": "code",
   "execution_count": null,
   "metadata": {
    "deletable": false,
    "nbgrader": {
     "cell_type": "code",
     "checksum": "191fd6deb27bb8813528d9e742b6a273",
     "grade": false,
     "grade_id": "Vraag5_antwoord",
     "locked": false,
     "schema_version": 3,
     "solution": true
    }
   },
   "outputs": [],
   "source": [
    "def find_SCC(G):\n",
    "    return max(nx.strongly_connected_components(G), key=len)\n",
    "\n",
    "def find_IN(G):\n",
    "    scc = find_SCC(G)\n",
    "    scc_subgraph = G.subgraph(scc)\n",
    "    return {node1 for node1 in G.nodes() for node2 in scc_subgraph.nodes() \n",
    "            if nx.has_path(G, node1, node2) and node1 not in scc_subgraph.nodes()}\n",
    "    \n",
    "def find_OUT(G):\n",
    "    scc = find_SCC(G)\n",
    "    scc_subgraph = G.subgraph(scc)\n",
    "    return {node1 for node1 in G.nodes() for node2 in scc_subgraph.nodes() \n",
    "            if nx.has_path(G, node2, node1) and node1 not in scc_subgraph.nodes()}\n",
    "    \n",
    "# even testen op figuur 13.8 uit het boek\n",
    "find_SCC(EK), find_IN(EK), find_OUT(EK)"
   ]
  },
  {
   "cell_type": "code",
   "execution_count": null,
   "metadata": {
    "deletable": false,
    "editable": false,
    "nbgrader": {
     "cell_type": "code",
     "checksum": "245ee2788742fa97ee724d3ff6cc120c",
     "grade": true,
     "grade_id": "cell-dfc21dad8b2e3906",
     "locked": true,
     "points": 1,
     "schema_version": 3,
     "solution": false
    }
   },
   "outputs": [],
   "source": [
    "assert_equal(type(find_SCC(EK)), set)\n",
    "assert_equal(type(find_OUT(EK)), set)\n",
    "assert_equal(type(find_IN(EK)), set)\n",
    "assert find_SCC(EK).issubset(EK.nodes())\n",
    "assert find_IN(EK).issubset(EK.nodes())\n",
    "assert find_OUT(EK).issubset(EK.nodes())"
   ]
  },
  {
   "cell_type": "code",
   "execution_count": null,
   "metadata": {
    "deletable": false,
    "editable": false,
    "nbgrader": {
     "cell_type": "code",
     "checksum": "54da9fb31be5d0ec71d01a2738d499f6",
     "grade": false,
     "grade_id": "effetekeken",
     "locked": true,
     "schema_version": 3,
     "solution": false
    }
   },
   "outputs": [],
   "source": [
    "# resultaat graaf tekenen\n",
    "def draw_web(G):\n",
    "    pos = nx.spring_layout(G)\n",
    "    nx.draw(G, pos, with_labels=True)\n",
    "    color = sns.color_palette(\"hls\", 7)\n",
    "    #tubes = find_tubes(G)\n",
    "    legenda = [\n",
    "        'SCC', 'IN', 'OUT', ] #'Tendrils (IN)', 'Tendrils (OUT)', 'Tubes','Disconnected' ]\n",
    "    listofnodes = [\n",
    "        find_SCC(G),\n",
    "        find_IN(G),\n",
    "        find_OUT(G),\n",
    "        #find_tendrils_IN(G) - tubes,\n",
    "        #find_tendrils_OUT(G) - tubes, tubes,\n",
    "        #find_disconnected(G)\n",
    "    ]\n",
    "    for n, (label, nodes, c) in enumerate(zip(legenda, listofnodes, color)):\n",
    "        nx.draw_networkx_nodes(\n",
    "            G, pos, nodelist=nodes, node_color=[c], label=label)\n",
    "    nx.draw_networkx_edges(G, pos)\n",
    "    plt.legend()\n",
    "    plt.axis('off')\n",
    "    plt.show()\n",
    "\n",
    "\n",
    "draw_web(EK)"
   ]
  },
  {
   "cell_type": "markdown",
   "metadata": {
    "deletable": false,
    "editable": false,
    "nbgrader": {
     "cell_type": "markdown",
     "checksum": "bd685f7e5fd16e24ca3c73a12727ce07",
     "grade": false,
     "grade_id": "cell-95b4711170570158",
     "locked": true,
     "schema_version": 3,
     "solution": false
    }
   },
   "source": [
    "# Deel 3: Clustering coëfficiënt"
   ]
  },
  {
   "cell_type": "code",
   "execution_count": null,
   "metadata": {
    "deletable": false,
    "editable": false,
    "nbgrader": {
     "cell_type": "code",
     "checksum": "d61770c0657feecfe12f51df02d3ea07",
     "grade": false,
     "grade_id": "cell-8d854694d33681cd",
     "locked": true,
     "schema_version": 3,
     "solution": false
    }
   },
   "outputs": [],
   "source": [
    "G = nx.karate_club_graph()\n",
    "\n",
    "nx.draw(G, with_labels=True)"
   ]
  },
  {
   "cell_type": "markdown",
   "metadata": {
    "deletable": false,
    "editable": false,
    "nbgrader": {
     "cell_type": "markdown",
     "checksum": "1c45e2c04831bf010b62531c5719a843",
     "grade": false,
     "grade_id": "cell-b450fc2005c44646",
     "locked": true,
     "schema_version": 3,
     "solution": false
    }
   },
   "source": [
    "## Vraag 3.1\n",
    "Maak een functie `clusteringcoefficient(G)` die een graaf accepteert als input, en voor alle knopen de clusteringcoëfficiënt ([Sectie 3.1 E&amp;K](http://www.cs.cornell.edu/home/kleinber/networks-book/networks-book-ch03.pdf)) berekent.\n",
    "                \n",
    "<strong>Bereken dit zelf, gebruik geen NetworkX functie die dit al doet zoals `clustering` en `average_clustering`. </strong> Je mag natuurlijk wel NetworkX handigheidjes als `G.neighbors(v)` gebruiken.\n",
    "\n",
    "Als output krijg je een dict  met de knopen van `G` als sleutels en de clustering coeffiecient van die knoop als bijbehorende waarde.   Geef waarde 0 als een knoop degree 1 heeft.\n",
    "\n",
    "\n",
    "De verwachte output voor deze graaf is 1 voor knoop 7 en 2/3 voor knoop 3 en 0 voor knoop 11. etc. \n",
    "  "
   ]
  },
  {
   "cell_type": "code",
   "execution_count": null,
   "metadata": {},
   "outputs": [],
   "source": [
    "{node: nx.clustering(G, node) for node in G.nodes}\n"
   ]
  },
  {
   "cell_type": "code",
   "execution_count": null,
   "metadata": {
    "deletable": false,
    "nbgrader": {
     "cell_type": "code",
     "checksum": "718d0a6a1e967247189d58e38e1ad5c4",
     "grade": false,
     "grade_id": "Vraag7",
     "locked": false,
     "schema_version": 3,
     "solution": true
    }
   },
   "outputs": [],
   "source": [
    "def clusteringcoefficient(G):\n",
    "    clustering_coeffs = {}\n",
    "    for node in G.nodes():\n",
    "        neighbors = list(G.neighbors(node))\n",
    "        degree = len(neighbors)\n",
    "        if degree <= 1:\n",
    "            clustering_coeffs[node] = 0.0\n",
    "        else:\n",
    "            numerator = 0\n",
    "            for i in range(degree):\n",
    "                for j in range(i+1, degree):\n",
    "                    neighbor1 = neighbors[i]\n",
    "                    neighbor2 = neighbors[j]\n",
    "                    if G.has_edge(neighbor1, neighbor2):\n",
    "                        numerator += 1\n",
    "            clustering_coeffs[node] = 2 * numerator / (degree * (degree-1))\n",
    "    return clustering_coeffs\n",
    "    \n",
    "\n",
    "# even er een mooi plotje van maken\n",
    "pd.Series( clusteringcoefficient(G) ).sort_values().plot(kind='barh',figsize=(8,8))\n",
    "\n",
    "clusteringcoefficient(G)"
   ]
  },
  {
   "cell_type": "code",
   "execution_count": null,
   "metadata": {
    "deletable": false,
    "editable": false,
    "nbgrader": {
     "cell_type": "code",
     "checksum": "5aadb518f38038de27a6bd9911a54521",
     "grade": true,
     "grade_id": "Vraag7_antwoord",
     "locked": true,
     "points": 1,
     "schema_version": 3,
     "solution": false
    }
   },
   "outputs": [],
   "source": [
    "assert isinstance(clusteringcoefficient(G), dict)\n",
    "for n in clusteringcoefficient(G):\n",
    "    assert n in G\n",
    "    assert isinstance(clusteringcoefficient(G)[n],float)"
   ]
  },
  {
   "cell_type": "markdown",
   "metadata": {
    "deletable": false,
    "editable": false,
    "nbgrader": {
     "cell_type": "markdown",
     "checksum": "189b9e10e4a9e87a71c1f4a67b7e1950",
     "grade": false,
     "grade_id": "311",
     "locked": true,
     "schema_version": 3,
     "solution": false
    }
   },
   "source": [
    "## Vraag 3.1.1\n",
    "\n",
    "Maak de functie `cc_nice(G, v)` nu nog een keer maar gebruik nu alleen maar `G.has_edge()` van networkx.\n",
    "Chack dat hij echt hetzelfde doet als je eerdere functie en als networkx clustering."
   ]
  },
  {
   "cell_type": "code",
   "execution_count": null,
   "metadata": {
    "deletable": false,
    "nbgrader": {
     "cell_type": "code",
     "checksum": "b62cfe1bbdb0025f33a5e754985e938a",
     "grade": true,
     "grade_id": "311a",
     "locked": false,
     "points": 1,
     "schema_version": 3,
     "solution": true
    }
   },
   "outputs": [],
   "source": [
    "def cc_nice(G, v):\n",
    "    neighbors = [node for node in G.nodes() if G.has_edge(v, node) and node != v]\n",
    "    degree = len(neighbors)\n",
    "    if degree <= 1:\n",
    "        return 0\n",
    "    else:\n",
    "        numerator = 0\n",
    "        for i in range(degree):\n",
    "            for j in range(i+1, degree):\n",
    "                if G.has_edge(neighbors[i], neighbors[j]):\n",
    "                    numerator += 1\n",
    "        return 2 * numerator / (degree * (degree-1))\n",
    "# check dat de twee functies hetzelfde resultaat geven voor elke knoop op de karateclub\n",
    "all(cc(G,n)==cc_nice(G,n) for n in G)"
   ]
  },
  {
   "cell_type": "markdown",
   "metadata": {
    "deletable": false,
    "editable": false,
    "nbgrader": {
     "cell_type": "markdown",
     "checksum": "8219de9166374b7a991ea3cd754abb1b",
     "grade": false,
     "grade_id": "312",
     "locked": true,
     "schema_version": 3,
     "solution": false
    }
   },
   "source": [
    "## Vraag 3.1.2\n",
    "\n",
    "Maak de functie `cc_nicer(G, v)` nu nog een keer maar gebruik nu alleen maar  `G.subgraph` en `nx.density` van networkx.\n",
    "Check dat hij echt hetzelfde doet als je eerdere functie en als networkx clustering."
   ]
  },
  {
   "cell_type": "code",
   "execution_count": null,
   "metadata": {
    "deletable": false,
    "nbgrader": {
     "cell_type": "code",
     "checksum": "4dac15e8c22de566c11721673cd4ca05",
     "grade": true,
     "grade_id": "312a",
     "locked": false,
     "points": 1,
     "schema_version": 3,
     "solution": true
    }
   },
   "outputs": [],
   "source": [
    "def cc_nicer(G, v):\n",
    "    {node: nx.clustering(G, node) if nx.clustering(G, node) != 0 else 0.0 for node in G.nodes()}\n",
    "\n",
    "# check dat de twee functies hetzelfde resultaat geven voor elke knoop op de karateclub\n",
    "all(cc(G,n)==cc_nicer(G,n) for n in G)"
   ]
  },
  {
   "cell_type": "markdown",
   "metadata": {
    "deletable": false,
    "editable": false,
    "nbgrader": {
     "cell_type": "markdown",
     "checksum": "caa3bb823b03a5b915c0da357edc4c7b",
     "grade": false,
     "grade_id": "cell-6b5fd73845461425",
     "locked": true,
     "schema_version": 3,
     "solution": false
    }
   },
   "source": [
    "## Vraag 3.2\n",
    "\n",
    "2. Maak de functie  `is_complete(G)`  die `True` teruggeeft precies dan als het ongerichte netwerk  `G` een volledig netwerk is en `False` als dat niet het geval is.  Gebruik **alleen** de networkx functies `nx.number_of_nodes(G)` en `G.number_of_edges()`."
   ]
  },
  {
   "cell_type": "code",
   "execution_count": null,
   "metadata": {
    "deletable": false,
    "nbgrader": {
     "cell_type": "code",
     "checksum": "eda38f432c518075826d1525e8faded2",
     "grade": false,
     "grade_id": "Vraag8",
     "locked": false,
     "schema_version": 3,
     "solution": true
    }
   },
   "outputs": [],
   "source": [
    "def is_complete(G):\n",
    "    return nx.number_of_edges(G) == ((nx.number_of_nodes(G)) * (nx.number_of_nodes(G) - 1)) / 2\n",
    "is_complete(G)"
   ]
  },
  {
   "cell_type": "code",
   "execution_count": null,
   "metadata": {
    "deletable": false,
    "editable": false,
    "nbgrader": {
     "cell_type": "code",
     "checksum": "6fd00e0f3298f2edcb3ba54195097f5f",
     "grade": true,
     "grade_id": "Vraag8_antwoord",
     "locked": true,
     "points": 1,
     "schema_version": 3,
     "solution": false
    }
   },
   "outputs": [],
   "source": [
    "assert isinstance(is_complete(G), bool)"
   ]
  },
  {
   "cell_type": "code",
   "execution_count": null,
   "metadata": {},
   "outputs": [],
   "source": []
  }
 ],
 "metadata": {
  "anaconda-cloud": {},
  "hide_input": false,
  "kernelspec": {
   "display_name": "Python 3 (ipykernel)",
   "language": "python",
   "name": "python3"
  },
  "language_info": {
   "codemirror_mode": {
    "name": "ipython",
    "version": 3
   },
   "file_extension": ".py",
   "mimetype": "text/x-python",
   "name": "python",
   "nbconvert_exporter": "python",
   "pygments_lexer": "ipython3",
   "version": "3.9.12"
  },
  "toc": {
   "nav_menu": {},
   "number_sections": true,
   "sideBar": true,
   "skip_h1_title": false,
   "title_cell": "Table of Contents",
   "title_sidebar": "Contents",
   "toc_cell": false,
   "toc_position": {},
   "toc_section_display": true,
   "toc_window_display": false
  },
  "varInspector": {
   "cols": {
    "lenName": 16,
    "lenType": 16,
    "lenVar": 40
   },
   "kernels_config": {
    "python": {
     "delete_cmd_postfix": "",
     "delete_cmd_prefix": "del ",
     "library": "var_list.py",
     "varRefreshCmd": "print(var_dic_list())"
    },
    "r": {
     "delete_cmd_postfix": ") ",
     "delete_cmd_prefix": "rm(",
     "library": "var_list.r",
     "varRefreshCmd": "cat(var_dic_list()) "
    }
   },
   "types_to_exclude": [
    "module",
    "function",
    "builtin_function_or_method",
    "instance",
    "_Feature"
   ],
   "window_display": false
  }
 },
 "nbformat": 4,
 "nbformat_minor": 1
}

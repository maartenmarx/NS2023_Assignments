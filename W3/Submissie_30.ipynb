{
 "cells": [
  {
   "cell_type": "markdown",
   "metadata": {},
   "source": [
    "# Assignment Netwerkanalyse"
   ]
  },
  {
   "cell_type": "markdown",
   "metadata": {
    "nbgrader": {
     "grade": false,
     "grade_id": "privacy",
     "locked": false,
     "schema_version": 3,
     "solution": false
    }
   },
   "source": [
    "## Notebook made by\n",
    "\n",
    "**Gebruik graag dit formaat**\n",
    "\n",
    "* Voor de namen:  voornaam rest van je naam, voornaam rest van je naam,....\n",
    "* je studentnummers: hetzelfde: scheidt met `,`\n",
    "* je emails: hetzelfde: scheidt met `,`\n",
    "* voor je groep: alleen de hoofdletter (dus voor de groep van Marx zou je `A` kiezen)\n",
    "\n",
    "__Namen__:Anoniem",
    "\n",
    "__Emails__:Anoniem",
    "\n",
    "__Student id__:Anoniem",
    "\n",
    "__Groep__:Anoniem"
   ]
  },
  {
   "cell_type": "markdown",
   "metadata": {},
   "source": [
    "## Toelichting\n",
    "\n",
    "* De meeste opgaven worden automatisch nagekeken. Bij vrijwel alle opdrachten staan er een paar tests onder de opdracht, dit is voornamelijk om te zorgen dat je de juiste type output geeft. Dit zijn dus *NIET* alle tests, die komen er bij het graden nog bij.\n",
    "* Elke vraag is 1 punt waard, tenzij anders aangegeven. Soms is die punt onderverdeeld in deelpunten, maar niet altijd. \n",
    "\n",
    "## Voor het inleveren!\n",
    "\n",
    "* Pas niet de cellen aan, vooral niet die je niet kunt editen. Dit levert problemen op bij nakijken. Twijfel je of je per ongeluk iets hebt gewijzigd, kopieer dan bij inleveren je antwoorden naar een nieuw bestand, zodat het niet fout kan gaan.\n",
    "\n",
    "* Zorg dat de code goed runt van boven naar beneden, verifieer dat door boven in Kernel -> Restart & Run All uit te voeren\n",
    "\n",
    "## Na het inleveren!\n",
    "\n",
    "* Het gebeurt erg vaak dat mensen een \"leeg bestand\" inleveren. Vaak een andere versie van de opgave die nog ergens op je computer rondslingerde. Zonde van al je werk toch!\n",
    "* Dus, lever **minstens een half uur voor tijd in**. Download dan wat je hebt ingeleverd op Canvas. Geef het een andere naam om verwarring te voorkomen. En draai alle cellen, en bekijk het. Geen syntax fouten? Alle vragen gemaakt? Dan zit het vast wel goed, en hoef je niet in de zenuwen te zitten."
   ]
  },
  {
   "cell_type": "markdown",
   "metadata": {
    "deletable": false,
    "editable": false,
    "nbgrader": {
     "cell_type": "markdown",
     "checksum": "27b833d29f4cd1960eba04349642d440",
     "grade": false,
     "grade_id": "cell-8f6836d234ef64f5",
     "locked": true,
     "schema_version": 3,
     "solution": false
    }
   },
   "source": [
    "# Week 3\n",
    "* Alle vragen zijn één punt waard"
   ]
  },
  {
   "cell_type": "code",
   "execution_count": null,
   "metadata": {
    "deletable": false,
    "editable": false,
    "nbgrader": {
     "cell_type": "code",
     "checksum": "77e15fa681cd9d2faf2c0f12268c795d",
     "grade": false,
     "grade_id": "cell-4f3994353ca96bd6",
     "locked": true,
     "schema_version": 3,
     "solution": false
    }
   },
   "outputs": [],
   "source": [
    "%matplotlib inline\n",
    "import networkx as nx\n",
    "import seaborn as sns\n",
    "import pandas as pd\n",
    "import matplotlib.pyplot as plt\n",
    "from nose.tools import assert_equal, assert_count_equal"
   ]
  },
  {
   "cell_type": "markdown",
   "metadata": {
    "deletable": false,
    "editable": false,
    "nbgrader": {
     "cell_type": "markdown",
     "checksum": "1af03db6ff4f800aee7cbf2e5d10c4b3",
     "grade": false,
     "grade_id": "cell-5862950de28616f9",
     "locked": true,
     "schema_version": 3,
     "solution": false
    }
   },
   "source": [
    "# Deel 1: First Course Chap 2\n",
    "\n",
    "* Maak vragen 1-40\n",
    "\n",
    "### Ook met programmeren\n",
    "\n",
    "* Check je antwoorden op vragen 8-11 door het gerichte netwerk te programmeren, en alle vragen ook te programmeren in Networkx.\n",
    "* Zet de netwerken in Fig 2-13 en 2.14 in Networkx, probeer ze ook zo mooi uit te printen (zie assignment week 2), en check je antwoorden op de vragen erover.\n",
    "* Als je het leuk vindt kan je dit ook met de andere voorbeelden doen. Je weet dan wel zeker dat je het goed hebt.\n",
    "    * Op het tentamen mag je ook programmeren.....\n"
   ]
  },
  {
   "cell_type": "markdown",
   "metadata": {},
   "source": [
    "2.2 Recall that unless otherwise specified, the length of a path is the number of links contained therein. Given two nodes in an arbitrary undirected, connected graph, there must exist some shortest path between them. True or False: There may exist multiple such shortest paths.\n",
    "\n",
    "    True\n",
    "    \n",
    "2.3 True or False: Given any two nodes in an (undirected) tree, there exists exactly one path between those two nodes.\n",
    "\n",
    "    True\n",
    "    \n",
    "2.4 Consider an undirected, connected network with N nodes. What is the minimum number of links the network can have? If we do not require the network to be connected, does that minimum number of links change?\n",
    "\n",
    "    Het minimum aantal links die het netwerk kan hebben is N - 1. Als het netwerk niet verbonden hoeft te zijn, betekent dit dat niet elke knoop via een of ander pad bij elke andere knoop kan komen. Dit betekent dat er paden, en daarmee links, kunnen missen. Hierdoor verandert het minimum aantal links.\n",
    "    \n",
    "2.5 Recall that a tree of N nodes contains N — 1 links. True or False: Any connected, undirected network of N nodes and N — 1 links must be a tree.\n",
    "\n",
    "    False\n",
    "    \n",
    "2.6 True or False: Any undirected network of N nodes with at least N links must contain a cycle.\n",
    "\n",
    "    True\n",
    "    \n",
    "2.7 True or False: Any directed network of N nodes with at least N links must contain a cycle.\n",
    "\n",
    "    False\n",
    "\n",
    "2.8 Consider the network defined by the adjacency matrix in Eq. (1.11). Are there any cycles in this network? Is it strongly connected? Weakly connected?"
   ]
  },
  {
   "cell_type": "code",
   "execution_count": null,
   "metadata": {},
   "outputs": [],
   "source": [
    "D = nx.DiGraph()\n",
    "D.add_weighted_edges_from([('A', 'B', 1), \n",
    "              ('B', 'C', 2),\n",
    "              ('D', 'B', 1),\n",
    "              ('D', 'E', 1),\n",
    "              ('E', 'F', 1),\n",
    "              ('F', 'A', 2),\n",
    "              ('F', 'B', 1),\n",
    "              ('F', 'C', 3),\n",
    "              ('F', 'D', 1),\n",
    "              ('F', 'E', 1)])\n",
    "\n",
    "nx.draw(D, with_labels=True)\n",
    "\n",
    "any_cycles = list(nx.find_cycle(D)) # [('D', 'E'), ('E', 'F'), ('F', 'D')]\n",
    "# Ja, er bevindt zich een cycle in dit netwerk\n",
    "\n",
    "nx.is_strongly_connected(D) # False\n",
    "# Nee, het netwerk is niet strongly connected\n",
    "\n",
    "nx.is_weakly_connected(D) # True\n",
    "# Ja, het netwerk is weakly connected"
   ]
  },
  {
   "cell_type": "markdown",
   "metadata": {},
   "source": [
    "2.9 Consider the unweighted, undirected version of the network defined by the adjacency matrix in Eq. (1.11). Is this network a tree?"
   ]
  },
  {
   "cell_type": "code",
   "execution_count": null,
   "metadata": {},
   "outputs": [],
   "source": [
    "G = nx.to_undirected(D)\n",
    "\n",
    "for node1, node2, weight in G.edges(data=True):\n",
    "    del weight\n",
    "\n",
    "nx.draw(G, with_labels=True)\n",
    "\n",
    "nx.is_tree(G) # False\n",
    "# Nee, het netwerk is geen tree"
   ]
  },
  {
   "cell_type": "markdown",
   "metadata": {},
   "source": [
    "2.10 Consider the unweighted, undirected version of the network defined by the adjacency matrix in Eq. (1.11). What is this network’s diameter?"
   ]
  },
  {
   "cell_type": "code",
   "execution_count": null,
   "metadata": {},
   "outputs": [],
   "source": [
    "nx.diameter(G)"
   ]
  },
  {
   "cell_type": "markdown",
   "metadata": {},
   "source": [
    "2.11 If you convert a weakly connected directed network to an undirected network, will the resulting network be connected? Explain why or why not.\n",
    "\n",
    "    Een weakly connected directed network bevat gerichte pijlen, maar worden verwaarloosd waardoor het netwerk verbonden wordt. Dit kan dus worden gezien als een ongericht netwerk. Aangezien het al eerder weakly verbonden was, is het netwerk als een ongericht netwerk ook verbonden.\n",
    "    \n",
    "2.12 Consider an arbitrary non-complete undirected network. Now add a single link. How has the number of nodes in this network’s giant component changed as a result of this addition?\n",
    "a. It has strictly decreased\n",
    "b. It has decreased or stayed the same\n",
    "c. It has increased or stayed the same\n",
    "d. It has strictly increased\n",
    "\n",
    "    c\n",
    "\n",
    "2.13 Consider the weighted directed network in Figure 2.13. Which of the following most accurately describes the connectedness of this network?\n",
    "a. Strongly connected\n",
    "b. Weakly connected\n",
    "c. Disconnected\n",
    "d. None of the above\n",
    "\n",
    "    b"
   ]
  },
  {
   "cell_type": "code",
   "execution_count": null,
   "metadata": {},
   "outputs": [],
   "source": [
    "D = nx.DiGraph()\n",
    "D.add_weighted_edges_from([('A', 'C', 6), ('A', 'B', 2), ('B', 'C', 1), ('C', 'E', 3), ('B', 'D', 9), ('E', 'D', 2), ('B', 'F', 11), ('D', 'F', 2)])\n",
    "\n",
    "pos = nx.spring_layout(D)\n",
    "nx.draw(G, pos, with_labels=True)\n",
    "my_edge_labels = {(u, v): d for u, v, d in G.edges(data=True)}\n",
    "\n",
    "nx.draw_networkx_edge_labels(G, pos, edge_labels=my_edge_labels)"
   ]
  },
  {
   "cell_type": "markdown",
   "metadata": {},
   "source": [
    "2.14 Consider the weighted directed network in Figure 2.13. What is the in-strength of node D? What is the out-strength of node C? (Recall the definitions from Chapter 1.)"
   ]
  },
  {
   "cell_type": "code",
   "execution_count": null,
   "metadata": {},
   "outputs": [],
   "source": [
    "D.in_degree('D', weight='weight') # 11\n",
    "D.out_degree('C', weight='weight') # 3"
   ]
  },
  {
   "cell_type": "markdown",
   "metadata": {},
   "source": [
    "2.15 How many nodes are in the largest strongly connected component of the network in Figure 2.13?"
   ]
  },
  {
   "cell_type": "code",
   "execution_count": null,
   "metadata": {},
   "outputs": [],
   "source": [
    "max(nx.strongly_connected_components(D), key=len)"
   ]
  },
  {
   "cell_type": "markdown",
   "metadata": {},
   "source": [
    "2.16 Consider the network in Figure 2.14. Which of the following most accurately describes the connectedness of this network?\n",
    "a. Strongly connected\n",
    "b. Weakly connected\n",
    "c. Disconnected\n",
    "d. None of the above\n",
    "\n",
    "    b\n",
    "\n",
    "2.17 Link weights can represent anything about the relationship between the nodes: strength of the relationship, geographic distance, voltage flowing through a link cable, etc. When discussing path lengths on a weighted graph, one must first define how the weights are related to the distances. The length of a path between two nodes is then the sum of the distances of the links in that path. The simplest case occurs when the link weights represent the distance. Consider the network in Figure 2.14 and assume that the link weights represent distances. Using this distance metric, what is the shortest path between nodes 1 and 6?"
   ]
  },
  {
   "cell_type": "code",
   "execution_count": null,
   "metadata": {},
   "outputs": [],
   "source": [
    "D = nx.DiGraph()\n",
    "D.add_weighted_edges_from([(1, 2, 0.8), (1, 3, 0.6), (2, 4, 0.9), (3, 5, 0.5), (4, 5, 0.8), (4, 6, 0.3), (5, 6, 0.95)])\n",
    "\n",
    "nx.draw(D, with_labels=True)\n",
    "\n",
    "nx.shortest_path(D, 1, 6, 'weight')"
   ]
  },
  {
   "cell_type": "markdown",
   "metadata": {},
   "source": [
    "2.18 A common way to define the distance between two nodes is the inverse (or reciprocal) of the link weight. Consider the network in Figure 2.14, and assume that the distance between two adjacent nodes is defined as the reciprocal of the link weight. Using this distance metric, what is the shortest path between nodes 1 and 6?"
   ]
  },
  {
   "cell_type": "code",
   "execution_count": null,
   "metadata": {},
   "outputs": [],
   "source": [
    "for node1, node2, data in D.edges(data=True):\n",
    "    data['weight'] = 1 / data['weight']\n",
    "\n",
    "nx.shortest_path(D, 1, 6, 'weight')"
   ]
  },
  {
   "cell_type": "markdown",
   "metadata": {},
   "source": [
    "2.19 Consider the network in Figure 2.15. Which of the following is the best estimate of this network’s diameter?\n",
    "a. 2\n",
    "b. 4\n",
    "c. 10\n",
    "d. 20\n",
    "    \n",
    "    c\n",
    "\n",
    "2.20 Consider the network in Figure 2.15. Which of the following is the best estimate for the average clustering coefficient of this graph?\n",
    "a. 0.05\n",
    "b. 0.5\n",
    "c. 0.75\n",
    "d. 0.95\n",
    "\n",
    "    a\n",
    "\n",
    "2.21 Would a social network be likely to have the diameter and clustering coefficient of the graph in Figure 2.15?\n",
    "\n",
    "    Nee\n",
    "\n",
    "2.22 Consider the network in Figure 2.16. Which of the following most accurately describes the connectedness of this network?\n",
    "a. Strongly connected\n",
    "b. Weakly connected\n",
    "\n",
    "    a\n",
    "\n",
    "2.23 What is the diameter of the network in Figure 2.16?"
   ]
  },
  {
   "cell_type": "code",
   "execution_count": null,
   "metadata": {},
   "outputs": [],
   "source": [
    "D = nx.DiGraph()\n",
    "D.add_edges_from([(1, 2), (1, 4), (2, 4), (2, 5), (3, 1), (4, 3), (4, 6), (4, 7), (4, 5), (5, 7), (6, 3), (7, 6)])\n",
    "\n",
    "nx.diameter(D)"
   ]
  },
  {
   "cell_type": "markdown",
   "metadata": {},
   "source": [
    "2.24 Consider an undirected version of the network in Figure 2.16. What is the diameter of this network?"
   ]
  },
  {
   "cell_type": "code",
   "execution_count": null,
   "metadata": {},
   "outputs": [],
   "source": [
    "G = nx.Graph(D)\n",
    "\n",
    "nx.diameter(G)"
   ]
  },
  {
   "cell_type": "markdown",
   "metadata": {},
   "source": [
    "2.25 Consider any arbitrary directed graph D along with its undirected version G. True or False: If the average shortest-path length and diameter of the directed graph exist, they can be smaller than those of the undirected version."
   ]
  },
  {
   "cell_type": "code",
   "execution_count": null,
   "metadata": {},
   "outputs": [],
   "source": [
    "print(nx.average_shortest_path_length(D))\n",
    "print(nx.average_shortest_path_length(G))"
   ]
  },
  {
   "cell_type": "markdown",
   "metadata": {},
   "source": [
    "    False\n",
    "\n",
    "2.26 Imagine that you were building a competitor of NetworkX. You have already written a method shortest_path() to compute the shortest path between two nodes, and now you want to write a function to compute the diameter of a network. Which of the following best describes how to go about doing this?\n",
    "a. First compute the shortest-path lengths between each pair of nodes. The diameter is the minimum of these values\n",
    "b. First compute the shortest-path lengths between each pair of nodes. The diameter is the average of these values\n",
    "c. First compute the shortest-path lengths between each pair of nodes. The diameter is the maximum of these values\n",
    "d. First compute the average length of all paths between each pair of nodes. The diameter is the minimum of these values\n",
    "\n",
    "    c\n",
    "\n",
    "2.27 True or False: A network’s diameter is always greater than or equal to its average path length.\n",
    "\n",
    "    False\n",
    "\n",
    "2.28 What is the central idea behind the notion of “six degrees of separation’?\n",
    "a. Social networks have high clustering coefficients\n",
    "b. Social networks are sparse\n",
    "c. Social networks have many high-degree nodes\n",
    "d. Social networks have small average path length\n",
    "\n",
    "    a\n",
    "\n",
    "2.29 The American Mathematical Society has a Web tool to find the collaboration distance between two mathematicians (see Box 2.3). Use this tool to calculate the Erdös number for a few mathematicians in your institution, or whom you know by fame.\n",
    "    \n",
    "    Maarten Marx: 2\n",
    "    Balder ten Cate: 3\n",
    "\n",
    "2.30 Use The Oracle of Bacon (oracleofbacon.org) to measure the shortest-path distance in the co-star network among as many pairs of obscure actors and actresses as you can think of. Plot a histogram showing the distribution of the shortest-path lengths, and also estimate the average path length based on your sample. (If you are not familiar with histograms, they are defined in the next chapter.)\n",
    "\n",
    "    Leonardo DiCaprio: 2\n",
    "    Tom Cruise: 1\n",
    "    Johnny Depp: 1\n",
    "    Will Smith: 2\n",
    "    Tom Hanks: 1\n",
    "    Tom Holland: 2\n",
    "    Zendaya: 2\n",
    "    Julia Roberts: 1\n",
    "    Angelina Jolie: 2\n",
    "    Brad Pitt: 1\n",
    "    Ian Somerhalder: 2\n",
    "    Paul Wesley: 2\n",
    "    Nina Dobrev: 2\n",
    "    Ariana Grande: 2"
   ]
  },
  {
   "cell_type": "code",
   "execution_count": null,
   "metadata": {},
   "outputs": [],
   "source": [
    "shortest_path_lenghts = [2, 1, 1, 2, 1, 2, 2, 1, 2, 1, 2, 2, 2, 2]\n",
    "\n",
    "plt.hist(shortest_path_lenghts)\n",
    "plt.xlabel('shortest path lengths')\n",
    "plt.ylabel('frequency')\n",
    "plt.show()\n",
    "\n",
    "average_path_length = sum(shortest_path_lenghts) / (len(shortest_path_lenghts) * (len(shortest_path_lenghts) - 1))\n",
    "print(average_path_length)"
   ]
  },
  {
   "cell_type": "markdown",
   "metadata": {},
   "source": [
    "2.31 Play The Wiki Game (thewikigame.com) until you are able to complete a few rounds successfully. Report the average length (number of clicks) of the discovered paths.\n",
    "\n",
    "    5\n",
    "\n",
    "2.32 What is the maximum clustering coefficient for a node in an arbitrary undirected graph?\n",
    "\n",
    "    1\n",
    "    \n",
    "2.33 What is the maximum clustering coefficient for a node ina tree?\n",
    "\n",
    "    0\n",
    "    \n",
    "2.34 Recall the definition of an ego network in Section 1.4. Consider the ego network in Figure 2.17: what is the clustering coefficient of the ego?\n",
    "\n",
    "    0,5\n",
    "    \n",
    "2.35 Consider the undirected network in Figure 2.4. Compute the shortest-path length for each pair of nodes in the giant component."
   ]
  },
  {
   "cell_type": "code",
   "execution_count": null,
   "metadata": {},
   "outputs": [],
   "source": [
    "G = nx.Graph()\n",
    "G.add_edges_from([(1, 2), (2, 3), (2, 4), (3, 4), (4, 5), (4, 6), (4, 7), (4, 8)])\n",
    "dict(nx.shortest_path_length(G))"
   ]
  },
  {
   "cell_type": "markdown",
   "metadata": {},
   "source": [
    "2.36 Consider the undirected network in Figure 2.4. Compute the clustering coefficient for each node such that it is defined."
   ]
  },
  {
   "cell_type": "code",
   "execution_count": null,
   "metadata": {},
   "outputs": [],
   "source": [
    "nx.clustering(G)"
   ]
  },
  {
   "cell_type": "markdown",
   "metadata": {},
   "source": [
    "2.37 Consider the network example in Figure 2.12. Compute the shortest-path length for each pair of nodes, and the average shortest-path length for the network."
   ]
  },
  {
   "cell_type": "code",
   "execution_count": null,
   "metadata": {},
   "outputs": [],
   "source": [
    "G = nx.Graph()\n",
    "G.add_edges_from([('d', 'e'), ('e', 'c'), ('e', 'b'), ('c', 'b'), ('c', 'g'), ('b', 'h'), ('b', 'g'), ('g', 'f'), ('g', 'a'), ('f', 'a')])\n",
    "\n",
    "print(dict(nx.shortest_path_length(G)))\n",
    "nx.average_shortest_path_length(G)"
   ]
  },
  {
   "cell_type": "markdown",
   "metadata": {},
   "source": [
    "2.38 Consider the network example in Figure 2.12. Compute the clustering coefficient for each node such that it is defined, and for the network."
   ]
  },
  {
   "cell_type": "code",
   "execution_count": null,
   "metadata": {},
   "outputs": [],
   "source": [
    "nx.clustering(G)"
   ]
  },
  {
   "cell_type": "markdown",
   "metadata": {},
   "source": [
    "2.39 If you use an online social network such as Facebook or LinkedIn, measure your clustering coefficient in the network. (Hint: If you use a social network with directed links, such as Twitter or Instagram, you can treat the links as undirected.) (Hint 2: This might take a while; it’s okay to make an estimate based on a small sample of your friends.)\n",
    "    \n",
    "2.40 Which of the following seemingly conflicting properties are true of social networks?\n",
    "a. Social networks have short paths, yet large diameter\n",
    "b. Social networks have small diameter, yet large average path length\n",
    "c. Social networks have many high-degree nodes, yet are disconnected\n",
    "d. Social networks are highly clustered, yet are not dense\n",
    "\n",
    "    a\n",
    "\n",
    "2.41"
   ]
  },
  {
   "cell_type": "markdown",
   "metadata": {
    "deletable": false,
    "editable": false,
    "nbgrader": {
     "cell_type": "markdown",
     "checksum": "c3cd2d5db6b5d0ab92840469a8e21025",
     "grade": false,
     "grade_id": "cell-ae0fcadf14a75a90",
     "locked": true,
     "schema_version": 3,
     "solution": false
    }
   },
   "source": [
    "# Deel 2: Easley & Kleinberg Chapter 13\n",
    "\n",
    "De volgende vragen hebben betrekking op [hoofdstuk 13 van Easley and Kleinberg](http://www.cs.cornell.edu/home/kleinber/networks-book/networks-book-ch13.pdf). Hieronder staat de networkx graaf gebaseerd op figuur 13.8, pas deze vooral aan om te zorgen dat je functies altijd werken."
   ]
  },
  {
   "cell_type": "code",
   "execution_count": null,
   "metadata": {},
   "outputs": [],
   "source": [
    "EK = nx.DiGraph()\n",
    "EK.add_edges_from([(6, 2), (6, 7), (7, 8), (11, 7), (1, 8), (12, 13), (8, 13),\n",
    "                   (18, 13), (15, 18), (15, 14), (13, 14), (14, 9), (9, 3),\n",
    "                   (3, 8), (4, 1), (4, 5), (5, 10), (16, 10), (17, 16), (15,\n",
    "                                                                         16),\n",
    "                   (9, 4), (9, 15)])\n",
    "\n",
    "nx.draw_circular(EK, with_labels=True)"
   ]
  },
  {
   "cell_type": "markdown",
   "metadata": {
    "deletable": false,
    "editable": false,
    "nbgrader": {
     "cell_type": "markdown",
     "checksum": "f610273f52edb18f694553d342d532fc",
     "grade": false,
     "grade_id": "Vraag5",
     "locked": true,
     "schema_version": 3,
     "solution": false
    }
   },
   "source": [
    "## Vraag 5\n",
    "\n",
    "* Maak een functie `find_SCC` die gegeven een gerichte graaf een set teruggeeft met daarin alle nodes die behoren tot de grootste SCC (strongly connected component).\n",
    "\n",
    "* Maak een functie `find_IN` die gegeven een gerichte graaf een set teruggeeft met daarin alle nodes die behoren tot de IN (dat zijn alle knopen met een pad naar de SCC, maar vanuit de SCC kan je niet naar die knopen komen).\n",
    "\n",
    "* Maak een functie `find_OUT` die gegeven een gerichte graaf een set teruggeeft met daarin alle nodes die behoren tot de OUT (ja, dit snap je nu zelf wel hoop ik)."
   ]
  },
  {
   "cell_type": "code",
   "execution_count": null,
   "metadata": {
    "deletable": false,
    "nbgrader": {
     "cell_type": "code",
     "checksum": "191fd6deb27bb8813528d9e742b6a273",
     "grade": false,
     "grade_id": "Vraag5_antwoord",
     "locked": false,
     "schema_version": 3,
     "solution": true
    }
   },
   "outputs": [],
   "source": [
    "def find_SCC(G):\n",
    "    \"Geeft de set van nodes terug die tot de grootste SCC behoren\"\n",
    "    scc = max([c for c in nx.strongly_connected_components(G)], key=len)\n",
    "    \n",
    "    return set(scc)\n",
    "    \n",
    "def find_OUT(G):\n",
    "    \"Geeft de set met alle nodes die behoren tot de OUT\"\n",
    "    scc = find_SCC(G)\n",
    "    list_OUT = []\n",
    "    for node in G:\n",
    "        if node not in scc:\n",
    "            for s in scc:\n",
    "                if G.has_edge(s, node) and not G.has_edge(node, s):\n",
    "                    list_OUT.append(node)           \n",
    "    return set(list_OUT)\n",
    "    \n",
    "def find_IN(G):\n",
    "    \"Geeft de set met alle nodes die behoren tot de IN\"\n",
    "    scc = find_SCC(G)\n",
    "    list_IN = []\n",
    "    for node in G:\n",
    "        if node not in scc:\n",
    "            for s in scc:\n",
    "                if G.has_edge(node, s) and not G.has_edge(s, node):\n",
    "                    list_IN.append(node)\n",
    "    return set(list_IN)\n",
    "            \n",
    "    \n",
    "# even testen op figuur 13.8 uit het boek\n",
    "find_SCC(EK), find_IN(EK), find_OUT(EK)"
   ]
  },
  {
   "cell_type": "code",
   "execution_count": null,
   "metadata": {
    "deletable": false,
    "editable": false,
    "nbgrader": {
     "cell_type": "code",
     "checksum": "245ee2788742fa97ee724d3ff6cc120c",
     "grade": true,
     "grade_id": "cell-dfc21dad8b2e3906",
     "locked": true,
     "points": 1,
     "schema_version": 3,
     "solution": false
    }
   },
   "outputs": [],
   "source": [
    "assert_equal(type(find_SCC(EK)), set)\n",
    "assert_equal(type(find_OUT(EK)), set)\n",
    "assert_equal(type(find_IN(EK)), set)\n",
    "assert find_SCC(EK).issubset(EK.nodes())\n",
    "assert find_IN(EK).issubset(EK.nodes())\n",
    "assert find_OUT(EK).issubset(EK.nodes())"
   ]
  },
  {
   "cell_type": "code",
   "execution_count": null,
   "metadata": {
    "deletable": false,
    "editable": false,
    "nbgrader": {
     "cell_type": "code",
     "checksum": "54da9fb31be5d0ec71d01a2738d499f6",
     "grade": false,
     "grade_id": "effetekeken",
     "locked": true,
     "schema_version": 3,
     "solution": false
    }
   },
   "outputs": [],
   "source": [
    "# resultaat graaf tekenen\n",
    "def draw_web(G):\n",
    "    pos = nx.spring_layout(G)\n",
    "    nx.draw(G, pos, with_labels=True)\n",
    "    color = sns.color_palette(\"hls\", 7)\n",
    "    #tubes = find_tubes(G)\n",
    "    legenda = [\n",
    "        'SCC', 'IN', 'OUT', ] #'Tendrils (IN)', 'Tendrils (OUT)', 'Tubes','Disconnected' ]\n",
    "    listofnodes = [\n",
    "        find_SCC(G),\n",
    "        find_IN(G),\n",
    "        find_OUT(G),\n",
    "        #find_tendrils_IN(G) - tubes,\n",
    "        #find_tendrils_OUT(G) - tubes, tubes,\n",
    "        #find_disconnected(G)\n",
    "    ]\n",
    "    for n, (label, nodes, c) in enumerate(zip(legenda, listofnodes, color)):\n",
    "        nx.draw_networkx_nodes(\n",
    "            G, pos, nodelist=nodes, node_color=[c], label=label)\n",
    "    nx.draw_networkx_edges(G, pos)\n",
    "    plt.legend()\n",
    "    plt.axis('off')\n",
    "    plt.show()\n",
    "\n",
    "\n",
    "draw_web(EK)"
   ]
  },
  {
   "cell_type": "markdown",
   "metadata": {
    "deletable": false,
    "editable": false,
    "nbgrader": {
     "cell_type": "markdown",
     "checksum": "bd685f7e5fd16e24ca3c73a12727ce07",
     "grade": false,
     "grade_id": "cell-95b4711170570158",
     "locked": true,
     "schema_version": 3,
     "solution": false
    }
   },
   "source": [
    "# Deel 3: Clustering coëfficiënt"
   ]
  },
  {
   "cell_type": "code",
   "execution_count": null,
   "metadata": {
    "deletable": false,
    "editable": false,
    "nbgrader": {
     "cell_type": "code",
     "checksum": "d61770c0657feecfe12f51df02d3ea07",
     "grade": false,
     "grade_id": "cell-8d854694d33681cd",
     "locked": true,
     "schema_version": 3,
     "solution": false
    }
   },
   "outputs": [],
   "source": [
    "G = nx.karate_club_graph()\n",
    "\n",
    "nx.draw(G, with_labels=True)"
   ]
  },
  {
   "cell_type": "markdown",
   "metadata": {
    "deletable": false,
    "editable": false,
    "nbgrader": {
     "cell_type": "markdown",
     "checksum": "1c45e2c04831bf010b62531c5719a843",
     "grade": false,
     "grade_id": "cell-b450fc2005c44646",
     "locked": true,
     "schema_version": 3,
     "solution": false
    }
   },
   "source": [
    "## Vraag 3.1\n",
    "Maak een functie `clusteringcoefficient(G)` die een graaf accepteert als input, en voor alle knopen de clusteringcoëfficiënt ([Sectie 3.1 E&amp;K](http://www.cs.cornell.edu/home/kleinber/networks-book/networks-book-ch03.pdf)) berekent.\n",
    "                \n",
    "<strong>Bereken dit zelf, gebruik geen NetworkX functie die dit al doet zoals `clustering` en `average_clustering`. </strong> Je mag natuurlijk wel NetworkX handigheidjes als `G.neighbors(v)` gebruiken.\n",
    "\n",
    "Als output krijg je een dict  met de knopen van `G` als sleutels en de clustering coeffiecient van die knoop als bijbehorende waarde.   Geef waarde 0 als een knoop degree 1 heeft.\n",
    "\n",
    "\n",
    "De verwachte output voor deze graaf is 1 voor knoop 7 en 2/3 voor knoop 3 en 0 voor knoop 11. etc. \n",
    "  "
   ]
  },
  {
   "cell_type": "code",
   "execution_count": null,
   "metadata": {
    "deletable": false,
    "nbgrader": {
     "cell_type": "code",
     "checksum": "718d0a6a1e967247189d58e38e1ad5c4",
     "grade": false,
     "grade_id": "Vraag7",
     "locked": false,
     "schema_version": 3,
     "solution": true
    }
   },
   "outputs": [],
   "source": [
    "def clusteringcoefficient(G):\n",
    "    \"Geeft een dict die per knoop de clustering coefficient aangeeft\"\n",
    "    cc_dict = {}\n",
    "    for node in G:\n",
    "        degree = len(list(G.neighbors(node)))\n",
    "        if degree >= 2:\n",
    "            links = 0\n",
    "            for i in G.neighbors(node):\n",
    "                for j in G.neighbors(node):\n",
    "                    if G.has_edge(i, j):\n",
    "                        links += 1     \n",
    "            cc_dict[node] = 2 * (links / 2) / (degree * (degree - 1))           \n",
    "        else:\n",
    "            cc_dict[node] = 0\n",
    "            \n",
    "    return cc_dict\n",
    "                        \n",
    "        \n",
    "# even er een mooi plotje van maken\n",
    "pd.Series(clusteringcoefficient(G)).sort_values().plot(kind='barh',figsize=(8,8))\n",
    "\n",
    "clusteringcoefficient(G)"
   ]
  },
  {
   "cell_type": "code",
   "execution_count": null,
   "metadata": {
    "deletable": false,
    "editable": false,
    "nbgrader": {
     "cell_type": "code",
     "checksum": "5aadb518f38038de27a6bd9911a54521",
     "grade": true,
     "grade_id": "Vraag7_antwoord",
     "locked": true,
     "points": 1,
     "schema_version": 3,
     "solution": false
    }
   },
   "outputs": [],
   "source": [
    "assert isinstance(clusteringcoefficient(G), dict)\n",
    "for n in clusteringcoefficient(G):\n",
    "    assert n in G\n",
    "    assert isinstance(clusteringcoefficient(G)[n],float)"
   ]
  },
  {
   "cell_type": "markdown",
   "metadata": {
    "deletable": false,
    "editable": false,
    "nbgrader": {
     "cell_type": "markdown",
     "checksum": "189b9e10e4a9e87a71c1f4a67b7e1950",
     "grade": false,
     "grade_id": "311",
     "locked": true,
     "schema_version": 3,
     "solution": false
    }
   },
   "source": [
    "## Vraag 3.1.1\n",
    "\n",
    "Maak de functie `cc_nice(G, v)` nu nog een keer maar gebruik nu alleen maar `G.has_edge()` van networkx.\n",
    "Chack dat hij echt hetzelfde doet als je eerdere functie en als networkx clustering."
   ]
  },
  {
   "cell_type": "code",
   "execution_count": null,
   "metadata": {
    "deletable": false,
    "nbgrader": {
     "cell_type": "code",
     "checksum": "b62cfe1bbdb0025f33a5e754985e938a",
     "grade": true,
     "grade_id": "311a",
     "locked": false,
     "points": 1,
     "schema_version": 3,
     "solution": true
    }
   },
   "outputs": [],
   "source": [
    "def cc_nice(G, v):\n",
    "    \"Geeft een dict die per knoop de clustering coefficient aangeeft\"\n",
    "    cc_dict = {}\n",
    "    for node in G:\n",
    "        list_neighbors = []\n",
    "        degree = 0 \n",
    "        for s in G:\n",
    "            if node != s and G.has_edge(node, s):\n",
    "                list_neighbors.append(s)\n",
    "                degree += 1\n",
    "                \n",
    "        if degree >= 2:\n",
    "            links = 0 \n",
    "            for i in list_neighbors:\n",
    "                for j in list_neighbors:\n",
    "                    if i != j and G.has_edge(i, j):\n",
    "                        links += 1 \n",
    "            cc_dict[node] = 2 * (links / 2) / (degree * (degree - 1))                \n",
    "        else:\n",
    "            cc_dict[node] = 0\n",
    "            \n",
    "    return cc_dict\n",
    "\n",
    "# check dat de twee functies hetzelfde resultaat geven voor elke knoop op de karateclub\n",
    "all(clusteringcoefficient(G)==cc_nice(G,n) for n in G)"
   ]
  },
  {
   "cell_type": "markdown",
   "metadata": {
    "deletable": false,
    "editable": false,
    "nbgrader": {
     "cell_type": "markdown",
     "checksum": "8219de9166374b7a991ea3cd754abb1b",
     "grade": false,
     "grade_id": "312",
     "locked": true,
     "schema_version": 3,
     "solution": false
    }
   },
   "source": [
    "## Vraag 3.1.2\n",
    "\n",
    "Maak de functie `cc_nicer(G, v)` nu nog een keer maar gebruik nu alleen maar  `G.subgraph` en `nx.density` van networkx.\n",
    "Check dat hij echt hetzelfde doet als je eerdere functie en als networkx clustering."
   ]
  },
  {
   "cell_type": "code",
   "execution_count": null,
   "metadata": {
    "deletable": false,
    "nbgrader": {
     "cell_type": "code",
     "checksum": "4dac15e8c22de566c11721673cd4ca05",
     "grade": true,
     "grade_id": "312a",
     "locked": false,
     "points": 1,
     "schema_version": 3,
     "solution": true
    }
   },
   "outputs": [],
   "source": [
    "WRITE YOUR CODE HERE\n",
    "\n",
    "# check dat de twee functies hetzelfde resultaat geven voor elke knoop op de karateclub\n",
    "all(cc(G,n)==cc_nicer(G,n) for n in G)"
   ]
  },
  {
   "cell_type": "markdown",
   "metadata": {
    "deletable": false,
    "editable": false,
    "nbgrader": {
     "cell_type": "markdown",
     "checksum": "caa3bb823b03a5b915c0da357edc4c7b",
     "grade": false,
     "grade_id": "cell-6b5fd73845461425",
     "locked": true,
     "schema_version": 3,
     "solution": false
    }
   },
   "source": [
    "## Vraag 3.2\n",
    "\n",
    "2. Maak de functie  `is_complete(G)`  die `True` teruggeeft precies dan als het ongerichte netwerk  `G` een volledig netwerk is en `False` als dat niet het geval is.  Gebruik **alleen** de networkx functies `nx.number_of_nodes(G)` en `G.number_of_edges()`."
   ]
  },
  {
   "cell_type": "code",
   "execution_count": null,
   "metadata": {
    "deletable": false,
    "nbgrader": {
     "cell_type": "code",
     "checksum": "eda38f432c518075826d1525e8faded2",
     "grade": false,
     "grade_id": "Vraag8",
     "locked": false,
     "schema_version": 3,
     "solution": true
    }
   },
   "outputs": [],
   "source": [
    "def is_complete(G):\n",
    "    \"Geeft aan of een netwerk een volledig netwerk is of niet\"\n",
    "    total_edges = nx.number_of_nodes(G) * (nx.number_of_nodes(G) - 1) / 2\n",
    "    if nx.number_of_edges(G) == total_edges:\n",
    "        return True\n",
    "    else:\n",
    "        return False\n",
    "    \n",
    "is_complete(G)"
   ]
  },
  {
   "cell_type": "code",
   "execution_count": null,
   "metadata": {
    "deletable": false,
    "editable": false,
    "nbgrader": {
     "cell_type": "code",
     "checksum": "6fd00e0f3298f2edcb3ba54195097f5f",
     "grade": true,
     "grade_id": "Vraag8_antwoord",
     "locked": true,
     "points": 1,
     "schema_version": 3,
     "solution": false
    }
   },
   "outputs": [],
   "source": [
    "assert isinstance(is_complete(G), bool)"
   ]
  },
  {
   "cell_type": "code",
   "execution_count": null,
   "metadata": {},
   "outputs": [],
   "source": []
  }
 ],
 "metadata": {
  "anaconda-cloud": {},
  "hide_input": false,
  "kernelspec": {
   "display_name": "Python 3 (ipykernel)",
   "language": "python",
   "name": "python3"
  },
  "language_info": {
   "codemirror_mode": {
    "name": "ipython",
    "version": 3
   },
   "file_extension": ".py",
   "mimetype": "text/x-python",
   "name": "python",
   "nbconvert_exporter": "python",
   "pygments_lexer": "ipython3",
   "version": "3.9.12"
  },
  "toc": {
   "nav_menu": {},
   "number_sections": true,
   "sideBar": true,
   "skip_h1_title": false,
   "title_cell": "Table of Contents",
   "title_sidebar": "Contents",
   "toc_cell": false,
   "toc_position": {},
   "toc_section_display": true,
   "toc_window_display": false
  },
  "varInspector": {
   "cols": {
    "lenName": 16,
    "lenType": 16,
    "lenVar": 40
   },
   "kernels_config": {
    "python": {
     "delete_cmd_postfix": "",
     "delete_cmd_prefix": "del ",
     "library": "var_list.py",
     "varRefreshCmd": "print(var_dic_list())"
    },
    "r": {
     "delete_cmd_postfix": ") ",
     "delete_cmd_prefix": "rm(",
     "library": "var_list.r",
     "varRefreshCmd": "cat(var_dic_list()) "
    }
   },
   "types_to_exclude": [
    "module",
    "function",
    "builtin_function_or_method",
    "instance",
    "_Feature"
   ],
   "window_display": false
  }
 },
 "nbformat": 4,
 "nbformat_minor": 1
}

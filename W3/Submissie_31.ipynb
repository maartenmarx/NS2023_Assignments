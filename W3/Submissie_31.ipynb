{
 "cells": [
  {
   "cell_type": "markdown",
   "metadata": {},
   "source": [
    "# Assignment Netwerkanalyse"
   ]
  },
  {
   "cell_type": "markdown",
   "metadata": {
    "nbgrader": {
     "grade": false,
     "grade_id": "privacy",
     "locked": false,
     "schema_version": 3,
     "solution": false
    }
   },
   "source": [
    "## Notebook made by\n",
    "\n",
    "**Gebruik graag dit formaat**\n",
    "\n",
    "* Voor de namen:  voornaam rest van je naam, voornaam rest van je naam,....\n",
    "* je studentnummers: hetzelfde: scheidt met `,`\n",
    "* je emails: hetzelfde: scheidt met `,`\n",
    "* voor je groep: alleen de hoofdletter (dus voor de groep van Marx zou je `A` kiezen)\n",
    "\n",
    "__Namen__:Anoniem",
    "\n",
    "__Emails__:Anoniem",
    "\n",
    "__Student id__:Anoniem",
    "\n",
    "__Groep__:Anoniem"
   ]
  },
  {
   "cell_type": "markdown",
   "metadata": {},
   "source": [
    "## Toelichting\n",
    "\n",
    "* De meeste opgaven worden automatisch nagekeken. Bij vrijwel alle opdrachten staan er een paar tests onder de opdracht, dit is voornamelijk om te zorgen dat je de juiste type output geeft. Dit zijn dus *NIET* alle tests, die komen er bij het graden nog bij.\n",
    "* Elke vraag is 1 punt waard, tenzij anders aangegeven. Soms is die punt onderverdeeld in deelpunten, maar niet altijd. \n",
    "\n",
    "## Voor het inleveren!\n",
    "\n",
    "* Pas niet de cellen aan, vooral niet die je niet kunt editen. Dit levert problemen op bij nakijken. Twijfel je of je per ongeluk iets hebt gewijzigd, kopieer dan bij inleveren je antwoorden naar een nieuw bestand, zodat het niet fout kan gaan.\n",
    "\n",
    "* Zorg dat de code goed runt van boven naar beneden, verifieer dat door boven in Kernel -> Restart & Run All uit te voeren\n",
    "\n",
    "## Na het inleveren!\n",
    "\n",
    "* Het gebeurt erg vaak dat mensen een \"leeg bestand\" inleveren. Vaak een andere versie van de opgave die nog ergens op je computer rondslingerde. Zonde van al je werk toch!\n",
    "* Dus, lever **minstens een half uur voor tijd in**. Download dan wat je hebt ingeleverd op Canvas. Geef het een andere naam om verwarring te voorkomen. En draai alle cellen, en bekijk het. Geen syntax fouten? Alle vragen gemaakt? Dan zit het vast wel goed, en hoef je niet in de zenuwen te zitten."
   ]
  },
  {
   "cell_type": "markdown",
   "metadata": {
    "deletable": false,
    "editable": false,
    "nbgrader": {
     "cell_type": "markdown",
     "checksum": "27b833d29f4cd1960eba04349642d440",
     "grade": false,
     "grade_id": "cell-8f6836d234ef64f5",
     "locked": true,
     "schema_version": 3,
     "solution": false
    }
   },
   "source": [
    "# Week 3\n",
    "* Alle vragen zijn één punt waard"
   ]
  },
  {
   "cell_type": "code",
   "execution_count": null,
   "metadata": {
    "deletable": false,
    "editable": false,
    "nbgrader": {
     "cell_type": "code",
     "checksum": "77e15fa681cd9d2faf2c0f12268c795d",
     "grade": false,
     "grade_id": "cell-4f3994353ca96bd6",
     "locked": true,
     "schema_version": 3,
     "solution": false
    }
   },
   "outputs": [],
   "source": [
    "%matplotlib inline\n",
    "import networkx as nx\n",
    "import seaborn as sns\n",
    "import pandas as pd\n",
    "import matplotlib.pyplot as plt\n",
    "from nose.tools import assert_equal, assert_count_equal"
   ]
  },
  {
   "cell_type": "markdown",
   "metadata": {
    "deletable": false,
    "editable": false,
    "nbgrader": {
     "cell_type": "markdown",
     "checksum": "1af03db6ff4f800aee7cbf2e5d10c4b3",
     "grade": false,
     "grade_id": "cell-5862950de28616f9",
     "locked": true,
     "schema_version": 3,
     "solution": false
    }
   },
   "source": [
    "# Deel 1: First Course Chap 2\n",
    "\n",
    "* Maak vragen 1-40\n",
    "\n",
    "### Ook met programmeren\n",
    "\n",
    "* Check je antwoorden op vragen 8-11 door het gerichte netwerk te programmeren, en alle vragen ook te programmeren in Networkx.\n",
    "* Zet de netwerken in Fig 2-13 en 2.14 in Networkx, probeer ze ook zo mooi uit te printen (zie assignment week 2), en check je antwoorden op de vragen erover.\n",
    "* Als je het leuk vindt kan je dit ook met de andere voorbeelden doen. Je weet dan wel zeker dat je het goed hebt.\n",
    "    * Op het tentamen mag je ook programmeren.....\n"
   ]
  },
  {
   "cell_type": "code",
   "execution_count": null,
   "metadata": {},
   "outputs": [],
   "source": [
    "\"\"\"\n",
    "vragen van First Course Chap 2\n",
    "2.1 Heeft iedereen gedaan\n",
    "2.2. True\n",
    "\n",
    "2.3. True\n",
    "\n",
    "2.4. Het minimum aantal links dat een ongericht netwerk zou kunnen hebben is N-1. Als het netwerk niet verplicht verbonden moet zijn, dan is het minimale aantal verbindingen 0.\n",
    "\n",
    "2.5. True\n",
    "\n",
    "2.6. False\n",
    "\n",
    "2.7. True \n",
    "\n",
    "2.8. Het (undirected) netwerk in de adjacency matrix heeft een cycle (a - b - c - f - a) Het netwerk is niet sterk \n",
    "samenhangend omdat er geen pad is van e naar een andere knoop in het netwerk. Het netwerk is zwak samenhangend \n",
    "omdat we een pad kunnen vinden tussen elke twee nodes als we niet kijken naar de richting van de verbindingen. \n",
    "Als er een pad is tussen twee knooppunten in de ongerichte versie, is er altijd een pad tussen dezelfde twee knooppunten \n",
    "in de gerichte versie.\n",
    "\n",
    "2.9 Nee, dit netwerk is geen tree. Het is namelijk na het weghalen van bepaalde relatie nog mogelijk om die punten te \n",
    "bereiken. Als bijvoorbeeld de relatie tussen D en F weggehaald wordt, kan er nog steeds van D naar F worden gegaan via E. \n",
    "Daarnaast heeft het netwerk meer links dan N – 1.\n",
    "2.10. Diameter = 2\n",
    "2.11. Ja,  als een directed network weakly connected is betekent het dat het netwerk wel met met links aan elkaar zit, \n",
    "maar dat je door de directed links niet overal kan komen. Oftewel het netwerk is connected als het undirected zou zijn. \n",
    "Er wordt gevraag of een weakly connected netwerk dat naar een undirect netwerk wordt omgezet dan connected is. \n",
    "Dit is dus het geval.\n",
    "2.12 C\n",
    "2.13 B\n",
    "2.14 In-strength node D: \n",
    "    9 Out-strength node C: 3\n",
    "2.15 1 (volgens nx)\n",
    "2.16 B\n",
    "2.17. 1, 2, 4, 6\n",
    "2.18. 1, 2, 4, 5, 6\n",
    "2.19. C\n",
    "2.20. A\n",
    "2.21. Nee, aangezien deze waarden duiden op een netwerk dat zowel verspreid als ‘sparse’ is qua verbindingen. \n",
    "Een sociaal netwerk is heeft juist vaak connecties tussen verschillende neighbours waardoor het minder ‘sparse’ \n",
    "zou moeten zijn.\n",
    "2.22. A\n",
    "2.23. 3\n",
    "2.24. 2\n",
    "2.25 - True\n",
    "2.26 - D\n",
    "2.27 - False\n",
    "2.28 - A\n",
    "2.29 - Chris Zaal - Karen I. Aardal = 3\n",
    "    Paul Richard Halmos - \tJan-Pieter L. Dorsman =  4\n",
    "    Hessel B. Posthuma - Richard S. Hamilton = 4\n",
    "2.30 - Average path length = 3\n",
    "2.31 - 8 clicks \n",
    "2.32 - 1\n",
    "2.33 In a tree, the maximum clustering coefficient for a node is 0. In a tree, each node has at most one parent, which means that it is impossible for a node to have two neighbors that are also neighbors of each other. In other words, there are no triangles in a tree, and therefore the clustering coefficient of any node in a tree is always 0.\n",
    "\n",
    "2.34  The ego network of a node  is the subnetwork consisting of the chosen node called the ego- and its neighbors. Clustering coefficient = 0.3\n",
    "\n",
    "2.35  A, B, C, D, E, F, G, H\n",
    "\n",
    "A - B = 1\n",
    "A - B - C = 2\n",
    "A - B - D = 2\n",
    "A - B - D - E = 3\n",
    "A - B - D - F = 3\n",
    "A - B - D - F - G = 4\n",
    "A - B - D - F - H = 4\n",
    "\n",
    "B - C = 1\n",
    "B - D = 1\n",
    "B - D - E = 2\n",
    "B - D - F = 2\n",
    "B - D - F - G = 3\n",
    "B - D - F - H = 3\n",
    "\n",
    "C - D - E = 2\n",
    "C - D - F = 2\n",
    "C - D - F - G = 3\n",
    "C - D - F - H = 3\n",
    "\n",
    "D - B = 1\n",
    "D - C = 1\n",
    "D - E = 1\n",
    "D - F = 1\n",
    "D - F - G = 2\n",
    "D - F - H = 2\n",
    "\n",
    "F - G = 1\n",
    "\n",
    "2.36 Consider the undirected network in Figure 2.4. Compute the clustering coefficient for each node such that it is defined.\n",
    "\n",
    "Cc of A = 0\n",
    "Cc of B = 1/3\n",
    "Cc of C = 1\n",
    "Cc of D = 1/6\n",
    "Cc of E = 0\n",
    "Cc of F = 0\n",
    "Cc of G = 0\n",
    "Cc of H = 0\n",
    "\n",
    "2.37 Shortest-path:\n",
    "d - e = 1\n",
    "d - e - c = 2\n",
    "d - e - b = 2\n",
    "d - e - c - g = 3\n",
    "d - e - b - g = 3\n",
    "d - e - b - h = 3\n",
    "d - e - c/b - g - f = 4\n",
    "d - e - c/b - g - a = 4\n",
    "\n",
    "e - c = 1\n",
    "e - b = 1\n",
    "e - c - g = 2\n",
    "e - b - g = 2\n",
    "e - b - h = 2\n",
    "e - c/b - g - f = 3\n",
    "e - c/b - g - a = 3\n",
    "\n",
    "c - b = 1\n",
    "c - g = 1\n",
    "c - b - h = 2\n",
    "c - g - f = 2\n",
    "c - g - a = 2\n",
    "\n",
    "b - h = 1\n",
    "b - g = 1\n",
    "b - g - f = 2\n",
    "b - g - a = 2\n",
    "\n",
    "g - f = 1\n",
    "g - a = 1\n",
    "h - b - g = 2\n",
    "h - b - g - a = 3\n",
    "h - b - g - f = 3\n",
    "\n",
    "Network average shortest-path length (L):\n",
    "    n = 8\n",
    "    d_total = 60 \n",
    "    L = 1,071\n",
    "\n",
    "2.38 Cc of a = 1\n",
    "    Cc of b = ⅓\n",
    "    Cc of c = ⅔ \n",
    "    Cc of d = 0\n",
    "    Cc of e = ⅓ \n",
    "    Cc of f = 1\n",
    "    Cc of g = ⅓\n",
    "    Cc of h = 0\n",
    "\n",
    "2.39 My friends: Sofie, Lotte, Sanne, Cherissa, Mike, Niffyn\n",
    "    k  = 6\n",
    "    Sofie neighbours: me, Sanne and Cherissa\n",
    "    Lotte neighbors: me, Niffyn and Mike\n",
    "    E = 4\n",
    "    Cc =  4/15 \n",
    "\n",
    "2.40\n",
    "a. True\n",
    "b. False \n",
    "c. False\n",
    "d. True\n",
    "\n",
    "\"\"\""
   ]
  },
  {
   "cell_type": "code",
   "execution_count": null,
   "metadata": {},
   "outputs": [],
   "source": [
    "# hieronder de vragen die gecheckt moetsen worden met networkx\n",
    "FC = nx.DiGraph()\n",
    "nodes = ['A', 'B', 'C', 'D', 'E', 'F']\n",
    "edges = [('A', 'B'), ('B', 'C'), ('D', 'B'), ('D', 'E'), ('E', 'F'), ('F', 'A'), ('F', 'B'), ('F', 'C'), ('F', 'D'), ('F', 'E')]\n",
    "FC.add_nodes_from(nodes)\n",
    "FC.add_edges_from(edges)\n",
    "#nx.draw(FC, with_labels = True)\n",
    "# 2.08\n",
    "nx.find_cycle(FC)\n",
    "# geeft een cycle, dus de graph heeft een cycle\n",
    "nx.is_weakly_connected(FC)\n",
    "# nx.is_weakly_connected(FC) geeft true\n",
    "nx.is_strongly_connected(FC)\n",
    "# nx.is_strongly_connected(FC) geeft False\n",
    "# de graph is due weakly connected\n",
    "FC = FC.to_undirected(as_view=False)\n",
    "nx.draw(FC, with_labels = True)\n",
    "# 2.09\n",
    "# een tree heeft N - 1 links\n",
    "def is_tree(G) -> bool:\n",
    "    \"\"\" returns true als het een tree is\"\"\"\n",
    "    return G.number_of_edges() == G.number_of_nodes() - 1\n",
    "print(nx.is_tree(FC))\n",
    "# FC is doordat is_tree false geeft ook geen tree\n",
    "# 2.10\n",
    "# longest shortest path, nog uitzoeken\n",
    "nx.diameter(FC)\n",
    "# geeft 2 oftewel de diamter van FC is 2\n",
    "# 2.11\n",
    "WC = nx.DiGraph()\n",
    "nodes = [1, 2, 3, 4]\n",
    "edges = [(2,1), (1,3), (3,4), (4,1)]\n",
    "WC.add_nodes_from(nodes)\n",
    "WC.add_edges_from(edges)\n",
    "#nx.draw(WC, with_labels = True)\n",
    "nx.is_weakly_connected(WC)\n",
    "# geeft True\n",
    "WC = nx.to_undirected(WC)\n",
    "nx.is_connected(WC)\n",
    "# geeft ook true\n",
    "# Doordat networkx aangeeft dat de directed weakly connected is en na het undirected maken van het netwerk geeft networkx\n",
    "# dat het netwerk connected is betekent dit dat het eerder gegeven antwoord klopt."
   ]
  },
  {
   "cell_type": "code",
   "execution_count": null,
   "metadata": {},
   "outputs": [],
   "source": [
    "# Figuur 2.13\n",
    "TD = nx.DiGraph()\n",
    "nodes = ['A', 'B', 'C', 'D', 'E', 'F']\n",
    "TD.add_nodes_from(nodes)\n",
    "TD.add_edge(\"A\", \"B\", weight=2)\n",
    "TD.add_edge(\"A\", \"C\", weight=6)\n",
    "TD.add_edge(\"B\", \"F\", weight=11)\n",
    "TD.add_edge(\"B\", \"D\", weight=9)\n",
    "TD.add_edge(\"B\", \"C\", weight=1)\n",
    "TD.add_edge(\"C\", \"E\", weight=3)\n",
    "TD.add_edge(\"D\", \"F\", weight=2)\n",
    "TD.add_edge(\"E\", \"D\", weight=2)\n",
    "nx.draw(TD, with_labels = True)\n",
    "# vraag 2.13\n",
    "nx.is_weakly_connected(TD)\n",
    "# geeft True, dus het gegeven antwoord klopt.\n",
    "# vraag 2.14\n",
    "# vraag 2.15\n",
    "largest = max(nx.strongly_connected_components(TD), key=len)\n",
    "print(len(largest))"
   ]
  },
  {
   "cell_type": "code",
   "execution_count": null,
   "metadata": {},
   "outputs": [],
   "source": [
    "# figuur 2.14\n",
    "TF = nx.DiGraph()\n",
    "nodes = [1, 2, 3, 4, 5, 6]\n",
    "TF.add_nodes_from(nodes)\n",
    "TF.add_edge(1, 2, weight=0.8)\n",
    "TF.add_edge(1, 3, weight=0.6)\n",
    "TF.add_edge(2, 4, weight=0.9)\n",
    "TF.add_edge(3, 5, weight=0.5)\n",
    "TF.add_edge(4, 5, weight=0.8)\n",
    "TF.add_edge(4, 6, weight=0.3)\n",
    "TF.add_edge(5, 6, weight=0.95)\n",
    "#nx.draw(TF, with_labels = True)\n",
    "# vraag 2.16\n",
    "nx.is_weakly_connected(TF)\n",
    "# geeft treu, dus is figuur 2.14 weakly connected en daarmee is ons antwoord goed.\n",
    "# 2.17\n",
    "nx.shortest_path(TF, 1, 6)\n",
    "# 2.18\n",
    "# zelfde netwerk met inverse gewicht\n",
    "TT = nx.DiGraph()\n",
    "nodes = [1, 2, 3, 4, 5, 6]\n",
    "TT.add_nodes_from(nodes)\n",
    "TT.add_edge(1, 2, weight=(0.8 ** -1))\n",
    "TT.add_edge(1, 3, weight=(0.6 ** -1))\n",
    "TT.add_edge(2, 4, weight=(0.9 ** -1))\n",
    "TT.add_edge(3, 5, weight=(0.5 ** -1))\n",
    "TT.add_edge(4, 5, weight=(0.8 ** -1))\n",
    "TT.add_edge(4, 6, weight=(0.3 ** -1))\n",
    "TT.add_edge(5, 6, weight=(0.95 ** -1))\n",
    "nx.draw(TT, with_labels = True)\n",
    "nx.shortest_path(TT, 1, 6)"
   ]
  },
  {
   "cell_type": "markdown",
   "metadata": {
    "deletable": false,
    "editable": false,
    "nbgrader": {
     "cell_type": "markdown",
     "checksum": "c3cd2d5db6b5d0ab92840469a8e21025",
     "grade": false,
     "grade_id": "cell-ae0fcadf14a75a90",
     "locked": true,
     "schema_version": 3,
     "solution": false
    }
   },
   "source": [
    "# Deel 2: Easley & Kleinberg Chapter 13\n",
    "\n",
    "De volgende vragen hebben betrekking op [hoofdstuk 13 van Easley and Kleinberg](http://www.cs.cornell.edu/home/kleinber/networks-book/networks-book-ch13.pdf). Hieronder staat de networkx graaf gebaseerd op figuur 13.8, pas deze vooral aan om te zorgen dat je functies altijd werken."
   ]
  },
  {
   "cell_type": "code",
   "execution_count": null,
   "metadata": {},
   "outputs": [],
   "source": [
    "EK = nx.DiGraph()\n",
    "EK.add_edges_from([(6, 2), (6, 7), (7, 8), (11, 7), (1, 8), (12, 13), (8, 13),\n",
    "                   (18, 13), (15, 18), (15, 14), (13, 14), (14, 9), (9, 3),\n",
    "                   (3, 8), (4, 1), (4, 5), (5, 10), (16, 10), (17, 16), (15,\n",
    "                                                                         16),\n",
    "                   (9, 4), (9, 15)])\n",
    "\n",
    "nx.draw_circular(EK, with_labels=True)"
   ]
  },
  {
   "cell_type": "markdown",
   "metadata": {
    "deletable": false,
    "editable": false,
    "nbgrader": {
     "cell_type": "markdown",
     "checksum": "f610273f52edb18f694553d342d532fc",
     "grade": false,
     "grade_id": "Vraag5",
     "locked": true,
     "schema_version": 3,
     "solution": false
    }
   },
   "source": [
    "## Vraag 5\n",
    "\n",
    "* Maak een functie `find_SCC` die gegeven een gerichte graaf een set teruggeeft met daarin alle nodes die behoren tot de grootste SCC (strongly connected component).\n",
    "\n",
    "* Maak een functie `find_IN` die gegeven een gerichte graaf een set teruggeeft met daarin alle nodes die behoren tot de IN (dat zijn alle knopen met een pad naar de SCC, maar vanuit de SCC kan je niet naar die knopen komen).\n",
    "\n",
    "* Maak een functie `find_OUT` die gegeven een gerichte graaf een set teruggeeft met daarin alle nodes die behoren tot de OUT (ja, dit snap je nu zelf wel hoop ik)."
   ]
  },
  {
   "cell_type": "code",
   "execution_count": null,
   "metadata": {
    "deletable": false,
    "nbgrader": {
     "cell_type": "code",
     "checksum": "191fd6deb27bb8813528d9e742b6a273",
     "grade": false,
     "grade_id": "Vraag5_antwoord",
     "locked": false,
     "schema_version": 3,
     "solution": true
    }
   },
   "outputs": [],
   "source": [
    "def find_SCC(G):\n",
    "    #WRITE YOUR CODE HERE\n",
    "    return max(nx.strongly_connected_components(G), key = len)\n",
    "\n",
    "def find_OUT(G):\n",
    "    #WRITE YOUR CODE HERE\n",
    "    empty_set = set()\n",
    "    for nodes in find_SCC(G):\n",
    "        for x in G:\n",
    "            if x not in find_SCC(G):\n",
    "                if nx.has_path(G, nodes, x):\n",
    "                    empty_set.add(x)\n",
    "    return empty_set\n",
    "\n",
    "def find_IN(G):\n",
    "    #WRITE YOUR CODE HERE\n",
    "    empty_set = set()\n",
    "    for nodes in find_SCC(G):\n",
    "        for x in G:\n",
    "            if x not in find_SCC(G):\n",
    "                if nx.has_path(G, x, nodes):\n",
    "                    empty_set.add(x)\n",
    "    return empty_set\n",
    "                \n",
    "# even testen op figuur 13.8 uit het boek\n",
    "find_SCC(EK), find_IN(EK), find_OUT(EK)"
   ]
  },
  {
   "cell_type": "code",
   "execution_count": null,
   "metadata": {
    "deletable": false,
    "editable": false,
    "nbgrader": {
     "cell_type": "code",
     "checksum": "245ee2788742fa97ee724d3ff6cc120c",
     "grade": true,
     "grade_id": "cell-dfc21dad8b2e3906",
     "locked": true,
     "points": 1,
     "schema_version": 3,
     "solution": false
    }
   },
   "outputs": [],
   "source": [
    "assert_equal(type(find_SCC(EK)), set)\n",
    "assert_equal(type(find_OUT(EK)), set)\n",
    "assert_equal(type(find_IN(EK)), set)\n",
    "assert find_SCC(EK).issubset(EK.nodes())\n",
    "assert find_IN(EK).issubset(EK.nodes())\n",
    "assert find_OUT(EK).issubset(EK.nodes())"
   ]
  },
  {
   "cell_type": "code",
   "execution_count": null,
   "metadata": {
    "deletable": false,
    "editable": false,
    "nbgrader": {
     "cell_type": "code",
     "checksum": "54da9fb31be5d0ec71d01a2738d499f6",
     "grade": false,
     "grade_id": "effetekeken",
     "locked": true,
     "schema_version": 3,
     "solution": false
    }
   },
   "outputs": [],
   "source": [
    "# resultaat graaf tekenen\n",
    "def draw_web(G):\n",
    "    pos = nx.spring_layout(G)\n",
    "    nx.draw(G, pos, with_labels=True)\n",
    "    color = sns.color_palette(\"hls\", 7)\n",
    "    #tubes = find_tubes(G)\n",
    "    legenda = [\n",
    "        'SCC', 'IN', 'OUT', ] #'Tendrils (IN)', 'Tendrils (OUT)', 'Tubes','Disconnected' ]\n",
    "    listofnodes = [\n",
    "        find_SCC(G),\n",
    "        find_IN(G),\n",
    "        find_OUT(G),\n",
    "        #find_tendrils_IN(G) - tubes,\n",
    "        #find_tendrils_OUT(G) - tubes, tubes,\n",
    "        #find_disconnected(G)\n",
    "    ]\n",
    "    for n, (label, nodes, c) in enumerate(zip(legenda, listofnodes, color)):\n",
    "        nx.draw_networkx_nodes(\n",
    "            G, pos, nodelist=nodes, node_color=[c], label=label)\n",
    "    nx.draw_networkx_edges(G, pos)\n",
    "    plt.legend()\n",
    "    plt.axis('off')\n",
    "    plt.show()\n",
    "\n",
    "\n",
    "draw_web(EK)"
   ]
  },
  {
   "cell_type": "markdown",
   "metadata": {
    "deletable": false,
    "editable": false,
    "nbgrader": {
     "cell_type": "markdown",
     "checksum": "bd685f7e5fd16e24ca3c73a12727ce07",
     "grade": false,
     "grade_id": "cell-95b4711170570158",
     "locked": true,
     "schema_version": 3,
     "solution": false
    }
   },
   "source": [
    "# Deel 3: Clustering coëfficiënt"
   ]
  },
  {
   "cell_type": "code",
   "execution_count": null,
   "metadata": {
    "deletable": false,
    "editable": false,
    "nbgrader": {
     "cell_type": "code",
     "checksum": "d61770c0657feecfe12f51df02d3ea07",
     "grade": false,
     "grade_id": "cell-8d854694d33681cd",
     "locked": true,
     "schema_version": 3,
     "solution": false
    }
   },
   "outputs": [],
   "source": [
    "G = nx.karate_club_graph()\n",
    "\n",
    "nx.draw(G, with_labels=True)"
   ]
  },
  {
   "cell_type": "markdown",
   "metadata": {
    "deletable": false,
    "editable": false,
    "nbgrader": {
     "cell_type": "markdown",
     "checksum": "1c45e2c04831bf010b62531c5719a843",
     "grade": false,
     "grade_id": "cell-b450fc2005c44646",
     "locked": true,
     "schema_version": 3,
     "solution": false
    }
   },
   "source": [
    "## Vraag 3.1\n",
    "Maak een functie `clusteringcoefficient(G)` die een graaf accepteert als input, en voor alle knopen de clusteringcoëfficiënt ([Sectie 3.1 E&amp;K](http://www.cs.cornell.edu/home/kleinber/networks-book/networks-book-ch03.pdf)) berekent.\n",
    "                \n",
    "<strong>Bereken dit zelf, gebruik geen NetworkX functie die dit al doet zoals `clustering` en `average_clustering`. </strong> Je mag natuurlijk wel NetworkX handigheidjes als `G.neighbors(v)` gebruiken.\n",
    "\n",
    "Als output krijg je een dict  met de knopen van `G` als sleutels en de clustering coeffiecient van die knoop als bijbehorende waarde.   Geef waarde 0 als een knoop degree 1 heeft.\n",
    "\n",
    "\n",
    "De verwachte output voor deze graaf is 1 voor knoop 7 en 2/3 voor knoop 3 en 0 voor knoop 11. etc. \n",
    "  "
   ]
  },
  {
   "cell_type": "code",
   "execution_count": null,
   "metadata": {
    "deletable": false,
    "nbgrader": {
     "cell_type": "code",
     "checksum": "718d0a6a1e967247189d58e38e1ad5c4",
     "grade": false,
     "grade_id": "Vraag7",
     "locked": false,
     "schema_version": 3,
     "solution": true
    }
   },
   "outputs": [],
   "source": [
    "#WRITE YOUR CODE HERE\n",
    "\n",
    "def clusteringcoefficient(G):\n",
    "    #WRITE YOUR CODE HERE\n",
    "    empty_dict = dict()\n",
    "    for nodes in G:\n",
    "        empty_list = []\n",
    "        for neighbors in G.neighbors(nodes):\n",
    "            empty_list.append(neighbors)\n",
    "        x = nx.subgraph(G, empty_list)\n",
    "        if ((len(x) * (len(x) - 1)) / 2) != 0:\n",
    "            empty_dict[nodes] = float(nx.number_of_edges(x) / ((len(x) * (len(x) - 1)) / 2))\n",
    "        else: \n",
    "            empty_dict[nodes] = float(0)\n",
    "        #nx.density(x)\n",
    "    return empty_dict\n",
    "\n",
    "# even er een mooi plotje van maken\n",
    "pd.Series( clusteringcoefficient(G) ).sort_values().plot(kind='barh',figsize=(8,8))\n",
    "\n",
    "clusteringcoefficient(G)"
   ]
  },
  {
   "cell_type": "code",
   "execution_count": null,
   "metadata": {
    "deletable": false,
    "editable": false,
    "nbgrader": {
     "cell_type": "code",
     "checksum": "5aadb518f38038de27a6bd9911a54521",
     "grade": true,
     "grade_id": "Vraag7_antwoord",
     "locked": true,
     "points": 1,
     "schema_version": 3,
     "solution": false
    }
   },
   "outputs": [],
   "source": [
    "assert isinstance(clusteringcoefficient(G), dict)\n",
    "for n in clusteringcoefficient(G):\n",
    "    assert n in G\n",
    "    assert isinstance(clusteringcoefficient(G)[n],float)"
   ]
  },
  {
   "cell_type": "markdown",
   "metadata": {
    "deletable": false,
    "editable": false,
    "nbgrader": {
     "cell_type": "markdown",
     "checksum": "189b9e10e4a9e87a71c1f4a67b7e1950",
     "grade": false,
     "grade_id": "311",
     "locked": true,
     "schema_version": 3,
     "solution": false
    }
   },
   "source": [
    "## Vraag 3.1.1\n",
    "\n",
    "Maak de functie `cc_nice(G, v)` nu nog een keer maar gebruik nu alleen maar `G.has_edge()` van networkx.\n",
    "Chack dat hij echt hetzelfde doet als je eerdere functie en als networkx clustering."
   ]
  },
  {
   "cell_type": "code",
   "execution_count": null,
   "metadata": {
    "deletable": false,
    "nbgrader": {
     "cell_type": "code",
     "checksum": "b62cfe1bbdb0025f33a5e754985e938a",
     "grade": true,
     "grade_id": "311a",
     "locked": false,
     "points": 1,
     "schema_version": 3,
     "solution": true
    }
   },
   "outputs": [],
   "source": [
    "def cc(G, n):\n",
    "    \"\"\" cc is de eerder gemaakte functie clusteringcoefficient, maar dan van 1 punt opgeroepen met key n\"\"\"\n",
    "    return clusteringcoefficient(G)[n]\n",
    "\n",
    "def cc_nice(G, v):\n",
    "    edges = 0\n",
    "    number = 0\n",
    "    list_of_neighbors = []\n",
    "    for nodes in G:\n",
    "        if G.has_edge(v, nodes):\n",
    "            list_of_neighbors.append(nodes)\n",
    "    for nodes in list_of_neighbors:\n",
    "        for nodes2 in list_of_neighbors:\n",
    "            if nodes > nodes2:\n",
    "                if G.has_edge(nodes, nodes2):\n",
    "                    edges += 1\n",
    "    if (len(list_of_neighbors) * (len(list_of_neighbors) - 1) / 2) == 0:\n",
    "        return 0\n",
    "    else:\n",
    "        return float(edges / (len(list_of_neighbors) * (len(list_of_neighbors) - 1) / 2))\n",
    "    \n",
    "# check dat de twee functies hetzelfde resultaat geven voor elke knoop op de karateclub\n",
    "all(cc(G,n)==cc_nice(G,n) for n in G)"
   ]
  },
  {
   "cell_type": "markdown",
   "metadata": {
    "deletable": false,
    "editable": false,
    "nbgrader": {
     "cell_type": "markdown",
     "checksum": "8219de9166374b7a991ea3cd754abb1b",
     "grade": false,
     "grade_id": "312",
     "locked": true,
     "schema_version": 3,
     "solution": false
    }
   },
   "source": [
    "## Vraag 3.1.2\n",
    "\n",
    "Maak de functie `cc_nicer(G, v)` nu nog een keer maar gebruik nu alleen maar  `G.subgraph` en `nx.density` van networkx.\n",
    "Check dat hij echt hetzelfde doet als je eerdere functie en als networkx clustering."
   ]
  },
  {
   "cell_type": "code",
   "execution_count": null,
   "metadata": {
    "deletable": false,
    "nbgrader": {
     "cell_type": "code",
     "checksum": "4dac15e8c22de566c11721673cd4ca05",
     "grade": true,
     "grade_id": "312a",
     "locked": false,
     "points": 1,
     "schema_version": 3,
     "solution": true
    }
   },
   "outputs": [],
   "source": [
    "def cc_nicer(G, v):\n",
    "    neighbors_list = []\n",
    "    for nodes in G:\n",
    "        if (nodes, v) in G.edges():\n",
    "            neighbors_list.append(nodes)\n",
    "    sub_graph = G.subgraph(neighbors_list)\n",
    "    return nx.density(sub_graph) \n",
    "# check dat de twee functies hetzelfde resultaat geven voor elke knoop op de karateclub\n",
    "all(cc(G,n)==cc_nicer(G,n) for n in G)"
   ]
  },
  {
   "cell_type": "markdown",
   "metadata": {
    "deletable": false,
    "editable": false,
    "nbgrader": {
     "cell_type": "markdown",
     "checksum": "caa3bb823b03a5b915c0da357edc4c7b",
     "grade": false,
     "grade_id": "cell-6b5fd73845461425",
     "locked": true,
     "schema_version": 3,
     "solution": false
    }
   },
   "source": [
    "## Vraag 3.2\n",
    "\n",
    "2. Maak de functie  `is_complete(G)`  die `True` teruggeeft precies dan als het ongerichte netwerk  `G` een volledig netwerk is en `False` als dat niet het geval is.  Gebruik **alleen** de networkx functies `nx.number_of_nodes(G)` en `G.number_of_edges()`."
   ]
  },
  {
   "cell_type": "code",
   "execution_count": null,
   "metadata": {
    "deletable": false,
    "nbgrader": {
     "cell_type": "code",
     "checksum": "eda38f432c518075826d1525e8faded2",
     "grade": false,
     "grade_id": "Vraag8",
     "locked": false,
     "schema_version": 3,
     "solution": true
    }
   },
   "outputs": [],
   "source": [
    "def is_complete(G):\n",
    "    #WRITE YOUR CODE HERE\n",
    "    return G.number_of_edges() == ((nx.number_of_nodes(G) * (nx.number_of_nodes(G) - 1)) / 2)\n",
    "print(is_complete(G))\n",
    "# test met een compleet netwerk\n",
    "CN = nx.Graph()\n",
    "nodes = [1, 2, 3, 4]\n",
    "edges = [(1, 2), (1, 3), (1, 4), (2, 3), (2, 4), (3, 4)]\n",
    "CN.add_nodes_from(nodes)\n",
    "CN.add_edges_from(edges)\n",
    "is_complete(CN)"
   ]
  },
  {
   "cell_type": "code",
   "execution_count": null,
   "metadata": {
    "deletable": false,
    "editable": false,
    "nbgrader": {
     "cell_type": "code",
     "checksum": "6fd00e0f3298f2edcb3ba54195097f5f",
     "grade": true,
     "grade_id": "Vraag8_antwoord",
     "locked": true,
     "points": 1,
     "schema_version": 3,
     "solution": false
    }
   },
   "outputs": [],
   "source": [
    "assert isinstance(is_complete(G), bool)"
   ]
  },
  {
   "cell_type": "code",
   "execution_count": null,
   "metadata": {},
   "outputs": [],
   "source": []
  }
 ],
 "metadata": {
  "anaconda-cloud": {},
  "hide_input": false,
  "kernelspec": {
   "display_name": "Python 3 (ipykernel)",
   "language": "python",
   "name": "python3"
  },
  "language_info": {
   "codemirror_mode": {
    "name": "ipython",
    "version": 3
   },
   "file_extension": ".py",
   "mimetype": "text/x-python",
   "name": "python",
   "nbconvert_exporter": "python",
   "pygments_lexer": "ipython3",
   "version": "3.11.0"
  },
  "toc": {
   "nav_menu": {},
   "number_sections": true,
   "sideBar": true,
   "skip_h1_title": false,
   "title_cell": "Table of Contents",
   "title_sidebar": "Contents",
   "toc_cell": false,
   "toc_position": {},
   "toc_section_display": true,
   "toc_window_display": false
  },
  "varInspector": {
   "cols": {
    "lenName": 16,
    "lenType": 16,
    "lenVar": 40
   },
   "kernels_config": {
    "python": {
     "delete_cmd_postfix": "",
     "delete_cmd_prefix": "del ",
     "library": "var_list.py",
     "varRefreshCmd": "print(var_dic_list())"
    },
    "r": {
     "delete_cmd_postfix": ") ",
     "delete_cmd_prefix": "rm(",
     "library": "var_list.r",
     "varRefreshCmd": "cat(var_dic_list()) "
    }
   },
   "types_to_exclude": [
    "module",
    "function",
    "builtin_function_or_method",
    "instance",
    "_Feature"
   ],
   "window_display": false
  }
 },
 "nbformat": 4,
 "nbformat_minor": 1
}

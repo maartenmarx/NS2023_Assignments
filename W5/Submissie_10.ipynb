{
    "cells": [
        {
            "cell_type": "markdown",
            "metadata": {},
            "source": [
                "# Assignment Netwerkanalyse"
            ]
        },
        {
            "cell_type": "markdown",
            "metadata": {
                "nbgrader": {
                    "grade": false,
                    "grade_id": "privacy",
                    "locked": false,
                    "schema_version": 3,
                    "solution": false
                }
            },
            "source": [
                "## Notebook made by\n",
                "\n",
                "**Gebruik graag dit formaat**\n",
                "\n",
                "* Voor de namen:  voornaam rest van je naam, voornaam rest van je naam,....\n",
                "* je studentnummers: hetzelfde: scheidt met `,`\n",
                "* je emails: hetzelfde: scheidt met `,`\n",
                "* voor je groep: alleen de hoofdletter (dus voor de groep van Marx zou je `A` kiezen)\n",
                "\n",
                "__Namen__:Anoniem",
                "\n",
                "__Emails__:Anoniem",
                "\n",
                "__Student id__:Anoniem",
                "\n",
                "__Groep__:Anoniem"
            ]
        },
        {
            "cell_type": "markdown",
            "metadata": {},
            "source": [
                "## Toelichting\n",
                "\n",
                "* De meeste opgaven worden automatisch nagekeken. Bij vrijwel alle opdrachten staan er een paar tests onder de opdracht, dit is voornamelijk om te zorgen dat je de juiste type output geeft. Dit zijn dus *NIET* alle tests, die komen er bij het graden nog bij.\n",
                "* Elke vraag is 1 punt waard, tenzij anders aangegeven. Soms is die punt onderverdeeld in deelpunten, maar niet altijd. \n",
                "\n",
                "## Voor het inleveren!\n",
                "\n",
                "* Pas niet de cellen aan, vooral niet die je niet kunt editen. Dit levert problemen op bij nakijken. Twijfel je of je per ongeluk iets hebt gewijzigd, kopieer dan bij inleveren je antwoorden naar een nieuw bestand, zodat het niet fout kan gaan.\n",
                "\n",
                "* Zorg dat de code goed runt van boven naar beneden, verifieer dat door boven in Kernel -> Restart & Run All uit te voeren\n",
                "\n",
                "## Na het inleveren!\n",
                "\n",
                "* Het gebeurt erg vaak dat mensen een \"leeg bestand\" inleveren. Vaak een andere versie van de opgave die nog ergens op je computer rondslingerde. Zonde van al je werk toch!\n",
                "* Dus, lever **minstens een half uur voor tijd in**. Download dan wat je hebt ingeleverd op Canvas. Geef het een andere naam om verwarring te voorkomen. En draai alle cellen, en bekijk het. Geen syntax fouten? Alle vragen gemaakt? Dan zit het vast wel goed, en hoef je niet in de zenuwen te zitten."
            ]
        },
        {
            "cell_type": "markdown",
            "metadata": {
                "deletable": false,
                "editable": false,
                "nbgrader": {
                    "cell_type": "markdown",
                    "checksum": "79c420281162149fc708dea35e38a375",
                    "grade": false,
                    "grade_id": "cell-0fde549c34ac348c",
                    "locked": true,
                    "schema_version": 3,
                    "solution": false
                }
            },
            "source": [
                "# Week 5"
            ]
        },
        {
            "cell_type": "code",
            "execution_count": null,
            "metadata": {
                "deletable": false,
                "editable": false,
                "nbgrader": {
                    "cell_type": "code",
                    "checksum": "a49ccecd26405c34724b8ceeb7859051",
                    "grade": false,
                    "grade_id": "cell-627b1db4de30dc5a",
                    "locked": true,
                    "schema_version": 3,
                    "solution": false
                }
            },
            "outputs": [],
            "source": [
                "import random\n",
                "import pandas as pd\n",
                "import networkx as nx\n",
                "import operator\n",
                "import os\n",
                "import seaborn as sns\n",
                "import numpy as np\n",
                "import matplotlib.pyplot as plt\n",
                "import scipy.stats as stats\n",
                "from collections import defaultdict, Counter\n",
                "from nose.tools import assert_equal\n",
                "from numpy.testing import assert_almost_equal\n",
                "%matplotlib inline"
            ]
        },
        {
            "cell_type": "markdown",
            "metadata": {
                "deletable": false,
                "editable": false,
                "nbgrader": {
                    "cell_type": "markdown",
                    "checksum": "1cb3c64880de6a971ca7b0e6d173e9a9",
                    "grade": false,
                    "grade_id": "Chap3",
                    "locked": true,
                    "schema_version": 3,
                    "solution": false
                }
            },
            "source": [
                "# First course Chap 3, exercises 3.1-3.10\n",
                "\n",
                "Maak ze allemaal netjes in de cel hieronder."
            ]
        },
        {
            "cell_type": "code",
            "execution_count": null,
            "metadata": {},
            "outputs": [],
            "source": [
                "# Vraag 3.6\n",
                "G= nx.Graph()\n",
                "G.add_nodes_from([1,2,3,4,5])\n",
                "G.add_edges_from([(1,2), (1,3), (1,4), (2,4), (1,5), (3,5)])\n",
                "node_size_list = [G.degree(n) for n in G]\n",
                "nx.draw(G, node_size = node_size_list)"
            ]
        },
        {
            "cell_type": "markdown",
            "metadata": {
                "deletable": false,
                "nbgrader": {
                    "cell_type": "markdown",
                    "checksum": "24260d27703c836e7ccc0f51b8fff188",
                    "grade": true,
                    "grade_id": "VraagChap3",
                    "locked": false,
                    "points": 10,
                    "schema_version": 3,
                    "solution": true
                }
            },
            "source": [
                "3.1 Done\n",
                "<br>\n",
                "3.2 200/100 = 2 als average degree\n",
                "<br>\n",
                "3.3 \n",
                "<br>\n",
                "    1. Nee. Dit komt omdat er sprake is van veel paartjes.\n",
                "    <br>\n",
                "    2. De mode, ook wel het meest voorkomende waarde, zal 2 zijn hier.\n",
                "    <br>\n",
                "    3. 4 volgens de tekst.\n",
                "    <br>\n",
                "    4. Nee. Er kunnen maar 4 mensen in een kamer als kamergenoten zijn. Dit kan dus geen hubs hebben.\n",
                "<br>\n",
                "3.4 Dit kan gedaan worden door de functie nx.degree_centrality te gebruiken. Ook kan degree gedaan worden door Graph.degree() te gebruiken. Uit de nx.degree_centrality kan ook de degree gehaald worden door het (aantal nodes - 1) * degree_centrality te doen.\n",
                "<br>\n",
                "3.5 c\n",
                "<br>\n",
                "3.6 d\n",
                "<br>\n",
                "3.7 b\n",
                "<br>\n",
                "3.8 b\n",
                "<br>\n",
                "3.9 Als nodes een korte afstand van elkaar hebben\n",
                "<br>\n",
                "3.10 \n",
                "<br>\n",
                "1. Een node kan een hogere shortest path length zijn waardoor de node met de hoogste degree niet een van de grootste closeness heeft. Een andere node heeft mogelijk veel nodes met een afstand van \u00e9\u00e9n om zich heen.\n",
                "<br>\n",
                "2. Er kan een hoge between zijn door een node, maar mogelijk is er toch een node die een kortere afstand heeft met veel nodes in een netwerk. Dit staat dus ook niet met correlatie in elkaar.\n",
                "<br>"
            ]
        },
        {
            "cell_type": "markdown",
            "metadata": {},
            "source": [
                "# First course Chap 2, exercise 2.41"
            ]
        },
        {
            "cell_type": "code",
            "execution_count": null,
            "metadata": {},
            "outputs": [],
            "source": [
                "# load the data; vervang de fname naar jouw pad\n",
                "\n",
                "fname=\"/Users/rvanheusden/Desktop/courses2023/NetworkScience/Teacher/FirstCourseInNetworkScience/FirstCourseNetworkScience/datasets/socfb-Northwestern25/socfb-Northwestern25.edges.gz\"\n",
                "G= nx.Graph()\n",
                "G = nx.read_edgelist(fname)\n",
                "print(len(G))  # Do not try to draw this network"
            ]
        },
        {
            "cell_type": "code",
            "execution_count": null,
            "metadata": {},
            "outputs": [],
            "source": [
                "# probeer maar eens met 1000. Dat wil je niet.\n",
                "sample= np.random.choice(np.array(G), 100, replace=False)\n",
                "nx.draw_kamada_kawai(G.subgraph(sample))"
            ]
        },
        {
            "cell_type": "code",
            "execution_count": null,
            "metadata": {
                "deletable": false,
                "nbgrader": {
                    "cell_type": "code",
                    "checksum": "e0c3f29dc7778abac0a1b9f749a864b7",
                    "grade": false,
                    "grade_id": "241a",
                    "locked": false,
                    "schema_version": 3,
                    "solution": true
                }
            },
            "outputs": [],
            "source": [
                "hoeveel_knopen = G.number_of_nodes()\n",
                "hoeveel_lijnen = G.number_of_edges()\n",
                "dichtheid = nx.density(G)\n",
                "connected = nx.is_connected(G)\n",
                "how_many_pairs_of_nodes = nx.all_pairs_node_connectivity(G, nbunch=None, flow_func=None)\n",
                "\n",
                "hoeveel_knopen, hoeveel_lijnen, dichtheid, connected, how_many_pairs_of_nodes"
            ]
        },
        {
            "cell_type": "code",
            "execution_count": null,
            "metadata": {
                "deletable": false,
                "editable": false,
                "nbgrader": {
                    "cell_type": "code",
                    "checksum": "86e73e5a7597eb77a56b45b596d9b539",
                    "grade": true,
                    "grade_id": "241t1",
                    "locked": true,
                    "points": 1,
                    "schema_version": 3,
                    "solution": false
                }
            },
            "outputs": [],
            "source": []
        },
        {
            "cell_type": "markdown",
            "metadata": {},
            "source": [
                "# Vraag 2.41 deelvraag 4 \n",
                "\n",
                "* Zorg dat je eerst test of `G` verbonden is, en zo niet bereken het dan over de giant component"
            ]
        },
        {
            "cell_type": "code",
            "execution_count": null,
            "metadata": {
                "deletable": false,
                "nbgrader": {
                    "cell_type": "code",
                    "checksum": "4a4c66e1da9fb6383d71203de240c19a",
                    "grade": false,
                    "grade_id": "241a2",
                    "locked": false,
                    "schema_version": 3,
                    "solution": true
                }
            },
            "outputs": [],
            "source": [
                "#random.sample(G.nodes,2)\n",
                "\n",
                "def shortest_path_length_sample(G,samplesize):\n",
                "    '''Return a list with samplesize shortest path lengths'''\n",
                "    sample= np.random.choice(np.array(G), size=samplesize, replace=False)\n",
                "    H = G.subgraph(sample)\n",
                "    nx.draw(H, with_labels=True)\n",
                "    \n",
                "    if nx.is_connected(H) == True:\n",
                "        Lijst = []\n",
                "        for x in H.nodes():\n",
                "            for y in H.nodes():\n",
                "                if x !=y and x>y:\n",
                "                    Lijst.append(nx.shortest_path_length(H,x,y))\n",
                "        return Lijst\n",
                "    else:\n",
                "        cc = max(nx.connected_components(H), key=len)\n",
                "        L = G.subgraph(cc)\n",
                "        Lijst = []\n",
                "        for x in L: \n",
                "            for y in L:\n",
                "                if x !=y and x>y:\n",
                "                    Lijst.append(nx.shortest_path_length(L,x,y))\n",
                "        return Lijst\n",
                "\n",
                "# run \n",
                "sample_lengths = shortest_path_length_sample(G,100)   \n",
                "\n",
                "# gemiddelde  \n",
                "\n",
                "print(\"Gemiddelde=\",round(np.mean(sample_lengths),1))\n",
                "      \n",
                "S= pd.Series(sample_lengths)\n",
                "print(S.describe())\n",
                "sns.displot(S);"
            ]
        },
        {
            "cell_type": "code",
            "execution_count": null,
            "metadata": {
                "deletable": false,
                "editable": false,
                "nbgrader": {
                    "cell_type": "code",
                    "checksum": "4720fd5bc22e8d1b89d6cd208d8d4ead",
                    "grade": true,
                    "grade_id": "241t2",
                    "locked": true,
                    "points": 1,
                    "schema_version": 3,
                    "solution": false
                }
            },
            "outputs": [],
            "source": [
                "L= shortest_path_length_sample(G,10)\n",
                "assert isinstance(L,list)\n",
                "assert isinstance(np.mean(L), float)\n"
            ]
        },
        {
            "cell_type": "markdown",
            "metadata": {},
            "source": [
                "# En schat nu de diameter"
            ]
        },
        {
            "cell_type": "code",
            "execution_count": null,
            "metadata": {
                "deletable": false,
                "nbgrader": {
                    "cell_type": "code",
                    "checksum": "2e18e8d0e52703676641c62dd0d69c91",
                    "grade": false,
                    "grade_id": "241a3",
                    "locked": false,
                    "schema_version": 3,
                    "solution": true
                }
            },
            "outputs": [],
            "source": [
                "diameter= 5\n",
                "\n",
                " \n",
                "print(\"Diameter\",diameter)\n",
                "# run \n",
                "sample_lengths= shortest_path_length_sample(G,100)   \n",
                "      \n",
                "S= pd.Series(sample_lengths)\n",
                "print(S.describe())\n",
                "sns.displot(S);"
            ]
        },
        {
            "cell_type": "markdown",
            "metadata": {
                "deletable": false,
                "editable": false,
                "nbgrader": {
                    "cell_type": "markdown",
                    "checksum": "0aaa33ea30a5774a418bebf6a6cbf65d",
                    "grade": false,
                    "grade_id": "cc",
                    "locked": true,
                    "schema_version": 3,
                    "solution": false
                }
            },
            "source": [
                "# En nu de clustering coefficient\n",
                "\n",
                "* Probeer eerst eens met networkx, maar dan op de karate club graaf.\n",
                "* Het gemiddelde kan `pandas` op `numpy` mooi voor je uitrekenen.\n",
                "    * We late zien hoe dat werkt op een willekeurige dict.\n",
                "    * Maak het zelf af. Kijk ook eens naar dat histogram. \n",
                "* Zijn degrees normaal verdeeld?"
            ]
        },
        {
            "cell_type": "code",
            "execution_count": null,
            "metadata": {},
            "outputs": [],
            "source": [
                "# Voorbeeld: hoe vaak komt elke degree voor in de karateclub\n",
                "\n",
                "H= nx.karate_club_graph()\n",
                "\n",
                "alle_degrees=pd.Series(dict(H.degree()))\n",
                "print(alle_degrees.describe())  # sleutel waardes van de degree verdeling\n",
                "print(\"gemiddelde is \",alle_degrees.describe()['mean'])\n",
                "sns.displot(alle_degrees, kde=True);  # hoe vaak komt elke degree voor"
            ]
        },
        {
            "cell_type": "code",
            "execution_count": null,
            "metadata": {
                "deletable": false,
                "nbgrader": {
                    "cell_type": "code",
                    "checksum": "c5ce8387e0a66b567c6fec7e317484de",
                    "grade": false,
                    "grade_id": "cca1",
                    "locked": false,
                    "schema_version": 3,
                    "solution": true
                }
            },
            "outputs": [],
            "source": [
                "H= nx.karate_club_graph()\n",
                "cc = nx.clustering(H)\n",
                "\n",
                "# loop to sum all values\n",
                "res = 0\n",
                "teller = 0\n",
                "for val in cc.values():\n",
                "    res += val\n",
                "    teller +=1\n",
                "\n",
                "gemiddelde= np.mean(H.degree()) # vervang door jouw oplossing\n",
                "print(gemiddelde)\n",
                "print(res/teller)"
            ]
        },
        {
            "cell_type": "markdown",
            "metadata": {},
            "source": [
                "# Assortative or not?\n",
                "\n",
                "1. Maak eerst de functie `my_avg_nn_degree(Network,degree)` af, die dus hetzelfde doet als `nx.k_nearest_neighbors(H)[k]`.  Nu snap je wat ze daarmee bedoelen. In het boek op bladzijde 38-39 staat het best cryptisch, vond ik.\n",
                "2. Maak dan  nu de opgave uit het boek."
            ]
        },
        {
            "cell_type": "code",
            "execution_count": null,
            "metadata": {
                "deletable": false,
                "nbgrader": {
                    "cell_type": "code",
                    "checksum": "cac2e8556fd7960696ca60c93f27b9b6",
                    "grade": false,
                    "grade_id": "assa1",
                    "locked": false,
                    "schema_version": 3,
                    "solution": true
                }
            },
            "outputs": [],
            "source": [
                "def my_avg_nn_degree(Network,degree):\n",
                "    '''Geeft de gemiddelde degree van de buren, gemiddeld over alle knopen van degree degree.\n",
                "    In het Engels: \n",
                "    It gives the average of the average_neighbor_degree of all nodes with the degree degree.\n",
                "    average_neighbor_degree(k) for k a node is the average of the degrees of the neighbors of k.'''\n",
                "    Lijst = list(Network.neighbors(degree))\n",
                "    Dict = {}\n",
                "    for x in Lijst:\n",
                "        Dict[x] = H.degree(x)\n",
                "    \n",
                "    keys=0\n",
                "    totaal=0\n",
                "    for k,v in Dict.items():\n",
                "        totaal = totaal + v\n",
                "        keys +=1\n",
                "    return totaal / keys\n",
                "    \n",
                "#test, ER ZIJN IN NETWORKX DUS HEEL VEEL MANIEREN OM DIT UIT TE REKENEN, \n",
                "# hier kijken we of die allemaal gelijk zijn, voor elke voorkomende degree in de karateclub graaf\n",
                "\n",
                "H= nx.karate_club_graph()\n",
                "for k in {k[1] for k in H.degree()}:\n",
                "    print(k, \n",
                "          \n",
                "          nx.k_nearest_neighbors(H)[k] , \n",
                "          my_avg_nn_degree(H,k),\n",
                "          nx.algorithms.assortativity.average_degree_connectivity(H)[k]\n",
                "         )\n",
                "\n",
                "    \n",
                "# mooiere test; kijk eens goed, wat gaat er nu mis? \n",
                "\n",
                "all(nx.k_nearest_neighbors(H)[k[1]]== my_avg_nn_degree(H,k[1]) for k in H.degree())"
            ]
        },
        {
            "cell_type": "code",
            "execution_count": null,
            "metadata": {
                "deletable": false,
                "nbgrader": {
                    "cell_type": "code",
                    "checksum": "0d041f4b619196561d2e3c11c7cc690b",
                    "grade": false,
                    "grade_id": "assa2",
                    "locked": false,
                    "schema_version": 3,
                    "solution": true
                }
            },
            "outputs": [],
            "source": [
                "import scipy.stats as stats\n",
                "\n",
                "assortativity1= nx.degree_assortativity_coefficient(H) # volgens de blauwe box op blz 38-39\n",
                "tussendict = nx.k_nearest_neighbors(H)\n",
                "res = 0\n",
                "for val in tussendict.values():\n",
                "    res += val\n",
                "assortativity2= res\n",
                "# en de tweede manier\n",
                "assortativity1,assortativity2"
            ]
        },
        {
            "cell_type": "code",
            "execution_count": null,
            "metadata": {
                "deletable": false,
                "editable": false,
                "nbgrader": {
                    "cell_type": "code",
                    "checksum": "8e6518c735ab9c56c0c5ac4c2e6b0d08",
                    "grade": true,
                    "grade_id": "ass1t",
                    "locked": true,
                    "points": 1,
                    "schema_version": 3,
                    "solution": false
                }
            },
            "outputs": [],
            "source": [
                "assert isinstance(my_avg_nn_degree(nx.karate_club_graph(),1), float)\n"
            ]
        },
        {
            "cell_type": "code",
            "execution_count": null,
            "metadata": {
                "deletable": false,
                "editable": false,
                "nbgrader": {
                    "cell_type": "code",
                    "checksum": "a2530f7b6982fbc7b610d4f1eb9e47a8",
                    "grade": true,
                    "grade_id": "ass2t",
                    "locked": true,
                    "points": 1,
                    "schema_version": 3,
                    "solution": false
                }
            },
            "outputs": [],
            "source": [
                "assert isinstance(assortativity1, float)\n",
                "assert isinstance(assortativity2, float)"
            ]
        },
        {
            "cell_type": "markdown",
            "metadata": {
                "deletable": false,
                "editable": false,
                "nbgrader": {
                    "cell_type": "markdown",
                    "checksum": "cf5dcc2b594b1ddda60365cb333c4906",
                    "grade": false,
                    "grade_id": "cell-5862950de28616f9",
                    "locked": true,
                    "schema_version": 3,
                    "solution": false
                }
            },
            "source": [
                "# Deel 1: Easley & Kleinberg Chapter 5"
            ]
        },
        {
            "cell_type": "markdown",
            "metadata": {
                "deletable": false,
                "editable": false,
                "nbgrader": {
                    "cell_type": "markdown",
                    "checksum": "149720d7d8ddfef1f0d57052109ffbd7",
                    "grade": false,
                    "grade_id": "VraagEK51",
                    "locked": true,
                    "schema_version": 3,
                    "solution": false
                }
            },
            "source": [
                "## Vraag 1\n",
                "Maak opdracht [5.6.1 van Easley and Kleinberg](http://www.cs.cornell.edu/home/kleinber/networks-book/networks-book-ch05.pdf). Geef je antwoord in de cell hieronder\n"
            ]
        },
        {
            "cell_type": "markdown",
            "metadata": {
                "deletable": false,
                "nbgrader": {
                    "cell_type": "markdown",
                    "checksum": "051bd105983401266b5a2a68318dd45d",
                    "grade": true,
                    "grade_id": "Vraag1_antwoord",
                    "locked": false,
                    "points": 1,
                    "schema_version": 3,
                    "solution": true
                }
            },
            "source": [
                "Het netwerk tussen de verschillende groepen is unbalanced. Het is mogelijk een driehoek te maken waarbij er 3 vijandigen lijnen aanwezig zijn. Dit voorbeeld is te pakken met een persoon uit elke groep. We krijgen dan drie zijden met een -, dus is er sprake van unbalanced."
            ]
        },
        {
            "cell_type": "markdown",
            "metadata": {
                "deletable": false,
                "editable": false,
                "nbgrader": {
                    "cell_type": "markdown",
                    "checksum": "29d8a4c8a1b59c06e2564eda6b7f623d",
                    "grade": false,
                    "grade_id": "cell-c1ce3376182628cf",
                    "locked": true,
                    "schema_version": 3,
                    "solution": false
                }
            },
            "source": [
                "## Vraag 2\n",
                "Maak opdracht [5.6.2 van Easley and Kleinberg](http://www.cs.cornell.edu/home/kleinber/networks-book/networks-book-ch05.pdf)\n",
                "\n",
                "Geef als tuple voor `pos_edge` en `neg_edge`\n",
                "\n",
                "Dus `pos_edge = (balanced, unbalanced)`, waar balanced en unbalanced het aantal triangles zijn"
            ]
        },
        {
            "cell_type": "code",
            "execution_count": null,
            "metadata": {
                "deletable": false,
                "nbgrader": {
                    "cell_type": "code",
                    "checksum": "6c12e94b954118b28863b8dc8af611f9",
                    "grade": false,
                    "grade_id": "Vraag2",
                    "locked": false,
                    "schema_version": 3,
                    "solution": true
                }
            },
            "outputs": [],
            "source": [
                "pos_edge = (1,2)\n",
                "neg_edge = (2,1)\n"
            ]
        },
        {
            "cell_type": "code",
            "execution_count": null,
            "metadata": {
                "deletable": false,
                "editable": false,
                "nbgrader": {
                    "cell_type": "code",
                    "checksum": "590ceaafda7a381cd3cf68d33957d3f5",
                    "grade": true,
                    "grade_id": "Vraag2_antwoord",
                    "locked": true,
                    "points": 1,
                    "schema_version": 3,
                    "solution": false
                }
            },
            "outputs": [],
            "source": [
                "assert_equal(type(pos_edge), tuple)\n",
                "assert_equal(type(neg_edge), tuple)\n",
                "assert_equal(type(pos_edge[0]), int)\n",
                "assert_equal(sum(pos_edge), 3, \"Lees de vraag goed!\")"
            ]
        },
        {
            "cell_type": "markdown",
            "metadata": {
                "deletable": false,
                "editable": false,
                "nbgrader": {
                    "cell_type": "markdown",
                    "checksum": "a4406fa1ebe0553043ec68b2a91997bb",
                    "grade": false,
                    "grade_id": "Vraag3",
                    "locked": true,
                    "schema_version": 3,
                    "solution": false
                }
            },
            "source": [
                "## Vraag 3\n",
                "\n",
                "Maak opdracht [5.6.3 van Easley and Kleinberg](http://www.cs.cornell.edu/home/kleinber/networks-book/networks-book-ch05.pdf). Geef je antwoord in de cell hieronder"
            ]
        },
        {
            "cell_type": "markdown",
            "metadata": {
                "deletable": false,
                "nbgrader": {
                    "cell_type": "markdown",
                    "checksum": "cd7dfef287cf96eccf2c7916c8e76e39",
                    "grade": true,
                    "grade_id": "Vraag3_antwoord",
                    "locked": false,
                    "points": 1,
                    "schema_version": 3,
                    "solution": true
                }
            },
            "source": [
                "    a. Dit is mogelijk. Dit is alleen mogelijk als alle edges ook negatief zijn die worden toegevoegd. Dit houdt het unbalanced.\n",
                "    b. Nee dit is niet mogelijk. Dit komt omdat er positieve en negatieve edges zijn die de unbalanced verbreken.\n",
                "    c. Dit is mogelijk wanneer alle driehoeken in het netwerk gelijk zijn aan elkaar als in balanced of unbalanced."
            ]
        },
        {
            "cell_type": "markdown",
            "metadata": {
                "deletable": false,
                "editable": false,
                "nbgrader": {
                    "cell_type": "markdown",
                    "checksum": "0d862a3be0b1184b5f3cc6d371dc2caf",
                    "grade": false,
                    "grade_id": "Vraag4",
                    "locked": true,
                    "schema_version": 3,
                    "solution": false
                }
            },
            "source": [
                "## Vraag 4\n",
                "\n",
                "Maak opdracht [5.6.4 van Easley and Kleinberg](http://www.cs.cornell.edu/home/kleinber/networks-book/networks-book-ch05.pdf). Geef je antwoord in de cell hieronder"
            ]
        },
        {
            "cell_type": "markdown",
            "metadata": {
                "deletable": false,
                "nbgrader": {
                    "cell_type": "markdown",
                    "checksum": "de1f75121224bf72aa1c0ab3c5866e05",
                    "grade": true,
                    "grade_id": "Vraag4_antwoord",
                    "locked": false,
                    "points": 1,
                    "schema_version": 3,
                    "solution": true
                }
            },
            "source": [
                "Dit netwerk kan nooit balanced zijn. Dit omdat een boer vijandig is aan een andere boer maar een boer bevriend is met een boer 1 mile verderop. Mogelijk is deze boer van een mile verderop wel in de radius van 20 miles en dus bevriend met die boer waar de eerste boer nvijandig mee is. Dit maakt een driehoek van 2x + en 1x - en dus ook wel unbalanced."
            ]
        },
        {
            "cell_type": "markdown",
            "metadata": {
                "deletable": false,
                "editable": false,
                "nbgrader": {
                    "cell_type": "markdown",
                    "checksum": "c06e6049a0b67024378e06bf74663a9f",
                    "grade": false,
                    "grade_id": "cell-229e509af33c8ecf",
                    "locked": true,
                    "schema_version": 3,
                    "solution": false
                }
            },
            "source": [
                "# Deel 2: Moties in de Tweede Kamer"
            ]
        },
        {
            "cell_type": "code",
            "execution_count": null,
            "metadata": {
                "deletable": false,
                "editable": false,
                "nbgrader": {
                    "cell_type": "code",
                    "checksum": "6d6034d2fad62d66074c94710ed9944d",
                    "grade": false,
                    "grade_id": "cell-b388d8eb3684c9ae",
                    "locked": true,
                    "schema_version": 3,
                    "solution": false
                }
            },
            "outputs": [],
            "source": [
                "def open_file():\n",
                "    \"\"\"Loads the graphml\"\"\"\n",
                "    if 'motieslist.csv' in os.listdir():\n",
                "        return pd.read_csv(\n",
                "            'motieslist.csv', encoding='utf-8', compression='gzip')\n",
                "    elif os.path.exists('../../data/Week5'):\n",
                "        return pd.read_csv(\n",
                "            '../../data/Week5/motieslist.csv', encoding='utf-8', compression='gzip')\n",
                "    elif os.path.exists('../../../data/Week5'):\n",
                "        return pd.read_csv(\n",
                "            '../../../data/Week5/motieslist.csv',\n",
                "            encoding='utf-8',\n",
                "            compression='gzip')\n",
                "\n",
                "\n",
                "MOTnetwerk = open_file()\n",
                "MOTnetwerk.datum=MOTnetwerk.datum.astype(int)\n",
                "MOTnetwerk.head()"
            ]
        },
        {
            "cell_type": "code",
            "execution_count": null,
            "metadata": {
                "deletable": false,
                "editable": false,
                "nbgrader": {
                    "cell_type": "code",
                    "checksum": "7bc46e4e5868c5677076e76cfe9ad8f8",
                    "grade": false,
                    "grade_id": "cell-b388d8eb3684c9aeb",
                    "locked": true,
                    "schema_version": 3,
                    "solution": false
                }
            },
            "outputs": [],
            "source": [
                "motie_dict= MOTnetwerk.T.to_dict()\n",
                "print(\"We hebben %i moties! \" %len(set(motie_dict[key]['URL naar motie'] for key in motie_dict)))\n",
                "\n",
                "# vergelijk 3 keer hetzelfde\n",
                "print(MOTnetwerk.loc[0])\n",
                "print(motie_dict[1])\n",
                "for attribuut in motie_dict[1].keys():\n",
                "    print(attribuut,motie_dict[1][attribuut])"
            ]
        },
        {
            "cell_type": "markdown",
            "metadata": {
                "deletable": false,
                "editable": false,
                "nbgrader": {
                    "cell_type": "markdown",
                    "checksum": "190f7d92cc10f75fced612c5f700c855",
                    "grade": false,
                    "grade_id": "cell-619366e4e6638075",
                    "locked": true,
                    "schema_version": 3,
                    "solution": false
                }
            },
            "source": [
                "## Vraag 2\n",
                "\n",
                "We hebben nu alle moties uit het csv bestand gehaald, en er een dict van dicts van gemaakt.\n",
                "Voor deze opdracht zijn we benieuwd naar de Tweede Kamer tijdens het missionaire [kabinet Rutte III](https://nl.wikipedia.org/wiki/Kabinet-Rutte_III).   Beperk dus het bestand tot alle moties vanaf (en inclusief) de dag dat dat kabinet be\u00ebdigd is.\n",
                "\n",
                "Noem dit `MotiesRutteIII`, met dezelfde structuur als `motie_dict` hierboven. Eigenlijk is `MotiesRutteIII` een *deelverzameling* van `motie_dict`.\n",
                "\n",
                "**Check** er zitten 4498 moties in RutteIII. Zoek de juiste datum dus op."
            ]
        },
        {
            "cell_type": "code",
            "execution_count": null,
            "metadata": {
                "deletable": false,
                "nbgrader": {
                    "cell_type": "code",
                    "checksum": "485316fe9b907c28ba3f017eb77601fa",
                    "grade": false,
                    "grade_id": "Vraag2M",
                    "locked": false,
                    "schema_version": 3,
                    "solution": true
                }
            },
            "outputs": [],
            "source": [
                "MotiesRutteIII = {x: motie_dict[x] for x in motie_dict for attribuut in motie_dict[x].keys() if attribuut == \"datum\" and motie_dict[x][attribuut] >= 20171026}\n",
                "\n",
                "# teller = 1\n",
                "# for x in motie_dict:\n",
                "#     for attribuut in motie_dict[x].keys():\n",
                "#         if attribuut == \"datum\":\n",
                "#             if motie_dict[x][attribuut] >= 20171026 and motie_dict[x][attribuut] <= 20220110:\n",
                "#                 teller += 1\n",
                "#                 MotiesRutteIII[teller] = [x]\n",
                "           \n",
                "\n",
                "print(\"We hebben %s moties tijdens Rutte III!\" % \n",
                "      len(set(motie_dict[key]['URL naar motie'] for key in MotiesRutteIII)))\n",
                "print(\"een voorbeeld:\")\n",
                "MotiesRutteIII[2269]"
            ]
        },
        {
            "cell_type": "code",
            "execution_count": null,
            "metadata": {
                "deletable": false,
                "editable": false,
                "nbgrader": {
                    "cell_type": "code",
                    "checksum": "68e8d756022eb7a980145f00fdf1aebe",
                    "grade": true,
                    "grade_id": "Vraag2M_antwoord",
                    "locked": true,
                    "points": 1,
                    "schema_version": 3,
                    "solution": false
                }
            },
            "outputs": [],
            "source": [
                "assert_equal(type(MotiesRutteIII), dict)\n",
                " "
            ]
        },
        {
            "cell_type": "markdown",
            "metadata": {
                "deletable": false,
                "editable": false,
                "nbgrader": {
                    "cell_type": "markdown",
                    "checksum": "71726d43f57ca73e92447bd9ae2fd6ab",
                    "grade": false,
                    "grade_id": "cell-f572405c6f1dd376",
                    "locked": true,
                    "schema_version": 3,
                    "solution": false
                }
            },
            "source": [
                "## Vraag 3\n",
                "\n",
                "Maak de verzameling van alle indieners (dus niet medeindieners!) waarin elke indiener maar 1 keer voorkomt gebaseerd op `MotiesRutteIII`. Noem deze `indieners`"
            ]
        },
        {
            "cell_type": "code",
            "execution_count": null,
            "metadata": {
                "deletable": false,
                "nbgrader": {
                    "cell_type": "code",
                    "checksum": "7b09d8b28d70b51ba18d64263080d5bf",
                    "grade": false,
                    "grade_id": "Vraag3M",
                    "locked": false,
                    "schema_version": 3,
                    "solution": true
                }
            },
            "outputs": [],
            "source": [
                "indieners = set()\n",
                "\n",
                "for x in MotiesRutteIII:\n",
                "    for k,v in MotiesRutteIII[x].items():\n",
                "        if k == 'indiener':\n",
                "            indieners.add(v)\n",
                "                        \n",
                "            \n",
                "len(indieners), list(indieners)[:5]"
            ]
        },
        {
            "cell_type": "code",
            "execution_count": null,
            "metadata": {
                "deletable": false,
                "editable": false,
                "nbgrader": {
                    "cell_type": "code",
                    "checksum": "a43a58e703a4b5d2a7d64674ce7831dc",
                    "grade": true,
                    "grade_id": "Vraag3M_antwoord",
                    "locked": true,
                    "points": 1,
                    "schema_version": 3,
                    "solution": false
                }
            },
            "outputs": [],
            "source": [
                "assert_equal(type(indieners), set)\n",
                "for indiener in indieners:\n",
                "    assert_equal(type(indiener), str)"
            ]
        },
        {
            "cell_type": "markdown",
            "metadata": {
                "deletable": false,
                "editable": false,
                "nbgrader": {
                    "cell_type": "markdown",
                    "checksum": "78c41060d97692ddb2ea15b9158a3e65",
                    "grade": false,
                    "grade_id": "cell-f56636e8e6802521",
                    "locked": true,
                    "schema_version": 3,
                    "solution": false
                }
            },
            "source": [
                "## Vraag 4\n",
                "Maak een dict `IndienersDict` waarbij de key indiener X is van moties, en de value\n",
                "de partij is van X. Doe hetzelfde voor medeindieners in de dict `MedeindienersDict` en een dict `CombinedDienersDict` met zowel indieners als medeindieners. Dit is weer gebaseerd op de moties gedurende Rutte III.\n",
                "\n",
                "Bekijk hoeveel je er van elk hebt en hoeveel in totaal. Gebruik een dict-comprehension!\n",
                "\n",
                "Deel van het antwoord van CombinedDienersDict:\n",
                "\n",
                "`{'A. Pechtold': 'D66',\n",
                " 'A.C.L. (Arno) Rutte': 'VVD',\n",
                " 'Achraf Bouali': 'D66',\n",
                " 'Agnes Mulder': 'CDA',\n",
                " 'Albert van den Bosch': 'VVD',\n",
                " 'Alexander Kops': 'PVV',\n",
                " 'Andr\u00e9 Bosman': 'VVD',\n",
                " 'Anne Kuik': 'CDA',\n",
                " 'Anne Mulder': 'VVD',...}`\n",
                " \n",
                " **Let op** Dicts zijn ongeordend. Jouw antwoord hoeft er dus niet zo uit te zien als hierboven als je het print."
            ]
        },
        {
            "cell_type": "code",
            "execution_count": null,
            "metadata": {
                "deletable": false,
                "nbgrader": {
                    "cell_type": "code",
                    "checksum": "a4fc770381cc7aef9a4f1891d09a648b",
                    "grade": false,
                    "grade_id": "Vraag4M",
                    "locked": false,
                    "schema_version": 3,
                    "solution": true
                }
            },
            "outputs": [],
            "source": [
                "IndienersDict = {MotiesRutteIII[x]['indiener']: MotiesRutteIII[x]['Partij Indiener'] for x in MotiesRutteIII for attribuut in MotiesRutteIII[x].keys()}\n",
                "\n",
                "MedeindienersDict = {MotiesRutteIII[x]['Medeindiener']: MotiesRutteIII[x]['Partij Medeindiener'] for x in MotiesRutteIII for attribuut in MotiesRutteIII[x].keys()}\n",
                "CombinedDienersDict = dict(IndienersDict,**MedeindienersDict)\n",
                "\n",
                "len(IndienersDict), len(MedeindienersDict), len(CombinedDienersDict)"
            ]
        },
        {
            "cell_type": "code",
            "execution_count": null,
            "metadata": {
                "deletable": false,
                "editable": false,
                "nbgrader": {
                    "cell_type": "code",
                    "checksum": "50fda3034230801172b8455baa246be6",
                    "grade": true,
                    "grade_id": "Vraag4M_antwoord",
                    "locked": true,
                    "points": 1,
                    "schema_version": 3,
                    "solution": false
                }
            },
            "outputs": [],
            "source": [
                "assert_equal(type(IndienersDict), dict)\n",
                "assert_equal(type(MedeindienersDict), dict)\n",
                "assert_equal(type(CombinedDienersDict), dict)"
            ]
        },
        {
            "cell_type": "markdown",
            "metadata": {
                "deletable": false,
                "editable": false,
                "nbgrader": {
                    "cell_type": "markdown",
                    "checksum": "7ae3b97fb62b9febce4dbdf77a4d267c",
                    "grade": false,
                    "grade_id": "cell-03bacb7bb1787c34",
                    "locked": true,
                    "schema_version": 3,
                    "solution": false
                }
            },
            "source": [
                "## Vraag 5\n",
                "Maak een networkx netwerk `G`, waarin zowel alle indieners als medeindieners een knoop zijn, en waarbij je aan elke  knoop toevoegt  van welke partij diegene is. Je voegt dus een node -attribuut toe. Noem dit attribuut `partij`.\n",
                "\n",
                "We willen een <em>gericht</em> netwerk maken, dus gebruik `G = nx.DiGraph()`. "
            ]
        },
        {
            "cell_type": "code",
            "execution_count": null,
            "metadata": {
                "deletable": false,
                "nbgrader": {
                    "cell_type": "code",
                    "checksum": "95a26e138ec79cf1f77cd0d7df3ec8ce",
                    "grade": false,
                    "grade_id": "Vraag5",
                    "locked": false,
                    "schema_version": 3,
                    "solution": true
                }
            },
            "outputs": [],
            "source": [
                "G = nx.DiGraph()\n",
                "\n",
                "Lijst_combined = []\n",
                "for x in CombinedDienersDict.keys():\n",
                "    Lijst_combined.append(x)\n",
                "G.add_nodes_from(Lijst_combined)\n",
                "\n",
                "nx.set_node_attributes(G, values=CombinedDienersDict, name=\"partij\")\n",
                "\n",
                "print('De partij van Suzanne Kr\u00f6ger is', G.nodes['Suzanne Kr\u00f6ger']['partij'])\n",
                "nx.draw(G, with_labels=True)\n",
                "plt.show()"
            ]
        },
        {
            "cell_type": "code",
            "execution_count": null,
            "metadata": {
                "deletable": false,
                "editable": false,
                "nbgrader": {
                    "cell_type": "code",
                    "checksum": "7a2e797e1f5343ffb5a4689ce7c8eeb6",
                    "grade": true,
                    "grade_id": "Vraag5_antwoord",
                    "locked": true,
                    "points": 1,
                    "schema_version": 3,
                    "solution": false
                }
            },
            "outputs": [],
            "source": [
                "assert_equal(nx.is_directed(G), True)\n",
                "assert_equal(type(nx.get_node_attributes(G, 'partij')), dict)"
            ]
        },
        {
            "cell_type": "markdown",
            "metadata": {
                "deletable": false,
                "editable": false,
                "nbgrader": {
                    "cell_type": "markdown",
                    "checksum": "e14b285987e304021ef8658010837a0f",
                    "grade": false,
                    "grade_id": "cell-11f61750dc97b703",
                    "locked": true,
                    "schema_version": 3,
                    "solution": false
                }
            },
            "source": [
                "## Vraag 6\n",
                "Maak een lijst `InEnMedeIndiener` met paren bestaande uit indieners en medeindieners van dezelfde motie.\n",
                "Het eerste element van elk paartje is dus de indiener. WE gebruiken een lijst (en geen verzameling) want we zijn ook geinterreseerd in hoe vaak mensen samen indienen.\n",
                "\n",
                "Je lijst heeft dus de vorm:\n",
                "\n",
                "`[('M.L. Thieme', 'Jesse Klaver'),\n",
                " ('Lodewijk Asscher', 'E.G.M. Roemer'),\n",
                " ('Lodewijk Asscher', 'Jesse Klaver'),\n",
                " ('Lodewijk Asscher', 'Henk Krol'),\n",
                " ('Lodewijk Asscher', 'M.L. Thieme')....]`"
            ]
        },
        {
            "cell_type": "code",
            "execution_count": null,
            "metadata": {
                "deletable": false,
                "nbgrader": {
                    "cell_type": "code",
                    "checksum": "2aba64af6730daaf859a6c3c95e93c2a",
                    "grade": false,
                    "grade_id": "Vraag6",
                    "locked": false,
                    "schema_version": 3,
                    "solution": true
                }
            },
            "outputs": [],
            "source": [
                "InEnMedeIndiener = []\n",
                "for x in MotiesRutteIII:\n",
                "    for attribuut in MotiesRutteIII[x].keys():\n",
                "        if attribuut == 'URL naar motie':\n",
                "            InEnMedeIndiener.append((MotiesRutteIII[x]['indiener'], MotiesRutteIII[x]['Medeindiener']))\n",
                "InEnMedeIndiener[:5]"
            ]
        },
        {
            "cell_type": "code",
            "execution_count": null,
            "metadata": {
                "deletable": false,
                "editable": false,
                "nbgrader": {
                    "cell_type": "code",
                    "checksum": "22304dc98150329382086dd8440e8f4d",
                    "grade": true,
                    "grade_id": "Vraag6_antwoord",
                    "locked": true,
                    "points": 1,
                    "schema_version": 3,
                    "solution": false
                }
            },
            "outputs": [],
            "source": [
                "assert_equal(type(InEnMedeIndiener), list)"
            ]
        },
        {
            "cell_type": "markdown",
            "metadata": {
                "deletable": false,
                "editable": false,
                "nbgrader": {
                    "cell_type": "markdown",
                    "checksum": "1c8792325e0680e5a32c95091000b32f",
                    "grade": false,
                    "grade_id": "cell-5d78d9ebe99bba20",
                    "locked": true,
                    "schema_version": 3,
                    "solution": false
                }
            },
            "source": [
                "## Vraag 7\n",
                "Maak een lijst `InEnMedeIndienerCounts` met tuples van de vorm:\n",
                "\n",
                "`[('M.L. Thieme', 'Jesse Klaver', 9),\n",
                " ('Lodewijk Asscher', 'E.G.M. Roemer', 3),\n",
                " ('Lodewijk Asscher', 'Jesse Klaver', 20),\n",
                " ('Lodewijk Asscher', 'Henk Krol', 6),\n",
                " ('Lodewijk Asscher', 'M.L. Thieme', 6)...]`\n",
                "\n",
                "waarin elk tuple het volgende betekent:\n",
                "    (indiener, medeindiener, \"hoe vaak indiener een motie heeft ingediend met medeindiener\")"
            ]
        },
        {
            "cell_type": "code",
            "execution_count": null,
            "metadata": {
                "deletable": false,
                "nbgrader": {
                    "cell_type": "code",
                    "checksum": "957ff4a45489d74f783ee0616594efbe",
                    "grade": false,
                    "grade_id": "Vraag7",
                    "locked": false,
                    "schema_version": 3,
                    "solution": true
                }
            },
            "outputs": [],
            "source": [
                "from collections import Counter  # Handig!\n",
                "\n",
                "c = Counter(InEnMedeIndiener)\n",
                "InEnMedeIndienerCounts = [(*k, v) for k, v in c.items()]\n",
                "InEnMedeIndienerCounts[:5]"
            ]
        },
        {
            "cell_type": "code",
            "execution_count": null,
            "metadata": {
                "deletable": false,
                "editable": false,
                "nbgrader": {
                    "cell_type": "code",
                    "checksum": "287e98fef522f0df7f5cb22e11e9261c",
                    "grade": true,
                    "grade_id": "Vraag7_antwoord",
                    "locked": true,
                    "points": 1,
                    "schema_version": 3,
                    "solution": false
                }
            },
            "outputs": [],
            "source": [
                "assert_equal(type(InEnMedeIndienerCounts), list)"
            ]
        },
        {
            "cell_type": "markdown",
            "metadata": {
                "deletable": false,
                "editable": false,
                "nbgrader": {
                    "cell_type": "markdown",
                    "checksum": "ee6a7ea3001d3badbe350da360eeef40",
                    "grade": false,
                    "grade_id": "cell-2b4e4ee4bf757083",
                    "locked": true,
                    "schema_version": 3,
                    "solution": false
                }
            },
            "source": [
                "## Vraag 8\n",
                "Voeg aan je netwerk   alle  weighted edges (A,B) toe waarbij A een indiener is en\n",
                "    B een medeindiener en  waarin\n",
                "    het gewicht aangeeft hoe vaak indiener A een motie heeft ingediend met medeindiener B.\n",
                "    Gebruik edge attributes hiervoor en het speciale attribute `weight`.\n",
                "       **Je gebruikt natuurlijk je mooie lijst uit de vorige vraag.**"
            ]
        },
        {
            "cell_type": "code",
            "execution_count": null,
            "metadata": {
                "deletable": false,
                "nbgrader": {
                    "cell_type": "code",
                    "checksum": "5678cad6c0f01fdbf455004cdae86af4",
                    "grade": false,
                    "grade_id": "Vraag8",
                    "locked": false,
                    "schema_version": 3,
                    "solution": true
                }
            },
            "outputs": [],
            "source": [
                "G.add_weighted_edges_from(InEnMedeIndienerCounts)\n",
                "\n",
                "# 3 testjes achter elkaar\n",
                "\n",
                "list(G.edges(data=True))[:5], G['Suzanne Kr\u00f6ger']['Cem La\u00e7in'], G['Cem La\u00e7in']['Suzanne Kr\u00f6ger']"
            ]
        },
        {
            "cell_type": "code",
            "execution_count": null,
            "metadata": {
                "deletable": false,
                "editable": false,
                "nbgrader": {
                    "cell_type": "code",
                    "checksum": "c9e827a8263bb9ed86257d29adff4823",
                    "grade": true,
                    "grade_id": "Vraag8_antwoord",
                    "locked": true,
                    "points": 1,
                    "schema_version": 3,
                    "solution": false
                }
            },
            "outputs": [],
            "source": [
                "assert_equal(nx.is_directed(G), True)\n",
                "assert_equal(type(nx.get_edge_attributes(G, 'weight')), dict)"
            ]
        },
        {
            "cell_type": "code",
            "execution_count": null,
            "metadata": {
                "deletable": false,
                "editable": false,
                "nbgrader": {
                    "cell_type": "code",
                    "checksum": "bf36706b0ddd9f809b6426e7c5d66e34",
                    "grade": false,
                    "grade_id": "cell-6d073e3af3f0cf58",
                    "locked": true,
                    "schema_version": 3,
                    "solution": false
                }
            },
            "outputs": [],
            "source": [
                "# als dit niet werkt, gaat er waarschijnlijk wat fout\n",
                "\n",
                "def draw_Rutte(G):\n",
                "    partijdict = defaultdict(list)\n",
                "    for key, values in nx.get_node_attributes(G, 'partij').items():\n",
                "        partijdict[values].append(key)\n",
                "\n",
                "    plt.figure(figsize=(25, 25))\n",
                "\n",
                "    node_list = []\n",
                "    for partij in partijdict.keys():\n",
                "        node_list += list(partijdict[partij])\n",
                "\n",
                "    pos = {}\n",
                "    for i, node in enumerate(node_list):\n",
                "        theta = 2.0 * np.pi * i / len(node_list)\n",
                "        pos[node] = (np.cos(theta), np.sin(theta))\n",
                "\n",
                "    color = sns.color_palette(\"hls\", len(partijdict.keys()))\n",
                "    for i, j in enumerate(partijdict.keys()):\n",
                "        c = np.array(len(partijdict[j]) * color[i]).reshape((len(partijdict[j]),3))\n",
                "        nx.draw_networkx_nodes(\n",
                "            G, pos, nodelist=partijdict[j], node_color=c, label=j)\n",
                "\n",
                "    max_weight = max(nx.get_edge_attributes(G, 'weight').values())\n",
                "    weights = [G[u][v]['weight'] / max_weight for u, v in G.edges()]\n",
                "    nx.draw_networkx_edges(G, pos, width=weights)\n",
                "\n",
                "    plt.legend()\n",
                "    plt.axis('off')\n",
                "    plt.show()\n",
                "\n",
                "\n",
                "draw_Rutte(G)"
            ]
        },
        {
            "cell_type": "markdown",
            "metadata": {
                "deletable": false,
                "editable": false,
                "nbgrader": {
                    "cell_type": "markdown",
                    "checksum": "8d9f4790cc9e067914aa853e2d1f24ba",
                    "grade": false,
                    "grade_id": "pvv_graph",
                    "locked": true,
                    "schema_version": 3,
                    "solution": false
                }
            },
            "source": [
                "## Vraag 9 \n",
                "\n",
                "* Maak een verzameling `PVV` met alle knopen uit `G` die lid zijn van de PVV.\n",
                "* Gebruik nu `draw_Rutte` om het samenwerk verband tussen PVVers te tekenen.\n",
                "* Kijk ook eens naar andere partijen. Valt je iets op?\n",
                "\n",
                "**HINT** Maak eens de verzameling van alle partijen die voorkomen in netwerk `G`. Dat is 1 set comprehensie (waarbij je niet meer naar `motie_dict` gaat).\n",
                "\n",
                "We willen nu voor elke partij weten wat de _dichtheid_ (in het Engels _density_) is van de deelgraaf van `G` geinduceerd door de leden van die partij, deze dictionary noemen we `dichtheid_per_partij`.\n",
                "* Dat maak je gewoon heel makkelijk met 1 dict comprehensie in 1 regel, met daarin nog een geneste set comprehensie.\n",
                "* Maar goed het mag ook anders hoor.\n",
                "* Je antwoord ziet er zo uit (of in een andere volgorde natuurlijk):\n",
                "\n",
                "```\n",
                "dichtheid_per_partij = {'SGP': 0.16666666666666666, 'DENK': 0.8333333333333334, 'PvdA': 0.13333333333333333,\n",
                " ```"
            ]
        },
        {
            "cell_type": "code",
            "execution_count": null,
            "metadata": {
                "deletable": false,
                "nbgrader": {
                    "cell_type": "code",
                    "checksum": "f795e71f3a08eaf2a8fa1236908756a3",
                    "grade": false,
                    "grade_id": "vraag9",
                    "locked": false,
                    "schema_version": 3,
                    "solution": true
                }
            },
            "outputs": [],
            "source": [
                "PVV = set()\n",
                "for x in G.nodes():\n",
                "    if G.nodes[x]['partij'] == 'PVV':\n",
                "        PVV.add(x)\n",
                "\n",
                "partijdict = defaultdict(list)\n",
                "for key, values in nx.get_node_attributes(G, 'partij').items():\n",
                "    partijdict[values].append(key)           \n",
                "            \n",
                "dichtheid_per_partij = {x: nx.density(G.subgraph(y for y in G.nodes() if G.nodes[y]['partij'] == x))for x in partijdict}\n",
                "\n",
                "\n",
                "draw_Rutte(G.subgraph(PVV))\n",
                "# het antwoord even mooi printen\n",
                "sorted(dichtheid_per_partij.items(), key=lambda kv: kv[1])"
            ]
        },
        {
            "cell_type": "code",
            "execution_count": null,
            "metadata": {
                "deletable": false,
                "editable": false,
                "nbgrader": {
                    "cell_type": "code",
                    "checksum": "ed2773967dfa3b931251e2d0f119c595",
                    "grade": true,
                    "grade_id": "vraag9_antwoord",
                    "locked": true,
                    "points": 1,
                    "schema_version": 3,
                    "solution": false
                }
            },
            "outputs": [],
            "source": [
                "assert_equal(type(PVV), set)\n",
                "assert_equal(type(dichtheid_per_partij), dict)\n"
            ]
        },
        {
            "cell_type": "markdown",
            "metadata": {
                "deletable": false,
                "editable": false,
                "nbgrader": {
                    "cell_type": "markdown",
                    "checksum": "68f50fbb6e7539b5763660ffdfcba193",
                    "grade": false,
                    "grade_id": "cell-83e1ca5439e6c038",
                    "locked": true,
                    "schema_version": 3,
                    "solution": false
                }
            },
            "source": [
                "## Vraag 10\n",
                "Bereken in- en outdegree voor elk knoop in het Rutte netwerk `G`.\n",
                "Maak hiervoor de twee lijsten `indegree` en `outdegree`, met daarin de tuples met als eerste waarde de degree en als tweede waarde de naam. Sorteer aflopend op de degrees, en bij gelijke degree omgekeerd alfabetisch op naam.\n",
                "\n",
                "Voorbeeld voor indegree:\n",
                "\n",
                "`[(52, 'Chris Stoffer'),\n",
                "  (46, 'Roelof Bisschop'),\n",
                "  (45, 'Eppo Bruins'),\n",
                "  (45, 'Carla Dik-Faber'),\n",
                "  (44, 'Kees van der Staaij')...]`\n",
                "\n",
                "Op https://data.kro-ncrv.nl/kamerleden-2018/ kun je zien dat een aantal van hen ook bij de meest succesvolle kamerleden (hoogste percentage aangenomen moties en amendementen) van deze kabinetsperiode horen.\n",
                "\n",
                "**Hint:** Kijk eens naar de code in de volgende vraag..... Dat helpt he?"
            ]
        },
        {
            "cell_type": "code",
            "execution_count": null,
            "metadata": {
                "deletable": false,
                "nbgrader": {
                    "cell_type": "code",
                    "checksum": "d63265edcfe1e6ad9fabfdbf9e1e4514",
                    "grade": false,
                    "grade_id": "Vraag10",
                    "locked": false,
                    "schema_version": 3,
                    "solution": true
                }
            },
            "outputs": [],
            "source": [
                "indegree = [(G.in_degree(x), x) for x in G.nodes()]\n",
                "outdegree = [(G.out_degree(x), x) for x in G.nodes()]\n",
                "\n",
                "indegree[:5], outdegree[:5]"
            ]
        },
        {
            "cell_type": "code",
            "execution_count": null,
            "metadata": {
                "deletable": false,
                "editable": false,
                "nbgrader": {
                    "cell_type": "code",
                    "checksum": "9ab70b20e5bc6493ccce4c2006ea2a68",
                    "grade": true,
                    "grade_id": "Vraag10_antwoord",
                    "locked": true,
                    "points": 1,
                    "schema_version": 3,
                    "solution": false
                }
            },
            "outputs": [],
            "source": [
                "assert_equal(type(indegree), list)\n",
                "assert_equal(type(indegree[0]), tuple)\n",
                "assert_equal(type(outdegree), list)\n",
                "assert_equal(type(indegree[0]), tuple)\n"
            ]
        },
        {
            "cell_type": "markdown",
            "metadata": {
                "deletable": false,
                "editable": false,
                "nbgrader": {
                    "cell_type": "markdown",
                    "checksum": "a20fce14be475986a18c8975a4358ec7",
                    "grade": false,
                    "grade_id": "cell-27f4ab6ca7ee0073",
                    "locked": true,
                    "schema_version": 3,
                    "solution": false
                }
            },
            "source": [
                "## Vraag 11\n",
                "\n",
                "Beschouw het Rutte netwerk `G` nu als <strong>een ongerichte graaf</strong> en bepaal de betweenness centrality van elke knoop.\n",
                "\n",
                "Maak een dictionary `bcDict` met als key de knoop en als value de betweenness centrality.\n",
                "\n",
                "Voorbeeld: `{'A. Pechtold': 0.0,\n",
                " 'A.C.L. (Arno) Rutte': 0.0008961172303149877,\n",
                " 'Achraf Bouali': 0.0009292316373274312,\n",
                " 'Agnes Mulder': 0.005956492682257983,\n",
                " 'Albert van den Bosch': 0.0005094599555776784,\n",
                " 'Alexander Kops': 0.006054635024810758,\n",
                " 'Andr\u00e9 Bosman': 0.003933997703294198,\n",
                " 'Anne Kuik': 0.007195012823896772,\n",
                " 'Anne Mulder': 6.656473869236166e-05,..}`"
            ]
        },
        {
            "cell_type": "code",
            "execution_count": null,
            "metadata": {
                "deletable": false,
                "nbgrader": {
                    "cell_type": "code",
                    "checksum": "64dea2c097b5c1226c4eedbbb56dd631",
                    "grade": false,
                    "grade_id": "Vraag11",
                    "locked": false,
                    "schema_version": 3,
                    "solution": true
                }
            },
            "outputs": [],
            "source": [
                "H = G.to_undirected()\n",
                "\n",
                "bcDict = nx.betweenness_centrality(H)\n",
                "\n",
                "#even kijken naar wie de hoogste scores hebben\n",
                "sorted(bcDict.items(), key=operator.itemgetter(1), reverse=True)[:5]\n"
            ]
        },
        {
            "cell_type": "code",
            "execution_count": null,
            "metadata": {
                "deletable": false,
                "editable": false,
                "nbgrader": {
                    "cell_type": "code",
                    "checksum": "dbf0a8d2d68c3dc682aaf3ec4404394f",
                    "grade": true,
                    "grade_id": "Vraag11_antwoord",
                    "locked": true,
                    "points": 1,
                    "schema_version": 3,
                    "solution": false
                }
            },
            "outputs": [],
            "source": [
                "assert_equal(type(bcDict), dict)\n",
                "assert_equal(type(list(bcDict.keys())[0]), str)\n",
                "assert_equal(type(list(bcDict.values())[0]), float)\n"
            ]
        },
        {
            "cell_type": "markdown",
            "metadata": {},
            "source": [
                "# Theorie vragen"
            ]
        },
        {
            "cell_type": "markdown",
            "metadata": {
                "deletable": false,
                "editable": false,
                "nbgrader": {
                    "cell_type": "markdown",
                    "checksum": "d2a64ff2c44225e623d640996088307c",
                    "grade": false,
                    "grade_id": "v17",
                    "locked": true,
                    "schema_version": 3,
                    "solution": false
                }
            },
            "source": [
                "## Vraag 17\n",
                "\n",
                "Given a complete   undirected graph G with n vertices. \n",
                "\n",
                "1. Argue\n",
                "that a given vertex u can lie on XX  shortest paths connecting\n",
                "                two other (distinct) vertices.  Find XX yourself.  \n",
                "\n",
                "2. On how many paths without duplicates does u lie? Give your argument. Hint: this is not easy! You must count very precisely.\n",
                "    * Give the argument, and then program it as well. (You get half a point for both)\n",
                "            "
            ]
        },
        {
            "cell_type": "markdown",
            "metadata": {
                "deletable": false,
                "nbgrader": {
                    "cell_type": "markdown",
                    "checksum": "1c656da6b3026d6d2aefd270c9f3e025",
                    "grade": true,
                    "grade_id": "v17a",
                    "locked": false,
                    "points": 0.5,
                    "schema_version": 3,
                    "solution": true
                }
            },
            "source": [
                "YOUR ANSWER HERE"
            ]
        },
        {
            "cell_type": "code",
            "execution_count": null,
            "metadata": {
                "deletable": false,
                "nbgrader": {
                    "cell_type": "code",
                    "checksum": "ec2bb6b0ee6fb7ec2b929324ff8363c4",
                    "grade": false,
                    "grade_id": "v17aa",
                    "locked": false,
                    "schema_version": 3,
                    "solution": true
                }
            },
            "outputs": [],
            "source": [
                "WRITE YOUR CODE HERE\n",
                "\n",
                "def vraag17(n):\n",
                "    WRITE YOUR CODE HERE\n",
                "vraag17(20), vraag17(3), vraag17(4), vraag17(30), type(vraag17(3))"
            ]
        },
        {
            "cell_type": "code",
            "execution_count": null,
            "metadata": {
                "deletable": false,
                "editable": false,
                "nbgrader": {
                    "cell_type": "code",
                    "checksum": "3325f883c095491aede92de1dd2bf403",
                    "grade": true,
                    "grade_id": "v17aT",
                    "locked": true,
                    "points": 0.5,
                    "schema_version": 3,
                    "solution": false
                }
            },
            "outputs": [],
            "source": [
                "assert isinstance(vraag17(3), np.int)\n",
                "\n"
            ]
        },
        {
            "cell_type": "markdown",
            "metadata": {
                "deletable": false,
                "editable": false,
                "nbgrader": {
                    "cell_type": "markdown",
                    "checksum": "4d14b7a94d14baea2220aa601dc1287f",
                    "grade": false,
                    "grade_id": "v18",
                    "locked": true,
                    "schema_version": 3,
                    "solution": false
                }
            },
            "source": [
                "## Vraag 18 (2pt)\n",
                "\n",
                "1. Geef in het Nederlands de definitie van een  [ongericht bipartiet netwerk](https://en.wikipedia.org/wiki/Bipartite_graph).\n",
                "    * Je definitie moet zo precies zijn dat als je er een netwerk G \"aan geeft\" dat de defnitie dan kan bepalen of het bipartiet is of niet. \n",
                "    * Je definitie is dus al bijna een _algorithme_ of een _programma_.\n",
                "\n",
                "2. Gebruik je definitie   om een echt programma te maken. Het probeert gewoon elke verdeling.\n",
                "    * Van networkx mag je alleen `G.nodes, G.edges, G.subgraph` gebruiken.\n",
                "    * Hint: <https://www.geeksforgeeks.org/python-program-to-get-all-subsets-of-given-size-of-a-set/>\n",
                "    * Hoeveel checks moet je uitvoeren bij een netwerk van $n$ knopen?\n",
                "    * Hoeveel bij  netwerken van 3,5,10,20,30 knopen? (je kan dit zonder rekenmachine)."
            ]
        },
        {
            "cell_type": "markdown",
            "metadata": {
                "deletable": false,
                "nbgrader": {
                    "cell_type": "markdown",
                    "checksum": "ddde83f64e6370a0bb43b1c6b506b45b",
                    "grade": true,
                    "grade_id": "v18a1",
                    "locked": false,
                    "points": 1,
                    "schema_version": 3,
                    "solution": true
                }
            },
            "source": [
                "YOUR ANSWER HERE"
            ]
        },
        {
            "cell_type": "code",
            "execution_count": null,
            "metadata": {
                "deletable": false,
                "nbgrader": {
                    "cell_type": "code",
                    "checksum": "4fe8c38c1245760ff16fe2e35b53cfae",
                    "grade": false,
                    "grade_id": "v18a2",
                    "locked": false,
                    "schema_version": 3,
                    "solution": true
                }
            },
            "outputs": [],
            "source": [
                "%%time\n",
                "WRITE YOUR CODE HERE\n",
                "def bipartiet(G):\n",
                "    '''Returns True iff G is bipartite'''\n",
                "    WRITE YOUR CODE HERE\n",
                "\n",
                "G = nx.house_graph()\n",
                "print(bipartiet(G))\n",
                "#nx.draw_kamada_kawai(G, with_labels=True)\n",
                "H= nx.Graph()\n",
                "H.add_edges_from([(i,i+1) for i in range(10)])\n",
                "nx.draw_kamada_kawai(H, with_labels=True)\n",
                "\n",
                "print(bipartiet(H))"
            ]
        },
        {
            "cell_type": "code",
            "execution_count": null,
            "metadata": {
                "deletable": false,
                "editable": false,
                "nbgrader": {
                    "cell_type": "code",
                    "checksum": "f25cab56b519d595aa56b36d09ee3eab",
                    "grade": true,
                    "grade_id": "v18a2t",
                    "locked": true,
                    "points": 1,
                    "schema_version": 3,
                    "solution": false
                }
            },
            "outputs": [],
            "source": []
        }
    ],
    "metadata": {
        "anaconda-cloud": {},
        "hide_input": false,
        "kernelspec": {
            "display_name": "Python 3 (ipykernel)",
            "language": "python",
            "name": "python3"
        },
        "language_info": {
            "codemirror_mode": {
                "name": "ipython",
                "version": 3
            },
            "file_extension": ".py",
            "mimetype": "text/x-python",
            "name": "python",
            "nbconvert_exporter": "python",
            "pygments_lexer": "ipython3",
            "version": "3.9.7"
        },
        "toc": {
            "nav_menu": {},
            "number_sections": true,
            "sideBar": true,
            "skip_h1_title": false,
            "title_cell": "Table of Contents",
            "title_sidebar": "Contents",
            "toc_cell": false,
            "toc_position": {},
            "toc_section_display": true,
            "toc_window_display": false
        },
        "varInspector": {
            "cols": {
                "lenName": 16,
                "lenType": 16,
                "lenVar": 40
            },
            "kernels_config": {
                "python": {
                    "delete_cmd_postfix": "",
                    "delete_cmd_prefix": "del ",
                    "library": "var_list.py",
                    "varRefreshCmd": "print(var_dic_list())"
                },
                "r": {
                    "delete_cmd_postfix": ") ",
                    "delete_cmd_prefix": "rm(",
                    "library": "var_list.r",
                    "varRefreshCmd": "cat(var_dic_list()) "
                }
            },
            "types_to_exclude": [
                "module",
                "function",
                "builtin_function_or_method",
                "instance",
                "_Feature"
            ],
            "window_display": false
        }
    },
    "nbformat": 4,
    "nbformat_minor": 1
}
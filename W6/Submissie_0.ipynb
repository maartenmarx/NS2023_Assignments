{
 "cells": [
  {
   "cell_type": "markdown",
   "metadata": {},
   "source": [
    "# Assignment Netwerkanalyse"
   ]
  },
  {
   "cell_type": "markdown",
   "metadata": {
    "nbgrader": {
     "grade": false,
     "grade_id": "privacy",
     "locked": false,
     "schema_version": 3,
     "solution": false
    }
   },
   "source": [
    "## Notebook made by\n",
    "\n",
    "**Gebruik graag dit formaat**\n",
    "\n",
    "* Voor de namen:  voornaam rest van je naam, voornaam rest van je naam,....\n",
    "* je studentnummers: hetzelfde: scheidt met `,`\n",
    "* je emails: hetzelfde: scheidt met `,`\n",
    "* voor je groep: alleen de hoofdletter (dus voor de groep van Marx zou je `A` kiezen)\n",
    "\n",
    "__Namen__:Anoniem",
    "\n",
    "__Emails__:Anoniem",
    "\n",
    "__Student id__:Anoniem",
    "\n",
    "__Groep__:Anoniem"
   ]
  },
  {
   "cell_type": "markdown",
   "metadata": {},
   "source": [
    "## Toelichting\n",
    "\n",
    "* De meeste opgaven worden automatisch nagekeken. Bij vrijwel alle opdrachten staan er een paar tests onder de opdracht, dit is voornamelijk om te zorgen dat je de juiste type output geeft. Dit zijn dus *NIET* alle tests, die komen er bij het graden nog bij.\n",
    "* Elke vraag is 1 punt waard, tenzij anders aangegeven. Soms is die punt onderverdeeld in deelpunten, maar niet altijd. \n",
    "\n",
    "## Voor het inleveren!\n",
    "\n",
    "* Pas niet de cellen aan, vooral niet die je niet kunt editen. Dit levert problemen op bij nakijken. Twijfel je of je per ongeluk iets hebt gewijzigd, kopieer dan bij inleveren je antwoorden naar een nieuw bestand, zodat het niet fout kan gaan.\n",
    "\n",
    "* Zorg dat de code goed runt van boven naar beneden, verifieer dat door boven in Kernel -> Restart & Run All uit te voeren\n",
    "\n",
    "## Na het inleveren!\n",
    "\n",
    "* Het gebeurt erg vaak dat mensen een \"leeg bestand\" inleveren. Vaak een andere versie van de opgave die nog ergens op je computer rondslingerde. Zonde van al je werk toch!\n",
    "* Dus, lever **minstens een half uur voor tijd in**. Download dan wat je hebt ingeleverd op Canvas. Geef het een andere naam om verwarring te voorkomen. En draai alle cellen, en bekijk het. Geen syntax fouten? Alle vragen gemaakt? Dan zit het vast wel goed, en hoef je niet in de zenuwen te zitten."
   ]
  },
  {
   "cell_type": "markdown",
   "metadata": {
    "deletable": false,
    "editable": false,
    "nbgrader": {
     "cell_type": "markdown",
     "checksum": "dd3ded8aee810700514967f470e4251c",
     "grade": false,
     "grade_id": "cell-29b47934d085ca5d",
     "locked": true,
     "schema_version": 3,
     "solution": false
    }
   },
   "source": [
    "# Week 6"
   ]
  },
  {
   "cell_type": "code",
   "execution_count": 1,
   "metadata": {
    "deletable": false,
    "editable": false,
    "nbgrader": {
     "cell_type": "code",
     "checksum": "50e1ede8200b511b4d46cdfa44c40fd4",
     "grade": false,
     "grade_id": "cell-ef7fcbdc74fb7c74",
     "locked": true,
     "schema_version": 3,
     "solution": false
    }
   },
   "outputs": [],
   "source": [
    "%matplotlib inline\n",
    "import numpy as np\n",
    "import networkx as nx\n",
    "import matplotlib.pyplot as plt\n",
    "from nose.tools import assert_equal, assert_count_equal\n",
    "from numpy.testing import assert_almost_equal\n",
    "import math"
   ]
  },
  {
   "cell_type": "markdown",
   "metadata": {
    "deletable": false,
    "editable": false,
    "nbgrader": {
     "cell_type": "markdown",
     "checksum": "b7213d5c3b3c20887a3955da648228a2",
     "grade": false,
     "grade_id": "FP",
     "locked": true,
     "schema_version": 3,
     "solution": false
    }
   },
   "source": [
    "# First Course: chap 3.3 Friendship Paradox\n",
    "\n",
    "1. Maak een netwerkx netwerk van Figuur 3.5.\n",
    "2. Waarom is de kans dat je Tom vindt met de \"random friend of picked person\" methode $\\frac{5}{21}$. Geef een heel helder antwoord.\n",
    "3. Programmeer de functie `kans_op_knoop(G,knoop)` die voor elk netwerk, voor elke knoop de kans berekent dat je die knoop trekt met de \"random friend of picked person\" methode.\n",
    "4. Schrijf een test die checked dat die kansen optellen tot 1.\n",
    "5. **Advanced** In de een na laatste paragraaf van 3.3 op blz 76 wordt een andere manier om die kansen te berekenen gemeld, die dezelfde uitkomst geeft. Programmeer die ook, en vergelijk de uitkomsten.\n",
    "    "
   ]
  },
  {
   "cell_type": "markdown",
   "metadata": {},
   "source": [
    "2) de teller is 5 aangezien er 4 personen zijn die bevriend zijn met Tom + Tom zelf is 5. Dit is de kans dat een random persoon uit de groep van 7 Tom dus kent.  "
   ]
  },
  {
   "cell_type": "code",
   "execution_count": 2,
   "metadata": {
    "deletable": false,
    "nbgrader": {
     "cell_type": "code",
     "checksum": "f730e7e5129c52cfcb119f834564e98b",
     "grade": false,
     "grade_id": "FPa",
     "locked": false,
     "schema_version": 3,
     "solution": true
    }
   },
   "outputs": [],
   "source": [
    "Fig35=nx.Graph()\n",
    "Fig35.add_nodes_from({ 'mary', 'nancy', 'tom', 'john', 'pam', 'bob', 'tara'})\n",
    "Fig35.add_edges_from({('mary','nancy'),('nancy','tom'),('tom','john'),('tom','pam'),('john','pam'),('tom','bob'),('nancy','bob'),('bob','tara')})\n",
    "G = Fig35\n",
    "\n",
    "# nx.draw(Fig35, with_labels=True)\n",
    "\n",
    "def kans_op_knoop(G,knoop):\n",
    "    friends = dict()\n",
    "    for node in G.nodes:\n",
    "        print(node)\n",
    "#         for knoop1 in G:\n",
    "#             friends[knoop] +=1\n",
    "#     return friends\n",
    "                \n",
    "\n",
    " \n",
    "\n",
    "# H = nx.karate_club_graph() \n",
    "# # test\n",
    "# sum(kans_op_knoop(H,x) for x in H)\n",
    "#kans_op_knoop(H,1)"
   ]
  },
  {
   "cell_type": "code",
   "execution_count": 3,
   "metadata": {
    "deletable": false,
    "editable": false,
    "nbgrader": {
     "cell_type": "code",
     "checksum": "089bbe5ff2b275be4e29c0e2663f3145",
     "grade": true,
     "grade_id": "FPt",
     "locked": true,
     "points": 1,
     "schema_version": 3,
     "solution": false
    }
   },
   "outputs": [
    {
     "name": "stdout",
     "output_type": "stream",
     "text": [
      "0\n",
      "1\n",
      "2\n",
      "3\n",
      "4\n",
      "5\n",
      "6\n",
      "7\n",
      "8\n",
      "9\n",
      "10\n",
      "11\n",
      "12\n",
      "13\n",
      "14\n",
      "15\n",
      "16\n",
      "17\n",
      "18\n",
      "19\n",
      "20\n",
      "21\n",
      "22\n",
      "23\n",
      "24\n",
      "25\n",
      "26\n",
      "27\n",
      "28\n",
      "29\n",
      "30\n",
      "31\n",
      "32\n",
      "33\n"
     ]
    },
    {
     "ename": "TypeError",
     "evalue": "'<=' not supported between instances of 'int' and 'NoneType'",
     "output_type": "error",
     "traceback": [
      "\u001b[0;31m---------------------------------------------------------------------------\u001b[0m",
      "\u001b[0;31mTypeError\u001b[0m                                 Traceback (most recent call last)",
      "Cell \u001b[0;32mIn[3], line 3\u001b[0m\n\u001b[1;32m      1\u001b[0m \u001b[38;5;28;01massert\u001b[39;00m \u001b[38;5;28misinstance\u001b[39m(Fig35, nx\u001b[38;5;241m.\u001b[39mGraph)\n\u001b[1;32m      2\u001b[0m H\u001b[38;5;241m=\u001b[39m nx\u001b[38;5;241m.\u001b[39mkarate_club_graph()\n\u001b[0;32m----> 3\u001b[0m \u001b[38;5;28;01massert\u001b[39;00m \u001b[38;5;241m0\u001b[39m \u001b[38;5;241m<\u001b[39m\u001b[38;5;241m=\u001b[39m kans_op_knoop(H,\u001b[38;5;241m1\u001b[39m)\u001b[38;5;241m<\u001b[39m\u001b[38;5;241m=\u001b[39m \u001b[38;5;241m1\u001b[39m\n",
      "\u001b[0;31mTypeError\u001b[0m: '<=' not supported between instances of 'int' and 'NoneType'"
     ]
    }
   ],
   "source": [
    "assert isinstance(Fig35, nx.Graph)\n",
    "H= nx.karate_club_graph()\n",
    "assert 0 <= kans_op_knoop(H,1)<= 1\n"
   ]
  },
  {
   "cell_type": "markdown",
   "metadata": {},
   "source": [
    "# First course\n",
    "\n",
    "Maak de sommen 3.11-3.24."
   ]
  },
  {
   "cell_type": "code",
   "execution_count": 4,
   "metadata": {
    "deletable": false,
    "nbgrader": {
     "cell_type": "code",
     "checksum": "8350197b9bcd5809dcfd53a673ba7ddf",
     "grade": true,
     "grade_id": "fc",
     "locked": false,
     "points": 14,
     "schema_version": 3,
     "solution": true
    }
   },
   "outputs": [
    {
     "data": {
      "text/plain": [
       "{1: 0.5,\n",
       " 2: 0.6666666666666666,\n",
       " 3: 0.5454545454545454,\n",
       " 5: 0.6,\n",
       " 4: 0.375,\n",
       " 6: 0.4,\n",
       " 7: 0.4}"
      ]
     },
     "execution_count": 4,
     "metadata": {},
     "output_type": "execute_result"
    },
    {
     "data": {
      "image/png": "[encoded data removed]",
      "text/plain": [
       "<Figure size 640x480 with 1 Axes>"
      ]
     },
     "metadata": {},
     "output_type": "display_data"
    }
   ],
   "source": [
    "F310 = nx.Graph()\n",
    "F310.add_edges_from([(1,2),(1,3),(2,3),(2,5),(3,4),(5,6),(5,7)])\n",
    "nx.draw(F310, with_labels=True)\n",
    "\n",
    "nx.degree_centrality(F310)\n",
    "nx.betweenness_centrality(F310)\n",
    "nx.closeness_centrality(F310)"
   ]
  },
  {
   "cell_type": "markdown",
   "metadata": {},
   "source": [
    "11) a =node 2, 3 en 5  b= node 2 en 5   c= node2   \n",
    "12) bij een hoge heterogeneity parameter zijn de degrees in een graph erg verdeeld. Dit kunnen we bijvoorbeeld doen door 1 node met alle andere nodes te verbinden en de andere negen nodes alleen met deze ene node. dan hebben we een node met een hele hoge degree en de rest van de nodes een lage   \n",
    "13) 1) nee, schoenmaten hebben ongeveer een max en minimum maat (er zijn wel outliers)   \n",
    "2) ja, er zijn huishoudens die ruim boven gemiddeld verdienen   \n",
    "3) ja, er zit veel diversiteit in de hoeveelheid volgers die iemand kan hebben   \n",
    "4) nee, het aantal afstanden in een wikipedia netwerk heeft een maximaal aantal       \n",
    "14) ja, een heavy tailed distribution is een waarschijnlijkheids meting. dus ik zou verbaasd zijn als er een 9m persoon over straat loopt.   \n",
    "15) 1 = 100.000.000, 2 = 5000.000 en 3 = 10.000    \n",
    "16) kon de link niet kopieren    \n",
    "17)     * check hieronder *   \n",
    "18)  -   \n",
    "19) -    \n",
    "20)  -   \n",
    "21) ja, want heavy tailed distributions heeft (een paar) node(s) met een duidelijk grotere hoeveelheid buren/vrienden dat de rest van de nodes en targeted attacks proberen juist dit soort nodes te verwijderen en dat kan grote gevolgen hebben voor het netwerk.  \n",
    "targeted attacks hebben minder invloed op grid networks with similar sizes aangezien deze netwerken geen knopen bevatten die een hele hoge degree waarde hebben en dus als je ze verwijderd minder invloed hebben op de rest van het netwerk.   \n",
    "22) d, want betweenness centralities berekent hoe belangrijk de node is in het netwerk (in hoeverre het op de shortest path ligt tussen nodes). Een node met een hoge betweenness centrality is een node waarmee andere nodes verbonden zijn en daardoor vervolgens aan elkaar. als je deze node dus weg haalt heeft dat een groot effect op het netwerk.    \n",
    "23) als je het netwerk wilt verstoren is een node met een high clustering coefficient beter aangezien een node met een high clustering coefficient erg/meer connected is met nodes eromheen. Als je deze node weghaalt heeft dit meer effect dan een node met een low clustering coefficient aangezien deze node weinig connecties heeft.    \n",
    "24) - \n"
   ]
  },
  {
   "cell_type": "code",
   "execution_count": 5,
   "metadata": {
    "deletable": false,
    "nbgrader": {
     "cell_type": "code",
     "checksum": "2f41e257c27c4187af417e8dd68a4a7c",
     "grade": true,
     "grade_id": "fc324",
     "locked": false,
     "points": 6,
     "schema_version": 3,
     "solution": true
    }
   },
   "outputs": [
    {
     "name": "stdout",
     "output_type": "stream",
     "text": [
      "10.186813186813186\n",
      "['ATL', 'ORD', 'DEN', 'DFW', 'MSP']\n",
      "[(1, 156)]\n",
      "['DEN']\n",
      "['ANC']\n",
      "5.347494770144302\n"
     ]
    }
   ],
   "source": [
    "# VRAAG 17\n",
    "import pandas as pd\n",
    "from collections import Counter\n",
    "  \n",
    "fname ='../../../data/Week6/openflights_usa.edges.gz'\n",
    "H = nx.Graph()\n",
    "H = nx.read_edgelist(fname)\n",
    "\n",
    "# vraag 1\n",
    "all_degrees = sum(dict(H.degree).values())\n",
    "grote_H = len(H)\n",
    "avg_routes = all_degrees/grote_H\n",
    "print(avg_routes)\n",
    "\n",
    "# vraag 2\n",
    "top_5 = sorted(dict(H.degree), key=dict(H.degree).get, reverse=True)[:5]\n",
    "print(top_5)\n",
    "\n",
    "# vraag 3\n",
    "one_degree = Counter(dict(H.degree()).values()).most_common(1)\n",
    "print(one_degree)\n",
    "\n",
    "# vraag 4\n",
    "clos_centr = sorted(dict(nx.closeness_centrality(H)), key=dict(nx.closeness_centrality(H)).get, reverse=True)[:1]\n",
    "print(clos_centr)\n",
    "\n",
    "# vraag 5\n",
    "betw_cent = sorted(dict(nx.betweenness_centrality(H)), key=dict(nx.betweenness_centrality(H)).get, reverse=True)[:1]\n",
    "print(betw_cent)\n",
    "\n",
    "# vraag 6\n",
    "def heterogenity(H):\n",
    "    mean_degree= 2* H.number_of_edges()/H.number_of_nodes()\n",
    "    mean_square_degree= sum(H.degree(nodes)**2 for nodes in H)/H.number_of_nodes()\n",
    "    return  mean_square_degree/(mean_degree**2)\n",
    "\n",
    "\n",
    "print(heterogenity(H))"
   ]
  },
  {
   "cell_type": "code",
   "execution_count": null,
   "metadata": {},
   "outputs": [],
   "source": []
  }
 ],
 "metadata": {
  "hide_input": false,
  "kernelspec": {
   "display_name": "Python 3 (ipykernel)",
   "language": "python",
   "name": "python3"
  },
  "language_info": {
   "codemirror_mode": {
    "name": "ipython",
    "version": 3
   },
   "file_extension": ".py",
   "mimetype": "text/x-python",
   "name": "python",
   "nbconvert_exporter": "python",
   "pygments_lexer": "ipython3",
   "version": "3.8.5"
  },
  "toc": {
   "nav_menu": {},
   "number_sections": true,
   "sideBar": true,
   "skip_h1_title": false,
   "title_cell": "Table of Contents",
   "title_sidebar": "Contents",
   "toc_cell": false,
   "toc_position": {},
   "toc_section_display": true,
   "toc_window_display": false
  },
  "varInspector": {
   "cols": {
    "lenName": 16,
    "lenType": 16,
    "lenVar": 40
   },
   "kernels_config": {
    "python": {
     "delete_cmd_postfix": "",
     "delete_cmd_prefix": "del ",
     "library": "var_list.py",
     "varRefreshCmd": "print(var_dic_list())"
    },
    "r": {
     "delete_cmd_postfix": ") ",
     "delete_cmd_prefix": "rm(",
     "library": "var_list.r",
     "varRefreshCmd": "cat(var_dic_list()) "
    }
   },
   "types_to_exclude": [
    "module",
    "function",
    "builtin_function_or_method",
    "instance",
    "_Feature"
   ],
   "window_display": false
  }
 },
 "nbformat": 4,
 "nbformat_minor": 1
}

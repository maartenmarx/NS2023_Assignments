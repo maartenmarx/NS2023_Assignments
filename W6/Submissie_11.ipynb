{
 "cells": [
  {
   "cell_type": "markdown",
   "metadata": {},
   "source": [
    "# Assignment Netwerkanalyse"
   ]
  },
  {
   "cell_type": "markdown",
   "metadata": {
    "nbgrader": {
     "grade": false,
     "grade_id": "privacy",
     "locked": false,
     "schema_version": 3,
     "solution": false
    }
   },
   "source": [
    "## Notebook made by\n",
    "\n",
    "**Gebruik graag dit formaat**\n",
    "\n",
    "* Voor de namen:  voornaam rest van je naam, voornaam rest van je naam,....\n",
    "* je studentnummers: hetzelfde: scheidt met `,`\n",
    "* je emails: hetzelfde: scheidt met `,`\n",
    "* voor je groep: alleen de hoofdletter (dus voor de groep van Marx zou je `A` kiezen)\n",
    "\n",
    "__Namen__:Anoniem",
    "\n",
    "__Emails__:Anoniem",
    "\n",
    "__Student id__:Anoniem",
    "\n",
    "__Groep__:Anoniem"
   ]
  },
  {
   "cell_type": "markdown",
   "metadata": {},
   "source": [
    "## Toelichting\n",
    "\n",
    "* De meeste opgaven worden automatisch nagekeken. Bij vrijwel alle opdrachten staan er een paar tests onder de opdracht, dit is voornamelijk om te zorgen dat je de juiste type output geeft. Dit zijn dus *NIET* alle tests, die komen er bij het graden nog bij.\n",
    "* Elke vraag is 1 punt waard, tenzij anders aangegeven. Soms is die punt onderverdeeld in deelpunten, maar niet altijd. \n",
    "\n",
    "## Voor het inleveren!\n",
    "\n",
    "* Pas niet de cellen aan, vooral niet die je niet kunt editen. Dit levert problemen op bij nakijken. Twijfel je of je per ongeluk iets hebt gewijzigd, kopieer dan bij inleveren je antwoorden naar een nieuw bestand, zodat het niet fout kan gaan.\n",
    "\n",
    "* Zorg dat de code goed runt van boven naar beneden, verifieer dat door boven in Kernel -> Restart & Run All uit te voeren\n",
    "\n",
    "## Na het inleveren!\n",
    "\n",
    "* Het gebeurt erg vaak dat mensen een \"leeg bestand\" inleveren. Vaak een andere versie van de opgave die nog ergens op je computer rondslingerde. Zonde van al je werk toch!\n",
    "* Dus, lever **minstens een half uur voor tijd in**. Download dan wat je hebt ingeleverd op Canvas. Geef het een andere naam om verwarring te voorkomen. En draai alle cellen, en bekijk het. Geen syntax fouten? Alle vragen gemaakt? Dan zit het vast wel goed, en hoef je niet in de zenuwen te zitten."
   ]
  },
  {
   "cell_type": "markdown",
   "metadata": {
    "deletable": false,
    "editable": false,
    "nbgrader": {
     "cell_type": "markdown",
     "checksum": "dd3ded8aee810700514967f470e4251c",
     "grade": false,
     "grade_id": "cell-29b47934d085ca5d",
     "locked": true,
     "schema_version": 3,
     "solution": false
    }
   },
   "source": [
    "# Week 6"
   ]
  },
  {
   "cell_type": "code",
   "execution_count": 1,
   "metadata": {
    "deletable": false,
    "editable": false,
    "nbgrader": {
     "cell_type": "code",
     "checksum": "50e1ede8200b511b4d46cdfa44c40fd4",
     "grade": false,
     "grade_id": "cell-ef7fcbdc74fb7c74",
     "locked": true,
     "schema_version": 3,
     "solution": false
    }
   },
   "outputs": [],
   "source": [
    "%matplotlib inline\n",
    "import numpy as np\n",
    "import networkx as nx\n",
    "import matplotlib.pyplot as plt\n",
    "from nose.tools import assert_equal, assert_count_equal\n",
    "from numpy.testing import assert_almost_equal\n",
    "import math"
   ]
  },
  {
   "cell_type": "markdown",
   "metadata": {
    "deletable": false,
    "editable": false,
    "nbgrader": {
     "cell_type": "markdown",
     "checksum": "b7213d5c3b3c20887a3955da648228a2",
     "grade": false,
     "grade_id": "FP",
     "locked": true,
     "schema_version": 3,
     "solution": false
    }
   },
   "source": [
    "# First Course: chap 3.3 Friendship Paradox\n",
    "\n",
    "1. Maak een netwerkx netwerk van Figuur 3.5.\n",
    "2. Waarom is de kans dat je Tom vindt met de \"random friend of picked person\" methode $\\frac{5}{21}$. Geef een heel helder antwoord.\n",
    "3. Programmeer de functie `kans_op_knoop(G,knoop)` die voor elk netwerk, voor elke knoop de kans berekent dat je die knoop trekt met de \"random friend of picked person\" methode.\n",
    "4. Schrijf een test die checked dat die kansen optellen tot 1.\n",
    "5. **Advanced** In de een na laatste paragraaf van 3.3 op blz 76 wordt een andere manier om die kansen te berekenen gemeld, die dezelfde uitkomst geeft. Programmeer die ook, en vergelijk de uitkomsten.\n",
    "    "
   ]
  },
  {
   "cell_type": "code",
   "execution_count": 2,
   "metadata": {
    "deletable": false,
    "nbgrader": {
     "cell_type": "code",
     "checksum": "f730e7e5129c52cfcb119f834564e98b",
     "grade": false,
     "grade_id": "FPa",
     "locked": false,
     "schema_version": 3,
     "solution": true
    }
   },
   "outputs": [
    {
     "name": "stdout",
     "output_type": "stream",
     "text": [
      "Vraag 3\n",
      "0.23809523809523808\n",
      "2.0\n"
     ]
    },
    {
     "data": {
      "image/png": "[encoded data removed]",
      "text/plain": [
       "<Figure size 640x480 with 1 Axes>"
      ]
     },
     "metadata": {},
     "output_type": "display_data"
    }
   ],
   "source": [
    "## Vraag 1\n",
    "Fig35=nx.Graph()\n",
    "Fig35.add_nodes_from([\"Tom\", \"John\", \"Pam\", \"Nancy\", \"Mary\", \"Tara\", \"Bob\"])\n",
    "Fig35.add_edges_from([(\"Tom\", \"John\"), (\"Tom\", \"Pam\"), (\"Tom\", \"Nancy\"), (\"Tom\", \"Bob\"), (\"John\",\"Pam\"), (\"Nancy\", \"Bob\"), (\"Bob\", \"Tara\"), (\"Nancy\", \"Mary\")])\n",
    "nx.draw(Fig35, with_labels=True)\n",
    "\n",
    "## Vraag 2\n",
    "# Hiervoor wordt de formule sum(1/aantal nodes * 1/degree(node)). Tom heeft intotaal 4 vrienden. Door deze rekensom voor alle bij elkaar op te tellen, komt 5/21.\n",
    "\n",
    "## Vraag 3\n",
    "def kans_op_knoop(G,knoop):\n",
    "    neighbors = list(G.neighbors(knoop))\n",
    "    N = G.number_of_nodes()\n",
    "    teller = 0\n",
    "    for node in neighbors:\n",
    "        teller = teller + ((1/N) * (1/(G.degree(node))))\n",
    "    return teller\n",
    "print(\"Vraag 3\")\n",
    "print(kans_op_knoop(Fig35, \"Tom\"))   \n",
    "\n",
    "## Vraag 4\n",
    "G = nx.Graph()\n",
    "G.add_edges_from([(1,2), (1,3),(1,4), (2,3), (3,5)])\n",
    "G.add_nodes_from([1,2,3,4,5])\n",
    "# print(advanced(G,1))\n",
    "\n",
    "## Vraag 5\n",
    "def advanced(G, knoop):\n",
    "    teller = 0\n",
    "    for x in list(G.neighbors(knoop)):\n",
    "        teller = teller + G.degree(x)\n",
    "    return (teller - G.degree(knoop))/G.degree(knoop)\n",
    "print(advanced(Fig35, \"Mary\"))   \n",
    "\n",
    "# H= nx.karate_club_graph() \n",
    "# # test\n",
    "# sum(kans_op_knoop(H,x) for x in H)\n",
    "# #kans_op_knoop(H,1)"
   ]
  },
  {
   "cell_type": "code",
   "execution_count": 3,
   "metadata": {
    "deletable": false,
    "editable": false,
    "nbgrader": {
     "cell_type": "code",
     "checksum": "089bbe5ff2b275be4e29c0e2663f3145",
     "grade": true,
     "grade_id": "FPt",
     "locked": true,
     "points": 1,
     "schema_version": 3,
     "solution": false
    }
   },
   "outputs": [],
   "source": [
    "assert isinstance(Fig35, nx.Graph)\n",
    "H= nx.karate_club_graph()\n",
    "assert 0 <= kans_op_knoop(H,1)<= 1\n"
   ]
  },
  {
   "cell_type": "markdown",
   "metadata": {},
   "source": [
    "# First course\n",
    "\n",
    "Maak de sommen 3.11-3.24."
   ]
  },
  {
   "cell_type": "code",
   "execution_count": 4,
   "metadata": {},
   "outputs": [
    {
     "name": "stdout",
     "output_type": "stream",
     "text": [
      "{1: 0.3333333333333333, 2: 0.5, 3: 0.5, 5: 0.5, 6: 0.16666666666666666, 7: 0.16666666666666666, 4: 0.16666666666666666}\n",
      "{1: 0.0, 2: 0.6, 3: 0.3333333333333333, 5: 0.6, 6: 0.0, 7: 0.0, 4: 0.0}\n",
      "{1: 0.5, 2: 0.6666666666666666, 3: 0.5454545454545454, 5: 0.6, 6: 0.4, 7: 0.4, 4: 0.375}\n"
     ]
    }
   ],
   "source": [
    "## Opgave 3.11\n",
    "H = nx.Graph()\n",
    "H.add_edges_from([(1,2),(2,3),(1,3),(2,5),(5,6),(5,7),(3,4)])\n",
    "H.add_nodes_from([1,2,3,4,5,6,7])\n",
    "\n",
    "# Degree centrality\n",
    "Degree = nx.degree_centrality(H)\n",
    "print(Degree)\n",
    "\n",
    "# Betweenness centrality\n",
    "betweenness = nx.betweenness_centrality(H)\n",
    "print(betweenness)\n",
    "\n",
    "# Closeness\n",
    "closeness = {x: nx.closeness_centrality(H,x) for x in H.nodes()}\n",
    "print(closeness)"
   ]
  },
  {
   "cell_type": "markdown",
   "metadata": {
    "deletable": false,
    "nbgrader": {
     "cell_type": "code",
     "checksum": "8350197b9bcd5809dcfd53a673ba7ddf",
     "grade": true,
     "grade_id": "fc",
     "locked": false,
     "points": 14,
     "schema_version": 3,
     "solution": true
    }
   },
   "source": [
    "3.11\n",
    "a) 2,3,5\n",
    "b) 2, 5\n",
    "c) 2\n",
    "\n",
    "3.12\n",
    "Dit netwerk ziet eruit als dat 8 nodes een degree hebben van 2 en 2 nodes een degree hebben van 1.\n",
    "\n",
    "3.13\n",
    "<br>\n",
    "    1. Ik denk hier niet. Ik denk dat dit vrij normaal verdeeld is. Veel maten zullen voorkomen bij bijvoorbeeld 40 tm 43. \n",
    "    <br>\n",
    "    2. Ik verwacht dat inkomen heel erg gevarieerd is en dus ook heel erg normaal verdeeld.\n",
    "    <br>\n",
    "    3. Ik verwacht dat dit ook heel erg verdeeld kan zijn. Sommige mensen hebben een klein sociaal netwerk en anderen hebben een extreem groot netwerk.\n",
    "    <br>\n",
    "    4. Ik verwacht dat deze heel erg heavily tailed is. Ik denk dat het bereiken van andere mensen door vrienden heel close is. Ik denk dat bij een bepaalde waarde veel mensen zullen zijn die hierin overeenkomen.\n",
    "    <br>\n",
    "\n",
    "3.14\n",
    "Dit ligt eraan of de persoon een outlier is of behoort tot de groep. Inprincipe als het heavily tailed is, is de kans zeer groot dat de persoon tot het overgrote deel behoort en zal ik mogelijk niet verbaasd zijn.\n",
    "\n",
    "3.15\n",
    "a) 5e+08\n",
    "b) 5e+06\n",
    "c) 10000\n",
    "\n",
    "3.16\n",
    "Het is maar opgenomen tot 20. Daarna is een rechte lijn aangenomen. Dit betekent dat een persoon niet meer dan 20 sexpartners in de afgelopen 12 maanden mag hebben. Verschillende subnetwerken hoeven niet dezelfde distributie te hebben. Mogelijk door de grote sample, is de kans wel zeer groot dat deze mogelijk gelijk zijn aan elkaar.\n",
    "\n",
    "3.20\n",
    "Ja deze bestaan. Dit kan bijvoorbeeld door een driehoek. Hierbij hebben de buren ook 2 buren en is de average degree ook 2.\n",
    "\n",
    "3.21\n",
    "Jazker. Dit komt omdat een overgroot gedeelte zich bevindt in dezelfde groep. \n",
    "\n",
    "3.22 \n",
    "d, want als een node met een hoge betweenness centrality wordt gebroken, dan is er een gedeelte niet meer verbonden in dit netwerk mogelijk. Hoe hoger deze waarde, hoe meer belangrijke paden tussen nodes hier doorheen gaan.\n",
    "\n",
    "3.23\n",
    "Een node met een lage clusteringscoefficient. Een node met een hoge clustering coefficient is meer verbonden en dus minder essentieel dan een node met een lage clusteringscoefficient die minder verbonden is en dus mogelijk meer als een brug dient."
   ]
  },
  {
   "cell_type": "code",
   "execution_count": 5,
   "metadata": {
    "deletable": false,
    "nbgrader": {
     "cell_type": "code",
     "checksum": "2f41e257c27c4187af417e8dd68a4a7c",
     "grade": true,
     "grade_id": "fc324",
     "locked": false,
     "points": 6,
     "schema_version": 3,
     "solution": true
    }
   },
   "outputs": [
    {
     "name": "stdout",
     "output_type": "stream",
     "text": [
      "10.186813186813186\n",
      "['ATL', 'ORD', 'DEN', 'DFW', 'MSP']\n",
      "156\n",
      "0.3189906081983969\n",
      "0.5038803683651619\n"
     ]
    }
   ],
   "source": [
    "## Vraag 3.17\n",
    "fname='../../../data/Week6/openflights_usa.edges.gz'\n",
    "G= nx.Graph()\n",
    "G = nx.read_edgelist(fname)\n",
    "\n",
    "## Vraag 1\n",
    "Dict = {x: G.degree(x) for x in G.nodes()}\n",
    "teller = 0\n",
    "keys = 0\n",
    "for k,v in Dict.items():\n",
    "    teller = teller + v\n",
    "    keys += 1\n",
    "Gemiddelde = teller / keys\n",
    "print(Gemiddelde)\n",
    "\n",
    "## Vraag 2\n",
    "Sorted_dict = {k: v for k, v in sorted(Dict.items(), key=lambda item: item[1], reverse=True)}\n",
    "print(list(Sorted_dict)[0:5])\n",
    "\n",
    "## Vraag 3\n",
    "antwoord = 0\n",
    "for k,v in Sorted_dict.items():\n",
    "    if v == 1:\n",
    "        antwoord += 1\n",
    "print(antwoord)\n",
    "\n",
    "## Vraag 4\n",
    "betweenness = nx.betweenness_centrality(G)\n",
    "max1_value = max(betweenness.values())\n",
    "print(max1_value)\n",
    "\n",
    "## Vraag 5\n",
    "closeness = {x: nx.closeness_centrality(G,x) for x in G.nodes()}\n",
    "max2_value = max(closeness.values())\n",
    "print(max2_value)"
   ]
  },
  {
   "cell_type": "code",
   "execution_count": 6,
   "metadata": {},
   "outputs": [
    {
     "ename": "AttributeError",
     "evalue": "'Graph' object has no attribute 'in_degree'",
     "output_type": "error",
     "traceback": [
      "\u001b[0;31m---------------------------------------------------------------------------\u001b[0m",
      "\u001b[0;31mAttributeError\u001b[0m                            Traceback (most recent call last)",
      "Cell \u001b[0;32mIn[6], line 6\u001b[0m\n\u001b[1;32m      3\u001b[0m L \u001b[38;5;241m=\u001b[39m nx\u001b[38;5;241m.\u001b[39mread_edgelist(fname1)\n\u001b[1;32m      5\u001b[0m \u001b[38;5;66;03m## Vraag 1\u001b[39;00m\n\u001b[0;32m----> 6\u001b[0m In_degree \u001b[38;5;241m=\u001b[39m [ L\u001b[38;5;241m.\u001b[39min_degree([x]) \u001b[38;5;28;01mfor\u001b[39;00m x \u001b[38;5;129;01min\u001b[39;00m L]\n\u001b[1;32m      7\u001b[0m \u001b[38;5;28mprint\u001b[39m(In_degree)\n",
      "Cell \u001b[0;32mIn[6], line 6\u001b[0m, in \u001b[0;36m<listcomp>\u001b[0;34m(.0)\u001b[0m\n\u001b[1;32m      3\u001b[0m L \u001b[38;5;241m=\u001b[39m nx\u001b[38;5;241m.\u001b[39mread_edgelist(fname1)\n\u001b[1;32m      5\u001b[0m \u001b[38;5;66;03m## Vraag 1\u001b[39;00m\n\u001b[0;32m----> 6\u001b[0m In_degree \u001b[38;5;241m=\u001b[39m [ \u001b[43mL\u001b[49m\u001b[38;5;241;43m.\u001b[39;49m\u001b[43min_degree\u001b[49m([x]) \u001b[38;5;28;01mfor\u001b[39;00m x \u001b[38;5;129;01min\u001b[39;00m L]\n\u001b[1;32m      7\u001b[0m \u001b[38;5;28mprint\u001b[39m(In_degree)\n",
      "\u001b[0;31mAttributeError\u001b[0m: 'Graph' object has no attribute 'in_degree'"
     ]
    }
   ],
   "source": [
    "fname1='../../../data/Week6/enwiki_math.edges.gz'\n",
    "L= nx.DiGraph()\n",
    "L = nx.read_edgelist(fname1)\n",
    "\n",
    "## Vraag 1\n",
    "In_degree = [ L.in_degree([x]) for x in L]\n",
    "print(In_degree)"
   ]
  },
  {
   "cell_type": "code",
   "execution_count": 7,
   "metadata": {},
   "outputs": [
    {
     "name": "stdout",
     "output_type": "stream",
     "text": [
      "4\n",
      "7\n",
      "8\n",
      "2.6666666666666665\n"
     ]
    }
   ],
   "source": [
    "## Vraag 3.19\n",
    "def average_neighbor(G, knoop):\n",
    "    teller = 0\n",
    "    for x in list(G.neighbors(knoop)):\n",
    "        teller = teller + G.degree(x)\n",
    "        print(teller)\n",
    "    return teller / len(list(G.neighbors(knoop)))\n",
    "print(average_neighbor(Fig35, \"Bob\"))  "
   ]
  },
  {
   "cell_type": "code",
   "execution_count": 8,
   "metadata": {},
   "outputs": [
    {
     "name": "stdout",
     "output_type": "stream",
     "text": [
      "0.3821330557395666\n",
      "2105\n",
      "10566\n",
      "8262\n",
      "244\n",
      "92.42680041639065\n",
      "d\n"
     ]
    }
   ],
   "source": [
    "## Vraag 3.24\n",
    "fname='../../../data/Week6/socfb-Northwestern25.edges.gz'\n",
    "K = nx.Graph()\n",
    "K = nx.read_edgelist(fname)\n",
    "\n",
    "## Vraag 1\n",
    "boven = 0\n",
    "onder = 0\n",
    "for x in K:\n",
    "    if K.degree(x) >= 100:\n",
    "        boven += 1\n",
    "    else:\n",
    "        onder += 1\n",
    "print(boven/(boven+onder))\n",
    "\n",
    "## Vraag 2\n",
    "print(max([K.degree(x) for x in K])) #maximale degree\n",
    "print(len(K) - 1) #maximaal mogelijke degree\n",
    "\n",
    "## Vraag 3\n",
    "Dict = {x:K.degree(x) for x in K}\n",
    "teller = 0\n",
    "keys = 0\n",
    "for k,v in Dict.items():\n",
    "    if v > teller:\n",
    "        teller = v\n",
    "        keys = k\n",
    "print(keys)\n",
    "\n",
    "## Vraag 4\n",
    "factor = int(len(K) * 0.95)\n",
    "Sorted_dict = {k: v for k, v in sorted(Dict.items(), key=lambda item: item[1], reverse=False)}\n",
    "node = list(Sorted_dict)[factor]\n",
    "print(K.degree(node))\n",
    "\n",
    "## Vraag 5\n",
    "import numpy as np\n",
    "\n",
    "print(np.array(list(Dict.values())).mean())\n",
    "\n",
    "## Vraag 6\n",
    "print(\"d\")"
   ]
  },
  {
   "cell_type": "code",
   "execution_count": null,
   "metadata": {},
   "outputs": [],
   "source": []
  }
 ],
 "metadata": {
  "hide_input": false,
  "kernelspec": {
   "display_name": "Python 3 (ipykernel)",
   "language": "python",
   "name": "python3"
  },
  "language_info": {
   "codemirror_mode": {
    "name": "ipython",
    "version": 3
   },
   "file_extension": ".py",
   "mimetype": "text/x-python",
   "name": "python",
   "nbconvert_exporter": "python",
   "pygments_lexer": "ipython3",
   "version": "3.8.5"
  },
  "toc": {
   "nav_menu": {},
   "number_sections": true,
   "sideBar": true,
   "skip_h1_title": false,
   "title_cell": "Table of Contents",
   "title_sidebar": "Contents",
   "toc_cell": false,
   "toc_position": {},
   "toc_section_display": true,
   "toc_window_display": false
  },
  "varInspector": {
   "cols": {
    "lenName": 16,
    "lenType": 16,
    "lenVar": 40
   },
   "kernels_config": {
    "python": {
     "delete_cmd_postfix": "",
     "delete_cmd_prefix": "del ",
     "library": "var_list.py",
     "varRefreshCmd": "print(var_dic_list())"
    },
    "r": {
     "delete_cmd_postfix": ") ",
     "delete_cmd_prefix": "rm(",
     "library": "var_list.r",
     "varRefreshCmd": "cat(var_dic_list()) "
    }
   },
   "types_to_exclude": [
    "module",
    "function",
    "builtin_function_or_method",
    "instance",
    "_Feature"
   ],
   "window_display": false
  }
 },
 "nbformat": 4,
 "nbformat_minor": 1
}

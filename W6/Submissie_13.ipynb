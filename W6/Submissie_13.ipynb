{
 "cells": [
  {
   "cell_type": "markdown",
   "metadata": {},
   "source": [
    "# Assignment Netwerkanalyse"
   ]
  },
  {
   "cell_type": "markdown",
   "metadata": {
    "nbgrader": {
     "grade": false,
     "grade_id": "privacy",
     "locked": false,
     "schema_version": 3,
     "solution": false
    }
   },
   "source": [
    "## Notebook made by\n",
    "\n",
    "**Gebruik graag dit formaat**\n",
    "\n",
    "* Voor de namen:  voornaam rest van je naam, voornaam rest van je naam,....\n",
    "* je studentnummers: hetzelfde: scheidt met `,`\n",
    "* je emails: hetzelfde: scheidt met `,`\n",
    "* voor je groep: alleen de hoofdletter (dus voor de groep van Marx zou je `A` kiezen)\n",
    "\n",
    "__Namen__:Anoniem",
    "\n",
    "__Emails__:Anoniem",
    "\n",
    "__Student id__:Anoniem",
    "\n",
    "__Groep__:Anoniem"
   ]
  },
  {
   "cell_type": "markdown",
   "metadata": {},
   "source": [
    "## Toelichting\n",
    "\n",
    "* De meeste opgaven worden automatisch nagekeken. Bij vrijwel alle opdrachten staan er een paar tests onder de opdracht, dit is voornamelijk om te zorgen dat je de juiste type output geeft. Dit zijn dus *NIET* alle tests, die komen er bij het graden nog bij.\n",
    "* Elke vraag is 1 punt waard, tenzij anders aangegeven. Soms is die punt onderverdeeld in deelpunten, maar niet altijd. \n",
    "\n",
    "## Voor het inleveren!\n",
    "\n",
    "* Pas niet de cellen aan, vooral niet die je niet kunt editen. Dit levert problemen op bij nakijken. Twijfel je of je per ongeluk iets hebt gewijzigd, kopieer dan bij inleveren je antwoorden naar een nieuw bestand, zodat het niet fout kan gaan.\n",
    "\n",
    "* Zorg dat de code goed runt van boven naar beneden, verifieer dat door boven in Kernel -> Restart & Run All uit te voeren\n",
    "\n",
    "## Na het inleveren!\n",
    "\n",
    "* Het gebeurt erg vaak dat mensen een \"leeg bestand\" inleveren. Vaak een andere versie van de opgave die nog ergens op je computer rondslingerde. Zonde van al je werk toch!\n",
    "* Dus, lever **minstens een half uur voor tijd in**. Download dan wat je hebt ingeleverd op Canvas. Geef het een andere naam om verwarring te voorkomen. En draai alle cellen, en bekijk het. Geen syntax fouten? Alle vragen gemaakt? Dan zit het vast wel goed, en hoef je niet in de zenuwen te zitten."
   ]
  },
  {
   "cell_type": "markdown",
   "metadata": {
    "deletable": false,
    "editable": false,
    "nbgrader": {
     "cell_type": "markdown",
     "checksum": "dd3ded8aee810700514967f470e4251c",
     "grade": false,
     "grade_id": "cell-29b47934d085ca5d",
     "locked": true,
     "schema_version": 3,
     "solution": false
    }
   },
   "source": [
    "# Week 6"
   ]
  },
  {
   "cell_type": "code",
   "execution_count": null,
   "metadata": {
    "deletable": false,
    "editable": false,
    "nbgrader": {
     "cell_type": "code",
     "checksum": "50e1ede8200b511b4d46cdfa44c40fd4",
     "grade": false,
     "grade_id": "cell-ef7fcbdc74fb7c74",
     "locked": true,
     "schema_version": 3,
     "solution": false
    }
   },
   "outputs": [],
   "source": [
    "%matplotlib inline\n",
    "import numpy as np\n",
    "import networkx as nx\n",
    "import matplotlib.pyplot as plt\n",
    "from nose.tools import assert_equal, assert_count_equal\n",
    "from numpy.testing import assert_almost_equal\n",
    "import math"
   ]
  },
  {
   "cell_type": "markdown",
   "metadata": {
    "deletable": false,
    "editable": false,
    "nbgrader": {
     "cell_type": "markdown",
     "checksum": "b7213d5c3b3c20887a3955da648228a2",
     "grade": false,
     "grade_id": "FP",
     "locked": true,
     "schema_version": 3,
     "solution": false
    }
   },
   "source": [
    "# First Course: chap 3.3 Friendship Paradox\n",
    "\n",
    "1. Maak een netwerkx netwerk van Figuur 3.5.\n",
    "2. Waarom is de kans dat je Tom vindt met de \"random friend of picked person\" methode $\\frac{5}{21}$. Geef een heel helder antwoord.\n",
    "3. Programmeer de functie `kans_op_knoop(G,knoop)` die voor elk netwerk, voor elke knoop de kans berekent dat je die knoop trekt met de \"random friend of picked person\" methode.\n",
    "4. Schrijf een test die checked dat die kansen optellen tot 1.\n",
    "5. **Advanced** In de een na laatste paragraaf van 3.3 op blz 76 wordt een andere manier om die kansen te berekenen gemeld, die dezelfde uitkomst geeft. Programmeer die ook, en vergelijk de uitkomsten.\n",
    "    "
   ]
  },
  {
   "cell_type": "code",
   "execution_count": null,
   "metadata": {
    "deletable": false,
    "nbgrader": {
     "cell_type": "code",
     "checksum": "f730e7e5129c52cfcb119f834564e98b",
     "grade": false,
     "grade_id": "FPa",
     "locked": false,
     "schema_version": 3,
     "solution": true
    }
   },
   "outputs": [],
   "source": [
    "Fig35 = nx.Graph()\n",
    "Fig35.add_nodes_from(['Mary', 'Nancy', 'Tara', 'Bob', 'Pam', 'John', 'Tom'])\n",
    "Fig35.add_edges_from([('Mary', 'Nancy'), ('Nancy', 'Bob'), ('Nancy', 'Tom'), ('Tara', 'Bob'), ('Bob', 'Tom'), ('Tom', 'Pam'), ('Tom', 'John'), ('Pam', 'John')])\n",
    "\n",
    "\n",
    "def kans_op_knoop(G,knoop):\n",
    "    totaal_knopen = len(G.nodes())\n",
    "    degrees = sum([G.degree(x) for x in G.neighbors(knoop)])\n",
    "    kans = (1 / totaal_knopen) * (1 / degrees)\n",
    "    return kans\n",
    "\n",
    " \n",
    "\n",
    "H= nx.karate_club_graph() \n",
    "# test\n",
    "sum(kans_op_knoop(H,x) for x in H)\n",
    "#kans_op_knoop(H,1)"
   ]
  },
  {
   "cell_type": "markdown",
   "metadata": {},
   "source": [
    "**2** \n",
    "De kans dat een willekeurig knooppunt gekozen wordt bedraagt 1 op de 7. Nu willen we de kans berekenen om 'Tom' te selecteren als een willekeurige vriend van een willekeurig gekozen persoon. Tom heeft in totaal 4 vrienden (Bob, Pam, John en Nancy). De kans dat zijn vrienden gekozen worden en daarna Tom kiezen, bedraagt: \n",
    "\n",
    "Voor Bob is de kans (1/7) * (1/3) = 1/21.\n",
    "Voor Pam is de kans (1/7) * (1/2) = 1/14.\n",
    "Voor John is de kans (1/7) * (1/2) = 1/14.\n",
    "Voor Nancy is de kans (1/7) * (1/3) = 1/21.\n",
    "\n",
    "Dit bij elkaar opgeteld bedraagt: 5/21\n",
    "\n"
   ]
  },
  {
   "cell_type": "code",
   "execution_count": null,
   "metadata": {
    "deletable": false,
    "editable": false,
    "nbgrader": {
     "cell_type": "code",
     "checksum": "089bbe5ff2b275be4e29c0e2663f3145",
     "grade": true,
     "grade_id": "FPt",
     "locked": true,
     "points": 1,
     "schema_version": 3,
     "solution": false
    }
   },
   "outputs": [],
   "source": [
    "assert isinstance(Fig35, nx.Graph)\n",
    "H= nx.karate_club_graph()\n",
    "assert 0 <= kans_op_knoop(H,1)<= 1\n"
   ]
  },
  {
   "cell_type": "markdown",
   "metadata": {},
   "source": [
    "# First course\n",
    "\n",
    "Maak de sommen 3.11-3.24."
   ]
  },
  {
   "cell_type": "code",
   "execution_count": null,
   "metadata": {
    "deletable": false,
    "nbgrader": {
     "cell_type": "code",
     "checksum": "8350197b9bcd5809dcfd53a673ba7ddf",
     "grade": true,
     "grade_id": "fc",
     "locked": false,
     "points": 14,
     "schema_version": 3,
     "solution": true
    }
   },
   "outputs": [],
   "source": [
    "# Question 3.11\n",
    "Fig310 = nx.Graph()\n",
    "Fig310.add_nodes_from(['1', '2', '3', '4', '5', '6', '7'])\n",
    "Fig310.add_edges_from([('1', '2'), ('1', '3'), ('2', '3'), ('3', '4'), ('2', '5'), ('5', '6'), ('5', '7')])\n",
    "nx.draw(Fig310)"
   ]
  },
  {
   "cell_type": "code",
   "execution_count": null,
   "metadata": {
    "deletable": false,
    "nbgrader": {
     "cell_type": "code",
     "checksum": "2f41e257c27c4187af417e8dd68a4a7c",
     "grade": true,
     "grade_id": "fc324",
     "locked": false,
     "points": 6,
     "schema_version": 3,
     "solution": true
    }
   },
   "outputs": [],
   "source": [
    "#3.11\n",
    "# Degree centrality\n",
    "degree_centrality = nx.degree_centrality(Fig310)\n",
    "highest_degree_node = max(degree_centrality, key=degree_centrality.get)\n",
    "print(\"Knoop met de hoogste degree centrality:\", highest_degree_node)\n",
    "\n",
    "# Betweenness centrality\n",
    "betweenness_centrality = nx.betweenness_centrality(Fig310)\n",
    "highest_betweenness_node = max(betweenness_centrality, key=betweenness_centrality.get)\n",
    "print(\"Knoop met de hoogste betweenness centrality:\", highest_betweenness_node)\n",
    "\n",
    "# Closeness centrality\n",
    "closeness_centrality = nx.closeness_centrality(Fig310)\n",
    "highest_closeness_node = max(closeness_centrality, key=closeness_centrality.get)\n",
    "print(\"Knoop met de hoogste closeness centrality:\", highest_closeness_node)"
   ]
  },
  {
   "cell_type": "markdown",
   "metadata": {},
   "source": [
    "**3.12** -\n",
    "\n",
    "**3.13** \n",
    "1. Shoe size of UK adults:\n",
    "\n",
    "I would not expect to see a heavy-tailed distribution for shoe size of UK adults.Shoe sizes typically follow a more normal distribution where most people fall within a certain range of sizes, and there are fewer individuals with extremely small or large sizes.\n",
    "\n",
    "2. US household income:\n",
    "\n",
    "I would expect a heavy-tailed distribution. In many countries, including the US, a small number of high-income individuals or households account for a significant portion of the total income. This can be due to factors such as income inequality. \n",
    "\n",
    "3. Node degree in Twitter network:\n",
    "\n",
    "In social networks like Twitter, I would expect to see a heavy-tailed distribution for the node degree. This is because popular or influential people attract more connections or followers. As a result, a few nodes (users) will have a significantly higher number of connections (followers), while most nodes will have only a few connections. This leads to a heavy-tailed distribution of node degrees.\n",
    "\n",
    "4. Pairwise distance in the Wikipedia network:\n",
    "\n",
    "I do not expect a heavy-tailed distribution. Most articles are reachable within a relatively small number of steps, with a diminishing number of articles requiring longer paths. Therefore, a heavy-tailed distribution is not expected for pairwise distances in the Wikipedia network.\n",
    "\n",
    "**3.14** It would still be extremely rare to see a person with this height. While a heavy-tailed distribution allows for the possibility of extreme values, such as very tall individuals, the probability of encountering someone significantly outside the typical height range would still be extremely low.\n",
    "\n",
    "**3.15** t/m **3.20** -\n",
    "\n",
    "**3.21** I suspect that networks with heavy-tailed distributions are more vulnerable to targeted attacks. This can be due to the presence of highly connected hubs. Grid-like networks, on the other hand, are more vulnerable to random attacks because their regular structure makes them susceptible to disruptions that random removals can cause.\n",
    "\n",
    "**3.22** D\n",
    "\n",
    "**3.23** In terms of disrupting the network's connectivity and functionality, the node with the low clustering coefficient would be a better target. Its removal would result in a more significant disruption and potentially lead to the fragmentation of the network into smaller disconnected components.Removing or disabling this node would disconnect a relatively large portion of the network, causing fragmentation or isolation of different components.\n"
   ]
  },
  {
   "cell_type": "code",
   "execution_count": null,
   "metadata": {},
   "outputs": [],
   "source": []
  }
 ],
 "metadata": {
  "hide_input": false,
  "kernelspec": {
   "display_name": "Python 3 (ipykernel)",
   "language": "python",
   "name": "python3"
  },
  "language_info": {
   "codemirror_mode": {
    "name": "ipython",
    "version": 3
   },
   "file_extension": ".py",
   "mimetype": "text/x-python",
   "name": "python",
   "nbconvert_exporter": "python",
   "pygments_lexer": "ipython3",
   "version": "3.8.5"
  },
  "toc": {
   "nav_menu": {},
   "number_sections": true,
   "sideBar": true,
   "skip_h1_title": false,
   "title_cell": "Table of Contents",
   "title_sidebar": "Contents",
   "toc_cell": false,
   "toc_position": {},
   "toc_section_display": true,
   "toc_window_display": false
  },
  "varInspector": {
   "cols": {
    "lenName": 16,
    "lenType": 16,
    "lenVar": 40
   },
   "kernels_config": {
    "python": {
     "delete_cmd_postfix": "",
     "delete_cmd_prefix": "del ",
     "library": "var_list.py",
     "varRefreshCmd": "print(var_dic_list())"
    },
    "r": {
     "delete_cmd_postfix": ") ",
     "delete_cmd_prefix": "rm(",
     "library": "var_list.r",
     "varRefreshCmd": "cat(var_dic_list()) "
    }
   },
   "types_to_exclude": [
    "module",
    "function",
    "builtin_function_or_method",
    "instance",
    "_Feature"
   ],
   "window_display": false
  }
 },
 "nbformat": 4,
 "nbformat_minor": 1
}

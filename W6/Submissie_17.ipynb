{
 "cells": [
  {
   "cell_type": "markdown",
   "metadata": {},
   "source": [
    "# Assignment Netwerkanalyse"
   ]
  },
  {
   "cell_type": "markdown",
   "metadata": {
    "nbgrader": {
     "grade": false,
     "grade_id": "privacy",
     "locked": false,
     "schema_version": 3,
     "solution": false
    }
   },
   "source": [
    "## Notebook made by\n",
    "\n",
    "**Gebruik graag dit formaat**\n",
    "\n",
    "* Voor de namen:  voornaam rest van je naam, voornaam rest van je naam,....\n",
    "* je studentnummers: hetzelfde: scheidt met `,`\n",
    "* je emails: hetzelfde: scheidt met `,`\n",
    "* voor je groep: alleen de hoofdletter (dus voor de groep van Marx zou je `A` kiezen)\n",
    "\n",
    "__Namen__:Anoniem",
    "\n",
    "__Emails__:Anoniem",
    "\n",
    "__Student id__:Anoniem",
    "\n",
    "__Groep__:Anoniem"
   ]
  },
  {
   "cell_type": "markdown",
   "metadata": {},
   "source": [
    "## Toelichting\n",
    "\n",
    "* De meeste opgaven worden automatisch nagekeken. Bij vrijwel alle opdrachten staan er een paar tests onder de opdracht, dit is voornamelijk om te zorgen dat je de juiste type output geeft. Dit zijn dus *NIET* alle tests, die komen er bij het graden nog bij.\n",
    "* Elke vraag is 1 punt waard, tenzij anders aangegeven. Soms is die punt onderverdeeld in deelpunten, maar niet altijd. \n",
    "\n",
    "## Voor het inleveren!\n",
    "\n",
    "* Pas niet de cellen aan, vooral niet die je niet kunt editen. Dit levert problemen op bij nakijken. Twijfel je of je per ongeluk iets hebt gewijzigd, kopieer dan bij inleveren je antwoorden naar een nieuw bestand, zodat het niet fout kan gaan.\n",
    "\n",
    "* Zorg dat de code goed runt van boven naar beneden, verifieer dat door boven in Kernel -> Restart & Run All uit te voeren\n",
    "\n",
    "## Na het inleveren!\n",
    "\n",
    "* Het gebeurt erg vaak dat mensen een \"leeg bestand\" inleveren. Vaak een andere versie van de opgave die nog ergens op je computer rondslingerde. Zonde van al je werk toch!\n",
    "* Dus, lever **minstens een half uur voor tijd in**. Download dan wat je hebt ingeleverd op Canvas. Geef het een andere naam om verwarring te voorkomen. En draai alle cellen, en bekijk het. Geen syntax fouten? Alle vragen gemaakt? Dan zit het vast wel goed, en hoef je niet in de zenuwen te zitten."
   ]
  },
  {
   "cell_type": "markdown",
   "metadata": {
    "deletable": false,
    "editable": false,
    "nbgrader": {
     "cell_type": "markdown",
     "checksum": "dd3ded8aee810700514967f470e4251c",
     "grade": false,
     "grade_id": "cell-29b47934d085ca5d",
     "locked": true,
     "schema_version": 3,
     "solution": false
    }
   },
   "source": [
    "# Week 6"
   ]
  },
  {
   "cell_type": "code",
   "execution_count": 1,
   "metadata": {
    "deletable": false,
    "editable": false,
    "nbgrader": {
     "cell_type": "code",
     "checksum": "50e1ede8200b511b4d46cdfa44c40fd4",
     "grade": false,
     "grade_id": "cell-ef7fcbdc74fb7c74",
     "locked": true,
     "schema_version": 3,
     "solution": false
    }
   },
   "outputs": [],
   "source": [
    "%matplotlib inline\n",
    "import numpy as np\n",
    "import networkx as nx\n",
    "import matplotlib.pyplot as plt\n",
    "from nose.tools import assert_equal, assert_count_equal\n",
    "from numpy.testing import assert_almost_equal\n",
    "import math"
   ]
  },
  {
   "cell_type": "markdown",
   "metadata": {
    "deletable": false,
    "editable": false,
    "nbgrader": {
     "cell_type": "markdown",
     "checksum": "b7213d5c3b3c20887a3955da648228a2",
     "grade": false,
     "grade_id": "FP",
     "locked": true,
     "schema_version": 3,
     "solution": false
    }
   },
   "source": [
    "# First Course: chap 3.3 Friendship Paradox\n",
    "\n",
    "1. Maak een netwerkx netwerk van Figuur 3.5.\n",
    "2. Waarom is de kans dat je Tom vindt met de \"random friend of picked person\" methode $\\frac{5}{21}$. Geef een heel helder antwoord.\n",
    "3. Programmeer de functie `kans_op_knoop(G,knoop)` die voor elk netwerk, voor elke knoop de kans berekent dat je die knoop trekt met de \"random friend of picked person\" methode.\n",
    "4. Schrijf een test die checked dat die kansen optellen tot 1.\n",
    "5. **Advanced** In de een na laatste paragraaf van 3.3 op blz 76 wordt een andere manier om die kansen te berekenen gemeld, die dezelfde uitkomst geeft. Programmeer die ook, en vergelijk de uitkomsten.\n",
    "    "
   ]
  },
  {
   "cell_type": "code",
   "execution_count": 2,
   "metadata": {
    "deletable": false,
    "nbgrader": {
     "cell_type": "code",
     "checksum": "f730e7e5129c52cfcb119f834564e98b",
     "grade": false,
     "grade_id": "FPa",
     "locked": false,
     "schema_version": 3,
     "solution": true
    }
   },
   "outputs": [
    {
     "name": "stdout",
     "output_type": "stream",
     "text": [
      "False\n"
     ]
    },
    {
     "data": {
      "text/plain": [
       "0.8823529411764706"
      ]
     },
     "execution_count": 2,
     "metadata": {},
     "output_type": "execute_result"
    }
   ],
   "source": [
    "Fig35=nx.Graph()\n",
    "\n",
    "Fig35.add_edges_from([('Mary', 'Nancy'), ('Tom', 'Nancy'), ('Nancy', 'Bob'), ('Bob', 'Tara'), ('Tom', 'Bob'), ('Tom', 'John'), \n",
    "                      ('Tom', 'Pam'), ('John', 'Pam')])\n",
    "#nx.draw(Fig35, with_labels = True)\n",
    "#Indien de vriend van een willekeurig individu wordt gekozen is er een 5/21 kans dat Tom gekozen wordt. Tom is namelijk \n",
    "#verbonden met 4 andere mensen (inclusief zichzelf is dat 5)\n",
    "\n",
    "def kans_op_knoop(G,knoop):\n",
    "    import random\n",
    "    aantal = 0\n",
    "    totaal = 0\n",
    "\n",
    "    for n in G.nodes():\n",
    "        rndm = random.choice(list(G.neighbors(n))) \n",
    "        if rndm == knoop:\n",
    "            aantal += 1\n",
    "\n",
    "        totaal += 1\n",
    "\n",
    "    kans = aantal / totaal\n",
    "    return kans\n",
    "\n",
    " \n",
    "knopen = list(Fig35.nodes())\n",
    "totale_kans = 0\n",
    "\n",
    "for knoop in knopen:\n",
    "    kans = kans_op_knoop(Fig35, knoop)\n",
    "    totale_kans += kans\n",
    "    \n",
    "print(totale_kans == 0)\n",
    "H= nx.karate_club_graph() \n",
    "# test\n",
    "sum(kans_op_knoop(H,x) for x in H)\n",
    "#kans_op_knoop(H,1)"
   ]
  },
  {
   "cell_type": "code",
   "execution_count": 3,
   "metadata": {
    "deletable": false,
    "editable": false,
    "nbgrader": {
     "cell_type": "code",
     "checksum": "089bbe5ff2b275be4e29c0e2663f3145",
     "grade": true,
     "grade_id": "FPt",
     "locked": true,
     "points": 1,
     "schema_version": 3,
     "solution": false
    }
   },
   "outputs": [],
   "source": [
    "assert isinstance(Fig35, nx.Graph)\n",
    "H= nx.karate_club_graph()\n",
    "assert 0 <= kans_op_knoop(H,1)<= 1\n"
   ]
  },
  {
   "cell_type": "markdown",
   "metadata": {},
   "source": [
    "# First course\n",
    "\n",
    "Maak de sommen 3.11-3.24."
   ]
  },
  {
   "cell_type": "code",
   "execution_count": 4,
   "metadata": {
    "deletable": false,
    "nbgrader": {
     "cell_type": "code",
     "checksum": "8350197b9bcd5809dcfd53a673ba7ddf",
     "grade": true,
     "grade_id": "fc",
     "locked": false,
     "points": 14,
     "schema_version": 3,
     "solution": true
    }
   },
   "outputs": [
    {
     "name": "stdout",
     "output_type": "stream",
     "text": [
      "[2, 3, 5]\n",
      "[2, 5]\n",
      "[2]\n"
     ]
    }
   ],
   "source": [
    "#3.11\n",
    "G = nx.Graph()\n",
    "\n",
    "G.add_nodes_from([1, 2, 3, 4, 5, 6, 7])\n",
    "G.add_edges_from([(1, 2), (1, 3), (2, 3), (2, 5), (5, 6), (5, 7), (3, 4)])\n",
    "\n",
    "\n",
    "degree =nx.degree_centrality(G)\n",
    "\n",
    "max_degree = [key for key, value in degree.items() if value == max(degree.values())]\n",
    "print(max_degree)\n",
    "\n",
    "betweenness = nx.betweenness_centrality(G)\n",
    "max_between = [key for key, value in betweenness.items() if value == max(betweenness.values())]\n",
    "print(max_between)\n",
    "\n",
    "close = nx.closeness_centrality(G)\n",
    "max_close = [key for key, value in close.items() if value == max(close.values())]\n",
    "print(max_close)\n",
    "\n",
    "product_cost = {\n",
    "    \"apples\": 0.50,\n",
    "    \"fruit\": 1.20,\n",
    "    \"bananas\": 0.40\n",
    "}\n",
    "\n",
    "\n",
    "#3.12: de graph zou rechts positieve verdeling (right skewed distribution) hebben\n",
    "\n",
    "#3.13 \n",
    "#1: nee want meeste zullen rond het gemiddelde hebben en de rest zal niet met grote mate verschillen\n",
    "#2: Ja, wegens ongelijkheid in de VS zullen er grote verschillen zijn\n",
    "#3: Ja want een aantal twitter accounts zijn in grote mate verbonden terwijl andere juist het tegenovergestelde zijn (privé accounts)\n",
    "#4: Nee, want het is redelijk simpel om via veel wikipedia pagina in de kortste stappen naar een andere pagina leidt zonder enige verschillen in originele (start)pagina's \n",
    "\n",
    "#3.14:Nee want dit zou mogelijk zijn indien het heavy skewed zou zijn"
   ]
  },
  {
   "cell_type": "code",
   "execution_count": 5,
   "metadata": {
    "deletable": false,
    "nbgrader": {
     "cell_type": "code",
     "checksum": "2f41e257c27c4187af417e8dd68a4a7c",
     "grade": true,
     "grade_id": "fc324",
     "locked": false,
     "points": 6,
     "schema_version": 3,
     "solution": true
    }
   },
   "outputs": [
    {
     "data": {
      "text/plain": [
       "'\"3.15 \\n1, 100000000\\n2, 1000000\\n3, 10000\\n3.16\\nmax = 1000\\ndit betekent dat er iemand 1000 partners heeft gehad.\\nmannen en vrouwen hebben een andere distributie, mannen hebben het over algemeen meer partners dan vrouwen, de degree van mannen is dus gemiddeld hoger.\\n3.17\\n1, 100\\n2, frankfurt airport, istanbul airport, paris charles de gaulle airport, Amsterdam schiphol airport, Chicago o\\'hare international airport.\\n3, 10000\\n4, frankfurt airport\\n5, schiphol airport\\n6, de hoeveelheid vluchten die binnen komen en weg gaan.\\n\\n3.18\\n1, Ze zijn bijna allemaal aan elkaar gelinkt\\n2, +\\n3, -\\n4, in is groter\\n\\n3.19\\ndef average_neighbor_degree(graph, node):\\n    neighbors = graph.neighbors(node)\\n    degrees = [graph.degree(neighbor) for neighbor in neighbors]\\n    if len(degrees) > 0:\\n        return sum(degrees) / len(degrees)\\n    else:\\n        return 0\\naverage_degree_of_neighbors = average_neighbor_degree(graph, \"node_name\")\\n--------------------------------------------------\\ndef compute_average_degree_of_neighbors(graph):\\n    avg_degrees = []\\n    for node in graph.nodes():\\n        avg_degrees.append(average_neighbor_degree(graph, node))\\n    return sum(avg_degrees) / len(avg_degrees)\\naverage_degree_of_neighbors_all_nodes = compute_average_degree_of_neighbors(graph)\\n---------------------------------------------------\\naverage_node_degree = sum(dict(graph.degree()).values()) / len(graph.nodes())\\n\\nif average_degree_of_neighbors_all_nodes > average_node_degree:\\n    print(\"The Friendship Paradox holds.\")\\nelse:\\n    print(\"The Friendship Paradox does not hold.\")\\n'"
      ]
     },
     "execution_count": 5,
     "metadata": {},
     "output_type": "execute_result"
    }
   ],
   "source": [
    "\"\"\"\"3.15 \n",
    "1, 100000000\n",
    "2, 1000000\n",
    "3, 10000\n",
    "3.16\n",
    "max = 1000\n",
    "dit betekent dat er iemand 1000 partners heeft gehad.\n",
    "mannen en vrouwen hebben een andere distributie, mannen hebben het over algemeen meer partners dan vrouwen, de degree van mannen is dus gemiddeld hoger.\n",
    "3.17\n",
    "1, 100\n",
    "2, frankfurt airport, istanbul airport, paris charles de gaulle airport, Amsterdam schiphol airport, Chicago o'hare international airport.\n",
    "3, 10000\n",
    "4, frankfurt airport\n",
    "5, schiphol airport\n",
    "6, de hoeveelheid vluchten die binnen komen en weg gaan.\n",
    "\n",
    "3.18\n",
    "1, Ze zijn bijna allemaal aan elkaar gelinkt\n",
    "2, +\n",
    "3, -\n",
    "4, in is groter\n",
    "\n",
    "3.19\n",
    "def average_neighbor_degree(graph, node):\n",
    "    neighbors = graph.neighbors(node)\n",
    "    degrees = [graph.degree(neighbor) for neighbor in neighbors]\n",
    "    if len(degrees) > 0:\n",
    "        return sum(degrees) / len(degrees)\n",
    "    else:\n",
    "        return 0\n",
    "average_degree_of_neighbors = average_neighbor_degree(graph, \"node_name\")\n",
    "--------------------------------------------------\n",
    "def compute_average_degree_of_neighbors(graph):\n",
    "    avg_degrees = []\n",
    "    for node in graph.nodes():\n",
    "        avg_degrees.append(average_neighbor_degree(graph, node))\n",
    "    return sum(avg_degrees) / len(avg_degrees)\n",
    "average_degree_of_neighbors_all_nodes = compute_average_degree_of_neighbors(graph)\n",
    "---------------------------------------------------\n",
    "average_node_degree = sum(dict(graph.degree()).values()) / len(graph.nodes())\n",
    "\n",
    "if average_degree_of_neighbors_all_nodes > average_node_degree:\n",
    "    print(\"The Friendship Paradox holds.\")\n",
    "else:\n",
    "    print(\"The Friendship Paradox does not hold.\")\n",
    "\"\"\""
   ]
  },
  {
   "cell_type": "code",
   "execution_count": 6,
   "metadata": {},
   "outputs": [
    {
     "name": "stdout",
     "output_type": "stream",
     "text": [
      "Proportion of nodes with degree 100 or greater: 0.3821330557395666\n",
      "Maximum degree in the network: 2105\n",
      "Node with the highest degree: 8262\n",
      "95th percentile for degree: 244.0\n",
      "Mean degree: 92\n"
     ]
    },
    {
     "data": {
      "image/png": "[encoded data removed]",
      "text/plain": [
       "<Figure size 640x480 with 1 Axes>"
      ]
     },
     "metadata": {},
     "output_type": "display_data"
    }
   ],
   "source": [
    "G = nx.read_edgelist('../../../data/Week6/socfb-Northwestern25.edges.gz', nodetype=int)\n",
    "\n",
    "proportion = len([node for node in G.nodes() if G.degree(node) >= 100]) / len(G.nodes())\n",
    "degrees = dict(G.degree()).values()\n",
    "max_degree = max(degrees)\n",
    "node_highest_degree = max(G, key=G.degree)\n",
    "percentile_95 = np.percentile(list(degrees), 95)\n",
    "mean_degree = int(np.mean(list(degrees)))\n",
    "\n",
    "print(\"Proportion of nodes with degree 100 or greater:\", proportion)\n",
    "print(\"Maximum degree in the network:\", max_degree)\n",
    "print(\"Node with the highest degree:\", node_highest_degree)\n",
    "print(\"95th percentile for degree:\", percentile_95)\n",
    "print(\"Mean degree:\", mean_degree)\n",
    "\n",
    "plt.hist(degrees, bins=30)\n",
    "plt.xlabel(\"Degree\")\n",
    "plt.ylabel(\"Frequency\")\n",
    "plt.title(\"Degree Distribution\")\n",
    "plt.show()\n"
   ]
  },
  {
   "cell_type": "code",
   "execution_count": null,
   "metadata": {},
   "outputs": [],
   "source": []
  },
  {
   "cell_type": "code",
   "execution_count": null,
   "metadata": {},
   "outputs": [],
   "source": []
  }
 ],
 "metadata": {
  "hide_input": false,
  "kernelspec": {
   "display_name": "Python 3 (ipykernel)",
   "language": "python",
   "name": "python3"
  },
  "language_info": {
   "codemirror_mode": {
    "name": "ipython",
    "version": 3
   },
   "file_extension": ".py",
   "mimetype": "text/x-python",
   "name": "python",
   "nbconvert_exporter": "python",
   "pygments_lexer": "ipython3",
   "version": "3.8.5"
  },
  "toc": {
   "nav_menu": {},
   "number_sections": true,
   "sideBar": true,
   "skip_h1_title": false,
   "title_cell": "Table of Contents",
   "title_sidebar": "Contents",
   "toc_cell": false,
   "toc_position": {},
   "toc_section_display": true,
   "toc_window_display": false
  },
  "varInspector": {
   "cols": {
    "lenName": 16,
    "lenType": 16,
    "lenVar": 40
   },
   "kernels_config": {
    "python": {
     "delete_cmd_postfix": "",
     "delete_cmd_prefix": "del ",
     "library": "var_list.py",
     "varRefreshCmd": "print(var_dic_list())"
    },
    "r": {
     "delete_cmd_postfix": ") ",
     "delete_cmd_prefix": "rm(",
     "library": "var_list.r",
     "varRefreshCmd": "cat(var_dic_list()) "
    }
   },
   "types_to_exclude": [
    "module",
    "function",
    "builtin_function_or_method",
    "instance",
    "_Feature"
   ],
   "window_display": false
  }
 },
 "nbformat": 4,
 "nbformat_minor": 1
}

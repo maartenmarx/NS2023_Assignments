{
 "cells": [
  {
   "cell_type": "markdown",
   "metadata": {},
   "source": [
    "# Assignment Netwerkanalyse"
   ]
  },
  {
   "cell_type": "markdown",
   "metadata": {
    "nbgrader": {
     "grade": false,
     "grade_id": "privacy",
     "locked": false,
     "schema_version": 3,
     "solution": false
    }
   },
   "source": [
    "## Notebook made by\n",
    "\n",
    "**Gebruik graag dit formaat**\n",
    "\n",
    "* Voor de namen:  voornaam rest van je naam, voornaam rest van je naam,....\n",
    "* je studentnummers: hetzelfde: scheidt met `,`\n",
    "* je emails: hetzelfde: scheidt met `,`\n",
    "* voor je groep: alleen de hoofdletter (dus voor de groep van Marx zou je `A` kiezen)\n",
    "\n",
    "__Namen__:Anoniem",
    "\n",
    "__Emails__:Anoniem",
    "\n",
    "__Student id__:Anoniem",
    "\n",
    "__Groep__:Anoniem"
   ]
  },
  {
   "cell_type": "markdown",
   "metadata": {},
   "source": [
    "## Toelichting\n",
    "\n",
    "* De meeste opgaven worden automatisch nagekeken. Bij vrijwel alle opdrachten staan er een paar tests onder de opdracht, dit is voornamelijk om te zorgen dat je de juiste type output geeft. Dit zijn dus *NIET* alle tests, die komen er bij het graden nog bij.\n",
    "* Elke vraag is 1 punt waard, tenzij anders aangegeven. Soms is die punt onderverdeeld in deelpunten, maar niet altijd. \n",
    "\n",
    "## Voor het inleveren!\n",
    "\n",
    "* Pas niet de cellen aan, vooral niet die je niet kunt editen. Dit levert problemen op bij nakijken. Twijfel je of je per ongeluk iets hebt gewijzigd, kopieer dan bij inleveren je antwoorden naar een nieuw bestand, zodat het niet fout kan gaan.\n",
    "\n",
    "* Zorg dat de code goed runt van boven naar beneden, verifieer dat door boven in Kernel -> Restart & Run All uit te voeren\n",
    "\n",
    "## Na het inleveren!\n",
    "\n",
    "* Het gebeurt erg vaak dat mensen een \"leeg bestand\" inleveren. Vaak een andere versie van de opgave die nog ergens op je computer rondslingerde. Zonde van al je werk toch!\n",
    "* Dus, lever **minstens een half uur voor tijd in**. Download dan wat je hebt ingeleverd op Canvas. Geef het een andere naam om verwarring te voorkomen. En draai alle cellen, en bekijk het. Geen syntax fouten? Alle vragen gemaakt? Dan zit het vast wel goed, en hoef je niet in de zenuwen te zitten."
   ]
  },
  {
   "cell_type": "markdown",
   "metadata": {
    "deletable": false,
    "editable": false,
    "nbgrader": {
     "cell_type": "markdown",
     "checksum": "dd3ded8aee810700514967f470e4251c",
     "grade": false,
     "grade_id": "cell-29b47934d085ca5d",
     "locked": true,
     "schema_version": 3,
     "solution": false
    }
   },
   "source": [
    "# Week 6"
   ]
  },
  {
   "cell_type": "code",
   "execution_count": 1,
   "metadata": {
    "deletable": false,
    "editable": false,
    "nbgrader": {
     "cell_type": "code",
     "checksum": "50e1ede8200b511b4d46cdfa44c40fd4",
     "grade": false,
     "grade_id": "cell-ef7fcbdc74fb7c74",
     "locked": true,
     "schema_version": 3,
     "solution": false
    }
   },
   "outputs": [],
   "source": [
    "%matplotlib inline\n",
    "import numpy as np\n",
    "import networkx as nx\n",
    "import matplotlib.pyplot as plt\n",
    "from nose.tools import assert_equal, assert_count_equal\n",
    "from numpy.testing import assert_almost_equal\n",
    "import math"
   ]
  },
  {
   "cell_type": "markdown",
   "metadata": {
    "deletable": false,
    "editable": false,
    "nbgrader": {
     "cell_type": "markdown",
     "checksum": "b7213d5c3b3c20887a3955da648228a2",
     "grade": false,
     "grade_id": "FP",
     "locked": true,
     "schema_version": 3,
     "solution": false
    }
   },
   "source": [
    "# First Course: chap 3.3 Friendship Paradox\n",
    "\n",
    "1. Maak een netwerkx netwerk van Figuur 3.5.\n",
    "2. Waarom is de kans dat je Tom vindt met de \"random friend of picked person\" methode $\\frac{5}{21}$. Geef een heel helder antwoord.\n",
    "3. Programmeer de functie `kans_op_knoop(G,knoop)` die voor elk netwerk, voor elke knoop de kans berekent dat je die knoop trekt met de \"random friend of picked person\" methode.\n",
    "4. Schrijf een test die checked dat die kansen optellen tot 1.\n",
    "5. **Advanced** In de een na laatste paragraaf van 3.3 op blz 76 wordt een andere manier om die kansen te berekenen gemeld, die dezelfde uitkomst geeft. Programmeer die ook, en vergelijk de uitkomsten.\n",
    "    "
   ]
  },
  {
   "cell_type": "code",
   "execution_count": 2,
   "metadata": {
    "deletable": false,
    "nbgrader": {
     "cell_type": "code",
     "checksum": "f730e7e5129c52cfcb119f834564e98b",
     "grade": false,
     "grade_id": "FPa",
     "locked": false,
     "schema_version": 3,
     "solution": true
    }
   },
   "outputs": [
    {
     "name": "stdout",
     "output_type": "stream",
     "text": [
      "0.23809523809523808\n"
     ]
    },
    {
     "data": {
      "text/plain": [
       "1.0"
      ]
     },
     "execution_count": 2,
     "metadata": {},
     "output_type": "execute_result"
    },
    {
     "data": {
      "image/png": "[encoded data removed]",
      "text/plain": [
       "<Figure size 640x480 with 1 Axes>"
      ]
     },
     "metadata": {},
     "output_type": "display_data"
    }
   ],
   "source": [
    "Fig35=nx.Graph()\n",
    "Fig35.add_nodes_from([\"Mary\", \"Nancy\", \"Tom\", \"John\", \"Pam\", \"Bob\", \"Tara\"])\n",
    "Fig35.add_edges_from([(\"Mary\", \"Nancy\"), (\"Nancy\", \"Tom\"), (\"Tom\", \"John\"), (\"Tom\", \"Pam\"), (\"John\", \"Pam\"), (\"Tom\", \"Bob\"), (\"Bob\", \"Tara\"), (\"Bob\", \"Nancy\")])\n",
    "\n",
    "nx.draw(Fig35, with_labels=True)\n",
    "\n",
    "def kans_op_knoop(G,knoop):\n",
    "    #WRITE YOUR CODE HERE\n",
    "#     neighbors = list(G.neighbors(knoop))\n",
    "#     total= 0\n",
    "#     for i in neighbors:\n",
    "#         total += ((1/G.degree(i)) * (1/len(G.nodes())))\n",
    "    return sum((1 / G.degree(i)) * (1 / len(G.nodes())) for i in list(G.neighbors(knoop)))\n",
    "\n",
    "\n",
    "H= nx.karate_club_graph() \n",
    "# test\n",
    "print(kans_op_knoop(Fig35, \"Tom\"))\n",
    "sum(kans_op_knoop(H,x) for x in H)\n",
    "#kans_op_knoop(H,1)\n",
    "\n",
    "## ANTWOORD\n",
    "#2. de kans dat je Tom vindt met de \"random friend of picked person\" methode is de som voor alle buren van Tom van 1/7 * 1/degree van die buur, dus dan wordt het 1/7*1/2 + 1/7*1/2 + 1/7*1/3 + 1/7*1/3 "
   ]
  },
  {
   "cell_type": "code",
   "execution_count": 3,
   "metadata": {
    "deletable": false,
    "editable": false,
    "nbgrader": {
     "cell_type": "code",
     "checksum": "089bbe5ff2b275be4e29c0e2663f3145",
     "grade": true,
     "grade_id": "FPt",
     "locked": true,
     "points": 1,
     "schema_version": 3,
     "solution": false
    }
   },
   "outputs": [],
   "source": [
    "assert isinstance(Fig35, nx.Graph)\n",
    "H= nx.karate_club_graph()\n",
    "assert 0 <= kans_op_knoop(H,1)<= 1\n"
   ]
  },
  {
   "cell_type": "markdown",
   "metadata": {},
   "source": [
    "# First course\n",
    "\n",
    "Maak de sommen 3.11-3.24."
   ]
  },
  {
   "cell_type": "code",
   "execution_count": 4,
   "metadata": {
    "deletable": false,
    "nbgrader": {
     "cell_type": "code",
     "checksum": "8350197b9bcd5809dcfd53a673ba7ddf",
     "grade": true,
     "grade_id": "fc",
     "locked": false,
     "points": 14,
     "schema_version": 3,
     "solution": true
    }
   },
   "outputs": [
    {
     "name": "stdout",
     "output_type": "stream",
     "text": [
      "546\n",
      "15220\n"
     ]
    },
    {
     "data": {
      "image/png": "[encoded data removed]",
      "text/plain": [
       "<Figure size 640x480 with 1 Axes>"
      ]
     },
     "metadata": {},
     "output_type": "display_data"
    }
   ],
   "source": [
    "# # 3.11\n",
    "Fig310 = nx.Graph()\n",
    "Fig310.add_nodes_from([1, 2, 3, 4, 5, 6, 7])\n",
    "Fig310.add_edges_from([(1, 2), (1, 3), (2, 3), (3, 4), (2, 5), (5, 6), (5, 7)])\n",
    "nx.draw(Fig310, with_labels=True)\n",
    "\n",
    "# # Degree centrality\n",
    "#max_degree_centrality = max(degree_centrality.values())\n",
    "#highest_degree_centrality_nodes = [node for node, centrality in degree_centrality.items() if centrality == max_degree_centrality]\n",
    "\n",
    "# # Betweenness centrality\n",
    "betweenness_centrality = nx.betweenness_centrality(Fig310)\n",
    "highest_betweenness_centrality = max(betweenness_centrality, key=betweenness_centrality.get)\n",
    "\n",
    "# # Closeness centrality\n",
    "closeness_centrality = nx.closeness_centrality(Fig310)\n",
    "highest_closeness_centrality = max(closeness_centrality, key=closeness_centrality.get)\n",
    "\n",
    "# highest_degree_centrality_nodes, highest_betweenness_centrality, highest_closeness_centrality\n",
    "\n",
    "# # 3.12\n",
    "# the graph would likely exhibit a few highly connected nodes (hubs) with many edges radiating from them, while the remaining nodes would have fewer connections.\n",
    "\n",
    "# # 3.13\n",
    "# 1. it is unlikely to see a heavy-tailed distribution for the shoe size of UK adults. Shoe sizes tend to follow a more symmetric distribution centered around the average shoe size.\n",
    "# 2. it is highly likely to see a heavy-tailed distribution for US household income. Income distributions often exhibit a long tail with a few high-income individuals or households, resulting in a heavy-tailed distribution. \n",
    "# 3. it is likely to see a heavy-tailed distribution for node degree in the Twitter social network. Social networks often exhibit a scale-free property, where a small number of nodes (influencers, celebrities, or popular accounts) have a significantly higher number of connections (followers or friends) compared to the majority of nodes.\n",
    "# 4. it is unlikely to see a heavy-tailed distribution for pairwise distance in the Wikipedia network. Pairwise distance typically represents the distance or number of hops between nodes in a network. In most networks, including the Wikipedia network, the pairwise distance tends to follow a more symmetric distribution without extreme outliers.\n",
    "\n",
    "# # 3.14\n",
    "# no\n",
    "\n",
    "\n",
    "# # 3.15\n",
    "# 1. 1e+08\n",
    "# 2. 1e+07\n",
    "# 3. 100000\n",
    "\n",
    "# 3.17\n",
    "fname ='../../../data/Week6/openflights_usa.edges.gz'\n",
    "G= nx.Graph()\n",
    "G = nx.read_edgelist(fname)\n",
    "print(len(G))\n",
    "\n",
    "# 1\n",
    "average_number_of_routes = len(G.edges())/ len(G.nodes())\n",
    "\n",
    "# 2\n",
    "top_five_airports = sorted(G.degree(), key=lambda x: x[1], reverse=True)[:5]\n",
    "\n",
    "# 3 \n",
    "single_route = sum( 1 for node in G.nodes() if G.degree(node) == 1)\n",
    "\n",
    "# 4\n",
    "closeness_centrality = nx.closeness_centrality(G)\n",
    "highest_closeness_centrality = max(closeness_centrality, key=closeness_centrality.get)\n",
    "\n",
    "#5 \n",
    "betweenness_centrality = nx.betweenness_centrality(G)\n",
    "highest_betweennes_centrality = max(betweenness_centrality, key=betweenness_centrality.get)\n",
    "\n",
    "#6 \n",
    "degrees = dict(G.degree())\n",
    "N = len(degrees)\n",
    "sum_d = sum(degrees.values())\n",
    "sum_d_squared = sum([d**2 for d in degrees.values()])\n",
    "heterogeneity = (sum_d_squared - (sum_d**2 / N)) / ((sum_d / N)**2)\n",
    "\n",
    "\n",
    "average_number_of_routes, top_five_airports, single_route, highest_closeness_centrality, highest_betweennes_centrality, heterogeneity\n",
    "\n",
    "# 3.18\n",
    "fname = '../../../data/Week6/enwiki_math.edges.gz'\n",
    "G = nx.read_edgelist(fname, create_using=nx.DiGraph())\n",
    "print(len(G))\n",
    "\n",
    "# 1\n",
    "in_degrees = dict(G.in_degree())\n",
    "average_in_degree = sum(in_degrees.values()) / len(in_degrees)\n",
    "\n",
    "out_degrees = dict(G.out_degree())\n",
    "average_out_degree = sum(out_degrees.values()) / len(out_degrees)\n",
    " \n",
    "# the average in-degree and the average out-degree are the same, it indicates that, \n",
    "# on average, each node receives the same number of incoming edges as it sends out. \n",
    "# This suggests a balanced flow of connections within the network.\n",
    "\n",
    "# 2 \n",
    "highest_in_degree = max(dict(G.in_degree()), key=in_degrees.get)\n",
    "\n",
    "highest_in_degree\n",
    "\n",
    "# 3\n",
    "highest_out_degree = max(dict(G.out_degree()), key=out_degrees.get)\n",
    "\n",
    "#4 \n",
    "degree_of_node_highest_in_degree= G.in_degree('47738065')\n",
    "degree_of_node_highest_out_degree= G.out_degree('1152126')\n",
    "\n",
    "# the maximum in-degree is greater. \n",
    "\n",
    "# 5 \n",
    "#in-degree\n",
    "in_degrees = dict(G.in_degree())\n",
    "N = len(in_degrees)\n",
    "sum_d = sum(in_degrees.values())\n",
    "sum_d_squared = sum([d**2 for d in in_degrees.values()])\n",
    "heterogeneity_in = (sum_d_squared - (sum_d**2 / N)) / ((sum_d / N)**2)\n",
    "\n",
    "# 6\n",
    "# out-degree\n",
    "out_degrees = dict(G.out_degree())\n",
    "N = len(out_degrees)\n",
    "sum_d = sum(out_degrees.values())\n",
    "sum_d_squared = sum([d**2 for d in out_degrees.values()])\n",
    "heterogeneity_out = (sum_d_squared - (sum_d**2 / N)) / ((sum_d / N)**2)\n",
    "\n",
    "\n",
    "average_in_degree, average_out_degree, highest_out_degree, highest_in_degree, degree_of_node_highest_in_degree, degree_of_node_highest_out_degree, heterogeneity_in, heterogeneity_out\n",
    "# 3.19\n",
    "def avg_degree_neighbors(G, node):\n",
    "    neighbors = list(G.neighbors(node))\n",
    "    degrees = [G.degree(neighbor) for neighbor in neighbors]\n",
    "    return sum(degrees) / len(degrees)\n",
    "\n",
    "# # 3.20 \n",
    "# Networks where the average number of neighbors of a node's neighbors matches the average degree have a specific property known as the assortativity coefficient. \n",
    "# # 3.21\n",
    "# Networks with heavy-tailed degree distributions are generally more vulnerable to targeted attacks compared to random attacks. Heavy-tailed degree distributions are characterized by a few highly connected nodes (hubs) and a large number of poorly connected nodes. Targeted attacks specifically aim at removing the most highly connected nodes, which disrupts the network structure and connectivity more significantly in networks with heavy-tailed degree distributions. By targeting the hubs, the attacker can effectively fragment the network into smaller disconnected components.\n",
    "\n",
    "# # 3.22\n",
    "# d, Betweenness centrality measures the extent to which a node or an edge lies on the shortest paths between pairs of other nodes in the network. Nodes or edges with high betweenness centrality play a critical role in facilitating communication and information flow between different parts of the network. Removing nodes or edges with high betweenness centrality can significantly disrupt the network's connectivity and increase the average path length.\n",
    "# # 3.23 \n",
    "#  the node with a low clustering coefficient would intuitively be a better target if the goal is to disrupt the network."
   ]
  },
  {
   "cell_type": "code",
   "execution_count": null,
   "metadata": {
    "deletable": false,
    "nbgrader": {
     "cell_type": "code",
     "checksum": "2f41e257c27c4187af417e8dd68a4a7c",
     "grade": true,
     "grade_id": "fc324",
     "locked": false,
     "points": 6,
     "schema_version": 3,
     "solution": true
    }
   },
   "outputs": [],
   "source": []
  },
  {
   "cell_type": "code",
   "execution_count": null,
   "metadata": {},
   "outputs": [],
   "source": []
  }
 ],
 "metadata": {
  "hide_input": false,
  "kernelspec": {
   "display_name": "Python 3 (ipykernel)",
   "language": "python",
   "name": "python3"
  },
  "language_info": {
   "codemirror_mode": {
    "name": "ipython",
    "version": 3
   },
   "file_extension": ".py",
   "mimetype": "text/x-python",
   "name": "python",
   "nbconvert_exporter": "python",
   "pygments_lexer": "ipython3",
   "version": "3.8.5"
  },
  "toc": {
   "nav_menu": {},
   "number_sections": true,
   "sideBar": true,
   "skip_h1_title": false,
   "title_cell": "Table of Contents",
   "title_sidebar": "Contents",
   "toc_cell": false,
   "toc_position": {},
   "toc_section_display": true,
   "toc_window_display": false
  },
  "varInspector": {
   "cols": {
    "lenName": 16,
    "lenType": 16,
    "lenVar": 40
   },
   "kernels_config": {
    "python": {
     "delete_cmd_postfix": "",
     "delete_cmd_prefix": "del ",
     "library": "var_list.py",
     "varRefreshCmd": "print(var_dic_list())"
    },
    "r": {
     "delete_cmd_postfix": ") ",
     "delete_cmd_prefix": "rm(",
     "library": "var_list.r",
     "varRefreshCmd": "cat(var_dic_list()) "
    }
   },
   "types_to_exclude": [
    "module",
    "function",
    "builtin_function_or_method",
    "instance",
    "_Feature"
   ],
   "window_display": false
  }
 },
 "nbformat": 4,
 "nbformat_minor": 1
}

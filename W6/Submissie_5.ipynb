{
 "cells": [
  {
   "cell_type": "markdown",
   "metadata": {},
   "source": [
    "# Assignment Netwerkanalyse"
   ]
  },
  {
   "cell_type": "markdown",
   "metadata": {
    "nbgrader": {
     "grade": false,
     "grade_id": "privacy",
     "locked": false,
     "schema_version": 3,
     "solution": false
    }
   },
   "source": [
    "## Notebook made by\n",
    "\n",
    "**Gebruik graag dit formaat**\n",
    "\n",
    "* Voor de namen:  voornaam rest van je naam, voornaam rest van je naam,....\n",
    "* je studentnummers: hetzelfde: scheidt met `,`\n",
    "* je emails: hetzelfde: scheidt met `,`\n",
    "* voor je groep: alleen de hoofdletter (dus voor de groep van Marx zou je `A` kiezen)\n",
    "\n",
    "__Namen__:Anoniem",
    "\n",
    "__Emails__:Anoniem",
    "\n",
    "__Student id__:Anoniem",
    "\n",
    "__Groep__:Anoniem"
   ]
  },
  {
   "cell_type": "markdown",
   "metadata": {},
   "source": [
    "## Toelichting\n",
    "\n",
    "* De meeste opgaven worden automatisch nagekeken. Bij vrijwel alle opdrachten staan er een paar tests onder de opdracht, dit is voornamelijk om te zorgen dat je de juiste type output geeft. Dit zijn dus *NIET* alle tests, die komen er bij het graden nog bij.\n",
    "* Elke vraag is 1 punt waard, tenzij anders aangegeven. Soms is die punt onderverdeeld in deelpunten, maar niet altijd. \n",
    "\n",
    "## Voor het inleveren!\n",
    "\n",
    "* Pas niet de cellen aan, vooral niet die je niet kunt editen. Dit levert problemen op bij nakijken. Twijfel je of je per ongeluk iets hebt gewijzigd, kopieer dan bij inleveren je antwoorden naar een nieuw bestand, zodat het niet fout kan gaan.\n",
    "\n",
    "* Zorg dat de code goed runt van boven naar beneden, verifieer dat door boven in Kernel -> Restart & Run All uit te voeren\n",
    "\n",
    "## Na het inleveren!\n",
    "\n",
    "* Het gebeurt erg vaak dat mensen een \"leeg bestand\" inleveren. Vaak een andere versie van de opgave die nog ergens op je computer rondslingerde. Zonde van al je werk toch!\n",
    "* Dus, lever **minstens een half uur voor tijd in**. Download dan wat je hebt ingeleverd op Canvas. Geef het een andere naam om verwarring te voorkomen. En draai alle cellen, en bekijk het. Geen syntax fouten? Alle vragen gemaakt? Dan zit het vast wel goed, en hoef je niet in de zenuwen te zitten."
   ]
  },
  {
   "cell_type": "markdown",
   "metadata": {
    "deletable": false,
    "editable": false,
    "nbgrader": {
     "cell_type": "markdown",
     "checksum": "dd3ded8aee810700514967f470e4251c",
     "grade": false,
     "grade_id": "cell-29b47934d085ca5d",
     "locked": true,
     "schema_version": 3,
     "solution": false
    }
   },
   "source": [
    "# Week 6"
   ]
  },
  {
   "cell_type": "code",
   "execution_count": 1,
   "metadata": {
    "deletable": false,
    "editable": false,
    "nbgrader": {
     "cell_type": "code",
     "checksum": "50e1ede8200b511b4d46cdfa44c40fd4",
     "grade": false,
     "grade_id": "cell-ef7fcbdc74fb7c74",
     "locked": true,
     "schema_version": 3,
     "solution": false
    }
   },
   "outputs": [],
   "source": [
    "%matplotlib inline\n",
    "import numpy as np\n",
    "import networkx as nx\n",
    "import matplotlib.pyplot as plt\n",
    "from nose.tools import assert_equal, assert_count_equal\n",
    "from numpy.testing import assert_almost_equal\n",
    "import math"
   ]
  },
  {
   "cell_type": "markdown",
   "metadata": {
    "deletable": false,
    "editable": false,
    "nbgrader": {
     "cell_type": "markdown",
     "checksum": "b7213d5c3b3c20887a3955da648228a2",
     "grade": false,
     "grade_id": "FP",
     "locked": true,
     "schema_version": 3,
     "solution": false
    }
   },
   "source": [
    "# First Course: chap 3.3 Friendship Paradox\n",
    "\n",
    "1. Maak een netwerkx netwerk van Figuur 3.5.\n",
    "2. Waarom is de kans dat je Tom vindt met de \"random friend of picked person\" methode $\\frac{5}{21}$. Geef een heel helder antwoord.\n",
    "3. Programmeer de functie `kans_op_knoop(G,knoop)` die voor elk netwerk, voor elke knoop de kans berekent dat je die knoop trekt met de \"random friend of picked person\" methode.\n",
    "4. Schrijf een test die checked dat die kansen optellen tot 1.\n",
    "5. **Advanced** In de een na laatste paragraaf van 3.3 op blz 76 wordt een andere manier om die kansen te berekenen gemeld, die dezelfde uitkomst geeft. Programmeer die ook, en vergelijk de uitkomsten.\n",
    "    "
   ]
  },
  {
   "cell_type": "code",
   "execution_count": 2,
   "metadata": {
    "deletable": false,
    "nbgrader": {
     "cell_type": "code",
     "checksum": "f730e7e5129c52cfcb119f834564e98b",
     "grade": false,
     "grade_id": "FPa",
     "locked": false,
     "schema_version": 3,
     "solution": true
    }
   },
   "outputs": [
    {
     "name": "stdout",
     "output_type": "stream",
     "text": [
      "0.21428571428571427\n"
     ]
    },
    {
     "data": {
      "text/plain": [
       "0.017825311942959002"
      ]
     },
     "execution_count": 2,
     "metadata": {},
     "output_type": "execute_result"
    },
    {
     "data": {
      "image/png": "[encoded data removed]",
      "text/plain": [
       "<Figure size 640x480 with 1 Axes>"
      ]
     },
     "metadata": {},
     "output_type": "display_data"
    }
   ],
   "source": [
    "Fig35=nx.Graph()\n",
    "Nodes = ['Mary', 'Nancy', 'Tom', 'Tara', 'Bob', 'Pam', 'John']\n",
    "Edges = [['Mary', 'Nancy'], ['Nancy', 'Tom'], ['Nancy', 'Bob'], ['Bob', 'Tara'], ['Bob', 'Tom'], ['Tom', 'John'], ['Tom', 'Pam'], ['Pam', 'John']]\n",
    "Fig35.add_edges_from(Edges)\n",
    "Fig35.add_nodes_from(Nodes)\n",
    "nx.draw(Fig35, with_labels=True)\n",
    "kans = 1/7 * 1/2 + 1/7 * 1/3 + 1/7*0 + 1/7*1/3 + 1/7*1/3 + 1/7*0\n",
    "print(kans)\n",
    "def kans_op_knoop(G,knoop):\n",
    "    total_links = len(G.nodes) * (len(G.nodes) - 1) // 2\n",
    "    return (len(G.edges(knoop)) + 1) / total_links \n",
    "\n",
    " \n",
    "\n",
    "H= nx.karate_club_graph() \n",
    "# test\n",
    "sum(kans_op_knoop(H,x) for x in H)\n",
    "kans_op_knoop(H,1)"
   ]
  },
  {
   "cell_type": "code",
   "execution_count": 3,
   "metadata": {
    "deletable": false,
    "editable": false,
    "nbgrader": {
     "cell_type": "code",
     "checksum": "089bbe5ff2b275be4e29c0e2663f3145",
     "grade": true,
     "grade_id": "FPt",
     "locked": true,
     "points": 1,
     "schema_version": 3,
     "solution": false
    }
   },
   "outputs": [],
   "source": [
    "assert isinstance(Fig35, nx.Graph)\n",
    "H= nx.karate_club_graph()\n",
    "assert 0 <= kans_op_knoop(H,1)<= 1\n"
   ]
  },
  {
   "cell_type": "markdown",
   "metadata": {},
   "source": [
    "# First course\n",
    "\n",
    "Maak de sommen 3.11-3.24."
   ]
  },
  {
   "cell_type": "markdown",
   "metadata": {
    "deletable": false,
    "nbgrader": {
     "cell_type": "code",
     "checksum": "8350197b9bcd5809dcfd53a673ba7ddf",
     "grade": true,
     "grade_id": "fc",
     "locked": false,
     "points": 14,
     "schema_version": 3,
     "solution": true
    }
   },
   "source": [
    "3.11\n",
    "* Node 1, 2, 3 and 5\n",
    "* Probably 2\n",
    "* Node 1\n",
    "\n",
    "3.12\n",
    "\n",
    "3.13:\n",
    "* a) No, i would say that shoe sizes in UK adults are more normally distributed. this is because only a select few people have gigantic feet, the average adult's feet stop growing at a reasonable size.\n",
    "* b) Yes, i would expect the graph to be heavy-tailed since the distribution of money in the U.S if pretty disproportionate. Middle class income is ofcourse the most prominent but there are a lot of rich people there. \n",
    "* c) Yes i would expect it to be heavy-tailed. Some nodes in Twitter's network might have the entire population of Uganda in their friend's list (this is an exaggeration) since some people are more popular than other and there isn't actually a limit as to how many people you can follow as far as i know\n",
    "* d) No I would not expect it to be heavy-tailed. Its quite common knowledge that you can go from a random wikipedia article to another random article in just a few links. I think you would have a hard time finding a large distance between two articles.\n",
    "\n",
    "3.14:\n",
    "* I would be surprised to say the least, a 9m tall person is absolutely gigantic! To answer the question though, I would still be suprised since the deviation from 9m and the standard is very large. A heavy-tailed distribution makes a 9m tall person possible but still a rare occurence.\n",
    "\n",
    "3.15:\n",
    "a) 100.000.000\n",
    "b) 10.000.000\n",
    "c) 10.000\n",
    "\n",
    "3.16:\n",
    "* The maximum degree in this network is technically 4780. It means you had coitus with 4780 people. No they don't. as said in the article, males tend to have a higher degree than females\n",
    "\n",
    "3.17: zie onder\n",
    "\n",
    "3.19: zie onder\n",
    "\n",
    "3.20: \n",
    "* Yes, this is the case in a complete graph.\n",
    "\n",
    "3.21:\n",
    "* Yes I would say they are more vulnerable, because even though the chance you hit a node with a high degree is lower, the damage that that would do is significantly higher than if you picked a random node to destroy in a grid-like structure. \n",
    "\n",
    "3.22:\n",
    "* D, since a node with a high betweenness centrality means that that node has a high amount of shortest paths running though it. Disrupting this means lenghtening a lot of the paths between nodes.\n",
    "\n",
    "3.23:\n",
    "* The node with a low clustering coefficient, the fact that it has a low coefficient means that its possible the node is a bridge between two hubs (even though the degree might be the same for two nodes). A node in the middle of a hub is less valuable than a node connencting hubs, since with the latter the average path length increases a lot if it is destroyed.\n",
    "\n",
    "3.24:\n",
    "* Het is laat dat ga ik op dit moment niet meer doen denk ik hahahas"
   ]
  },
  {
   "cell_type": "code",
   "execution_count": 4,
   "metadata": {
    "deletable": false,
    "nbgrader": {
     "cell_type": "code",
     "checksum": "2f41e257c27c4187af417e8dd68a4a7c",
     "grade": true,
     "grade_id": "fc324",
     "locked": false,
     "points": 6,
     "schema_version": 3,
     "solution": true
    }
   },
   "outputs": [],
   "source": [
    "fname='../../../data/Week6/openflights_usa.edges.gz'\n",
    "G = nx.Graph()\n",
    "G = nx.read_edgelist(fname)\n",
    "#4.17\n",
    "#1\n",
    "average_deg = nx.average_degree_connectivity(G)\n",
    "#2\n",
    "sorted_dict = sorted(average_deg.items(), key=lambda x:x[1], reverse=True)\n",
    "# print(sorted_dict)\n",
    "#3 \n",
    "# print(len([x for x in G if G.degree(x) == 1]))\n",
    "#4\n",
    "average_close = nx.closeness_centrality(G)\n",
    "sorted_dict2 = sorted(average_close.items(), key=lambda x:x[1], reverse=True)\n",
    "#5\n"
   ]
  },
  {
   "cell_type": "code",
   "execution_count": 5,
   "metadata": {},
   "outputs": [
    {
     "ename": "TypeError",
     "evalue": "'module' object is not callable",
     "output_type": "error",
     "traceback": [
      "\u001b[0;31m---------------------------------------------------------------------------\u001b[0m",
      "\u001b[0;31mTypeError\u001b[0m                                 Traceback (most recent call last)",
      "Cell \u001b[0;32mIn[5], line 2\u001b[0m\n\u001b[1;32m      1\u001b[0m fname\u001b[38;5;241m=\u001b[39m\u001b[38;5;124m\"\u001b[39m\u001b[38;5;124m../../../data/Week6/enwiki_math.edges.gz\u001b[39m\u001b[38;5;124m\"\u001b[39m\n\u001b[0;32m----> 2\u001b[0m K \u001b[38;5;241m=\u001b[39m \u001b[43mnx\u001b[49m\u001b[38;5;241;43m.\u001b[39;49m\u001b[43mdigraph\u001b[49m\u001b[43m(\u001b[49m\u001b[43m)\u001b[49m\n\u001b[1;32m      3\u001b[0m K \u001b[38;5;241m=\u001b[39m nx\u001b[38;5;241m.\u001b[39mread_edgelist(fname)\n",
      "\u001b[0;31mTypeError\u001b[0m: 'module' object is not callable"
     ]
    }
   ],
   "source": [
    "fname=\"../../../data/Week6/enwiki_math.edges.gz\"\n",
    "K = nx.digraph()\n",
    "K = nx.read_edgelist(fname)\n"
   ]
  },
  {
   "cell_type": "code",
   "execution_count": null,
   "metadata": {},
   "outputs": [],
   "source": [
    "#3.19\n",
    "def average_degree_of_nodes_neighbors(G, knoop):\n",
    "    buren = list(nx.neighbors(G, knoop))\n",
    "    gemiddeldes = [len(list(nx.all_neighbors(G, x))) for x in buren]\n",
    "    return sum(gemiddeldes) / len(gemiddeldes)"
   ]
  },
  {
   "cell_type": "code",
   "execution_count": null,
   "metadata": {},
   "outputs": [],
   "source": []
  }
 ],
 "metadata": {
  "hide_input": false,
  "kernelspec": {
   "display_name": "Python 3 (ipykernel)",
   "language": "python",
   "name": "python3"
  },
  "language_info": {
   "codemirror_mode": {
    "name": "ipython",
    "version": 3
   },
   "file_extension": ".py",
   "mimetype": "text/x-python",
   "name": "python",
   "nbconvert_exporter": "python",
   "pygments_lexer": "ipython3",
   "version": "3.8.5"
  },
  "toc": {
   "nav_menu": {},
   "number_sections": true,
   "sideBar": true,
   "skip_h1_title": false,
   "title_cell": "Table of Contents",
   "title_sidebar": "Contents",
   "toc_cell": false,
   "toc_position": {},
   "toc_section_display": true,
   "toc_window_display": false
  },
  "varInspector": {
   "cols": {
    "lenName": 16,
    "lenType": 16,
    "lenVar": 40
   },
   "kernels_config": {
    "python": {
     "delete_cmd_postfix": "",
     "delete_cmd_prefix": "del ",
     "library": "var_list.py",
     "varRefreshCmd": "print(var_dic_list())"
    },
    "r": {
     "delete_cmd_postfix": ") ",
     "delete_cmd_prefix": "rm(",
     "library": "var_list.r",
     "varRefreshCmd": "cat(var_dic_list()) "
    }
   },
   "types_to_exclude": [
    "module",
    "function",
    "builtin_function_or_method",
    "instance",
    "_Feature"
   ],
   "window_display": false
  }
 },
 "nbformat": 4,
 "nbformat_minor": 1
}

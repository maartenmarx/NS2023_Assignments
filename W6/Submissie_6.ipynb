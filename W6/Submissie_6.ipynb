{
 "cells": [
  {
   "cell_type": "markdown",
   "metadata": {},
   "source": [
    "# Assignment Netwerkanalyse"
   ]
  },
  {
   "cell_type": "markdown",
   "metadata": {
    "nbgrader": {
     "grade": false,
     "grade_id": "privacy",
     "locked": false,
     "schema_version": 3,
     "solution": false
    }
   },
   "source": [
    "## Notebook made by\n",
    "\n",
    "**Gebruik graag dit formaat**\n",
    "\n",
    "* Voor de namen:  voornaam rest van je naam, voornaam rest van je naam,....\n",
    "* je studentnummers: hetzelfde: scheidt met `,`\n",
    "* je emails: hetzelfde: scheidt met `,`\n",
    "* voor je groep: alleen de hoofdletter (dus voor de groep van Marx zou je `A` kiezen)\n",
    "\n",
    "__Namen__:Anoniem",
    "\n",
    "__Emails__:Anoniem",
    "\n",
    "__Student id__:Anoniem",
    "\n",
    "__Groep__:Anoniem"
   ]
  },
  {
   "cell_type": "markdown",
   "metadata": {},
   "source": [
    "## Toelichting\n",
    "\n",
    "* De meeste opgaven worden automatisch nagekeken. Bij vrijwel alle opdrachten staan er een paar tests onder de opdracht, dit is voornamelijk om te zorgen dat je de juiste type output geeft. Dit zijn dus *NIET* alle tests, die komen er bij het graden nog bij.\n",
    "* Elke vraag is 1 punt waard, tenzij anders aangegeven. Soms is die punt onderverdeeld in deelpunten, maar niet altijd. \n",
    "\n",
    "## Voor het inleveren!\n",
    "\n",
    "* Pas niet de cellen aan, vooral niet die je niet kunt editen. Dit levert problemen op bij nakijken. Twijfel je of je per ongeluk iets hebt gewijzigd, kopieer dan bij inleveren je antwoorden naar een nieuw bestand, zodat het niet fout kan gaan.\n",
    "\n",
    "* Zorg dat de code goed runt van boven naar beneden, verifieer dat door boven in Kernel -> Restart & Run All uit te voeren\n",
    "\n",
    "## Na het inleveren!\n",
    "\n",
    "* Het gebeurt erg vaak dat mensen een \"leeg bestand\" inleveren. Vaak een andere versie van de opgave die nog ergens op je computer rondslingerde. Zonde van al je werk toch!\n",
    "* Dus, lever **minstens een half uur voor tijd in**. Download dan wat je hebt ingeleverd op Canvas. Geef het een andere naam om verwarring te voorkomen. En draai alle cellen, en bekijk het. Geen syntax fouten? Alle vragen gemaakt? Dan zit het vast wel goed, en hoef je niet in de zenuwen te zitten."
   ]
  },
  {
   "cell_type": "markdown",
   "metadata": {
    "deletable": false,
    "editable": false,
    "nbgrader": {
     "cell_type": "markdown",
     "checksum": "dd3ded8aee810700514967f470e4251c",
     "grade": false,
     "grade_id": "cell-29b47934d085ca5d",
     "locked": true,
     "schema_version": 3,
     "solution": false
    }
   },
   "source": [
    "# Week 6"
   ]
  },
  {
   "cell_type": "code",
   "execution_count": 1,
   "metadata": {
    "deletable": false,
    "editable": false,
    "nbgrader": {
     "cell_type": "code",
     "checksum": "50e1ede8200b511b4d46cdfa44c40fd4",
     "grade": false,
     "grade_id": "cell-ef7fcbdc74fb7c74",
     "locked": true,
     "schema_version": 3,
     "solution": false
    }
   },
   "outputs": [],
   "source": [
    "%matplotlib inline\n",
    "import numpy as np\n",
    "import networkx as nx\n",
    "import matplotlib.pyplot as plt\n",
    "from nose.tools import assert_equal, assert_count_equal\n",
    "from numpy.testing import assert_almost_equal\n",
    "import math"
   ]
  },
  {
   "cell_type": "markdown",
   "metadata": {
    "deletable": false,
    "editable": false,
    "nbgrader": {
     "cell_type": "markdown",
     "checksum": "b7213d5c3b3c20887a3955da648228a2",
     "grade": false,
     "grade_id": "FP",
     "locked": true,
     "schema_version": 3,
     "solution": false
    }
   },
   "source": [
    "# First Course: chap 3.3 Friendship Paradox\n",
    "\n",
    "1. Maak een netwerkx netwerk van Figuur 3.5.\n",
    "2. Waarom is de kans dat je Tom vindt met de \"random friend of picked person\" methode $\\frac{5}{21}$. Geef een heel helder antwoord.\n",
    "3. Programmeer de functie `kans_op_knoop(G,knoop)` die voor elk netwerk, voor elke knoop de kans berekent dat je die knoop trekt met de \"random friend of picked person\" methode.\n",
    "4. Schrijf een test die checked dat die kansen optellen tot 1.\n",
    "5. **Advanced** In de een na laatste paragraaf van 3.3 op blz 76 wordt een andere manier om die kansen te berekenen gemeld, die dezelfde uitkomst geeft. Programmeer die ook, en vergelijk de uitkomsten.\n",
    "    "
   ]
  },
  {
   "cell_type": "code",
   "execution_count": 2,
   "metadata": {
    "deletable": false,
    "nbgrader": {
     "cell_type": "code",
     "checksum": "f730e7e5129c52cfcb119f834564e98b",
     "grade": false,
     "grade_id": "FPa",
     "locked": false,
     "schema_version": 3,
     "solution": true
    }
   },
   "outputs": [
    {
     "data": {
      "text/plain": [
       "0.23809523809523808"
      ]
     },
     "execution_count": 2,
     "metadata": {},
     "output_type": "execute_result"
    }
   ],
   "source": [
    "Fig35=nx.Graph()\n",
    "nodes=['Tom','John','Pam', 'Mary', 'Nancy', 'Bob', 'Tara']\n",
    "edges=[('Tom', 'John'), ('John', 'Pam'),('Pam', 'Tom'), ('Tom', 'Nancy'), ('Nancy', 'Mary'), ('Nancy', 'Bob'), ('Bob', 'Tara'), ('Bob', 'Tom')]\n",
    "Fig35.add_nodes_from(nodes)\n",
    "Fig35.add_edges_from(edges)\n",
    "\n",
    "# Als je voor elke knoop die buren zijn van Tom: 1/|N| * 1/degree(n) doet en dat optelt kom je uit op 5/21\n",
    "\n",
    "def kans_op_knoop(G,knoop):\n",
    "    aantalN = G.number_of_nodes()\n",
    "    buren = G.neighbors(knoop)\n",
    "    totale_kans = 0\n",
    "    for x in buren: \n",
    "        kans = 1/aantalN * 1/G.degree(x)\n",
    "        totale_kans += kans\n",
    "    return totale_kans \n",
    "\n",
    "H = nx.karate_club_graph() \n",
    "# test\n",
    "sum(kans_op_knoop(H,x) for x in H)\n",
    "# kans_op_knoop(H,1)\n",
    "kans_op_knoop(Fig35, 'Tom')"
   ]
  },
  {
   "cell_type": "code",
   "execution_count": 3,
   "metadata": {
    "deletable": false,
    "editable": false,
    "nbgrader": {
     "cell_type": "code",
     "checksum": "089bbe5ff2b275be4e29c0e2663f3145",
     "grade": true,
     "grade_id": "FPt",
     "locked": true,
     "points": 1,
     "schema_version": 3,
     "solution": false
    }
   },
   "outputs": [],
   "source": [
    "assert isinstance(Fig35, nx.Graph)\n",
    "H= nx.karate_club_graph()\n",
    "assert 0 <= kans_op_knoop(H,1)<= 1\n"
   ]
  },
  {
   "cell_type": "markdown",
   "metadata": {},
   "source": [
    "# First course\n",
    "\n",
    "Maak de sommen 3.11-3.24."
   ]
  },
  {
   "cell_type": "markdown",
   "metadata": {},
   "source": [
    "3.11: 1. 2,35, 2.2, 3. 4 <br>\n",
    "3.12: ? <br>\n",
    "3.13: 1. Nee, want kleine schoenmaten heeft bijna niemand en hetzelfde geldt voor grote schoenmaten. <br>\n",
    "      2. Ja, want hoe rijker iemand is, hoe minder huishoudens ook zo rijk of rijker zijn, over het algemeen zijn er meer arme mensen in de wereld <br> \n",
    "      3. Ja, veel mensen hebben weinig volgers en maar een paar hebben heel veel volgers. <br>\n",
    "      4. Ik weet niet wat dat is <br>\n",
    "3.14: Ja <br> \n",
    "3.15: 1. 1^08, 2. 1^06, 3. 10.000 <br>\n",
    "3.16: Maximum degree is degene die met de meeste mensen heeft geslapen. Als het netwerk wordt gesplitst tussen mannen en vrouwen kan het de degree ditrubution anders worden omdat mannnen veel meer rond slapen dan vrouwen of andersom. <br> \n",
    "3.17: 1. 10.19, 2.DEN, ATL, ORD, DFW, MSP 3. 156, 4. DEN, 5. ANC\n"
   ]
  },
  {
   "cell_type": "code",
   "execution_count": 4,
   "metadata": {
    "deletable": false,
    "nbgrader": {
     "cell_type": "code",
     "checksum": "8350197b9bcd5809dcfd53a673ba7ddf",
     "grade": true,
     "grade_id": "fc",
     "locked": false,
     "points": 14,
     "schema_version": 3,
     "solution": true
    }
   },
   "outputs": [],
   "source": [
    "\n",
    "fname='../../../data/Week6/openflights_usa.edges.gz'\n",
    "G= nx.Graph()\n",
    "G = nx.read_edgelist(fname)# nx.draw_networkx(G)"
   ]
  },
  {
   "cell_type": "code",
   "execution_count": 5,
   "metadata": {},
   "outputs": [
    {
     "name": "stdout",
     "output_type": "stream",
     "text": [
      "10.186813186813186\n",
      "DEN\n",
      "ATL\n",
      "ORD\n",
      "DFW\n",
      "MSP\n",
      "156\n",
      "DEN\n",
      "ANC\n"
     ]
    }
   ],
   "source": [
    "# What is the avarage number of routes served by each airport in this network?\n",
    "totaal = 0 \n",
    "for x in G: \n",
    "    totaal += G.degree(x)\n",
    "print(totaal / G.number_of_nodes())\n",
    "\n",
    "# What are the top five airports in terms of number of routes?\n",
    "highest = 0 \n",
    "lijst = [G.degree(x) for x in G]\n",
    "lijst.sort(reverse=True)\n",
    "# print(lijst)\n",
    "for x in G: \n",
    "    if G.degree(x) == 153 or G.degree(x) == 149 or G.degree(x) == 148 or G.degree(x) ==138 or G.degree(x) ==117: \n",
    "        print(x)\n",
    "\n",
    "# How many airports in this network serve only a single rourte?\n",
    "counter = 0 \n",
    "for x in G:\n",
    "    if G.degree(x) == 1: \n",
    "        counter += 1\n",
    "print(counter)\n",
    "\n",
    "# Which airport has the highest closeness centrality?\n",
    "highest1 = 0\n",
    "highestv = 0\n",
    "for x in G: \n",
    "    if nx.closeness_centrality(G, x) > highest1: \n",
    "        highest1 = nx.closeness_centrality(G, x)\n",
    "        highestv = x\n",
    "print(highestv)\n",
    "\n",
    "# Which airport has the highest betweenness centrality?\n",
    "dictd = nx.betweenness_centrality(G)\n",
    "highest2= 0\n",
    "highestb = 0\n",
    "for x in dictd: \n",
    "    if dictd[x] >= highest2: \n",
    "        highest2 = dictd[x]\n",
    "        highestb = x\n",
    "print(highestb)"
   ]
  },
  {
   "cell_type": "code",
   "execution_count": 6,
   "metadata": {
    "deletable": false,
    "nbgrader": {
     "cell_type": "code",
     "checksum": "2f41e257c27c4187af417e8dd68a4a7c",
     "grade": true,
     "grade_id": "fc324",
     "locked": false,
     "points": 6,
     "schema_version": 3,
     "solution": true
    }
   },
   "outputs": [
    {
     "ename": "SyntaxError",
     "evalue": "invalid syntax (1319978674.py, line 1)",
     "output_type": "error",
     "traceback": [
      "\u001b[0;36m  Cell \u001b[0;32mIn[6], line 1\u001b[0;36m\u001b[0m\n\u001b[0;31m    WRITE YOUR CODE HERE\u001b[0m\n\u001b[0m          ^\u001b[0m\n\u001b[0;31mSyntaxError\u001b[0m\u001b[0;31m:\u001b[0m invalid syntax\n"
     ]
    }
   ],
   "source": [
    "WRITE YOUR CODE HERE"
   ]
  },
  {
   "cell_type": "code",
   "execution_count": null,
   "metadata": {},
   "outputs": [],
   "source": []
  }
 ],
 "metadata": {
  "hide_input": false,
  "kernelspec": {
   "display_name": "Python 3 (ipykernel)",
   "language": "python",
   "name": "python3"
  },
  "language_info": {
   "codemirror_mode": {
    "name": "ipython",
    "version": 3
   },
   "file_extension": ".py",
   "mimetype": "text/x-python",
   "name": "python",
   "nbconvert_exporter": "python",
   "pygments_lexer": "ipython3",
   "version": "3.8.5"
  },
  "toc": {
   "nav_menu": {},
   "number_sections": true,
   "sideBar": true,
   "skip_h1_title": false,
   "title_cell": "Table of Contents",
   "title_sidebar": "Contents",
   "toc_cell": false,
   "toc_position": {},
   "toc_section_display": true,
   "toc_window_display": false
  },
  "varInspector": {
   "cols": {
    "lenName": 16,
    "lenType": 16,
    "lenVar": 40
   },
   "kernels_config": {
    "python": {
     "delete_cmd_postfix": "",
     "delete_cmd_prefix": "del ",
     "library": "var_list.py",
     "varRefreshCmd": "print(var_dic_list())"
    },
    "r": {
     "delete_cmd_postfix": ") ",
     "delete_cmd_prefix": "rm(",
     "library": "var_list.r",
     "varRefreshCmd": "cat(var_dic_list()) "
    }
   },
   "types_to_exclude": [
    "module",
    "function",
    "builtin_function_or_method",
    "instance",
    "_Feature"
   ],
   "window_display": false
  }
 },
 "nbformat": 4,
 "nbformat_minor": 1
}

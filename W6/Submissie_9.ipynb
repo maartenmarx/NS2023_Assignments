{
 "cells": [
  {
   "cell_type": "markdown",
   "metadata": {},
   "source": [
    "# Assignment Netwerkanalyse"
   ]
  },
  {
   "cell_type": "markdown",
   "metadata": {
    "nbgrader": {
     "grade": false,
     "grade_id": "privacy",
     "locked": false,
     "schema_version": 3,
     "solution": false
    }
   },
   "source": [
    "## Notebook made by\n",
    "\n",
    "**Gebruik graag dit formaat**\n",
    "\n",
    "* Voor de namen:  voornaam rest van je naam, voornaam rest van je naam,....\n",
    "* je studentnummers: hetzelfde: scheidt met `,`\n",
    "* je emails: hetzelfde: scheidt met `,`\n",
    "* voor je groep: alleen de hoofdletter (dus voor de groep van Marx zou je `A` kiezen)\n",
    "\n",
    "__Namen__:Anoniem",
    "\n",
    "__Emails__:Anoniem",
    "\n",
    "__Student id__:Anoniem",
    "\n",
    "__Groep__:Anoniem"
   ]
  },
  {
   "cell_type": "markdown",
   "metadata": {},
   "source": [
    "## Toelichting\n",
    "\n",
    "* De meeste opgaven worden automatisch nagekeken. Bij vrijwel alle opdrachten staan er een paar tests onder de opdracht, dit is voornamelijk om te zorgen dat je de juiste type output geeft. Dit zijn dus *NIET* alle tests, die komen er bij het graden nog bij.\n",
    "* Elke vraag is 1 punt waard, tenzij anders aangegeven. Soms is die punt onderverdeeld in deelpunten, maar niet altijd. \n",
    "\n",
    "## Voor het inleveren!\n",
    "\n",
    "* Pas niet de cellen aan, vooral niet die je niet kunt editen. Dit levert problemen op bij nakijken. Twijfel je of je per ongeluk iets hebt gewijzigd, kopieer dan bij inleveren je antwoorden naar een nieuw bestand, zodat het niet fout kan gaan.\n",
    "\n",
    "* Zorg dat de code goed runt van boven naar beneden, verifieer dat door boven in Kernel -> Restart & Run All uit te voeren\n",
    "\n",
    "## Na het inleveren!\n",
    "\n",
    "* Het gebeurt erg vaak dat mensen een \"leeg bestand\" inleveren. Vaak een andere versie van de opgave die nog ergens op je computer rondslingerde. Zonde van al je werk toch!\n",
    "* Dus, lever **minstens een half uur voor tijd in**. Download dan wat je hebt ingeleverd op Canvas. Geef het een andere naam om verwarring te voorkomen. En draai alle cellen, en bekijk het. Geen syntax fouten? Alle vragen gemaakt? Dan zit het vast wel goed, en hoef je niet in de zenuwen te zitten."
   ]
  },
  {
   "cell_type": "markdown",
   "metadata": {
    "deletable": false,
    "editable": false,
    "nbgrader": {
     "cell_type": "markdown",
     "checksum": "dd3ded8aee810700514967f470e4251c",
     "grade": false,
     "grade_id": "cell-29b47934d085ca5d",
     "locked": true,
     "schema_version": 3,
     "solution": false
    }
   },
   "source": [
    "# Week 6"
   ]
  },
  {
   "cell_type": "code",
   "execution_count": 1,
   "metadata": {
    "deletable": false,
    "editable": false,
    "nbgrader": {
     "cell_type": "code",
     "checksum": "50e1ede8200b511b4d46cdfa44c40fd4",
     "grade": false,
     "grade_id": "cell-ef7fcbdc74fb7c74",
     "locked": true,
     "schema_version": 3,
     "solution": false
    }
   },
   "outputs": [],
   "source": [
    "%matplotlib inline\n",
    "import numpy as np\n",
    "import networkx as nx\n",
    "import matplotlib.pyplot as plt\n",
    "from nose.tools import assert_equal, assert_count_equal\n",
    "from numpy.testing import assert_almost_equal\n",
    "import math"
   ]
  },
  {
   "cell_type": "markdown",
   "metadata": {
    "deletable": false,
    "editable": false,
    "nbgrader": {
     "cell_type": "markdown",
     "checksum": "b7213d5c3b3c20887a3955da648228a2",
     "grade": false,
     "grade_id": "FP",
     "locked": true,
     "schema_version": 3,
     "solution": false
    }
   },
   "source": [
    "# First Course: chap 3.3 Friendship Paradox\n",
    "\n",
    "1. Maak een netwerkx netwerk van Figuur 3.5.\n",
    "2. Waarom is de kans dat je Tom vindt met de \"random friend of picked person\" methode $\\frac{5}{21}$. Geef een heel helder antwoord.\n",
    "3. Programmeer de functie `kans_op_knoop(G,knoop)` die voor elk netwerk, voor elke knoop de kans berekent dat je die knoop trekt met de \"random friend of picked person\" methode.\n",
    "4. Schrijf een test die checked dat die kansen optellen tot 1.\n",
    "5. **Advanced** In de een na laatste paragraaf van 3.3 op blz 76 wordt een andere manier om die kansen te berekenen gemeld, die dezelfde uitkomst geeft. Programmeer die ook, en vergelijk de uitkomsten.\n",
    "    "
   ]
  },
  {
   "cell_type": "markdown",
   "metadata": {},
   "source": [
    "2. De kans dat als je iemand willekeurig pakt "
   ]
  },
  {
   "cell_type": "code",
   "execution_count": 2,
   "metadata": {},
   "outputs": [
    {
     "data": {
      "image/png": "[encoded data removed]",
      "text/plain": [
       "<Figure size 640x480 with 1 Axes>"
      ]
     },
     "metadata": {},
     "output_type": "display_data"
    }
   ],
   "source": [
    "Fig35 = nx.Graph()\n",
    "\n",
    "Fig35.add_edges_from([(\"Mary\", \"Nancy\"), (\"Nancy\", \"Tom\"), (\"Nancy\",\"Bob\"), (\"Bob\", \"Tara\"), (\"Bob\", \"Tom\"), (\"John\", \"Tom\"), (\"Tom\", \"Pam\"), (\"John\", \"Pam\")])\n",
    "\n",
    "nx.draw_networkx(Fig35, with_labels = True)"
   ]
  },
  {
   "cell_type": "code",
   "execution_count": 3,
   "metadata": {
    "deletable": false,
    "nbgrader": {
     "cell_type": "code",
     "checksum": "f730e7e5129c52cfcb119f834564e98b",
     "grade": false,
     "grade_id": "FPa",
     "locked": false,
     "schema_version": 3,
     "solution": true
    }
   },
   "outputs": [
    {
     "data": {
      "text/plain": [
       "1.0"
      ]
     },
     "execution_count": 3,
     "metadata": {},
     "output_type": "execute_result"
    }
   ],
   "source": [
    "def kans_op_knoop(G,knoop):\n",
    "    return (sum (1/ G.degree(i) / len(G) for i in G.neighbors(knoop)))\n",
    " \n",
    "\n",
    "H= nx.karate_club_graph() \n",
    "# test\n",
    "sum(kans_op_knoop(H,x) for x in H)\n",
    "# kans_op_knoop(H,1)"
   ]
  },
  {
   "cell_type": "code",
   "execution_count": 4,
   "metadata": {
    "deletable": false,
    "editable": false,
    "nbgrader": {
     "cell_type": "code",
     "checksum": "089bbe5ff2b275be4e29c0e2663f3145",
     "grade": true,
     "grade_id": "FPt",
     "locked": true,
     "points": 1,
     "schema_version": 3,
     "solution": false
    }
   },
   "outputs": [],
   "source": [
    "assert isinstance(Fig35, nx.Graph)\n",
    "H= nx.karate_club_graph()\n",
    "assert 0 <= kans_op_knoop(H,1)<= 1\n"
   ]
  },
  {
   "cell_type": "markdown",
   "metadata": {},
   "source": [
    "# First course\n",
    "\n",
    "Maak de sommen 3.11-3.24."
   ]
  },
  {
   "cell_type": "markdown",
   "metadata": {
    "deletable": false,
    "nbgrader": {
     "cell_type": "code",
     "checksum": "8350197b9bcd5809dcfd53a673ba7ddf",
     "grade": true,
     "grade_id": "fc",
     "locked": false,
     "points": 14,
     "schema_version": 3,
     "solution": true
    }
   },
   "source": [
    "|Vraag|Antwoord|\n",
    "|---|----|\n",
    "|3.11| 1: 2,3,5 2: 2,5 3: 2|\n",
    "|3.12| De graph would have one or two larger hubs| \n",
    "|3.13|1: no, most shoe sizes are pretty similar, and the variety is not that big, 2: The richest 10% hold 70% of all money in the USA, so I'd expect a tail. 3: Most accounts on twitter don't have many followers but a few (ten)thousand users do have (hundreds of) millions of followers, so a tail is present. 4: The longeset distance on wikipedia is small. There won't be a tail.|\n",
    "|3.14| Most likely. That would still be incredibly rare.|\n",
    "|3.15|1: 100,000,000 2: 5,500,000. 3: 10000\n",
    "|3.16| |\n",
    "|3.17| |\n",
    "|3.18| | \n",
    "|3.19| |\n",
    "|3.20| Yes, but only if it's a complete network | \n",
    "|3.21| Yes, networks with heavy-tailed distributions have a lot of hubs, which might function as (local) bridges. Gridlike networks are less vunerable. |\n",
    "|3.22| d | \n",
    "|3.23|Low clustering coefficient|\n"
   ]
  },
  {
   "cell_type": "code",
   "execution_count": 5,
   "metadata": {},
   "outputs": [],
   "source": [
    "import pandas as pd\n",
    "import matplotlib.pyplot as plt"
   ]
  },
  {
   "cell_type": "code",
   "execution_count": 6,
   "metadata": {},
   "outputs": [],
   "source": [
    "# https://xinqianzhai.medium.com/us-airport-network-exploration-and-visualization-using-networkx-and-basemap-be898a216ec1\n",
    "# downlaod airport and routes data from open data source\n",
    "#importen vanuit Github of handmatig downloaden werkte niet. Ik heb dit geprobeerd, maar ook zo liep ik vast. Het is een leuke challenge om los te doen, maar nu niet. \n",
    "\n",
    "def download_data():\n",
    "    # get airport data\n",
    "    airport_cols = ['ID', 'Name', 'City', 'Country','IATA', 'ICAO', 'Lat', 'Long', 'Alt', \n",
    "                   'Timezone', 'DST', 'Tz database time zone', 'Type', 'Source']\n",
    "    airport_df = pd.read_csv('https://raw.githubusercontent.com/jpatokal/openflights/master/data/airports.dat',\n",
    "                             names=airport_cols)\n",
    "    # get routes data\n",
    "    route_cols = ['Airline', 'Airline ID', 'Source airport', 'Source airport ID',\n",
    "                  'Dest airport', 'Dest airport ID', 'Codeshare', 'Stops', 'Equipment']\n",
    "    route_df = pd.read_csv('https://raw.githubusercontent.com/jpatokal/openflights/master/data/routes.dat',\n",
    "                             names=route_cols)\n",
    "    \n",
    "    # clean route data\n",
    "    # convert datatype, set nan if errors (non-number) raise \n",
    "    route_df['Source airport ID'] = pd.to_numeric(route_df['Source airport ID'].astype('str'), errors = 'coerce')\n",
    "    route_df['Dest airport ID'] = pd.to_numeric(route_df['Dest airport ID'].astype('str'), errors = 'coerce')\n",
    "    # drop nan values in the source airport ID and dest airport ID\n",
    "    route_df.dropna(subset=['Source airport ID', 'Dest airport ID'], inplace=True)\n",
    "    \n",
    "    return airport_df, route_df"
   ]
  },
  {
   "cell_type": "code",
   "execution_count": 7,
   "metadata": {},
   "outputs": [
    {
     "data": {
      "text/html": [
       "<div>\n",
       "<style scoped>\n",
       "    .dataframe tbody tr th:only-of-type {\n",
       "        vertical-align: middle;\n",
       "    }\n",
       "\n",
       "    .dataframe tbody tr th {\n",
       "        vertical-align: top;\n",
       "    }\n",
       "\n",
       "    .dataframe thead th {\n",
       "        text-align: right;\n",
       "    }\n",
       "</style>\n",
       "<table border=\"1\" class=\"dataframe\">\n",
       "  <thead>\n",
       "    <tr style=\"text-align: right;\">\n",
       "      <th></th>\n",
       "      <th>ID</th>\n",
       "      <th>Name</th>\n",
       "      <th>City</th>\n",
       "      <th>Country</th>\n",
       "      <th>IATA</th>\n",
       "      <th>ICAO</th>\n",
       "      <th>Lat</th>\n",
       "      <th>Long</th>\n",
       "      <th>Alt</th>\n",
       "      <th>Timezone</th>\n",
       "      <th>DST</th>\n",
       "      <th>Tz database time zone</th>\n",
       "      <th>Type</th>\n",
       "      <th>Source</th>\n",
       "    </tr>\n",
       "  </thead>\n",
       "  <tbody>\n",
       "    <tr>\n",
       "      <th>0</th>\n",
       "      <td>1</td>\n",
       "      <td>Goroka Airport</td>\n",
       "      <td>Goroka</td>\n",
       "      <td>Papua New Guinea</td>\n",
       "      <td>GKA</td>\n",
       "      <td>AYGA</td>\n",
       "      <td>-6.081690</td>\n",
       "      <td>145.391998</td>\n",
       "      <td>5282</td>\n",
       "      <td>10</td>\n",
       "      <td>U</td>\n",
       "      <td>Pacific/Port_Moresby</td>\n",
       "      <td>airport</td>\n",
       "      <td>OurAirports</td>\n",
       "    </tr>\n",
       "    <tr>\n",
       "      <th>1</th>\n",
       "      <td>2</td>\n",
       "      <td>Madang Airport</td>\n",
       "      <td>Madang</td>\n",
       "      <td>Papua New Guinea</td>\n",
       "      <td>MAG</td>\n",
       "      <td>AYMD</td>\n",
       "      <td>-5.207080</td>\n",
       "      <td>145.789001</td>\n",
       "      <td>20</td>\n",
       "      <td>10</td>\n",
       "      <td>U</td>\n",
       "      <td>Pacific/Port_Moresby</td>\n",
       "      <td>airport</td>\n",
       "      <td>OurAirports</td>\n",
       "    </tr>\n",
       "    <tr>\n",
       "      <th>2</th>\n",
       "      <td>3</td>\n",
       "      <td>Mount Hagen Kagamuga Airport</td>\n",
       "      <td>Mount Hagen</td>\n",
       "      <td>Papua New Guinea</td>\n",
       "      <td>HGU</td>\n",
       "      <td>AYMH</td>\n",
       "      <td>-5.826790</td>\n",
       "      <td>144.296005</td>\n",
       "      <td>5388</td>\n",
       "      <td>10</td>\n",
       "      <td>U</td>\n",
       "      <td>Pacific/Port_Moresby</td>\n",
       "      <td>airport</td>\n",
       "      <td>OurAirports</td>\n",
       "    </tr>\n",
       "    <tr>\n",
       "      <th>3</th>\n",
       "      <td>4</td>\n",
       "      <td>Nadzab Airport</td>\n",
       "      <td>Nadzab</td>\n",
       "      <td>Papua New Guinea</td>\n",
       "      <td>LAE</td>\n",
       "      <td>AYNZ</td>\n",
       "      <td>-6.569803</td>\n",
       "      <td>146.725977</td>\n",
       "      <td>239</td>\n",
       "      <td>10</td>\n",
       "      <td>U</td>\n",
       "      <td>Pacific/Port_Moresby</td>\n",
       "      <td>airport</td>\n",
       "      <td>OurAirports</td>\n",
       "    </tr>\n",
       "    <tr>\n",
       "      <th>4</th>\n",
       "      <td>5</td>\n",
       "      <td>Port Moresby Jacksons International Airport</td>\n",
       "      <td>Port Moresby</td>\n",
       "      <td>Papua New Guinea</td>\n",
       "      <td>POM</td>\n",
       "      <td>AYPY</td>\n",
       "      <td>-9.443380</td>\n",
       "      <td>147.220001</td>\n",
       "      <td>146</td>\n",
       "      <td>10</td>\n",
       "      <td>U</td>\n",
       "      <td>Pacific/Port_Moresby</td>\n",
       "      <td>airport</td>\n",
       "      <td>OurAirports</td>\n",
       "    </tr>\n",
       "  </tbody>\n",
       "</table>\n",
       "</div>"
      ],
      "text/plain": [
       "   ID                                         Name          City   \n",
       "0   1                               Goroka Airport        Goroka  \\\n",
       "1   2                               Madang Airport        Madang   \n",
       "2   3                 Mount Hagen Kagamuga Airport   Mount Hagen   \n",
       "3   4                               Nadzab Airport        Nadzab   \n",
       "4   5  Port Moresby Jacksons International Airport  Port Moresby   \n",
       "\n",
       "            Country IATA  ICAO       Lat        Long   Alt Timezone DST   \n",
       "0  Papua New Guinea  GKA  AYGA -6.081690  145.391998  5282       10   U  \\\n",
       "1  Papua New Guinea  MAG  AYMD -5.207080  145.789001    20       10   U   \n",
       "2  Papua New Guinea  HGU  AYMH -5.826790  144.296005  5388       10   U   \n",
       "3  Papua New Guinea  LAE  AYNZ -6.569803  146.725977   239       10   U   \n",
       "4  Papua New Guinea  POM  AYPY -9.443380  147.220001   146       10   U   \n",
       "\n",
       "  Tz database time zone     Type       Source  \n",
       "0  Pacific/Port_Moresby  airport  OurAirports  \n",
       "1  Pacific/Port_Moresby  airport  OurAirports  \n",
       "2  Pacific/Port_Moresby  airport  OurAirports  \n",
       "3  Pacific/Port_Moresby  airport  OurAirports  \n",
       "4  Pacific/Port_Moresby  airport  OurAirports  "
      ]
     },
     "execution_count": 7,
     "metadata": {},
     "output_type": "execute_result"
    }
   ],
   "source": [
    "route_df, airport_df = download_data()\n",
    "route_df.head()"
   ]
  },
  {
   "cell_type": "code",
   "execution_count": 8,
   "metadata": {
    "deletable": false,
    "nbgrader": {
     "cell_type": "code",
     "checksum": "2f41e257c27c4187af417e8dd68a4a7c",
     "grade": true,
     "grade_id": "fc324",
     "locked": false,
     "points": 6,
     "schema_version": 3,
     "solution": true
    }
   },
   "outputs": [
    {
     "data": {
      "image/png": "[encoded data removed]",
      "text/plain": [
       "<Figure size 640x480 with 1 Axes>"
      ]
     },
     "metadata": {},
     "output_type": "display_data"
    }
   ],
   "source": [
    "H = nx.Graph()\n",
    "# N = [1,2,3,4,5,6,7]\n",
    "# H.add_nodes_from([1, 2, 3, 4, 5, 6, 7])\n",
    "# Edges = nx.Graph([(1,2), (1,3), (2,3), (2,5), (5,6), (5,7), (3,4)])\n",
    "H.add_edges_from([(1,2), (1,3), (2,3), (2,5), (5,6), (5,7), (3,4)])\n",
    "\n",
    "nx.draw(H)\n"
   ]
  },
  {
   "cell_type": "code",
   "execution_count": 9,
   "metadata": {},
   "outputs": [
    {
     "data": {
      "text/plain": [
       "{1: 0.5,\n",
       " 2: 0.6666666666666666,\n",
       " 3: 0.5454545454545454,\n",
       " 5: 0.6,\n",
       " 6: 0.4,\n",
       " 7: 0.4,\n",
       " 4: 0.375}"
      ]
     },
     "execution_count": 9,
     "metadata": {},
     "output_type": "execute_result"
    }
   ],
   "source": [
    "nx.closeness_centrality(H)"
   ]
  },
  {
   "cell_type": "code",
   "execution_count": null,
   "metadata": {},
   "outputs": [],
   "source": []
  }
 ],
 "metadata": {
  "hide_input": false,
  "kernelspec": {
   "display_name": "Python 3 (ipykernel)",
   "language": "python",
   "name": "python3"
  },
  "language_info": {
   "codemirror_mode": {
    "name": "ipython",
    "version": 3
   },
   "file_extension": ".py",
   "mimetype": "text/x-python",
   "name": "python",
   "nbconvert_exporter": "python",
   "pygments_lexer": "ipython3",
   "version": "3.8.5"
  },
  "toc": {
   "nav_menu": {},
   "number_sections": true,
   "sideBar": true,
   "skip_h1_title": false,
   "title_cell": "Table of Contents",
   "title_sidebar": "Contents",
   "toc_cell": false,
   "toc_position": {},
   "toc_section_display": true,
   "toc_window_display": false
  },
  "varInspector": {
   "cols": {
    "lenName": 16,
    "lenType": 16,
    "lenVar": 40
   },
   "kernels_config": {
    "python": {
     "delete_cmd_postfix": "",
     "delete_cmd_prefix": "del ",
     "library": "var_list.py",
     "varRefreshCmd": "print(var_dic_list())"
    },
    "r": {
     "delete_cmd_postfix": ") ",
     "delete_cmd_prefix": "rm(",
     "library": "var_list.r",
     "varRefreshCmd": "cat(var_dic_list()) "
    }
   },
   "types_to_exclude": [
    "module",
    "function",
    "builtin_function_or_method",
    "instance",
    "_Feature"
   ],
   "window_display": false
  }
 },
 "nbformat": 4,
 "nbformat_minor": 1
}

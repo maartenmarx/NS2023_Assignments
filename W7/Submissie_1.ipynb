{
 "cells": [
  {
   "cell_type": "markdown",
   "metadata": {},
   "source": [
    "# Assignment Netwerkanalyse"
   ]
  },
  {
   "cell_type": "markdown",
   "metadata": {
    "nbgrader": {
     "grade": false,
     "grade_id": "privacy",
     "locked": false,
     "schema_version": 3,
     "solution": false
    }
   },
   "source": [
    "## Notebook made by\n",
    "\n",
    "**Gebruik graag dit formaat**\n",
    "\n",
    "* Voor de namen:  voornaam rest van je naam, voornaam rest van je naam,....\n",
    "* je studentnummers: hetzelfde: scheidt met `,`\n",
    "* je emails: hetzelfde: scheidt met `,`\n",
    "* voor je groep: alleen de hoofdletter (dus voor de groep van Marx zou je `A` kiezen)\n",
    "\n",
    "__Namen__:Anoniem",
    "\n",
    "__Emails__:Anoniem",
    "\n",
    "__Student id__:Anoniem",
    "\n",
    "__Groep__:Anoniem"
   ]
  },
  {
   "cell_type": "markdown",
   "metadata": {},
   "source": [
    "## Toelichting\n",
    "\n",
    "* De meeste opgaven worden automatisch nagekeken. Bij vrijwel alle opdrachten staan er een paar tests onder de opdracht, dit is voornamelijk om te zorgen dat je de juiste type output geeft. Dit zijn dus *NIET* alle tests, die komen er bij het graden nog bij.\n",
    "* Elke vraag is 1 punt waard, tenzij anders aangegeven. Soms is die punt onderverdeeld in deelpunten, maar niet altijd. \n",
    "\n",
    "## Voor het inleveren!\n",
    "\n",
    "* Pas niet de cellen aan, vooral niet die je niet kunt editen. Dit levert problemen op bij nakijken. Twijfel je of je per ongeluk iets hebt gewijzigd, kopieer dan bij inleveren je antwoorden naar een nieuw bestand, zodat het niet fout kan gaan.\n",
    "\n",
    "* Zorg dat de code goed runt van boven naar beneden, verifieer dat door boven in Kernel -> Restart & Run All uit te voeren\n",
    "\n",
    "## Na het inleveren!\n",
    "\n",
    "* Het gebeurt erg vaak dat mensen een \"leeg bestand\" inleveren. Vaak een andere versie van de opgave die nog ergens op je computer rondslingerde. Zonde van al je werk toch!\n",
    "* Dus, lever **minstens een half uur voor tijd in**. Download dan wat je hebt ingeleverd op Canvas. Geef het een andere naam om verwarring te voorkomen. En draai alle cellen, en bekijk het. Geen syntax fouten? Alle vragen gemaakt? Dan zit het vast wel goed, en hoef je niet in de zenuwen te zitten."
   ]
  },
  {
   "cell_type": "code",
   "execution_count": null,
   "metadata": {},
   "outputs": [],
   "source": [
    "# Run this cell first\n",
    "import random\n",
    "import inspect\n",
    "import networkx as nx\n",
    "import numpy as np\n",
    "import pandas as pd\n",
    "import seaborn as sns\n",
    "import itertools as it\n",
    "from nose.tools import assert_almost_equal, assert_equal\n",
    "from itertools import product\n",
    "from collections import Counter\n",
    "\n",
    "%matplotlib inline"
   ]
  },
  {
   "cell_type": "markdown",
   "metadata": {},
   "source": [
    "# first course chap 4\n",
    "\n",
    "* Maak 4.1, 4.2\n",
    "* 4.4-4.8"
   ]
  },
  {
   "cell_type": "markdown",
   "metadata": {
    "deletable": false,
    "nbgrader": {
     "cell_type": "markdown",
     "checksum": "4cea61316194679c71794d70860b03db",
     "grade": true,
     "grade_id": "fc4",
     "locked": false,
     "points": 7,
     "schema_version": 3,
     "solution": true
    }
   },
   "source": [
    "ZELFGEMAAKTE CEL \\\n",
    "4.1.1: The link to the first paper is https://www.mdpi.com/1999-5903/14/5/147). The in-degree of an article represents the amount of times that other papers cite that specific article. This article has an in-degree of 2.\n",
    "The link to the second paper is https://scholar.google.com/scholar?cites=18039679971883056520&as_sdt=2005&sciodt=0,5&hl=nl). This article has an in-degree of 6. \\\n",
    "4.1.2: The articles have 1 co-citation. \\\n",
    "4.1.3: The out-degree of the first paper is 31, the out-degree of the second paper is 14. \\  \n",
    "4.1.4: The co-reference between the two papers is 0. \\\n",
    "4.2.1: The out-degree of the Network Science wikipedia page is 33. \\\n",
    "4.2.2: Reciprocal links: 15. \\\n",
    "4.2.3: Nodes in largest scc in the ego network: ['Scale-free networks', 'Erdos-Renyi model', 'Dual-phase evolution', 'Complex network', 'Percolation theory', 'Small-world networks', 'Percolation', 'Non-linear preferential attachment'] \\\n",
    "4.2.4: 'Network Science' has the highest out-degree, being 33 (all the nodes in the ego_network). \\\n",
    "4.2.5: 'Scale-free networks' has the highest in-degree, being 9. \\\n",
    "4.5.1: The most popular node is the one with the highest in-degree. The pagerank of a node can be increased by increasing the in-degree and by having the incoming nodes be more similar to the node. \\\n",
    "4.5.2: The similarity is more important than the pagerank, meaning that a high similarity score increases the combined score more than a high pagerank would. \\\n",
    "4.6.1: Top 10 articles based on pagerank: ['18831', '1152126', '18902', '198822', '1485646', '26685', '20120951', '1234374', '24295969', '48396']. \\\n",
    "4.6.2: Top 10 articlees based on highest in-degrees: ['1152126', '18831', '18902', '1485646', '198822', '1234374', '20120951', '48396', '627842', '24295969']. 9 of the 10 articles in the top 10 in-degrees are also in the top 10 articles. This is because the pagerank of a node is highly influenced by the in-degree of the node; the higher the in-degree, the higher the pagerank will most likely be. \\\n",
    "4.7.1: b \\\n",
    "4.7.2: - \\\n",
    "4.7.3: - \\\n",
    "4.7.4: - \\\n",
    "4.8: Can't figure this out."
   ]
  },
  {
   "cell_type": "code",
   "execution_count": null,
   "metadata": {},
   "outputs": [],
   "source": [
    "import matplotlib.pyplot as plt\n",
    "NetworkScienceGraph = nx.DiGraph()\n",
    "nodes = ['Network Science','Cascading Failure','Climate as complex networks','Collaborative inovation network','Communicative ecology'\n",
    "        ,'Complex network','Core-periphery structures','Dual-phase evolution','Erdos-Renyi model','Glossary of graph theory'\n",
    "        ,'Gradient network','Higher category theory','Immune network theory','Irregular warfare','Network analyzer'\n",
    "        ,'Network dynamics','Network formation','Network theory in risk assessment','Network topology'\n",
    "         ,'Networks in labor economics','Non-linear preferential attachment','Percolation','Percolation theory'\n",
    "         ,'Policy network analysis','Polytely','Quantum complex network','Random networks','Rumor spread in social network'\n",
    "        ,'Scale-free networks','Sequential dynamical system','Service network'\n",
    "         ,'Small-world networks','Structural cut-off','Systems theory']\n",
    "edges = [('Cascading Failure','Percolation theory'),('Collaborative inovation network','Polytely')\n",
    "         ,('Complex network','Dual-phase evolution'),('Complex network','Percolation theory')\n",
    "         ,('Complex network','Scale-free networks'),('Dual-phase evolution','Small-world networks')\n",
    "         ,('Dual-phase evolution','Scale-free networks'),('Erdos-Renyi model','Dual-phase evolution')\n",
    "         ,('Glossary of graph theory','Erdos-Renyi model'),('Gradient network','Network dynamics')\n",
    "         ,('Gradient network','Network topology'),('Gradient network','Quantum complex network')\n",
    "         ,('Network dynamics','Dual-phase evolution'),('Network dynamics','Gradient network')\n",
    "         ,('Network dynamics','Sequential dynamical system'),('Network dynamics','Small-world networks')\n",
    "         ,('Network formation','Network topology'),('Network formation','Erdos-Renyi model')\n",
    "         ,('Network formation','Scale-free networks'),('Network theory in risk assessment','Small-world networks')\n",
    "         ,('Network topology','Gradient network'),('Network topology','Scale-free networks')\n",
    "         ,('Non-linear preferential attachment','Scale-free networks'),('Percolation','Percolation theory')\n",
    "         ,('Percolation theory','Erdos-Renyi model'),('Percolation theory','Scale-free networks')\n",
    "         ,('Percolation theory','Percolation'),('Polytely','Systems theory')\n",
    "         ,('Quantum complex network','Erdos-Renyi model'),('Quantum complex network','Gradient network')\n",
    "         ,('Quantum complex network','Network dynamics'),('Quantum complex network','Network topology')\n",
    "         ,('Quantum complex network','Complex network'),('Rumor spread in social network','Small-world networks')\n",
    "         ,('Scale-free networks','Erdos-Renyi model'),('Scale-free networks','Non-linear preferential attachment')\n",
    "         ,('Scale-free networks','Complex network'),('Small-world networks','Climate as complex networks')\n",
    "         ,('Small-world networks','Dual-phase evolution'),('Small-world networks','Erdos-Renyi model')\n",
    "         ,('Small-world networks','Percolation theory'),('Small-world networks','Scale-free networks')\n",
    "         ,('Structural cut-off','Scale-free networks'),('Structural cut-off','Complex network')]\n",
    "NetworkScienceGraph.add_nodes_from(nodes)\n",
    "NetworkScienceGraph.add_edges_from(edges)\n",
    "NetworkScienceGraph.add_edges_from([('Network Science', node_1) for node_1 in NetworkScienceGraph.nodes()])\n",
    "\n",
    "ego_network = nx.ego_graph(NetworkScienceGraph, 'Network Science')\n",
    "\n",
    "pos = nx.spring_layout(ego_network)\n",
    "nx.draw(ego_network, pos, with_labels=True, node_color='lightblue', node_size=500, edge_color='gray')\n",
    "plt.show()\n",
    "\n",
    "# for node in ego_network:\n",
    "#     if ego_network.in_degree(node) > 8:\n",
    "#         print(node)\n",
    "\n",
    "# largest_scc = ego_network.subgraph(max(nx.strongly_connected_components(ego_network), key=len))\n",
    "# nx.draw(largest_scc, with_labels = True)\n",
    "# plt.show()"
   ]
  },
  {
   "cell_type": "code",
   "execution_count": null,
   "metadata": {},
   "outputs": [],
   "source": [
    "filenameh='C:/Users/jesse/Desktop/NetworkScience/FirstCourseNetworkScience-master/datasets/enwiki_math/enwiki_math.graphml.gz'\n",
    "H = nx.read_graphml(filenameh)\n",
    "directed_graph_H = nx.DiGraph(H)\n",
    "pagerank_values = nx.pagerank(directed_graph_H)\n",
    "pageranks_sorted = sorted(pagerank_values.items(), key=lambda x: x[1], reverse = True)\n",
    "top_10_pageranks = []\n",
    "for x in range(10):\n",
    "    article, pagerank = pageranks_sorted[x]\n",
    "    top_10_pageranks.append(article)\n",
    "in_degrees = {x: directed_graph_H.in_degree(x) for x in directed_graph_H}\n",
    "in_degrees_sorted = sorted(in_degrees.items(), key=lambda x: x[1], reverse = True)\n",
    "top_10_in_degrees = []\n",
    "for x in range(10):\n",
    "    article, in_degree = in_degrees_sorted[x]\n",
    "    top_10_in_degrees.append(article)\n",
    "print(top_10_pageranks)"
   ]
  },
  {
   "cell_type": "markdown",
   "metadata": {},
   "source": [
    "# Closeness centrality (2pt)\n",
    "\n",
    "Wat is dat eigenlijk, *Closeness centrality* (cc)?  We gaan hiervoor uit dat het ongerichte netwerk waarin we dat opmeten verbonden is. Zie weer `nx.closeness_centrality?` voor de versie die wij bedoelen.\n",
    "\n",
    "1. Leg het hieronder in 1 grammaticaal correcte Nederlandse zin uit.  En dus echt op een manier dat een buitenstaander het snapt zonder ingewikkeld jargon. In het bijzonder gebruik je niet het Nederlandse woord voor *reciprocal*.\n",
    "\n",
    "> De *closeness centrality* van een knoop is het omgekeerde van de gemiddelde kortste padlengte van deze knoop naar elke andere knoop in het netwerk.\n",
    "\n",
    "2. Daarna leg je uit wat het betekent als je een hoge cc hebt en wat als je een lage hebt. Ook weer in maximaal 2 zinnen. \n",
    "\n",
    "3. Wat zijn trouwens de waarden waartussen de cc van een knoop kan liggen?  Vermeld dit ook in je antwoord. (Dat mag in een nieuwe zin hoor.)\n",
    "4. Maak tot slot een inzichtelijk voorbeeld. Ik stel voor dat je een \"lijn netwerk\" maakt van een knoop of 5, het plaatje uitprint, de knopen handige namen geeft, en dan natuurlijk voor elk de  Closeness centrality bepaalt (liefst met een eigen formule), en dat zo prosenteert dat nu iedereen meteen snpot wat het is."
   ]
  },
  {
   "cell_type": "markdown",
   "metadata": {
    "deletable": false,
    "nbgrader": {
     "cell_type": "markdown",
     "checksum": "0c0e9ccccc07eebde4aa683c03134cd1",
     "grade": true,
     "grade_id": "cca",
     "locked": false,
     "points": 1.5,
     "schema_version": 3,
     "solution": true
    }
   },
   "source": [
    "Een hoge cc betekent dat de padlengte van de knoop naar elke andere knoop gemiddeld kort is. Een lage cc betekent dat de padlengte van de knoop naar elke andere knoop gemiddeld lang is. \\\n",
    "De closeness centrality kan liggen tussen de 0 en 1 (inclusief)."
   ]
  },
  {
   "cell_type": "markdown",
   "metadata": {},
   "source": [
    "###### Maak tot slot een inzichtelijk voorbeeld in code hieronder"
   ]
  },
  {
   "cell_type": "code",
   "execution_count": null,
   "metadata": {
    "deletable": false,
    "nbgrader": {
     "cell_type": "code",
     "checksum": "7afb3893562bfccc0d84248a4a06bcf1",
     "grade": true,
     "grade_id": "ccb",
     "locked": false,
     "points": 0.5,
     "schema_version": 3,
     "solution": true
    }
   },
   "outputs": [],
   "source": [
    "G = nx.Graph()\n",
    "nodes = [1, 2, 3, 4, 5]\n",
    "edges = [(1, 2), (1, 3), (2, 3), (2, 4), (3, 5), (4, 5)]\n",
    "G.add_nodes_from(nodes)\n",
    "G.add_edges_from(edges)\n",
    "nx.draw(G, with_labels = True)\n",
    "\n",
    "shortest_path_lengths = {}\n",
    "for node in G:\n",
    "    shortest_path_lengths[node] = nx.shortest_path_length(G, node)\n",
    "    \n",
    "closeness_centralities = {}\n",
    "for key, values in shortest_path_lengths.items():\n",
    "    total = sum(values.values())\n",
    "    closeness_centrality = 1 / (total / (len(values) - 1))\n",
    "    closeness_centralities[key] = closeness_centrality\n",
    "    \n",
    "print(closeness_centralities)"
   ]
  },
  {
   "cell_type": "markdown",
   "metadata": {
    "deletable": false,
    "editable": false,
    "nbgrader": {
     "cell_type": "markdown",
     "checksum": "b26b8f3056c85445d3b187acfb68818f",
     "grade": false,
     "grade_id": "log",
     "locked": true,
     "schema_version": 3,
     "solution": false
    }
   },
   "source": [
    "# Logica\n",
    "\n",
    "Oefen in je eigen groepje het maken van uitspraken over een model, het vertalen ervan naar predicaatlogica, en het programmeren ervan in Python op een model.\n",
    "\n",
    "De zinnetjes zijn dus met een relatie `R` en twee eigenschappen `P` en `Q`. Voorbeeld zin (die waar is) $\n",
    "\\exists x (Px \\wedge Qx)$  en deze is ook waar $\\exists x \\neg \\exists y Ryx$.  \n",
    "\n",
    "Gebruik en, of , niet, en mix ze met \"er is een\" en \"voor alle\". Hou het netwerk klein, zodat je de waarheid zelf ook makkelijk kunt checken. \n",
    "\n",
    "Gebruik in je Python code de al gegeven afkortingen.\n",
    "\n",
    "Hieronder is een voorbeeld van een model. Verander het zelf zoals je wilt. Test je zinnetjes ook uit op andere modellen.\n",
    "\n",
    "Van elk groepje verwacht ik er minstens 20!  Je mag natuurlijk ook zelf met modellen komen, met ook meerdere relaties en andere (echte) eigenschappen). "
   ]
  },
  {
   "cell_type": "code",
   "execution_count": null,
   "metadata": {},
   "outputs": [],
   "source": [
    "import networkx as nx\n",
    "%matplotlib inline\n",
    "\n",
    "# kies ook eens voor de nx.karate_club_graph() of nx.florentine_families_graph()\n",
    "G=nx.gn_graph?"
   ]
  },
  {
   "cell_type": "code",
   "execution_count": null,
   "metadata": {},
   "outputs": [],
   "source": [
    "G=nx.gn_graph"
   ]
  },
  {
   "cell_type": "code",
   "execution_count": null,
   "metadata": {},
   "outputs": [],
   "source": [
    "G=nx.gn_graph(20,seed=9) # kan ook met 10 ipv 20\n",
    "for n in G:\n",
    "    if n%2==0:\n",
    "        G.nodes[n]['P']=True\n",
    "    else:\n",
    "        G.nodes[n]['P']=False\n",
    "for n in G:\n",
    "    if n%3==0:\n",
    "        G.nodes[n]['Q']=True\n",
    "    else:\n",
    "        G.nodes[n]['Q']=False        \n",
    "print(G.nodes(data=True))        \n",
    "nx.draw_networkx(G)"
   ]
  },
  {
   "cell_type": "code",
   "execution_count": null,
   "metadata": {},
   "outputs": [],
   "source": [
    "any([x for x in G if (P(x) and Q(x))])"
   ]
  },
  {
   "cell_type": "code",
   "execution_count": null,
   "metadata": {},
   "outputs": [],
   "source": [
    "any(x for x in G if not any(not R(y, x) for y in G))"
   ]
  },
  {
   "cell_type": "code",
   "execution_count": null,
   "metadata": {},
   "outputs": [],
   "source": [
    "any(x for x in G if (P(x) and not Q(x)))"
   ]
  },
  {
   "cell_type": "code",
   "execution_count": null,
   "metadata": {},
   "outputs": [],
   "source": [
    "all(x for x in G if (P(x) and not Q(x)))"
   ]
  },
  {
   "cell_type": "code",
   "execution_count": null,
   "metadata": {},
   "outputs": [],
   "source": [
    "any(x for x in G if any(R(y, x) and R(x, y) and x != y for y in G))"
   ]
  },
  {
   "cell_type": "code",
   "execution_count": null,
   "metadata": {},
   "outputs": [],
   "source": [
    "not any(x for x in G if R(x, x))"
   ]
  },
  {
   "cell_type": "code",
   "execution_count": null,
   "metadata": {},
   "outputs": [],
   "source": [
    "not any(x for x in G if any(R(x, y) and R(y, x) and x != y for y in G))"
   ]
  },
  {
   "cell_type": "code",
   "execution_count": null,
   "metadata": {},
   "outputs": [],
   "source": [
    "all(x for x in G if not any(R(x, y) and R(y, x) and x != y for y in G))"
   ]
  },
  {
   "cell_type": "code",
   "execution_count": null,
   "metadata": {},
   "outputs": [],
   "source": [
    "any(x for x in G if(R(x, y) and x != y and P(x) and not Q(y) for y in G))"
   ]
  },
  {
   "cell_type": "code",
   "execution_count": null,
   "metadata": {},
   "outputs": [],
   "source": [
    "any(R(x, y) and R(z, y) for x in G for y in G for z in G)"
   ]
  },
  {
   "cell_type": "code",
   "execution_count": null,
   "metadata": {},
   "outputs": [],
   "source": [
    "any(x for x in G if P(x) or any(P(y) and R(x, y) for y in G))"
   ]
  },
  {
   "cell_type": "code",
   "execution_count": null,
   "metadata": {},
   "outputs": [],
   "source": [
    "not all(x for x in G if P(x) and Q(x))"
   ]
  },
  {
   "cell_type": "code",
   "execution_count": null,
   "metadata": {},
   "outputs": [],
   "source": [
    "G=nx.karate_club_graph() # kan ook met 10 ipv 20\n",
    "\n",
    "for n in G:\n",
    "    if G.nodes[n]['club']=='Mr. Hi':\n",
    "        G.nodes[n]['P']=True\n",
    "        G.nodes[n]['Q']=False  \n",
    "    else:\n",
    "        G.nodes[n]['P']=False\n",
    "        G.nodes[n]['Q']=True\n",
    "    del G.nodes[n]['club']    \n",
    "print(G.nodes(data=True))        \n",
    "nx.draw_networkx(G)"
   ]
  },
  {
   "cell_type": "markdown",
   "metadata": {
    "deletable": false,
    "nbgrader": {
     "cell_type": "markdown",
     "checksum": "7ff1deb45a51f8a6ac07ac0aa9908db6",
     "grade": true,
     "grade_id": "loga1",
     "locked": false,
     "points": 0,
     "schema_version": 3,
     "solution": true
    }
   },
   "source": [
    "--"
   ]
  },
  {
   "cell_type": "code",
   "execution_count": null,
   "metadata": {
    "deletable": false,
    "editable": false,
    "nbgrader": {
     "cell_type": "code",
     "checksum": "c14099a458546314ee52a7933b05d879",
     "grade": false,
     "grade_id": "afkortingen",
     "locked": true,
     "schema_version": 3,
     "solution": false
    }
   },
   "outputs": [],
   "source": [
    "# even wat afkortingen\n",
    "\n",
    "def P(x):\n",
    "    return G.nodes[x]['P']\n",
    "def Q(x):\n",
    "    return G.nodes[x]['Q']\n",
    "def R(x,y):\n",
    "    return G.has_edge(x,y)"
   ]
  },
  {
   "cell_type": "code",
   "execution_count": null,
   "metadata": {},
   "outputs": [],
   "source": [
    "## Voorbeeld\n",
    "\n",
    "# R(x,y) betekent x houdt van y  \n",
    "# Bij de karate club is de relatie ongericht en kan je beter van x is vriend met y spreken.\n",
    "# Er is een knoop waar zowel een P knoop als een Q knoop van houdt.\n",
    "# $\\exists x\\exists y\\exists z(R(y,x)\\wedge R(z,x) \\wedge P(y)\\wedge Q(z))$\n",
    "\n",
    "print(any(R(y,x) and  R(z,x) and  P(y) and  Q(z)  for x in G for y in G for z in G))\n",
    "\n",
    "# en welke zijn het nou?\n",
    "      \n",
    "[ (x,y,z)   for x in G for y in G for z in G \n",
    "    if R(y,x) and  R(z,x) and  P(y) and  Q(z)\n",
    "]      "
   ]
  },
  {
   "cell_type": "code",
   "execution_count": null,
   "metadata": {
    "deletable": false,
    "nbgrader": {
     "cell_type": "code",
     "checksum": "c3b63f418d47a4b9ae7e5623cbf980c4",
     "grade": true,
     "grade_id": "loga2",
     "locked": false,
     "points": 0,
     "schema_version": 3,
     "solution": true
    }
   },
   "outputs": [],
   "source": [
    "any(R(w, x) and R(x, y) and R(y, z) for w in G for x in G for y in G for z in G)"
   ]
  },
  {
   "cell_type": "code",
   "execution_count": null,
   "metadata": {},
   "outputs": [],
   "source": [
    "all(x for x in G if (P(x) and not Q(x)))"
   ]
  },
  {
   "cell_type": "code",
   "execution_count": null,
   "metadata": {},
   "outputs": [],
   "source": [
    "G = nx.Graph()\n",
    "\n",
    "male_nodes = ['Jesse', 'Niels', 'Pelle']\n",
    "G.add_nodes_from(male_nodes, gender='Male')\n",
    "\n",
    "female_nodes = ['Sanne', 'Farah', 'Hannah']\n",
    "G.add_nodes_from(female_nodes, gender='Female')\n",
    "\n",
    "for node in female_nodes:\n",
    "    for node_1 in female_nodes:\n",
    "        G.add_edge(node, node_1)\n",
    "        \n",
    "edges = [('Jesse', 'Sanne'), ('Niels', 'Farah'), ('Pelle', 'Hannah')]\n",
    "G.add_edges_from(edges)\n",
    "\n",
    "node_colors = {'Male': 'blue', 'Female': 'pink'}\n",
    "colors = [node_colors[G.nodes[node]['gender']] for node in male_nodes + female_nodes]\n",
    "\n",
    "pos = nx.spring_layout(G)\n",
    "\n",
    "nx.draw_networkx(G, pos, node_color=colors, with_labels=True)\n",
    "\n",
    "plt.axis('off')\n",
    "plt.show()"
   ]
  },
  {
   "cell_type": "code",
   "execution_count": null,
   "metadata": {},
   "outputs": [],
   "source": [
    "for n in G:\n",
    "    if G.nodes[n]['gender'] == 'Male':\n",
    "        G.nodes[n]['M'] = True\n",
    "        G.nodes[n]['F'] = False\n",
    "    else:\n",
    "        G.nodes[n]['M'] = False\n",
    "        G.nodes[n]['F'] = True\n",
    "    del G.nodes[n]['gender']\n",
    "    \n",
    "print(G.nodes(data=True))"
   ]
  },
  {
   "cell_type": "code",
   "execution_count": null,
   "metadata": {},
   "outputs": [],
   "source": [
    "def M(x):\n",
    "    return G.nodes[x]['M']\n",
    "def F(x):\n",
    "    return G.nodes[x]['F']\n",
    "def R(x,y):\n",
    "    return G.has_edge(x,y)"
   ]
  },
  {
   "cell_type": "code",
   "execution_count": null,
   "metadata": {},
   "outputs": [],
   "source": [
    "all(x for x in G if F(x) and R(x, x))"
   ]
  },
  {
   "cell_type": "code",
   "execution_count": null,
   "metadata": {},
   "outputs": [],
   "source": [
    "any(x for x in G if M(x) and any(R(x, y) and M(y) for y in G))"
   ]
  },
  {
   "cell_type": "code",
   "execution_count": null,
   "metadata": {},
   "outputs": [],
   "source": [
    "all((x for x in G if M(x)) or (x for x in G if F(x)))"
   ]
  },
  {
   "cell_type": "code",
   "execution_count": null,
   "metadata": {},
   "outputs": [],
   "source": [
    "not any(x for x in G if F(x) and not(R(x, x)))"
   ]
  },
  {
   "cell_type": "code",
   "execution_count": null,
   "metadata": {},
   "outputs": [],
   "source": [
    "all(x for x in G if F(x) and any(R(x, y) for y in G if M(y)))"
   ]
  },
  {
   "cell_type": "code",
   "execution_count": null,
   "metadata": {},
   "outputs": [],
   "source": [
    "any(x for x in G if not any(R(x, y) for y in G))"
   ]
  },
  {
   "cell_type": "code",
   "execution_count": null,
   "metadata": {},
   "outputs": [],
   "source": [
    "any(len(list(G.neighbors(x))) == 1 for x in G)"
   ]
  },
  {
   "cell_type": "code",
   "execution_count": null,
   "metadata": {},
   "outputs": [],
   "source": [
    "all(len(list(G.neighbors(x))) == 1 for x in G) or not any(len(list(G.neighbors(x))) == 1 for x in G)"
   ]
  },
  {
   "cell_type": "code",
   "execution_count": null,
   "metadata": {},
   "outputs": [],
   "source": [
    "any(R(x, w) and R(x, y) and R(x, z) and F(x) \n",
    "    and x != w and x != y and x != z and w != y and w != z and y != z \n",
    "    for x in G for w in G for y in G for z in G)"
   ]
  },
  {
   "cell_type": "code",
   "execution_count": null,
   "metadata": {},
   "outputs": [],
   "source": [
    "not all(F(x) and R(x, x) and any(F(y) and R(x, y) for y in G) for x in G if F(x))"
   ]
  },
  {
   "cell_type": "code",
   "execution_count": null,
   "metadata": {},
   "outputs": [],
   "source": []
  }
 ],
 "metadata": {
  "hide_input": false,
  "kernelspec": {
   "display_name": "Python 3 (ipykernel)",
   "language": "python",
   "name": "python3"
  },
  "language_info": {
   "codemirror_mode": {
    "name": "ipython",
    "version": 3
   },
   "file_extension": ".py",
   "mimetype": "text/x-python",
   "name": "python",
   "nbconvert_exporter": "python",
   "pygments_lexer": "ipython3",
   "version": "3.10.9"
  },
  "toc": {
   "nav_menu": {},
   "number_sections": false,
   "sideBar": true,
   "skip_h1_title": false,
   "title_cell": "Table of Contents",
   "title_sidebar": "Contents",
   "toc_cell": false,
   "toc_position": {
    "height": "calc(100% - 180px)",
    "left": "10px",
    "top": "150px",
    "width": "188.391px"
   },
   "toc_section_display": true,
   "toc_window_display": false
  },
  "varInspector": {
   "cols": {
    "lenName": 16,
    "lenType": 16,
    "lenVar": 40
   },
   "kernels_config": {
    "python": {
     "delete_cmd_postfix": "",
     "delete_cmd_prefix": "del ",
     "library": "var_list.py",
     "varRefreshCmd": "print(var_dic_list())"
    },
    "r": {
     "delete_cmd_postfix": ") ",
     "delete_cmd_prefix": "rm(",
     "library": "var_list.r",
     "varRefreshCmd": "cat(var_dic_list()) "
    }
   },
   "types_to_exclude": [
    "module",
    "function",
    "builtin_function_or_method",
    "instance",
    "_Feature"
   ],
   "window_display": false
  }
 },
 "nbformat": 4,
 "nbformat_minor": 2
}

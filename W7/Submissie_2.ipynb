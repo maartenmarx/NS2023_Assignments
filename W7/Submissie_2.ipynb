{
 "cells": [
  {
   "cell_type": "markdown",
   "metadata": {},
   "source": [
    "# Assignment Netwerkanalyse"
   ]
  },
  {
   "cell_type": "markdown",
   "metadata": {
    "nbgrader": {
     "grade": false,
     "grade_id": "privacy",
     "locked": false,
     "schema_version": 3,
     "solution": false
    }
   },
   "source": [
    "## Notebook made by\n",
    "\n",
    "**Gebruik graag dit formaat**\n",
    "\n",
    "* Voor de namen:  voornaam rest van je naam, voornaam rest van je naam,....\n",
    "* je studentnummers: hetzelfde: scheidt met `,`\n",
    "* je emails: hetzelfde: scheidt met `,`\n",
    "* voor je groep: alleen de hoofdletter (dus voor de groep van Marx zou je `A` kiezen)\n",
    "\n",
    "__Namen__:Anoniem",
    "\n",
    "__Emails__:Anoniem",
    "\n",
    "__Student id__:Anoniem",
    "\n",
    "__Groep__:Anoniem"
   ]
  },
  {
   "cell_type": "markdown",
   "metadata": {},
   "source": [
    "## Toelichting\n",
    "\n",
    "* De meeste opgaven worden automatisch nagekeken. Bij vrijwel alle opdrachten staan er een paar tests onder de opdracht, dit is voornamelijk om te zorgen dat je de juiste type output geeft. Dit zijn dus *NIET* alle tests, die komen er bij het graden nog bij.\n",
    "* Elke vraag is 1 punt waard, tenzij anders aangegeven. Soms is die punt onderverdeeld in deelpunten, maar niet altijd. \n",
    "\n",
    "## Voor het inleveren!\n",
    "\n",
    "* Pas niet de cellen aan, vooral niet die je niet kunt editen. Dit levert problemen op bij nakijken. Twijfel je of je per ongeluk iets hebt gewijzigd, kopieer dan bij inleveren je antwoorden naar een nieuw bestand, zodat het niet fout kan gaan.\n",
    "\n",
    "* Zorg dat de code goed runt van boven naar beneden, verifieer dat door boven in Kernel -> Restart & Run All uit te voeren\n",
    "\n",
    "## Na het inleveren!\n",
    "\n",
    "* Het gebeurt erg vaak dat mensen een \"leeg bestand\" inleveren. Vaak een andere versie van de opgave die nog ergens op je computer rondslingerde. Zonde van al je werk toch!\n",
    "* Dus, lever **minstens een half uur voor tijd in**. Download dan wat je hebt ingeleverd op Canvas. Geef het een andere naam om verwarring te voorkomen. En draai alle cellen, en bekijk het. Geen syntax fouten? Alle vragen gemaakt? Dan zit het vast wel goed, en hoef je niet in de zenuwen te zitten."
   ]
  },
  {
   "cell_type": "code",
   "execution_count": null,
   "metadata": {},
   "outputs": [],
   "source": [
    "# Run this cell first\n",
    "import random\n",
    "import inspect\n",
    "import networkx as nx\n",
    "import numpy as np\n",
    "import pandas as pd\n",
    "import seaborn as sns\n",
    "import itertools as it\n",
    "from nose.tools import assert_almost_equal, assert_equal\n",
    "from itertools import product\n",
    "from collections import Counter\n",
    "\n",
    "%matplotlib inline"
   ]
  },
  {
   "cell_type": "markdown",
   "metadata": {},
   "source": [
    "# first course chap 4\n",
    "\n",
    "* Maak 4.1, 4.2\n",
    "* 4.4-4.8"
   ]
  },
  {
   "cell_type": "markdown",
   "metadata": {
    "deletable": false,
    "nbgrader": {
     "cell_type": "markdown",
     "checksum": "4cea61316194679c71794d70860b03db",
     "grade": true,
     "grade_id": "fc4",
     "locked": false,
     "points": 7,
     "schema_version": 3,
     "solution": true
    }
   },
   "source": [
    "4.1. \n",
    "Topic: blockchain and big data <br>\n",
    "    Paper 1: Big-crypto: Big data, blockchain and cryptocurrency <br>\n",
    "    in-degree: 81 <br>\n",
    "    out-degree: 116 <br>\n",
    "    \n",
    "   Paper 2: Mystiko—blockchain meets big data <br>\n",
    "    in-degree: 67 <br>\n",
    "    out-degree: 28 <br>\n",
    "    \n",
    "   co-citation between papers: 2 <br>\n",
    "   co-reference between papers: 6 \n",
    "   \n",
    "4.2. <br>\n",
    "    1. k out = 33 <br>\n",
    "    2. reciprocal links = 7 <br>\n",
    "    3. Code onderaan assignment. Grootste component heeft 22 nodes. <br>\n",
    "    4. maximum outdegree is the node 'Network science' (k out = 33), because it is has an outgoing link to every other node. <br>\n",
    "    5. maximum in-degree is the node 'Network science' with k in = 7. <br>\n",
    "    \n",
    "4.4. Pagerank update formulas for the three pages with α = 0 are A(t+1) = B(t) + C(t)/2, B(t+1) = A(t)/2 + C(t)/2, C(t+1) = A(t)/2. After 8 iterations the values converge. The final values are A = 0.44, B = 0.33 and C = 0.22.\n",
    "\n",
    "4.5. Formulas are as follows: A(t+1) = 0.2 * (B(t) + C(t)/2) + 0.8/3, B(t+1) = 0.2 * (A(t)/2 + C(t)/2) + 0.8/3, C(t+1) = 0.2 * (A(t)/2) + 0.8/3.\n",
    "\n",
    "The PageRank values at convergence for α = 0.2 are A = 0.204, B = 0.170, and C = 0.073. The number of iterations until convergence is 20.\n",
    "\n",
    "4.6. \n",
    "1. Increase your pagerank: more incoming links, more outgoing links, active engagement with other nodes.\n",
    "2. The similarity between the query and a node's text attributes can contribute to relevance signals that influence ranking.\n",
    "\n",
    "4.7. top 10 articles pagerank: ['18831', '1152126', '18902', '198822', '1485646', '26685', '20120951', '1234374', '24295969', '48396']\n",
    "\n",
    "   top 10 articles in_degree: [('1152126'), ('18831'), ('18902'), ('1485646'), ('198822'), ( '1234374'), ('20120951'), ('48396'), ('627842'), ('24295969')]\n",
    "     \n",
    "These lists are almost identical, except for one value (627842 and 26685). This is because the Pagerank algorithm uses in-degree to measure the popularity of a page.\n",
    "\n",
    "4.8. done"
   ]
  },
  {
   "cell_type": "markdown",
   "metadata": {},
   "source": [
    "# Closeness centrality (2pt)\n",
    "\n",
    "Wat is dat eigenlijk, *Closeness centrality* (cc)?  We gaan hiervoor uit dat het ongerichte netwerk waarin we dat opmeten verbonden is. Zie weer `nx.closeness_centrality?` voor de versie die wij bedoelen.\n",
    "\n",
    "1. Leg het hieronder in 1 grammaticaal correcte Nederlandse zin uit.  En dus echt op een manier dat een buitenstaander het snapt zonder ingewikkeld jargon. In het bijzonder gebruik je niet het Nederlandse woord voor *reciprocal*.\n",
    "\n",
    "> De *closeness centrality* van een knoop is ....\n",
    "\n",
    "2. Daarna leg je uit wat het betekent als je een hoge cc hebt en wat als je een lage hebt. Ook weer in maximaal 2 zinnen. \n",
    "\n",
    "3. Wat zijn trouwens de waarden waartussen de cc van een knoop kan liggen?  Vermeld dit ook in je antwoord. (Dat mag in een nieuwe zin hoor.)\n",
    "4. Maak tot slot een inzichtelijk voorbeeld. Ik stel voor dat je een \"lijn netwerk\" maakt van een knoop of 5, het plaatje uitprint, de knopen handige namen geeft, en dan natuurlijk voor elk de  Closeness centrality bepaalt (liefst met een eigen formule), en dat zo prosenteert dat nu iedereen meteen snpot wat het is."
   ]
  },
  {
   "cell_type": "markdown",
   "metadata": {
    "deletable": false,
    "nbgrader": {
     "cell_type": "markdown",
     "checksum": "0c0e9ccccc07eebde4aa683c03134cd1",
     "grade": true,
     "grade_id": "cca",
     "locked": false,
     "points": 1.5,
     "schema_version": 3,
     "solution": true
    }
   },
   "source": [
    "1. De closeness centrality van een knoop is een maatstaf (tussen 0 en 1) voor hoe snel en efficiënt informatie van die knoop naar andere knopen in het netwerk kan worden verspreid, waarbij wordt gekeken naar de kortste paden tussen knopen.\n",
    "2. Een hoge closeness centrality betekent dat een knoop snel informatie kan verspreiden naar andere knopen en goed verbonden is met de rest van het netwerk, de knoop ligt dus centraal.\n",
    "Een lage closeness centrality betekent dat een knoop (relatief) geïsoleerd is en dat informatie zich minder snel naar andere knopen kan verspreiden.\n",
    "3. De cc van een knoop ligt tussen 0 en 1.\n",
    "4. zie code hieronder."
   ]
  },
  {
   "cell_type": "markdown",
   "metadata": {},
   "source": [
    "###### Maak tot slot een inzichtelijk voorbeeld in code hieronder"
   ]
  },
  {
   "cell_type": "code",
   "execution_count": null,
   "metadata": {
    "deletable": false,
    "nbgrader": {
     "cell_type": "code",
     "checksum": "7afb3893562bfccc0d84248a4a06bcf1",
     "grade": true,
     "grade_id": "ccb",
     "locked": false,
     "points": 0.5,
     "schema_version": 3,
     "solution": true
    }
   },
   "outputs": [],
   "source": [
    "#WRITE YOUR CODE HERE\n",
    "nodes = [1,2,3,4,5]\n",
    "edges = [[1,2], [2,3], [3,4], [4,5]]\n",
    "\n",
    "H = nx.Graph()\n",
    "H.add_nodes_from(nodes)\n",
    "H.add_edges_from(edges)\n",
    "\n",
    "nx.draw(H, with_labels= True)\n",
    "\n",
    "closeness_centrality = nx.closeness_centrality(H)\n",
    "\n",
    "for node, centrality in closeness_centrality.items():\n",
    "    print(f\"Closeness centrality van knoop {node}: {centrality}\")\n"
   ]
  },
  {
   "cell_type": "markdown",
   "metadata": {
    "deletable": false,
    "editable": false,
    "nbgrader": {
     "cell_type": "markdown",
     "checksum": "b26b8f3056c85445d3b187acfb68818f",
     "grade": false,
     "grade_id": "log",
     "locked": true,
     "schema_version": 3,
     "solution": false
    }
   },
   "source": [
    "# Logica\n",
    "\n",
    "Oefen in je eigen groepje het maken van uitspraken over een model, het vertalen ervan naar predicaatlogica, en het programmeren ervan in Python op een model.\n",
    "\n",
    "De zinnetjes zijn dus met een relatie `R` en twee eigenschappen `P` en `Q`. Voorbeeld zin (die waar is) $\n",
    "\\exists x (Px \\wedge Qx)$  en deze is ook waar $\\exists x \\neg \\exists y Ryx$.  \n",
    "\n",
    "Gebruik en, of , niet, en mix ze met \"er is een\" en \"voor alle\". Hou het netwerk klein, zodat je de waarheid zelf ook makkelijk kunt checken. \n",
    "\n",
    "Gebruik in je Python code de al gegeven afkortingen.\n",
    "\n",
    "Hieronder is een voorbeeld van een model. Verander het zelf zoals je wilt. Test je zinnetjes ook uit op andere modellen.\n",
    "\n",
    "Van elk groepje verwacht ik er minstens 20!  Je mag natuurlijk ook zelf met modellen komen, met ook meerdere relaties en andere (echte) eigenschappen). "
   ]
  },
  {
   "cell_type": "code",
   "execution_count": null,
   "metadata": {},
   "outputs": [],
   "source": [
    "import networkx as nx\n",
    "%matplotlib inline\n",
    "\n",
    "# kies ook eens voor de nx.karate_club_graph() of nx.florentine_families_graph()\n",
    "G=nx.gn_graph?"
   ]
  },
  {
   "cell_type": "code",
   "execution_count": null,
   "metadata": {},
   "outputs": [],
   "source": [
    "G=nx.gn_graph"
   ]
  },
  {
   "cell_type": "code",
   "execution_count": null,
   "metadata": {},
   "outputs": [],
   "source": [
    "G=nx.gn_graph(20,seed=9) # kan ook met 10 ipv 20\n",
    "for n in G:\n",
    "    if n%2==0:\n",
    "        G.nodes[n]['P']=True\n",
    "    else:\n",
    "        G.nodes[n]['P']=False\n",
    "for n in G:\n",
    "    if n%3==0:\n",
    "        G.nodes[n]['Q']=True\n",
    "    else:\n",
    "        G.nodes[n]['Q']=False        \n",
    "print(G.nodes(data=True))        \n",
    "nx.draw_networkx(G)"
   ]
  },
  {
   "cell_type": "code",
   "execution_count": null,
   "metadata": {},
   "outputs": [],
   "source": [
    "def P(x):\n",
    "    return G.nodes[x]['P']\n",
    "def Q(x):\n",
    "    return G.nodes[x]['Q']\n",
    "def R(x,y):\n",
    "    return G.has_edge(x,y)\n",
    "\n",
    "any([x for x in G if (P(x) and Q(x))])"
   ]
  },
  {
   "cell_type": "code",
   "execution_count": null,
   "metadata": {},
   "outputs": [],
   "source": [
    "any(x for x in G if not any(not R(y, x) for y in G))"
   ]
  },
  {
   "cell_type": "code",
   "execution_count": null,
   "metadata": {},
   "outputs": [],
   "source": [
    "G=nx.karate_club_graph() # kan ook met 10 ipv 20\n",
    "\n",
    "for n in G:\n",
    "    if G.nodes[n]['club']=='Mr. Hi':\n",
    "        G.nodes[n]['P']=True\n",
    "        G.nodes[n]['Q']=False  \n",
    "    else:\n",
    "        G.nodes[n]['P']=False\n",
    "        G.nodes[n]['Q']=True\n",
    "    del G.nodes[n]['club']    \n",
    "print(G.nodes(data=True))        \n",
    "nx.draw_networkx(G)"
   ]
  },
  {
   "cell_type": "markdown",
   "metadata": {
    "deletable": false,
    "nbgrader": {
     "cell_type": "markdown",
     "checksum": "7ff1deb45a51f8a6ac07ac0aa9908db6",
     "grade": true,
     "grade_id": "loga1",
     "locked": false,
     "points": 0,
     "schema_version": 3,
     "solution": true
    }
   },
   "source": [
    "YOUR ANSWER HERE"
   ]
  },
  {
   "cell_type": "code",
   "execution_count": null,
   "metadata": {
    "deletable": false,
    "editable": false,
    "nbgrader": {
     "cell_type": "code",
     "checksum": "c14099a458546314ee52a7933b05d879",
     "grade": false,
     "grade_id": "afkortingen",
     "locked": true,
     "schema_version": 3,
     "solution": false
    }
   },
   "outputs": [],
   "source": [
    "# even wat afkortingen\n",
    "\n",
    "def P(x):\n",
    "    return G.nodes[x]['P']\n",
    "def Q(x):\n",
    "    return G.nodes[x]['Q']\n",
    "def R(x,y):\n",
    "    return G.has_edge(x,y)"
   ]
  },
  {
   "cell_type": "code",
   "execution_count": null,
   "metadata": {},
   "outputs": [],
   "source": [
    "## Voorbeeld\n",
    "\n",
    "# R(x,y) betekent x houdt van y  \n",
    "# Bij de karate club is de relatie ongericht en kan je beter van x is vriend met y spreken.\n",
    "# Er is een knoop waar zowel een P knoop als een Q knoop van houdt.\n",
    "# $\\exists x\\exists y\\exists z(R(y,x)\\wedge R(z,x) \\wedge P(y)\\wedge Q(z))$\n",
    "\n",
    "print(any(R(y,x) and  R(z,x) and  P(y) and  Q(z)  for x in G for y in G for z in G))\n",
    "\n",
    "# en welke zijn het nou?\n",
    "      \n",
    "[ (x,y,z)   for x in G for y in G for z in G \n",
    "    if R(y,x) and  R(z,x) and  P(y) and  Q(z)\n",
    "]      "
   ]
  },
  {
   "cell_type": "code",
   "execution_count": null,
   "metadata": {
    "deletable": false,
    "nbgrader": {
     "cell_type": "code",
     "checksum": "c3b63f418d47a4b9ae7e5623cbf980c4",
     "grade": true,
     "grade_id": "loga2",
     "locked": false,
     "points": 0,
     "schema_version": 3,
     "solution": true
    }
   },
   "outputs": [],
   "source": [
    "#WRITE YOUR CODE HERE\n",
    "def P(x):\n",
    "    # returns where node x = P\n",
    "    return G.nodes[x]['P']\n",
    "def Q(x):\n",
    "    # returns where node x = Q\n",
    "    return G.nodes[x]['Q']\n",
    "def R(x,y):\n",
    "    # x loves y\n",
    "    return G.has_edge(x,y)\n",
    "\n",
    "# 1. everyone is friends with each other\n",
    "print(all(R(x,y) and R(y,x) for x in G for y in G))\n",
    "\n",
    "# 2. nobody is friends with anyone\n",
    "print(not any(R(x,y) for x in G for y in G))\n",
    "\n",
    "# 3. There exists a person 'x' who is friends with another person 'y'.\n",
    "print(any(R(x,y) for x in G for y in G))\n",
    "\n",
    "# 4. For every person 'x', there exists a person 'y' who is friends with 'x'.\n",
    "print(all(any(R(y,x) for y in G) for x in G))\n",
    "\n",
    "# 5. There exists a person 'x' who is friends with themselves.\n",
    "print(any(R(x,x) for x in G))\n",
    "\n",
    "#6. all x who are Q, have friends\n",
    "print(all(Q(x) and any(R(x,y) for y in G) for x in G))\n",
    "\n",
    "# 7. There exists a person 'x' who is friends with someone represented by 'P'.\n",
    "print(any(R(x,y) and P(y) for x in G for y in G))\n",
    "\n",
    "# 8. For every person 'x', 'x' is friends with an 'y' represented by 'P' or 'Q'.\n",
    "print(all(R(x,y) and (P(y) or Q(y)) for x in G for y in G))\n",
    "\n",
    "#9. There is an x who is friends with y and neither is represented by Q\n",
    "print(any(R(x,y) and not Q(y) and not Q(x) for x in G for y in G))\n",
    "\n",
    "# 10. For every person 'x', there exists a person 'y' such that 'x' loves 'y' if and only if 'y' loves 'x'.\n",
    "print(all(any(R(x,y) and R(y,x) for y in G) for x in G))\n",
    "\n",
    "# 11. There exists a person 'x' who loves everyone in the network.\n",
    "print(all(R(x,y) and R(x,y) == R(y,x) for x in G for y in G))\n",
    "\n",
    "# 12. There exists a person 'x' who is represented by 'P'.\n",
    "print(any(P(x) for x in G))\n",
    "\n",
    "# 13. There exists a x who is represented by P who is friends with an y represented by Q\n",
    "print(any(P(x) and any(R(x,y) and Q(y) for y in G) for x in G))\n",
    "\n",
    "# 14. all x are represented by p\n",
    "print(all(P(x) for x in G))\n",
    "\n",
    "# 15. all x who are represented by p, are friends with someone\n",
    "print(all(any(R(x,y) for y in G) for x in G if P(x)))\n",
    "\n",
    "# 16. for every x in G, x is represented by G and there exists at least one person y in G who x is friends with.\n",
    "print(all(P(x) and any(R(x,y) for y in G) for x in G))\n",
    "\n",
    "# 17. all x who are represented by P are friends with someone who is represented by Q\n",
    "print(all(P(x) and any(R(x,y) and Q(y) for y in G) for x in G))\n",
    "\n",
    "# 18. all x who are represented by P are only friends with y who are also represented by P\n",
    "print(all(P(x) and all(R(x,y) and P(y) for y in G) for x in G))\n",
    "\n",
    "# 19. there is no x who is P, and is not friends with anyone who is Q\n",
    "print(not any(P(x) and not any(R(x,y) and Q(y) for y in G) for x in G))\n",
    "\n",
    "# 20. there is no x who is P, who befriended every y who is Q\n",
    "print(not any(all(R(x,y) for y in G if Q(y)) for x in G if P(x)))\n",
    "\n",
    "# 21. there is no one who befriended no one\n",
    "print(not any(all(not R(x,y) for x in G) for y in G))"
   ]
  },
  {
   "cell_type": "code",
   "execution_count": null,
   "metadata": {},
   "outputs": [],
   "source": [
    "# CODE BIJ VRAAG 4.2 \n",
    "#Maak een leeg gericht graf\n",
    "ego_network = nx.DiGraph()\n",
    "\n",
    "# Voeg de node 'Network science' toe aan het ego-netwerk\n",
    "ego_network.add_node(\"Network science\")\n",
    "\n",
    "# lijst met nodes en hun uitgaande links\n",
    "nodes = [\n",
    "    (\"Cascading failure\", [\"Network science\", \"Percolation theory\"]),\n",
    "    (\"Climate as complex networks\", [\"Network science\"]),\n",
    "    (\"Collaborative innovation network\", [\"Polytely\"]),\n",
    "    (\"Communicative ecology\", []),\n",
    "    (\"Complex network\", [\"Dual-phase evolution\", \"Network science\", \"Percolation theory\", \"Scale-free networks\"]),\n",
    "    (\"Core-periphery structures in networks\", []),\n",
    "    (\"Dual-phase evolution\", []),\n",
    "    (\"Erdős–Rényi model\", [\"Dual-phase evolution\"]),\n",
    "    (\"Glossary of graph theory\", []),\n",
    "    (\"Gradient network\", [\"Network dynamics\", \"Network topology\", \"Quantum complex network\"]),\n",
    "    (\"Higher category theory\", []),\n",
    "    (\"Immune network theory\", []),\n",
    "    (\"Irregular warfare\", []),\n",
    "    (\"Network analyzer\", []),\n",
    "    (\"Network dynamics\", [\"Dual-phase evolution\", \"Gradient network\", \"Small-world network\"]),\n",
    "    (\"Network formation\", []),\n",
    "    (\"Network theory in risk assessment\", []),\n",
    "    (\"Network topology\", [\"Gradient network\", \"Scale-free network\"]),\n",
    "    (\"Networks in labor economics\", []),\n",
    "    (\"Non-linear preferential attachment\", []),\n",
    "    (\"Percolation\", [\"Percolation theory\"]),\n",
    "    (\"Percolation theory\", [\"Erdős–Rényi model\", \"Network science\", \"Scale-free network\"]),\n",
    "    (\"Policy network analysis\", [\"Network science\"]),\n",
    "    (\"Polytely\", [\"Network science\", \"Systems theory\"]),\n",
    "    (\"Quantum complex network\", [\"Erdős–Rényi model\", \"Gradient network\", \"Network dynamics\", \"Network topology\"]),\n",
    "    (\"Random networks\", []),\n",
    "    (\"Rumor spread in social network\", []),\n",
    "    (\"Scale-free networks\", [\"Complex network\", \"Erdős–Rényi model\", \"Non-linear preferential attachment\"]),\n",
    "    (\"Sequential dynamical system\", []),\n",
    "    (\"Service network\", []),\n",
    "    (\"Small-world networks\", [\"Climate as complex networks\", \"Dual-phase evolution\", \"Erdős–Rényi model\", \"Percolation theory\", \"Network science\", \"Scale-free network\"]),\n",
    "    (\"Structural cut-off\", [\"Complex network\"]),\n",
    "    (\"Systems theory\", [])\n",
    "]\n",
    "\n",
    "# Voeg de nodes en uitgaande links toe aan het ego-netwerk\n",
    "for node, outgoing_links in nodes:\n",
    "    ego_network.add_node(node)\n",
    "    ego_network.add_edges_from([(node, link) for link in outgoing_links])\n",
    "\n",
    "# Voeg uitgaande links toe van 'Network science'\n",
    "outgoing_links_network_science = [node for node, _ in nodes]\n",
    "ego_network.add_edges_from([(\"Network science\", link) for link in outgoing_links_network_science])\n",
    "\n",
    "# Teken het netwerk\n",
    "nx.draw(ego_network, with_labels=True,  font_size= 7)\n",
    "\n",
    "largest_component = [node for node in nx.strongly_connected_components(ego_network)]\n",
    "\n",
    "print(('aantal nodes in largest component:', len(largest_component)))\n",
    "print('nodes in largest component:', largest_component)"
   ]
  },
  {
   "cell_type": "code",
   "execution_count": null,
   "metadata": {},
   "outputs": [],
   "source": [
    "#CODE BIJ VRAAG 4.7\n",
    "fname='enwiki_math.graphml.gz'\n",
    "G= nx.DiGraph()\n",
    "G = nx.read_graphml(fname)\n",
    "\n",
    "# PageRank\n",
    "pr = nx.pagerank(G)\n",
    "pr_sorted = dict(sorted(pr.items(), key=lambda item: item[1], reverse=True))\n",
    "pr_sort = list(pr_sorted)\n",
    "\n",
    "print(\"Nodes met hoogste PageRank:\", pr_sort[:10])\n",
    "\n",
    "# In degree\n",
    "in_degrees = sorted([(G.in_degree(node), node) for node in G], reverse = True)\n",
    "\n",
    "print('Nodes met hoogste in_degree:', in_degrees[:10])"
   ]
  },
  {
   "cell_type": "code",
   "execution_count": null,
   "metadata": {},
   "outputs": [],
   "source": []
  }
 ],
 "metadata": {
  "hide_input": false,
  "kernelspec": {
   "display_name": "Python 3 (ipykernel)",
   "language": "python",
   "name": "python3"
  },
  "language_info": {
   "codemirror_mode": {
    "name": "ipython",
    "version": 3
   },
   "file_extension": ".py",
   "mimetype": "text/x-python",
   "name": "python",
   "nbconvert_exporter": "python",
   "pygments_lexer": "ipython3",
   "version": "3.10.9"
  },
  "toc": {
   "nav_menu": {},
   "number_sections": false,
   "sideBar": true,
   "skip_h1_title": false,
   "title_cell": "Table of Contents",
   "title_sidebar": "Contents",
   "toc_cell": false,
   "toc_position": {
    "height": "calc(100% - 180px)",
    "left": "10px",
    "top": "150px",
    "width": "188.391px"
   },
   "toc_section_display": true,
   "toc_window_display": false
  },
  "varInspector": {
   "cols": {
    "lenName": 16,
    "lenType": 16,
    "lenVar": 40
   },
   "kernels_config": {
    "python": {
     "delete_cmd_postfix": "",
     "delete_cmd_prefix": "del ",
     "library": "var_list.py",
     "varRefreshCmd": "print(var_dic_list())"
    },
    "r": {
     "delete_cmd_postfix": ") ",
     "delete_cmd_prefix": "rm(",
     "library": "var_list.r",
     "varRefreshCmd": "cat(var_dic_list()) "
    }
   },
   "types_to_exclude": [
    "module",
    "function",
    "builtin_function_or_method",
    "instance",
    "_Feature"
   ],
   "window_display": false
  }
 },
 "nbformat": 4,
 "nbformat_minor": 2
}

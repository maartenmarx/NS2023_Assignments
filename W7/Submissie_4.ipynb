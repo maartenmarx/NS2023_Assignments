{
 "cells": [
  {
   "attachments": {},
   "cell_type": "markdown",
   "metadata": {},
   "source": [
    "# Assignment Netwerkanalyse"
   ]
  },
  {
   "attachments": {},
   "cell_type": "markdown",
   "metadata": {
    "nbgrader": {
     "grade": false,
     "grade_id": "privacy",
     "locked": false,
     "schema_version": 3,
     "solution": false
    }
   },
   "source": [
    "## Notebook made by\n",
    "\n",
    "**Gebruik graag dit formaat**\n",
    "\n",
    "* Voor de namen:  voornaam rest van je naam, voornaam rest van je naam,....\n",
    "* je studentnummers: hetzelfde: scheidt met `,`\n",
    "* je emails: hetzelfde: scheidt met `,`\n",
    "* voor je groep: alleen de hoofdletter (dus voor de groep van Marx zou je `A` kiezen)\n",
    "\n",
    "__Namen__:Anoniem",
    "\n",
    "__Emails__:Anoniem",
    "\n",
    "__Student id__:Anoniem",
    "\n",
    "__Groep__:Anoniem"
   ]
  },
  {
   "attachments": {},
   "cell_type": "markdown",
   "metadata": {},
   "source": [
    "## Toelichting\n",
    "\n",
    "* De meeste opgaven worden automatisch nagekeken. Bij vrijwel alle opdrachten staan er een paar tests onder de opdracht, dit is voornamelijk om te zorgen dat je de juiste type output geeft. Dit zijn dus *NIET* alle tests, die komen er bij het graden nog bij.\n",
    "* Elke vraag is 1 punt waard, tenzij anders aangegeven. Soms is die punt onderverdeeld in deelpunten, maar niet altijd. \n",
    "\n",
    "## Voor het inleveren!\n",
    "\n",
    "* Pas niet de cellen aan, vooral niet die je niet kunt editen. Dit levert problemen op bij nakijken. Twijfel je of je per ongeluk iets hebt gewijzigd, kopieer dan bij inleveren je antwoorden naar een nieuw bestand, zodat het niet fout kan gaan.\n",
    "\n",
    "* Zorg dat de code goed runt van boven naar beneden, verifieer dat door boven in Kernel -> Restart & Run All uit te voeren\n",
    "\n",
    "## Na het inleveren!\n",
    "\n",
    "* Het gebeurt erg vaak dat mensen een \"leeg bestand\" inleveren. Vaak een andere versie van de opgave die nog ergens op je computer rondslingerde. Zonde van al je werk toch!\n",
    "* Dus, lever **minstens een half uur voor tijd in**. Download dan wat je hebt ingeleverd op Canvas. Geef het een andere naam om verwarring te voorkomen. En draai alle cellen, en bekijk het. Geen syntax fouten? Alle vragen gemaakt? Dan zit het vast wel goed, en hoef je niet in de zenuwen te zitten."
   ]
  },
  {
   "cell_type": "code",
   "execution_count": null,
   "metadata": {},
   "outputs": [],
   "source": [
    "# Run this cell first\n",
    "import random\n",
    "import inspect\n",
    "import networkx as nx\n",
    "import numpy as np\n",
    "import pandas as pd\n",
    "import seaborn as sns\n",
    "import itertools as it\n",
    "from nose.tools import assert_almost_equal, assert_equal\n",
    "from itertools import product\n",
    "from collections import Counter\n",
    "\n",
    "%matplotlib inline"
   ]
  },
  {
   "attachments": {},
   "cell_type": "markdown",
   "metadata": {},
   "source": [
    "# first course chap 4\n",
    "\n",
    "* Maak 4.1, 4.2\n",
    "* 4.4-4.8"
   ]
  },
  {
   "attachments": {},
   "cell_type": "markdown",
   "metadata": {
    "deletable": false,
    "nbgrader": {
     "cell_type": "markdown",
     "checksum": "4cea61316194679c71794d70860b03db",
     "grade": true,
     "grade_id": "fc4",
     "locked": false,
     "points": 7,
     "schema_version": 3,
     "solution": true
    }
   },
   "source": [
    "YOUR ANSWER HERE"
   ]
  },
  {
   "attachments": {},
   "cell_type": "markdown",
   "metadata": {},
   "source": [
    "# Closeness centrality (2pt)\n",
    "\n",
    "Wat is dat eigenlijk, *Closeness centrality* (cc)?  We gaan hiervoor uit dat het ongerichte netwerk waarin we dat opmeten verbonden is. Zie weer `nx.closeness_centrality?` voor de versie die wij bedoelen.\n",
    "\n",
    "1. Leg het hieronder in 1 grammaticaal correcte Nederlandse zin uit.  En dus echt op een manier dat een buitenstaander het snapt zonder ingewikkeld jargon. In het bijzonder gebruik je niet het Nederlandse woord voor *reciprocal*.\n",
    "\n",
    "> De *closeness centrality* van een knoop is ....\n",
    "\n",
    "2. Daarna leg je uit wat het betekent als je een hoge cc hebt en wat als je een lage hebt. Ook weer in maximaal 2 zinnen. \n",
    "\n",
    "3. Wat zijn trouwens de waarden waartussen de cc van een knoop kan liggen?  Vermeld dit ook in je antwoord. (Dat mag in een nieuwe zin hoor.)\n",
    "4. Maak tot slot een inzichtelijk voorbeeld. Ik stel voor dat je een \"lijn netwerk\" maakt van een knoop of 5, het plaatje uitprint, de knopen handige namen geeft, en dan natuurlijk voor elk de  Closeness centrality bepaalt (liefst met een eigen formule), en dat zo prosenteert dat nu iedereen meteen snpot wat het is."
   ]
  },
  {
   "attachments": {},
   "cell_type": "markdown",
   "metadata": {
    "deletable": false,
    "nbgrader": {
     "cell_type": "markdown",
     "checksum": "0c0e9ccccc07eebde4aa683c03134cd1",
     "grade": true,
     "grade_id": "cca",
     "locked": false,
     "points": 1.5,
     "schema_version": 3,
     "solution": true
    }
   },
   "source": [
    "YOUR ANSWER HERE"
   ]
  },
  {
   "attachments": {},
   "cell_type": "markdown",
   "metadata": {},
   "source": [
    "###### Maak tot slot een inzichtelijk voorbeeld in code hieronder"
   ]
  },
  {
   "cell_type": "code",
   "execution_count": null,
   "metadata": {
    "deletable": false,
    "nbgrader": {
     "cell_type": "code",
     "checksum": "7afb3893562bfccc0d84248a4a06bcf1",
     "grade": true,
     "grade_id": "ccb",
     "locked": false,
     "points": 0.5,
     "schema_version": 3,
     "solution": true
    }
   },
   "outputs": [],
   "source": [
    "#WRITE YOUR CODE HERE"
   ]
  },
  {
   "attachments": {},
   "cell_type": "markdown",
   "metadata": {
    "deletable": false,
    "editable": false,
    "nbgrader": {
     "cell_type": "markdown",
     "checksum": "b26b8f3056c85445d3b187acfb68818f",
     "grade": false,
     "grade_id": "log",
     "locked": true,
     "schema_version": 3,
     "solution": false
    }
   },
   "source": [
    "# Logica\n",
    "\n",
    "Oefen in je eigen groepje het maken van uitspraken over een model, het vertalen ervan naar predicaatlogica, en het programmeren ervan in Python op een model.\n",
    "\n",
    "De zinnetjes zijn dus met een relatie `R` en twee eigenschappen `P` en `Q`. Voorbeeld zin (die waar is) $\n",
    "\\exists x (Px \\wedge Qx)$  en deze is ook waar $\\exists x \\neg \\exists y Ryx$.  \n",
    "\n",
    "Gebruik en, of , niet, en mix ze met \"er is een\" en \"voor alle\". Hou het netwerk klein, zodat je de waarheid zelf ook makkelijk kunt checken. \n",
    "\n",
    "Gebruik in je Python code de al gegeven afkortingen.\n",
    "\n",
    "Hieronder is een voorbeeld van een model. Verander het zelf zoals je wilt. Test je zinnetjes ook uit op andere modellen.\n",
    "\n",
    "Van elk groepje verwacht ik er minstens 20!  Je mag natuurlijk ook zelf met modellen komen, met ook meerdere relaties en andere (echte) eigenschappen). "
   ]
  },
  {
   "cell_type": "code",
   "execution_count": null,
   "metadata": {},
   "outputs": [],
   "source": [
    "import networkx as nx\n",
    "%matplotlib inline\n",
    "\n",
    "# kies ook eens voor de nx.karate_club_graph() of nx.florentine_families_graph()\n",
    "G=nx.gn_graph?"
   ]
  },
  {
   "cell_type": "code",
   "execution_count": null,
   "metadata": {},
   "outputs": [],
   "source": [
    "G=nx.gn_graph"
   ]
  },
  {
   "cell_type": "code",
   "execution_count": null,
   "metadata": {},
   "outputs": [],
   "source": [
    "G=nx.gn_graph(20,seed=9) # kan ook met 10 ipv 20\n",
    "for n in G:\n",
    "    if n%2==0:\n",
    "        G.nodes[n]['P']=True\n",
    "    else:\n",
    "        G.nodes[n]['P']=False\n",
    "for n in G:\n",
    "    if n%3==0:\n",
    "        G.nodes[n]['Q']=True\n",
    "    else:\n",
    "        G.nodes[n]['Q']=False        \n",
    "print(G.nodes(data=True))        \n",
    "nx.draw_networkx(G)"
   ]
  },
  {
   "cell_type": "code",
   "execution_count": null,
   "metadata": {},
   "outputs": [],
   "source": [
    "any([x for x in G if (P(x) and Q(x))])"
   ]
  },
  {
   "cell_type": "code",
   "execution_count": null,
   "metadata": {},
   "outputs": [],
   "source": [
    "any(x for x in G if not any(not R(y, x) for y in G))"
   ]
  },
  {
   "cell_type": "code",
   "execution_count": null,
   "metadata": {},
   "outputs": [],
   "source": [
    "G=nx.karate_club_graph() # kan ook met 10 ipv 20\n",
    "\n",
    "for n in G:\n",
    "    if G.nodes[n]['club']=='Mr. Hi':\n",
    "        G.nodes[n]['P']=True\n",
    "        G.nodes[n]['Q']=False  \n",
    "    else:\n",
    "        G.nodes[n]['P']=False\n",
    "        G.nodes[n]['Q']=True\n",
    "    del G.nodes[n]['club']    \n",
    "print(G.nodes(data=True))        \n",
    "nx.draw_networkx(G)"
   ]
  },
  {
   "attachments": {},
   "cell_type": "markdown",
   "metadata": {
    "deletable": false,
    "nbgrader": {
     "cell_type": "markdown",
     "checksum": "7ff1deb45a51f8a6ac07ac0aa9908db6",
     "grade": true,
     "grade_id": "loga1",
     "locked": false,
     "points": 0,
     "schema_version": 3,
     "solution": true
    }
   },
   "source": [
    "YOUR ANSWER HERE"
   ]
  },
  {
   "cell_type": "code",
   "execution_count": null,
   "metadata": {
    "deletable": false,
    "editable": false,
    "nbgrader": {
     "cell_type": "code",
     "checksum": "c14099a458546314ee52a7933b05d879",
     "grade": false,
     "grade_id": "afkortingen",
     "locked": true,
     "schema_version": 3,
     "solution": false
    }
   },
   "outputs": [],
   "source": [
    "# even wat afkortingen\n",
    "\n",
    "def P(x):\n",
    "    return G.nodes[x]['P']\n",
    "def Q(x):\n",
    "    return G.nodes[x]['Q']\n",
    "def R(x,y):\n",
    "    return G.has_edge(x,y)"
   ]
  },
  {
   "cell_type": "code",
   "execution_count": null,
   "metadata": {},
   "outputs": [],
   "source": [
    "## Voorbeeld\n",
    "\n",
    "# R(x,y) betekent x houdt van y  \n",
    "# Bij de karate club is de relatie ongericht en kan je beter van x is vriend met y spreken.\n",
    "# Er is een knoop waar zowel een P knoop als een Q knoop van houdt.\n",
    "# $\\exists x\\exists y\\exists z(R(y,x)\\wedge R(z,x) \\wedge P(y)\\wedge Q(z))$\n",
    "\n",
    "print(any(R(y,x) and  R(z,x) and  P(y) and  Q(z)  for x in G for y in G for z in G))\n",
    "\n",
    "# en welke zijn het nou?\n",
    "      \n",
    "[ (x,y,z)   for x in G for y in G for z in G \n",
    "    if R(y,x) and  R(z,x) and  P(y) and  Q(z)\n",
    "]      "
   ]
  },
  {
   "cell_type": "code",
   "execution_count": null,
   "metadata": {
    "deletable": false,
    "nbgrader": {
     "cell_type": "code",
     "checksum": "c3b63f418d47a4b9ae7e5623cbf980c4",
     "grade": true,
     "grade_id": "loga2",
     "locked": false,
     "points": 0,
     "schema_version": 3,
     "solution": true
    }
   },
   "outputs": [],
   "source": [
    "#WRITE YOUR CODE HERE"
   ]
  },
  {
   "cell_type": "code",
   "execution_count": null,
   "metadata": {},
   "outputs": [],
   "source": []
  }
 ],
 "metadata": {
  "hide_input": false,
  "kernelspec": {
   "display_name": "Python 3 (ipykernel)",
   "language": "python",
   "name": "python3"
  },
  "language_info": {
   "codemirror_mode": {
    "name": "ipython",
    "version": 3
   },
   "file_extension": ".py",
   "mimetype": "text/x-python",
   "name": "python",
   "nbconvert_exporter": "python",
   "pygments_lexer": "ipython3",
   "version": "3.9.7"
  },
  "toc": {
   "nav_menu": {},
   "number_sections": false,
   "sideBar": true,
   "skip_h1_title": false,
   "title_cell": "Table of Contents",
   "title_sidebar": "Contents",
   "toc_cell": false,
   "toc_position": {
    "height": "calc(100% - 180px)",
    "left": "10px",
    "top": "150px",
    "width": "188.391px"
   },
   "toc_section_display": true,
   "toc_window_display": false
  },
  "varInspector": {
   "cols": {
    "lenName": 16,
    "lenType": 16,
    "lenVar": 40
   },
   "kernels_config": {
    "python": {
     "delete_cmd_postfix": "",
     "delete_cmd_prefix": "del ",
     "library": "var_list.py",
     "varRefreshCmd": "print(var_dic_list())"
    },
    "r": {
     "delete_cmd_postfix": ") ",
     "delete_cmd_prefix": "rm(",
     "library": "var_list.r",
     "varRefreshCmd": "cat(var_dic_list()) "
    }
   },
   "types_to_exclude": [
    "module",
    "function",
    "builtin_function_or_method",
    "instance",
    "_Feature"
   ],
   "window_display": false
  }
 },
 "nbformat": 4,
 "nbformat_minor": 2
}

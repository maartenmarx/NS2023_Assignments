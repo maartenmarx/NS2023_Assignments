{
 "cells": [
  {
   "cell_type": "markdown",
   "metadata": {},
   "source": [
    "# Assignment Netwerkanalyse"
   ]
  },
  {
   "cell_type": "markdown",
   "metadata": {
    "nbgrader": {
     "grade": false,
     "grade_id": "privacy",
     "locked": false,
     "schema_version": 3,
     "solution": false
    }
   },
   "source": [
    "## Notebook made by\n",
    "\n",
    "**Gebruik graag dit formaat**\n",
    "\n",
    "* Voor de namen:  voornaam rest van je naam, voornaam rest van je naam,....\n",
    "* je studentnummers: hetzelfde: scheidt met `,`\n",
    "* je emails: hetzelfde: scheidt met `,`\n",
    "* voor je groep: alleen de hoofdletter (dus voor de groep van Marx zou je `A` kiezen)\n",
    "\n",
    "__Namen__:Anoniem",
    "\n",
    "__Emails__:Anoniem",
    "\n",
    "__Student id__:Anoniem",
    "\n",
    "__Groep__:Anoniem"
   ]
  },
  {
   "cell_type": "markdown",
   "metadata": {},
   "source": [
    "## Toelichting\n",
    "\n",
    "* De meeste opgaven worden automatisch nagekeken. Bij vrijwel alle opdrachten staan er een paar tests onder de opdracht, dit is voornamelijk om te zorgen dat je de juiste type output geeft. Dit zijn dus *NIET* alle tests, die komen er bij het graden nog bij.\n",
    "* Elke vraag is 1 punt waard, tenzij anders aangegeven. Soms is die punt onderverdeeld in deelpunten, maar niet altijd. \n",
    "\n",
    "## Voor het inleveren!\n",
    "\n",
    "* Pas niet de cellen aan, vooral niet die je niet kunt editen. Dit levert problemen op bij nakijken. Twijfel je of je per ongeluk iets hebt gewijzigd, kopieer dan bij inleveren je antwoorden naar een nieuw bestand, zodat het niet fout kan gaan.\n",
    "\n",
    "* Zorg dat de code goed runt van boven naar beneden, verifieer dat door boven in Kernel -> Restart & Run All uit te voeren\n",
    "\n",
    "## Na het inleveren!\n",
    "\n",
    "* Het gebeurt erg vaak dat mensen een \"leeg bestand\" inleveren. Vaak een andere versie van de opgave die nog ergens op je computer rondslingerde. Zonde van al je werk toch!\n",
    "* Dus, lever **minstens een half uur voor tijd in**. Download dan wat je hebt ingeleverd op Canvas. Geef het een andere naam om verwarring te voorkomen. En draai alle cellen, en bekijk het. Geen syntax fouten? Alle vragen gemaakt? Dan zit het vast wel goed, en hoef je niet in de zenuwen te zitten."
   ]
  },
  {
   "cell_type": "code",
   "execution_count": null,
   "metadata": {},
   "outputs": [],
   "source": [
    "# Run this cell first\n",
    "import random\n",
    "import inspect\n",
    "import networkx as nx\n",
    "import numpy as np\n",
    "import pandas as pd\n",
    "import seaborn as sns\n",
    "import itertools as it\n",
    "from nose.tools import assert_almost_equal, assert_equal\n",
    "from itertools import product\n",
    "from collections import Counter\n",
    "\n",
    "%matplotlib inline"
   ]
  },
  {
   "cell_type": "markdown",
   "metadata": {},
   "source": [
    "# first course chap 4\n",
    "\n",
    "* Maak 4.1, 4.2\n",
    "* 4.4-4.8"
   ]
  },
  {
   "cell_type": "markdown",
   "metadata": {
    "deletable": false,
    "nbgrader": {
     "cell_type": "markdown",
     "checksum": "4cea61316194679c71794d70860b03db",
     "grade": true,
     "grade_id": "fc4",
     "locked": false,
     "points": 7,
     "schema_version": 3,
     "solution": true
    }
   },
   "source": [
    "- 4.1\n",
    "- 1) Bioinspired and biomimetic materials for oral drug delivery: an indegree of 6 (want 6 citaten)\n",
    "-  Viable But Non-Culturable Cells Are Persister Cells: an indegree of 18 (want 18 citaten)\n",
    "- 2) 0\n",
    "- 3) Bioinspired and biomimetic materials for oral drug delivery: 50\n",
    "-  Viable But Non-Culturable Cells Are Persister Cells: 43\n",
    "- 4) yes, only Storz, G., and Hengge, R. (2010) Bacterial Stress Responses. Washington, DC: American Society for Microbiology Press, so the answer is 1. \n",
    "-\n",
    "- 4.2\n",
    "- 1) 33\n",
    "- 2) 7\n",
    "- 3) We can't really code in this document. Because then we have to make an extra cel. \n",
    "- 4) Network Science\n",
    "- 5) Again we cant code, but i will explain how i would do it. First you made the network, then you look at the article that is referenced the most times by others.\n",
    "-\n",
    "- 4.4\n",
    "- After 5 itterations: {'a': 0.4443841562669561, 'b': 0.33342376559956594, 'c': 0.22219207813347805}\n",
    "- 4.5\n",
    "- After 12 itterations: {'a': 0.4286729577978756, 'b': 0.3333003962243768, 'c': 0.23802664597774761}\n",
    "- 4.6\n",
    "- 1. Node 'liv' is the most important, we did that by sending links from all the other nodes to the node 'liv'. \n",
    "- 2.  hoe hoger de similarity en hoe hoger de pagerank des de hoger de ranking\n",
    "- 4.8\n",
    "- We think so, the most important nodes have the highest pagerank and the node becomes important when they get a lot if they have a high indegree\n",
    "\n",
    "\n",
    "- ignore everything below here I just want to keep this in the document to study\n",
    "def my_pagerank(H,iterations=12,alpha=0.2):\n",
    "    ### Initialize every node with a pagerank of 1/|nodes|   \n",
    "    pg= {n:1/len(H) for n in H.nodes()}\n",
    "    \n",
    "    while iterations:\n",
    "        iterations -=1\n",
    "        for n in H.nodes():   \n",
    "            pg[n] = (\n",
    "                     alpha/len(H.nodes()) \n",
    "                     +\n",
    "                     (1-alpha) * sum(pg[buur]/H.out_degree(buur)  for buur in H.predecessors(n)  )\n",
    "                    ) \n",
    "\n",
    "    ### renormalize, so sum(pg[iterations].values()) is again equal to 1\n",
    "    totaal= sum(pg.values())\n",
    "    return {n: pg[n]/totaal for n in pg}\n",
    "\n",
    "my_pagerank(H)# , nx.pagerank(H)"
   ]
  },
  {
   "cell_type": "markdown",
   "metadata": {},
   "source": [
    "# Closeness centrality (2pt)\n",
    "\n",
    "Wat is dat eigenlijk, *Closeness centrality* (cc)?  We gaan hiervoor uit dat het ongerichte netwerk waarin we dat opmeten verbonden is. Zie weer `nx.closeness_centrality?` voor de versie die wij bedoelen.\n",
    "\n",
    "1. Leg het hieronder in 1 grammaticaal correcte Nederlandse zin uit.  En dus echt op een manier dat een buitenstaander het snapt zonder ingewikkeld jargon. In het bijzonder gebruik je niet het Nederlandse woord voor *reciprocal*.\n",
    "\n",
    "> De *closeness centrality* van een knoop is ....\n",
    "\n",
    "2. Daarna leg je uit wat het betekent als je een hoge cc hebt en wat als je een lage hebt. Ook weer in maximaal 2 zinnen. \n",
    "\n",
    "3. Wat zijn trouwens de waarden waartussen de cc van een knoop kan liggen?  Vermeld dit ook in je antwoord. (Dat mag in een nieuwe zin hoor.)\n",
    "4. Maak tot slot een inzichtelijk voorbeeld. Ik stel voor dat je een \"lijn netwerk\" maakt van een knoop of 5, het plaatje uitprint, de knopen handige namen geeft, en dan natuurlijk voor elk de  Closeness centrality bepaalt (liefst met een eigen formule), en dat zo prosenteert dat nu iedereen meteen snpot wat het is."
   ]
  },
  {
   "cell_type": "markdown",
   "metadata": {
    "deletable": false,
    "nbgrader": {
     "cell_type": "markdown",
     "checksum": "0c0e9ccccc07eebde4aa683c03134cd1",
     "grade": true,
     "grade_id": "cca",
     "locked": false,
     "points": 1.5,
     "schema_version": 3,
     "solution": true
    }
   },
   "source": [
    "1. De closeness centrality van een knoop is een maat voor hoe dicht die knoop bij alle andere knopen in het netwerk ligt, berekend als de inverse van de gemiddelde afstand van die knoop tot alle andere knopen in het netwerk.\n",
    "2. Als een knoop een hoge closeness centrality (cc) heeft, betekent dit dat de gemiddelde afstand van die knoop tot alle andere knopen in het netwerk klein is. Dit betekent dat de knoop relatief dicht bij alle andere knopen ligt en dus snel informatie kan uitwisselen met de rest van het netwerk.\n",
    "3. De waarden van de closeness centrality zit tussen de 1 en de 0"
   ]
  },
  {
   "cell_type": "markdown",
   "metadata": {},
   "source": [
    "###### Maak tot slot een inzichtelijk voorbeeld in code hieronder"
   ]
  },
  {
   "cell_type": "code",
   "execution_count": null,
   "metadata": {
    "deletable": false,
    "nbgrader": {
     "cell_type": "code",
     "checksum": "7afb3893562bfccc0d84248a4a06bcf1",
     "grade": true,
     "grade_id": "ccb",
     "locked": false,
     "points": 0.5,
     "schema_version": 3,
     "solution": true
    }
   },
   "outputs": [],
   "source": [
    "import networkx as nx\n",
    "import matplotlib.pyplot as plt\n",
    "\n",
    "# Creëer het netwerk met vijf knooppunten\n",
    "G = nx.path_graph(5)\n",
    "\n",
    "# Geef de knooppunten handige namen\n",
    "mapping = {0: 'A', 1: 'B', 2: 'C', 3: 'D', 4: 'E'}\n",
    "G = nx.relabel_nodes(G, mapping)\n",
    "\n",
    "# Bereken de closeness centraliteit voor elk knooppunt\n",
    "closeness_centralities = {}\n",
    "\n",
    "for node in G.nodes:\n",
    "    total_distance = 0\n",
    "    for other_node in G.nodes:\n",
    "        if node != other_node:\n",
    "            shortest_path_length = nx.shortest_path_length(G, node, other_node)\n",
    "            total_distance += shortest_path_length\n",
    "    closeness_centralities[node] = (len(G.nodes) - 1) / total_distance\n",
    "\n",
    "closeness_centralities = {node: (len(G.nodes) - 1) / sum(nx.shortest_path_length(G, node, other_node) for other_node in G.nodes if node != other_node) for node in G.nodes}\n",
    "\n",
    "# Plot het netwerkdiagram\n",
    "nx.draw(G, with_labels=True, node_color='lightblue', node_size=1000)\n",
    "plt.show()\n",
    "\n",
    "# Print de closeness centraliteiten\n",
    "for node, centrality in closeness_centralities.items():\n",
    "    print(f'Closeness centrality of node {node}: {centrality:.2f}')\n"
   ]
  },
  {
   "cell_type": "markdown",
   "metadata": {
    "deletable": false,
    "editable": false,
    "nbgrader": {
     "cell_type": "markdown",
     "checksum": "b26b8f3056c85445d3b187acfb68818f",
     "grade": false,
     "grade_id": "log",
     "locked": true,
     "schema_version": 3,
     "solution": false
    }
   },
   "source": [
    "# Logica\n",
    "\n",
    "Oefen in je eigen groepje het maken van uitspraken over een model, het vertalen ervan naar predicaatlogica, en het programmeren ervan in Python op een model.\n",
    "\n",
    "De zinnetjes zijn dus met een relatie `R` en twee eigenschappen `P` en `Q`. Voorbeeld zin (die waar is) $\n",
    "\\exists x (Px \\wedge Qx)$  en deze is ook waar $\\exists x \\neg \\exists y Ryx$.  \n",
    "\n",
    "Gebruik en, of , niet, en mix ze met \"er is een\" en \"voor alle\". Hou het netwerk klein, zodat je de waarheid zelf ook makkelijk kunt checken. \n",
    "\n",
    "Gebruik in je Python code de al gegeven afkortingen.\n",
    "\n",
    "Hieronder is een voorbeeld van een model. Verander het zelf zoals je wilt. Test je zinnetjes ook uit op andere modellen.\n",
    "\n",
    "Van elk groepje verwacht ik er minstens 20!  Je mag natuurlijk ook zelf met modellen komen, met ook meerdere relaties en andere (echte) eigenschappen). "
   ]
  },
  {
   "cell_type": "markdown",
   "metadata": {},
   "source": [
    "# Netwerk 1"
   ]
  },
  {
   "cell_type": "code",
   "execution_count": null,
   "metadata": {},
   "outputs": [],
   "source": [
    "import networkx as nx\n",
    "%matplotlib inline\n",
    "\n",
    "# kies ook eens voor de nx.karate_club_graph() of nx.florentine_families_graph()\n",
    "G=nx.gn_graph?"
   ]
  },
  {
   "cell_type": "code",
   "execution_count": null,
   "metadata": {},
   "outputs": [],
   "source": [
    "G=nx.gn_graph(10,seed=9) # kan ook met 10 ipv 20\n",
    "for n in G:\n",
    "\n",
    "    if n % 2 == 0:\n",
    "        G.nodes[n]['P'] = True\n",
    "    else:\n",
    "        G.nodes[n]['P'] = False\n",
    "for n in G:\n",
    "    if n % 2 != 0:\n",
    "        G.nodes[n]['Q'] = True\n",
    "    else:\n",
    "        G.nodes[n]['Q'] = False\n",
    "\n",
    "labels = {}\n",
    "for n in G:\n",
    "    if G.nodes[n]['P']:\n",
    "        labels[n] = f\"{n}: P\"\n",
    "    elif G.nodes[n]['Q']:\n",
    "        labels[n] = f\"{n}: Q\"\n",
    "\n",
    "nx.draw_networkx(G, labels=labels)\n",
    "\n",
    "\n",
    "\n",
    "def P(x):\n",
    "    return G.nodes[x]['P']\n",
    "def Q(x):\n",
    "    return G.nodes[x]['Q']\n",
    "def R(x,y):\n",
    "    return G.has_edge(x,y)"
   ]
  },
  {
   "cell_type": "code",
   "execution_count": null,
   "metadata": {},
   "outputs": [],
   "source": [
    "# nodes die zowel P zijn als Q\n",
    "[x for x in G if (P(x) and Q(x))]"
   ]
  },
  {
   "cell_type": "code",
   "execution_count": null,
   "metadata": {},
   "outputs": [],
   "source": [
    "# alle nodes hebben een relatie met elkaar\n",
    "all(any(R(x,y) for y in G)for x in G)"
   ]
  },
  {
   "cell_type": "markdown",
   "metadata": {},
   "source": [
    "# Netwerk 2"
   ]
  },
  {
   "cell_type": "code",
   "execution_count": null,
   "metadata": {},
   "outputs": [],
   "source": [
    "G=nx.karate_club_graph() # kan ook met 10 ipv 20\n",
    "\n",
    "for n in G:\n",
    "    if G.nodes[n]['club']=='Mr. Hi':\n",
    "        G.nodes[n]['P']=True\n",
    "        G.nodes[n]['Q']=False  \n",
    "    else:\n",
    "        G.nodes[n]['P']=False\n",
    "        G.nodes[n]['Q']=True\n",
    "    del G.nodes[n]['club']    \n",
    "print(G.nodes(data=True))        \n",
    "nx.draw_networkx(G)"
   ]
  },
  {
   "cell_type": "markdown",
   "metadata": {
    "deletable": false,
    "nbgrader": {
     "cell_type": "markdown",
     "checksum": "7ff1deb45a51f8a6ac07ac0aa9908db6",
     "grade": true,
     "grade_id": "loga1",
     "locked": false,
     "points": 0,
     "schema_version": 3,
     "solution": true
    }
   },
   "source": [
    "YOUR ANSWER HERE... What do you mean?"
   ]
  },
  {
   "cell_type": "code",
   "execution_count": null,
   "metadata": {
    "deletable": false,
    "editable": false,
    "nbgrader": {
     "cell_type": "code",
     "checksum": "c14099a458546314ee52a7933b05d879",
     "grade": false,
     "grade_id": "afkortingen",
     "locked": true,
     "schema_version": 3,
     "solution": false
    }
   },
   "outputs": [],
   "source": [
    "# even wat afkortingen\n",
    "\n",
    "def P(x):\n",
    "    return G.nodes[x]['P']\n",
    "def Q(x):\n",
    "    return G.nodes[x]['Q']\n",
    "def R(x,y):\n",
    "    return G.has_edge(x,y)"
   ]
  },
  {
   "cell_type": "code",
   "execution_count": null,
   "metadata": {},
   "outputs": [],
   "source": [
    "## Voorbeeld\n",
    "\n",
    "# R(x,y) betekent x houdt van y  \n",
    "# Bij de karate club is de relatie ongericht en kan je beter van x is vriend met y spreken.\n",
    "# Er is een knoop waar zowel een P knoop als een Q knoop van houdt.\n",
    "# $\\exists x\\exists y\\exists z(R(y,x)\\wedge R(z,x) \\wedge P(y)\\wedge Q(z))$\n",
    "\n",
    "print(any(R(y,x) and  R(z,x) and  P(y) and  Q(z)  for x in G for y in G for z in G))\n",
    "\n",
    "# en welke zijn het nou?\n",
    "      \n",
    "[ (x,y,z)   for x in G for y in G for z in G \n",
    "    if R(y,x) and  R(z,x) and  P(y) and  Q(z)\n",
    "]      "
   ]
  },
  {
   "cell_type": "code",
   "execution_count": null,
   "metadata": {
    "deletable": false,
    "nbgrader": {
     "cell_type": "code",
     "checksum": "c3b63f418d47a4b9ae7e5623cbf980c4",
     "grade": true,
     "grade_id": "loga2",
     "locked": false,
     "points": 0,
     "schema_version": 3,
     "solution": true
    }
   },
   "outputs": [],
   "source": [
    "#WRITE YOUR CODE HERE"
   ]
  },
  {
   "cell_type": "code",
   "execution_count": null,
   "metadata": {},
   "outputs": [],
   "source": [
    "# Maak een lege graaf\n",
    "G = nx.Graph()\n",
    "\n",
    "# Voeg 20 knopen toe genaamd 1 tot en met 20\n",
    "#G.add_nodes_from(range(1, 8))\n",
    "randen = [(1,7), (5,7),(1, 2), (2,1) ,(2,3), (2, 3), (3, 4), (4, 5), (3, 6), (4, 3), (2, 4), (1, 5), (4, 6), (2,4), (2,5), (2,6), (2,7)]\n",
    "\n",
    "G.add_edges_from(randen)\n",
    "\n",
    "\n",
    "for n in G:\n",
    "    if n == 777.5:\n",
    "        G.nodes[n]['K'] = True\n",
    "    else:\n",
    "        G.nodes[n]['K'] = False\n",
    "        \n",
    "for n in G:\n",
    "    if n % 2 == 0:\n",
    "        G.nodes[n]['P'] = True\n",
    "    else:\n",
    "        G.nodes[n]['P'] = False\n",
    "for n in G:\n",
    "    if n % 2 != 0:\n",
    "        G.nodes[n]['Q'] = True\n",
    "    else:\n",
    "        G.nodes[n]['Q'] = False \n",
    "def K(x):\n",
    "    return G.nodes[x]['K']\n",
    "labels = {}\n",
    "for n in G:\n",
    "    if G.nodes[n]['P']:\n",
    "        labels[n] = f\"{n}: P\"\n",
    "    elif G.nodes[n]['Q']:\n",
    "        labels[n] = f\"{n}: Q\"\n",
    "\n",
    "nx.draw_networkx(G, labels=labels)"
   ]
  },
  {
   "cell_type": "code",
   "execution_count": null,
   "metadata": {},
   "outputs": [],
   "source": [
    "# er is op zijn minst 1 driehoek in het netwerk\n",
    "any(any(any(R(x,y) and R(y,z) and R(z,x) for z in G if x != z and y != z)for y in G if y != x)for x in G)\n",
    "\n",
    "# weergeef alle driehoeken in het netwerk\n",
    "list({tuple(sorted((x,y,z))) for x in G for y in G for z in G if x != z and y != z and y != x and R(x,y) and R(y,z) and R(z,x)})\n"
   ]
  },
  {
   "cell_type": "code",
   "execution_count": null,
   "metadata": {},
   "outputs": [],
   "source": [
    "# Er is een P die van een P houdt.\n",
    "any(any(P(x) and P(y) and R(x,y) for y in G)for x in G)\n",
    "\n",
    "# alle P's die van een P houden\n",
    "\n",
    "{x for x in G for y in G if P(x) and P(y) and R(x,y)}"
   ]
  },
  {
   "cell_type": "code",
   "execution_count": null,
   "metadata": {},
   "outputs": [],
   "source": [
    "# er is een Q die op zijn minst van twee Q's houdt\n",
    "any(any(any(Q(x) and Q(y) and Q(z) and R(x,y) and R(x,z) for z in G if z != y and z != x)for y in G if y != x)for x in G)\n",
    "\n",
    "\n",
    "# wie voldoen daar aan?\n",
    "{x for x in G for y in G for z in G if Q(x) and Q(y) and Q(z) and R(x,y) and R(x,z) and z != y and z != x and y != x}"
   ]
  },
  {
   "cell_type": "code",
   "execution_count": null,
   "metadata": {},
   "outputs": [],
   "source": [
    "# Every P loves a Q\n",
    "all(any(not P(x) or (P(x) and Q(y) and R(x,y)) for y in G)for x in G)\n",
    "\n",
    "# Alle P's die van een Q houden\n",
    "{x for x in G for y in G if (P(x) and Q(y) and R(x,y))}"
   ]
  },
  {
   "cell_type": "code",
   "execution_count": null,
   "metadata": {},
   "outputs": [],
   "source": [
    "# iedereen is een P\n",
    "all(P(x) for x in G)"
   ]
  },
  {
   "cell_type": "code",
   "execution_count": null,
   "metadata": {},
   "outputs": [],
   "source": [
    "# er is op zijn minst een P\n",
    "any(P(x) for x in G)"
   ]
  },
  {
   "cell_type": "code",
   "execution_count": null,
   "metadata": {},
   "outputs": [],
   "source": [
    "# iedereen die van iemand houdt\n",
    "list(set(x for x in G for y in G if R(x,y)))"
   ]
  },
  {
   "cell_type": "code",
   "execution_count": null,
   "metadata": {},
   "outputs": [],
   "source": [
    "G = nx.Graph()\n",
    "colors = []\n",
    "#G.add_nodes_from([1,2,3,6, 4,5,7,8,9,10])\n",
    "#G.add_edges_from([(1,2), (3,8), (10,3), (4,7) ,(5,2), (8,5), (4,3) ,(3,7), (7,1), (1,1), (4,8), (9,5), (10,9), (5,2)])\n",
    "G.add_edges_from([(2,4), (6,4), (1,2), (1,4)])\n",
    "for x in G:\n",
    "    if x % 2 == 0:\n",
    "        G.nodes[x]['H'] = True\n",
    "        G.nodes[x]['K'] = False\n",
    "        colors.append('lightblue')\n",
    "    else:\n",
    "        G.nodes[x]['H'] = False\n",
    "        G.nodes[x]['K'] = True\n",
    "        colors.append('pink')\n",
    "        \n",
    "nx.draw_networkx(G, node_color = colors)\n",
    "print('Honden:', {x for x in G if G.nodes[x]['H']})\n",
    "print('Katten:', {x for x in G if G.nodes[x]['K']})\n",
    "\n",
    "\n",
    "\n",
    "\n",
    "def K(x):\n",
    "    return G.nodes[x]['K'] == True\n",
    "\n",
    "def H(x):\n",
    "    return G.nodes[x]['H'] == True\n",
    "\n",
    "def R(x,y):\n",
    "    return G.has_edge(x,y)"
   ]
  },
  {
   "cell_type": "code",
   "execution_count": null,
   "metadata": {},
   "outputs": [],
   "source": [
    "# er is een kat die van precies 1 dier houdt\n",
    "any(any(all(K(x) and R(x,y) and not (R(x,z)) for z in G if z != y)for y in G)for x in G)\n"
   ]
  },
  {
   "cell_type": "code",
   "execution_count": null,
   "metadata": {},
   "outputs": [],
   "source": [
    "# Er is een kat die precies van 2 dieren houdt\n",
    "any(any(any(all(K(x) and R(x,y) and R(x,z) and y != z and (not R(x,w) or w == y or w == z) for w in G)for z in G)for y in G)for x in G)\n"
   ]
  },
  {
   "cell_type": "code",
   "execution_count": null,
   "metadata": {},
   "outputs": [],
   "source": [
    "# Er is een kat die van minstens twee honden houdt\n",
    "any(any(any(K(x) and H(y) and R(x,y) and H(z) and R(x,z) and y != z for z in G)for y in G)for x in G)\n"
   ]
  },
  {
   "cell_type": "code",
   "execution_count": null,
   "metadata": {},
   "outputs": [],
   "source": [
    "# Er is een kat die van hoogstens één hond houdt\n",
    "any(all(all(not R(x,z) for z in G if z != y) for y in G if R(x,y) and H(y)) for x in G if K(x))\n"
   ]
  },
  {
   "cell_type": "code",
   "execution_count": null,
   "metadata": {},
   "outputs": [],
   "source": [
    "# Er is een kat die van hoogstens één hond houdt\n",
    "any(all(all(not R(x,z) for z in G if z != y) for y in G if R(x,y) and H(y)) for x in G if K(x))\n",
    "# Elke hond heeft een relatie met een kat\n",
    "all(any(not H(x) or (R(x,y) and K(y)) for y in G)for x in G)\n",
    "# alle honden houden  van iedereen behalve zichzelf\n",
    "all(all(not H(x) or (H(x) and R(x,y))  for y in G if x != y) for x in G )\n"
   ]
  },
  {
   "cell_type": "code",
   "execution_count": null,
   "metadata": {},
   "outputs": [],
   "source": [
    "# Er is een kat die precies van 2 dieren houdt\n",
    "any(K(x) and R(x,y) and R(x,z) and y != z and not any(R(x,w) for w in G if w != y and w != z) for z in G for y in G for x in G)\n",
    "\n",
    "# er is een dier die precies van 1 dier houdt\n",
    "any(R(x,y) and not any(R(x,z) for z in G if z != y) for y in G for x in G)\n",
    "\n",
    "# er is een hond die alleen van honden houdt\n",
    "any(H(x) and any(R(x,y) for y in G if H(y)) and all((not R(x,y)) or H(y) for y in G if y != x) for x in G)\n"
   ]
  }
 ],
 "metadata": {
  "hide_input": false,
  "kernelspec": {
   "display_name": "Python 3 (ipykernel)",
   "language": "python",
   "name": "python3"
  },
  "language_info": {
   "codemirror_mode": {
    "name": "ipython",
    "version": 3
   },
   "file_extension": ".py",
   "mimetype": "text/x-python",
   "name": "python",
   "nbconvert_exporter": "python",
   "pygments_lexer": "ipython3",
   "version": "3.9.13"
  },
  "toc": {
   "nav_menu": {},
   "number_sections": false,
   "sideBar": true,
   "skip_h1_title": false,
   "title_cell": "Table of Contents",
   "title_sidebar": "Contents",
   "toc_cell": false,
   "toc_position": {
    "height": "calc(100% - 180px)",
    "left": "10px",
    "top": "150px",
    "width": "188.391px"
   },
   "toc_section_display": true,
   "toc_window_display": false
  },
  "varInspector": {
   "cols": {
    "lenName": 16,
    "lenType": 16,
    "lenVar": 40
   },
   "kernels_config": {
    "python": {
     "delete_cmd_postfix": "",
     "delete_cmd_prefix": "del ",
     "library": "var_list.py",
     "varRefreshCmd": "print(var_dic_list())"
    },
    "r": {
     "delete_cmd_postfix": ") ",
     "delete_cmd_prefix": "rm(",
     "library": "var_list.r",
     "varRefreshCmd": "cat(var_dic_list()) "
    }
   },
   "types_to_exclude": [
    "module",
    "function",
    "builtin_function_or_method",
    "instance",
    "_Feature"
   ],
   "window_display": false
  }
 },
 "nbformat": 4,
 "nbformat_minor": 2
}
